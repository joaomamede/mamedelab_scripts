{
 "cells": [
  {
   "cell_type": "code",
   "execution_count": 1,
   "metadata": {},
   "outputs": [],
   "source": [
    "import SimpleITK as sitk\n",
    "import pims\n",
    "# from nd2reader import ND2Reader\n",
    "import numpy as np\n",
    "import matplotlib.pyplot as plt\n",
    "import sys\n",
    "\n",
    "sys.path.insert(0,'/home/jmamede/scripts')\n",
    "# from support_pla import othercolor, cell_mask, multiply, rebin\n",
    "from support_pla import convert16to8bits\n",
    "\n",
    "\n",
    "from glob import glob\n",
    "\n",
    "from pystackreg import StackReg\n",
    "# from skimage import io\n",
    "\n",
    "def rebin(arr, new_shape):\n",
    "    from PIL import Image\n",
    "    return np.array(Image.fromarray(arr).resize(new_shape,resample=Image.NEAREST))\n"
   ]
  },
  {
   "cell_type": "code",
   "execution_count": 2,
   "metadata": {},
   "outputs": [],
   "source": [
    "ficheiros = glob('/run/media/jmamede/Joao/multiplex/ENDO/out/*registered*tiff')"
   ]
  },
  {
   "cell_type": "code",
   "execution_count": 3,
   "metadata": {},
   "outputs": [
    {
     "data": {
      "text/plain": [
       "['/run/media/jmamede/Joao/multiplex/ENDO/out/img1_registered.tiff',\n",
       " '/run/media/jmamede/Joao/multiplex/ENDO/out/img2_registered.tiff',\n",
       " '/run/media/jmamede/Joao/multiplex/ENDO/out/img3_registered.tiff']"
      ]
     },
     "execution_count": 3,
     "metadata": {},
     "output_type": "execute_result"
    }
   ],
   "source": [
    "ficheiros.sort()\n",
    "ficheiros"
   ]
  },
  {
   "cell_type": "code",
   "execution_count": 4,
   "metadata": {},
   "outputs": [],
   "source": [
    "# a = pims.open(ficheiros[1])\n",
    "a = pims.open(ficheiros[0])\n",
    "b = pims.open(ficheiros[1])\n",
    "c = pims.open(ficheiros[2])"
   ]
  },
  {
   "cell_type": "code",
   "execution_count": 5,
   "metadata": {},
   "outputs": [
    {
     "data": {
      "text/plain": [
       "5"
      ]
     },
     "execution_count": 5,
     "metadata": {},
     "output_type": "execute_result"
    }
   ],
   "source": [
    "len(a)"
   ]
  },
  {
   "cell_type": "code",
   "execution_count": 6,
   "metadata": {},
   "outputs": [
    {
     "data": {
      "text/plain": [
       "13"
      ]
     },
     "execution_count": 6,
     "metadata": {},
     "output_type": "execute_result"
    }
   ],
   "source": [
    "# import napari\n",
    "# v = napari.Viewer(ndisplay=2)\n",
    "\n",
    "# # v.add_image(ref1,blending='additive',colormap='green')\n",
    "# # v.add_image(mov1,blending='additive',colormap='red')\n",
    "# # v.add_image(test1,blending='additive',colormap='cyan')\n",
    "\n",
    "# for _file in ficheiros:\n",
    "#     a = pims.open(_file)\n",
    "#     for i in range(len(a)):\n",
    "#         v.add_image(a[i],blending='additive')\n",
    "allchans = len(a)+len(b)+len(c)\n",
    "allchans"
   ]
  },
  {
   "cell_type": "code",
   "execution_count": 7,
   "metadata": {},
   "outputs": [
    {
     "data": {
      "text/plain": [
       "(1, 1, 19813, 35570, 13)"
      ]
     },
     "execution_count": 7,
     "metadata": {},
     "output_type": "execute_result"
    }
   ],
   "source": [
    "\n",
    "\n",
    "\n",
    "sizes = np.array([a.frame_shape,b.frame_shape,c.frame_shape]).T\n",
    "#TZYXC\n",
    "empty = (1,1,)+(sizes[0].max(),sizes[1].max())+(allchans,)\n",
    "\n",
    "empty"
   ]
  },
  {
   "cell_type": "code",
   "execution_count": 8,
   "metadata": {},
   "outputs": [
    {
     "data": {
      "text/plain": [
       "19813"
      ]
     },
     "execution_count": 8,
     "metadata": {},
     "output_type": "execute_result"
    }
   ],
   "source": [
    "ymax,xmax = a.frame_shape\n",
    "ymax\n"
   ]
  },
  {
   "cell_type": "code",
   "execution_count": 9,
   "metadata": {},
   "outputs": [],
   "source": [
    "# dapich = 3\n",
    "all_together = np.zeros(empty)\n",
    "# mov2 = np.zeros(empty)"
   ]
  },
  {
   "cell_type": "code",
   "execution_count": 10,
   "metadata": {},
   "outputs": [
    {
     "data": {
      "text/plain": [
       "5"
      ]
     },
     "execution_count": 10,
     "metadata": {},
     "output_type": "execute_result"
    }
   ],
   "source": [
    "len(a)"
   ]
  },
  {
   "cell_type": "code",
   "execution_count": 11,
   "metadata": {},
   "outputs": [
    {
     "name": "stdout",
     "output_type": "stream",
     "text": [
      "/run/media/jmamede/Joao/multiplex/ENDO/out/img1_registered.tiff\n",
      "/run/media/jmamede/Joao/multiplex/ENDO/out/img1_registered.tiff\n",
      "/run/media/jmamede/Joao/multiplex/ENDO/out/img1_registered.tiff\n",
      "/run/media/jmamede/Joao/multiplex/ENDO/out/img1_registered.tiff\n",
      "/run/media/jmamede/Joao/multiplex/ENDO/out/img1_registered.tiff\n",
      "/run/media/jmamede/Joao/multiplex/ENDO/out/img2_registered.tiff\n",
      "/run/media/jmamede/Joao/multiplex/ENDO/out/img2_registered.tiff\n",
      "/run/media/jmamede/Joao/multiplex/ENDO/out/img2_registered.tiff\n",
      "/run/media/jmamede/Joao/multiplex/ENDO/out/img2_registered.tiff\n",
      "/run/media/jmamede/Joao/multiplex/ENDO/out/img3_registered.tiff\n",
      "/run/media/jmamede/Joao/multiplex/ENDO/out/img3_registered.tiff\n",
      "/run/media/jmamede/Joao/multiplex/ENDO/out/img3_registered.tiff\n",
      "/run/media/jmamede/Joao/multiplex/ENDO/out/img3_registered.tiff\n"
     ]
    }
   ],
   "source": [
    "import tifffile\n",
    "i=0\n",
    "for _reader in [a,b,c]:\n",
    "    ymax,xmax = _reader.frame_shape\n",
    "    for j in range(len(_reader)):\n",
    "        print(_reader._filename)\n",
    "        empty = \n",
    "        #(1,1,)+\n",
    "            (sizes[0].max(),sizes[1].max())\n",
    "        all_together = np.zeros(empty)\n",
    "        prjfile = \"/run/media/jmamede/Joao/multiplex/ENDO/out/final_c\"+str(i)+'.tiff'\n",
    "        with tifffile.TiffWriter(prjfile, bigtiff=True, imagej=False) as tif:\n",
    "            all_together[0,0,:ymax,:xmax]= _reader[j]\n",
    "            tif.save( all_together.astype(np.uint8),\n",
    "            tile = (2048, 2048),\n",
    "#                             compression='ZLIB',\n",
    "    #                         description = xml.to_xml(),\n",
    "            photometric='minisblack',\n",
    "            #, datetime= True\n",
    "            metadata= None,\n",
    "            contiguous=False,\n",
    "            )\n",
    "            i+=1"
   ]
  },
  {
   "cell_type": "code",
   "execution_count": 9,
   "metadata": {},
   "outputs": [],
   "source": [
    "i=0\n",
    "for _reader in [a,b,c]:\n",
    "    ymax,xmax = _reader.frame_shape\n",
    "    for j in range(len(_reader)):\n",
    "        all_together[0,0,:ymax,:xmax ,i]=_reader[j]\n",
    "        i+=1\n",
    "\n",
    "# ref2[:ref.frame_shape[0],:ref.frame_shape[1]] = ref[dapich]\n",
    "# mov2[:mov.frame_shape[0],:mov.frame_shape[1]] = mov_dapi\n"
   ]
  },
  {
   "cell_type": "code",
   "execution_count": 11,
   "metadata": {},
   "outputs": [
    {
     "data": {
      "text/plain": [
       "(1, 1, 19813, 35570, 13)"
      ]
     },
     "execution_count": 11,
     "metadata": {},
     "output_type": "execute_result"
    }
   ],
   "source": [
    "all_together.shape\n",
    "# pims.Frame(ref2)"
   ]
  },
  {
   "cell_type": "code",
   "execution_count": 12,
   "metadata": {},
   "outputs": [],
   "source": [
    "del a,b,c\n",
    "del _reader\n",
    "# del mov_dapi,mov"
   ]
  },
  {
   "cell_type": "code",
   "execution_count": null,
   "metadata": {},
   "outputs": [],
   "source": [
    "import tifffile\n",
    "prjfile = '/run/media/jmamede/Joao/multiplex/ENDO/out/All13_registered.tiff'\n",
    "\n",
    "\n",
    "# tifprj = tf.TiffWriter(prjfile, bigtiff=True, imagej=False)\n",
    "\n",
    "\n",
    "with tifffile.TiffWriter(prjfile, bigtiff=True, imagej=False) as tif:\n",
    "    tif.save( all_together.astype(np.uint8),\n",
    "        tile = (2048, 2048),\n",
    "                        compression='ZLIB',\n",
    "#                         description = xml.to_xml(),\n",
    "        photometric='minisblack',\n",
    "        #, datetime= True\n",
    "        metadata= None,\n",
    "        contiguous=False,\n",
    "        )"
   ]
  },
  {
   "cell_type": "code",
   "execution_count": null,
   "metadata": {},
   "outputs": [],
   "source": [
    "tif.close()"
   ]
  },
  {
   "cell_type": "code",
   "execution_count": 39,
   "metadata": {},
   "outputs": [
    {
     "name": "stderr",
     "output_type": "stream",
     "text": [
      "/home/jmamede/anaconda3/lib/python3.7/site-packages/pims/api.py:207: UserWarning: <class 'pims.tiff_stack.TiffStack_tifffile'> errored: 'NoneType' object has no attribute 'TiffFile'\n",
      "  warn(message)\n"
     ]
    }
   ],
   "source": [
    "import pims\n",
    "# from nd2reader import ND2Reader\n",
    "import numpy as np\n",
    "import matplotlib.pyplot as plt\n",
    "import sys\n",
    "\n",
    "sys.path.insert(0,'/home/jmamede/scripts')\n",
    "# from support_pla import othercolor, cell_mask, multiply, rebin\n",
    "from support_pla import convert16to8bits\n",
    "from pystackreg import StackReg\n",
    "\n",
    "# from skimage import io\n",
    "\n",
    "#load reference and \"moved\" image\n",
    "\n",
    "reg_channel = 3\n",
    "\n",
    "image0 = pims.open('/home/jmamede/Data/multiplex/KOTHP1/DAPI-iGFP-INmruby3-bactin647_v01_PRJ.Custom.ome.tiff')\n",
    "image1 = pims.open('/home/jmamede/Data/multiplex/KOTHP1/DAPI-1a11_488-241_647_v01_PRJ.Custom.ome.tiff')\n",
    "\n",
    "ref = image0[reg_channel]\n",
    "mov = image1[reg_channel]"
   ]
  },
  {
   "cell_type": "code",
   "execution_count": 40,
   "metadata": {},
   "outputs": [],
   "source": [
    "def calculate_reg(ref,mov,name):\n",
    "    from pystackreg import StackReg\n",
    "    transformations = {\n",
    "        'TRANSLATION': StackReg.TRANSLATION,\n",
    "        'RIGID_BODY': StackReg.RIGID_BODY,\n",
    "        'SCALED_ROTATION': StackReg.SCALED_ROTATION,\n",
    "        'AFFINE': StackReg.AFFINE,\n",
    "        'BILINEAR': StackReg.BILINEAR\n",
    "    }\n",
    "    sr = StackReg(transformations[name])\n",
    "    return sr.register(ref, mov,)\n",
    "\n",
    "def registration(image,tmat,name='AFFINE'):\n",
    "    from pystackreg import StackReg\n",
    "    from skimage import transform, io, exposure\n",
    "    transformations = {\n",
    "        'TRANSLATION': StackReg.TRANSLATION,\n",
    "        'RIGID_BODY': StackReg.RIGID_BODY,\n",
    "        'SCALED_ROTATION': StackReg.SCALED_ROTATION,\n",
    "        'AFFINE': StackReg.AFFINE,\n",
    "        'BILINEAR': StackReg.BILINEAR\n",
    "    }\n",
    "\n",
    "    sr = StackReg(transformations[name])\n",
    "    return sr.transform(image,tmat)\n",
    "    \n",
    "# def registration_gpu(image,tmat):\n",
    "#     #it's not working it's inverted....\n",
    "#     import cupy as cp\n",
    "#     from cupyx.scipy.ndimage import affine_transform\n",
    "    \n",
    "#     return cp.asnumpy(\n",
    "#         affine_transform(\n",
    "#             cp.asarray(image),\n",
    "#             cp.asarray(tmat)\n",
    "#         )\n",
    "#     )\n",
    "\n",
    "matrix = calculate_reg(ref,mov,'AFFINE')\n"
   ]
  },
  {
   "cell_type": "code",
   "execution_count": 59,
   "metadata": {},
   "outputs": [],
   "source": [
    "image1.sizes\n",
    "result = np.zeros((image1.sizes['t'],image1.sizes['x'],image1.sizes['y']))\n",
    "\n",
    "for i in range(image1.sizes['t']):\n",
    "    result[i,:,:] = registration(image1[i],matrix,'AFFINE')\n",
    "# result_gpu = registration_gpu(mov,matrix)"
   ]
  },
  {
   "cell_type": "code",
   "execution_count": 77,
   "metadata": {},
   "outputs": [],
   "source": [
    "import napari\n",
    "from vispy.color import Colormap\n",
    "v = napari.Viewer(ndisplay=2)\n",
    "# cmap = Colormap([[1, 0, 0], [0, 0, 0], [0, 0, 1]])\n",
    "# cmap = ['green','red','red','bluered','red','red','red','red','red','red']\n",
    "cmap = ['magenta','red','green','blue']\n",
    "\n",
    "names = ['B-actin','IN-mruby3','iGFP','DAPI','CA-241','Blank','PQBP1','DAPI2']\n",
    "j = 0\n",
    "for img in [image0,result]:\n",
    "    for i in range(4):\n",
    "        v.add_image(img[i],name=names[j],blending='additive',\n",
    "                    colormap=cmap[i]                    \n",
    "#                     colormap=('diverging', cmap)\n",
    "                   )\n",
    "        j +=1"
   ]
  }
 ],
 "metadata": {
  "kernelspec": {
   "display_name": "Python 3",
   "language": "python",
   "name": "python3"
  },
  "language_info": {
   "codemirror_mode": {
    "name": "ipython",
    "version": 3
   },
   "file_extension": ".py",
   "mimetype": "text/x-python",
   "name": "python",
   "nbconvert_exporter": "python",
   "pygments_lexer": "ipython3",
   "version": "3.7.10"
  }
 },
 "nbformat": 4,
 "nbformat_minor": 4
}
