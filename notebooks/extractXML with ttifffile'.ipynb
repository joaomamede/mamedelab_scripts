{
 "cells": [
  {
   "cell_type": "code",
   "execution_count": null,
   "id": "4c85f309",
   "metadata": {},
   "outputs": [],
   "source": [
    " with tifffile.TiffFile('microscope.tif') as tif:\n",
    "    data = tif.asarray()\n",
    "    omexml_string = tif[0].image_description.decode(\"utf-8\")"
   ]
  },
  {
   "cell_type": "code",
   "execution_count": null,
   "id": "b93a4d6b",
   "metadata": {},
   "outputs": [],
   "source": [
    "Recent versions of tifffile can write ome.tiff files directly. To add channel names, pass them in the metadata argument:\n",
    "\n",
    "tifffile.imwrite(\n",
    "    outname,\n",
    "    data=inp,\n",
    "    tile=(256, 256),\n",
    "    resolution=(25400, 25400, \"inch\"),\n",
    "    compress=9,\n",
    "    metadata={'Channel': {'Name': list(images.values())}},\n",
    ")"
   ]
  }
 ],
 "metadata": {
  "kernelspec": {
   "display_name": "Python 3",
   "language": "python",
   "name": "python3"
  },
  "language_info": {
   "codemirror_mode": {
    "name": "ipython",
    "version": 3
   },
   "file_extension": ".py",
   "mimetype": "text/x-python",
   "name": "python",
   "nbconvert_exporter": "python",
   "pygments_lexer": "ipython3",
   "version": "3.7.10"
  }
 },
 "nbformat": 4,
 "nbformat_minor": 5
}
