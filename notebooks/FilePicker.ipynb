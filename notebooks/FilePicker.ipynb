{
 "cells": [
  {
   "cell_type": "code",
   "execution_count": 1,
   "id": "223fd9a6",
   "metadata": {},
   "outputs": [],
   "source": [
    "%gui qt\n",
    "\n",
    "from PyQt5.QtWidgets import QFileDialog\n",
    "\n",
    "def gui_fname(dir=None):\n",
    "    \"\"\"Select a file via a dialog and return the file name.\"\"\"\n",
    "    if dir is None: dir ='./'\n",
    "    fname = QFileDialog.getOpenFileName(None, \"Select data file...\", \n",
    "                dir, filter=\"All files (*);; SM Files (*.sm)\")\n",
    "    return fname[0]"
   ]
  },
  {
   "cell_type": "code",
   "execution_count": 2,
   "id": "6d6a652e",
   "metadata": {},
   "outputs": [
    {
     "data": {
      "text/plain": [
       "''"
      ]
     },
     "execution_count": 2,
     "metadata": {},
     "output_type": "execute_result"
    }
   ],
   "source": [
    "gui_fname()"
   ]
  },
  {
   "cell_type": "code",
   "execution_count": 3,
   "id": "e2f81d49",
   "metadata": {},
   "outputs": [
    {
     "data": {
      "application/vnd.jupyter.widget-view+json": {
       "model_id": "2f1d9551253b477980148c0f06c23a43",
       "version_major": 2,
       "version_minor": 0
      },
      "text/plain": [
       "FileUpload(value={}, accept='.nd2', description='Upload', multiple=True)"
      ]
     },
     "metadata": {},
     "output_type": "display_data"
    }
   ],
   "source": [
    "import io\n",
    "import ipywidgets as widgets\n",
    "\n",
    "widgets.FileUpload(\n",
    "        accept='.nd2',  # Accepted file extension e.g. '.txt', '.pdf', 'image/*', 'image/*,.pdf'\n",
    "        multiple=True  # True to accept multiple files upload else False\n",
    "    )\n",
    "\n",
    "widgets."
   ]
  },
  {
   "cell_type": "code",
   "execution_count": 21,
   "id": "ddc4bbf4",
   "metadata": {},
   "outputs": [
    {
     "data": {
      "application/vnd.jupyter.widget-view+json": {
       "model_id": "0bddd82c74144e809d3b74767f0be772",
       "version_major": 2,
       "version_minor": 0
      },
      "text/plain": [
       "interactive(children=(Checkbox(value=True, description='Project'), Checkbox(value=False, description='Zstack')…"
      ]
     },
     "metadata": {},
     "output_type": "display_data"
    }
   ],
   "source": [
    "from ipywidgets import interact\n",
    "\n",
    "def tick_choices(Project,Zstack,append):\n",
    "    return Project,Zstack,append\n",
    "\n",
    "def f2(x):\n",
    "    return x\n",
    "prject = interact(tick_choices, Project=True,Zstack=False,append=False);\n",
    "# interact(f, x=True);\n",
    "# interact(f, x=True);\n",
    "# x = interact(f2, x=['apples','oranges']);"
   ]
  },
  {
   "cell_type": "code",
   "execution_count": 30,
   "id": "3f0cf31e",
   "metadata": {},
   "outputs": [
    {
     "data": {
      "text/plain": [
       "(True, True, False)"
      ]
     },
     "execution_count": 30,
     "metadata": {},
     "output_type": "execute_result"
    }
   ],
   "source": [
    "prject.widget.result"
   ]
  },
  {
   "cell_type": "code",
   "execution_count": 9,
   "id": "526dd67d",
   "metadata": {},
   "outputs": [],
   "source": [
    "out"
   ]
  },
  {
   "cell_type": "code",
   "execution_count": 36,
   "id": "22c731c7",
   "metadata": {},
   "outputs": [
    {
     "data": {
      "application/vnd.jupyter.widget-view+json": {
       "model_id": "b25c4d52f30f4843bbf86259c11eacf5",
       "version_major": 2,
       "version_minor": 0
      },
      "text/plain": [
       "SelectFilesButton(description='Select Files', icon='square-o', style=ButtonStyle(button_color='orange'))"
      ]
     },
     "metadata": {},
     "output_type": "display_data"
    }
   ],
   "source": [
    "my_button = SelectFilesButton()\n",
    "nd_button = SelectFilesButton()\n",
    "my_button # This will display the button in the context of Jupyter Notebook\n",
    "nd_button"
   ]
  },
  {
   "cell_type": "code",
   "execution_count": 11,
   "id": "463c0e1f",
   "metadata": {},
   "outputs": [
    {
     "data": {
      "text/plain": [
       "['/home/jmamede/scripts/notebooks/2021_deconvolve_fixed_nd2.ipynb',\n",
       " '/home/jmamede/scripts/notebooks/2021_Deconvolve_Live-ToaddXML.ipynb',\n",
       " '/home/jmamede/scripts/notebooks/2021_Deconvolve_Live.ipynb']"
      ]
     },
     "execution_count": 11,
     "metadata": {},
     "output_type": "execute_result"
    }
   ],
   "source": [
    "my_button.files"
   ]
  },
  {
   "cell_type": "code",
   "execution_count": 37,
   "id": "fad3949c",
   "metadata": {},
   "outputs": [
    {
     "data": {
      "application/vnd.jupyter.widget-view+json": {
       "model_id": "979b77fd19c74622af256bb6937a41d7",
       "version_major": 2,
       "version_minor": 0
      },
      "text/plain": [
       "Button(description='Show', style=ButtonStyle())"
      ]
     },
     "metadata": {},
     "output_type": "display_data"
    },
    {
     "data": {
      "application/vnd.jupyter.widget-view+json": {
       "model_id": "5d3f808b077d4cdfaf027db0950ca61e",
       "version_major": 2,
       "version_minor": 0
      },
      "text/plain": [
       "Button(description='Show1', style=ButtonStyle())"
      ]
     },
     "metadata": {},
     "output_type": "display_data"
    }
   ],
   "source": [
    "from ipywidgets import widgets\n",
    "from IPython.display import display\n",
    "import numpy as np\n",
    "\n",
    "class Test(object):\n",
    "    def __init__(self, arraylen):\n",
    "        self.a = np.random.randn(arraylen)\n",
    "        self.button = widgets.Button(description = 'Show')\n",
    "        self.button.on_click(self.show)\n",
    "        display(self.button)\n",
    "\n",
    "        self.button1 = widgets.Button(description = 'Show1')\n",
    "        self.button1.on_click(self.show)\n",
    "        display(self.button1)\n",
    "\n",
    "    def showyself, ev = None):\n",
    "        np.savetxt('test',self.a)\n",
    "        self.button.disabled = True\n",
    "\n",
    "y\n",
    "test = Test(10)"
   ]
  },
  {
   "cell_type": "code",
   "execution_count": 12,
   "id": "b68ee504",
   "metadata": {},
   "outputs": [],
   "source": [
    "from ipywidgets import widgets\n",
    "from IPython.display import display\n",
    "import numpy as np\n",
    "import traitlets\n",
    "from tkinter import Tk, filedialog\n",
    "# class Twobuttons(object):\n",
    "#     def __init__(self, arraylen):\n",
    "#         self.a = np.random.randn(arraylen)\n",
    "#         self.button = widgets.Button(description = 'Show')\n",
    "#         self.button.on_click(self.show)\n",
    "#         display(self.button)\n",
    "\n",
    "#         self.button1 = widgets.Button(description = 'Show1')\n",
    "#         self.button1.on_click(self.show)\n",
    "#         display(self.button1)\n",
    "\n",
    "#     def show(self, ev = None):\n",
    "#         np.savetxt('test',self.a)\n",
    "#         self.button.disabled = True\n",
    "\n",
    "\n",
    "# test = Test(10)\n",
    "\n",
    "class SelectFilesButton(object):\n",
    "    \"\"\"A file widget that leverages tkinter.filedialog.\"\"\"\n",
    "\n",
    "    def __init__(self):\n",
    "        super(SelectFilesButton, self).__init__()\n",
    "        # Add the selected_files trait\n",
    "\n",
    "        # Create the button.\n",
    "        self.button = widgets.Button(description = 'Select Files', icon = \"square-o\")\n",
    "        self.button.add_traits(files=traitlets.traitlets.List())\n",
    "        self.button.pick = False\n",
    "#         self.description = \"Select Files\"\n",
    "#         self.icon = \"square-o\"\n",
    "        self.button.style.button_color = \"orange\"\n",
    "    \n",
    "        self.button2 = widgets.Button(description = 'Select Directory', icon = \"square-o\")\n",
    "#         self.button2.add_traits(directory=traitlets.traitlets.List())\n",
    "#         self.description = \"Select Files\"\n",
    "#         self.icon = \"square-o\"\n",
    "        self.button2.style.button_color = \"orange\"\n",
    "        self.button2.pick = False\n",
    "        # Set on click behavior.\n",
    "        self.button.on_click(self.select_files)\n",
    "        self.button2.on_click(self.select_directory)\n",
    "        display(self.button)\n",
    "        display(self.button2)\n",
    "        \n",
    "    @staticmethod\n",
    "    def select_files(b):\n",
    "        \"\"\"Generate instance of tkinter.filedialog.\n",
    "\n",
    "        Parameters\n",
    "        ----------\n",
    "        b : obj:\n",
    "            An instance of ipywidgets.widgets.Button \n",
    "        \"\"\"\n",
    "        # Create Tk root\n",
    "        root = Tk()\n",
    "        # Hide the main window\n",
    "        root.withdraw()\n",
    "        # Raise the root to the top of all windows.\n",
    "        root.call('wm', 'attributes', '.', '-topmost', True)\n",
    "        # List of selected fileswill be set to b.value\n",
    "        b.files = filedialog.askopenfilename(multiple=True)\n",
    "        b.pick = True\n",
    "        b.description = \"Files Selected\"\n",
    "        b.icon = \"check-square-o\"\n",
    "        b.style.button_color = \"lightgreen\"\n",
    "        \n",
    "    @staticmethod\n",
    "    def select_directory(c):\n",
    "        \"\"\"Generate instance of tkinter.filedialog.\n",
    "\n",
    "        Parameters\n",
    "        ----------\n",
    "        c : obj:\n",
    "            An instance of ipywidgets.widgets.Button \n",
    "        \"\"\"\n",
    "        # Create Tk root\n",
    "        root = Tk()\n",
    "        # Hide the main window\n",
    "        root.withdraw()\n",
    "        # Raise the root to the top of all windows.\n",
    "        root.call('wm', 'attributes', '.', '-topmost', True)\n",
    "        # List of selected fileswill be set to b.value\n",
    "        c.files = filedialog.askdirectory()\n",
    "        c.pick = True\n",
    "        c.description = \"Directory Selected\"\n",
    "        c.icon = \"check-square-o\"\n",
    "        c.style.button_color = \"lightgreen\"\n"
   ]
  },
  {
   "cell_type": "code",
   "execution_count": 13,
   "id": "cc82d8a0",
   "metadata": {},
   "outputs": [
    {
     "data": {
      "application/vnd.jupyter.widget-view+json": {
       "model_id": "8194311a37364a31bc5e245f6a0cb211",
       "version_major": 2,
       "version_minor": 0
      },
      "text/plain": [
       "Button(description='Select Files', icon='square-o', style=ButtonStyle(button_color='orange'))"
      ]
     },
     "metadata": {},
     "output_type": "display_data"
    },
    {
     "data": {
      "application/vnd.jupyter.widget-view+json": {
       "model_id": "bdc71ef874294b7a9c4ebb8278c2d1af",
       "version_major": 2,
       "version_minor": 0
      },
      "text/plain": [
       "Button(description='Select Directory', icon='square-o', style=ButtonStyle(button_color='orange'))"
      ]
     },
     "metadata": {},
     "output_type": "display_data"
    }
   ],
   "source": [
    "my_button = SelectFilesButton()\n"
   ]
  },
  {
   "cell_type": "code",
   "execution_count": 16,
   "id": "c690a5c8",
   "metadata": {},
   "outputs": [
    {
     "data": {
      "text/plain": [
       "True"
      ]
     },
     "execution_count": 16,
     "metadata": {},
     "output_type": "execute_result"
    }
   ],
   "source": [
    "my_button.button.pick"
   ]
  },
  {
   "cell_type": "code",
   "execution_count": 5,
   "id": "9bdc653e",
   "metadata": {},
   "outputs": [
    {
     "data": {
      "application/vnd.jupyter.widget-view+json": {
       "model_id": "36de3e0b2ffe4986bf57f379f2fca6f2",
       "version_major": 2,
       "version_minor": 0
      },
      "text/plain": [
       "Output()"
      ]
     },
     "metadata": {},
     "output_type": "display_data"
    }
   ],
   "source": [
    "from sys import executable, argv\n",
    "from subprocess import check_output\n",
    "from PyQt5.QtWidgets import QFileDialog, QApplication\n",
    "\n",
    "def gui_fname(directory='./'):\n",
    "    \"\"\"Open a file dialog, starting in the given directory, and return\n",
    "    the chosen filename\"\"\"\n",
    "    # run this exact file in a separate process, and grab the result\n",
    "    file = check_output([executable, __file__, directory])\n",
    "    return file.strip()\n",
    "\n",
    "if __name__ == \"__main__\":\n",
    "    directory = argv[1]\n",
    "    app = QApplication([directory])\n",
    "    fname = QFileDialog.getOpenFileName(None, \"Select a file...\", \n",
    "            directory, filter=\"All files (*)\")\n",
    "    print(fname[0])"
   ]
  },
  {
   "cell_type": "code",
   "execution_count": 7,
   "id": "6c107595",
   "metadata": {},
   "outputs": [
    {
     "ename": "AttributeError",
     "evalue": "'SelectFilesButton' object has no attribute 'b'",
     "output_type": "error",
     "traceback": [
      "\u001b[0;31m---------------------------------------------------------------------------\u001b[0m",
      "\u001b[0;31mAttributeError\u001b[0m                            Traceback (most recent call last)",
      "\u001b[0;32m<ipython-input-7-69b6cded2d60>\u001b[0m in \u001b[0;36m<module>\u001b[0;34m\u001b[0m\n\u001b[0;32m----> 1\u001b[0;31m \u001b[0mraw\u001b[0m\u001b[0;34m.\u001b[0m\u001b[0mb\u001b[0m\u001b[0;34m\u001b[0m\u001b[0;34m\u001b[0m\u001b[0m\n\u001b[0m",
      "\u001b[0;31mAttributeError\u001b[0m: 'SelectFilesButton' object has no attribute 'b'"
     ]
    }
   ],
   "source": [
    "raw."
   ]
  },
  {
   "cell_type": "code",
   "execution_count": null,
   "id": "853cd378",
   "metadata": {},
   "outputs": [],
   "source": []
  }
 ],
 "metadata": {
  "kernelspec": {
   "display_name": "Python 3",
   "language": "python",
   "name": "python3"
  },
  "language_info": {
   "codemirror_mode": {
    "name": "ipython",
    "version": 3
   },
   "file_extension": ".py",
   "mimetype": "text/x-python",
   "name": "python",
   "nbconvert_exporter": "python",
   "pygments_lexer": "ipython3",
   "version": "3.7.10"
  }
 },
 "nbformat": 4,
 "nbformat_minor": 5
}
