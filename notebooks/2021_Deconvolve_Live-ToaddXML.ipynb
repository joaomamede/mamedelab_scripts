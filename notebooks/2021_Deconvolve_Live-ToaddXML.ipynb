{
 "cells": [
  {
   "cell_type": "code",
   "execution_count": 3,
   "metadata": {},
   "outputs": [],
   "source": [
    "%matplotlib inline\n",
    "import numpy as np\n",
    "import matplotlib.pyplot as plt\n",
    "from flowdec.nb import utils as nbutils \n",
    "from flowdec import data as fd_data\n",
    "import pims\n",
    "# import pims\n",
    "from flowdec import restoration as fd_restoration\n",
    "from flowdec import data as fd_data\n",
    "from flowdec import psf as fd_psf\n",
    "import dask\n",
    "import dask.array as da\n",
    "import tifffile as tf\n",
    "from nd2reader import ND2Reader\n",
    "# from pims import ND2_Reader as ND2Reader\n",
    "# import aicsimageio.vendor.omexml as ome\n",
    "import glob\n",
    "import time, sys\n",
    "sys.path.insert(0,'/home/jmamede/scripts/notebooks/libraries/')\n",
    "from deco_libraries import update_progress, pimsmeta2OMEXML, Nd2meta2OMEXML, observer, init_RL_algo, deconv, depth_divide"
   ]
  },
  {
   "cell_type": "code",
   "execution_count": 4,
   "metadata": {},
   "outputs": [
    {
     "name": "stdout",
     "output_type": "stream",
     "text": [
      "['/home/jmamede/imscope/JM/2020/20200626/igfp1_caruby5_continue001trigger002.nd2']\n",
      "{'x': 2048, 'y': 2044, 'c': 3, 't': 67, 'z': 23, 'v': 31}\n",
      "['FITC', 'mRuby3', 'miRFP670']\n"
     ]
    },
    {
     "name": "stderr",
     "output_type": "stream",
     "text": [
      "/home/jmamede/anaconda3/lib/python3.7/site-packages/nd2reader/common_raw_metadata.py:99: RuntimeWarning: Reported average frame interval (359362.9 ms) doesn't match the set interval (360000.0 ms). Using the average now.\n",
      "  warnings.warn(message % (avg_interval, interval), RuntimeWarning)\n",
      "/home/jmamede/anaconda3/lib/python3.7/site-packages/nd2reader/common_raw_metadata.py:99: RuntimeWarning: Reported average frame interval (900005.8 ms) doesn't match the set interval (900000.0 ms). Using the average now.\n",
      "  warnings.warn(message % (avg_interval, interval), RuntimeWarning)\n",
      "/home/jmamede/anaconda3/lib/python3.7/site-packages/nd2reader/common_raw_metadata.py:99: RuntimeWarning: Reported average frame interval (89999.6 ms) doesn't match the set interval (1800000.0 ms). Using the average now.\n",
      "  warnings.warn(message % (avg_interval, interval), RuntimeWarning)\n"
     ]
    }
   ],
   "source": [
    "#THINGS TO CHANGE!!!!! Always keep /*.nd2 at the end\n",
    "#For gui make a function with all this input for verification purposes when loading the files\n",
    "dirname = dirname = \"/home/jmamede/imscope/JM/2020/20200626/igfp1_caruby5_continue001trigger002.nd2\"\n",
    "# dirname = \"D:/JM/20201222caru3/Carubyigfp_F2_Nh4cl_vitc_rutin_BVD002.nd2\"\n",
    "\n",
    "filelist = glob.glob(dirname)\n",
    "filelist.sort()\n",
    "# filelist = filelist[2:3]\n",
    "\n",
    "print(filelist)\n",
    "\n",
    "#Load the first file for reference and what's inside the file\n",
    "frames = ND2Reader(filelist[0])\n",
    "print(frames.sizes)\n",
    "#Grab metadata\n",
    "metadata = frames.metadata\n",
    "print(metadata['channels'])\n",
    "\n",
    "#If you don't have enough VRAM divide the XY to do the deconvolution that is automatically assembled after\n",
    "xdivide = 2\n",
    "ydivide = 2\n",
    "depthdivide = depth_divide(xdivide, ydivide)\n",
    "\n",
    "\n",
    "# print(frames.parser._raw_metadata.image_metadata[b'SLxExperiment'][b'ppNextLevelEx'][b''][b'ppNextLevelEx'][b''][b'uLoopPars'][b'dZStep'])\n"
   ]
  },
  {
   "cell_type": "code",
   "execution_count": 5,
   "metadata": {},
   "outputs": [],
   "source": [
    "timesteps = frames.timesteps\n"
   ]
  },
  {
   "cell_type": "code",
   "execution_count": 13,
   "metadata": {},
   "outputs": [
    {
     "data": {
      "text/plain": [
       "101.71866654999927"
      ]
     },
     "execution_count": 13,
     "metadata": {},
     "output_type": "execute_result"
    }
   ],
   "source": [
    "i = 10\n",
    "timesteps[i*23-23]/1000\n"
   ]
  },
  {
   "cell_type": "code",
   "execution_count": 3,
   "metadata": {},
   "outputs": [
    {
     "name": "stderr",
     "output_type": "stream",
     "text": [
      "TiffPage 0: TypeError: read_bytes() missing 3 required positional arguments: 'dtype', 'count', and 'offsetsize'\n",
      "TiffPage 0: TypeError: read_bytes() missing 3 required positional arguments: 'dtype', 'count', and 'offsetsize'\n",
      "TiffPage 0: TypeError: read_bytes() missing 3 required positional arguments: 'dtype', 'count', and 'offsetsize'\n",
      "TiffPage 0: TypeError: read_bytes() missing 3 required positional arguments: 'dtype', 'count', and 'offsetsize'\n"
     ]
    },
    {
     "name": "stdout",
     "output_type": "stream",
     "text": [
      "(5, 128, 128)\n",
      "(5, 128, 128)\n"
     ]
    }
   ],
   "source": [
    "#Need to make this a big more automatic, but indexing all the files and iterations is not easy\n",
    "#In the version where the PSF is estimated by flowdec is easier because everything was set to automatic\n",
    "\n",
    "PSFdir=\"/home/jmamede/Rush/PSF/\"\n",
    "psf647 = tf.imread(PSFdir+\"/AF647_0.3_EMCCD.tif\")\n",
    "psfruby =  tf.imread(PSFdir+'/mRuby3_0.3_EMCCD.tif')\n",
    "psfgfp =  tf.imread(PSFdir+'/green_0.3_EMCCD.tif')\n",
    "psfdapi =  tf.imread(PSFdir+'/DAPI_0.3_EMCCD.tif')\n",
    "# psf647 = tf.imread(PSFdir+\"/AF647_0.5_EMCCD.tif\")\n",
    "# psfruby =  tf.imread(PSFdir+'/mRuby3_0.5_EMCCD.tif')\n",
    "# psfgfp =  tf.imread(PSFdir+'/green_0.5_EMCCD.tif')\n",
    "# psfdapi =  tf.imread(PSFdir+'/DAPI_0.5_EMCCD.tif')\n",
    "# psf647 = tf.imread(PSFdir+\"/AF647.tif\")\n",
    "# psfruby =  tf.imread(PSFdir+'/mRuby3.tif')\n",
    "# psfgfp =  tf.imread(PSFdir+'/green.tif')\n",
    "# psfdapi =  tf.imread(PSFdir+'/DAPI.tif')\n",
    "# psfruby = psf647\n",
    "# psfgfp = psf647\n",
    "# psfdapi = psf647\n",
    "remove = 8\n",
    "remove = 15\n",
    "psf647 = np.flip(psf647,\n",
    "#                  axis=0\n",
    "                )[remove:-remove]\n",
    "# [8:-8]\n",
    "\n",
    "\n",
    "psfgfp = np.flip(psfgfp,\n",
    "#                  axis=0\n",
    "                )[remove:-remove]\n",
    "psfdapi = np.flip(psfdapi,\n",
    "#                   axis=0\n",
    "                 )[remove:-remove]\n",
    "psfruby = np.flip(psfruby,\n",
    "#                   axis=0\n",
    "                 )[remove:-remove]\n",
    "\n",
    "print(psf647.shape)\n",
    "print(psfruby.shape)\n",
    "# psf647"
   ]
  },
  {
   "cell_type": "code",
   "execution_count": 4,
   "metadata": {},
   "outputs": [
    {
     "data": {
      "text/plain": [
       "['/home/jmamede/Data/CaRuby3/VOG/Caru3_optineon.nd2',\n",
       " '/home/jmamede/Data/CaRuby3/VOG/Caruby_PSPAX.nd2',\n",
       " '/home/jmamede/Data/CaRuby3/VOG/iGFP_Caru3_3_3.nd2']"
      ]
     },
     "execution_count": 4,
     "metadata": {},
     "output_type": "execute_result"
    }
   ],
   "source": [
    "algo =init_RL_algo(psfgfp.ndim\n",
    "#                    ,pad_mode='2357',pad_min=(1,1,1)\n",
    "                   ,pad_mode='log2',pad_min=(1,1,1)\n",
    "                  )\n",
    "\n",
    "\n",
    "filelist"
   ]
  },
  {
   "cell_type": "code",
   "execution_count": 5,
   "metadata": {},
   "outputs": [
    {
     "name": "stdout",
     "output_type": "stream",
     "text": [
      "Progress: [####################] 100.0%\n"
     ]
    }
   ],
   "source": [
    "savePRJ = True\n",
    "saveStack = False\n",
    "maxT = None\n",
    "for fname in filelist:\n",
    "    frames =  ND2Reader(fname)\n",
    "    frames.iter_axes = 't'  # 't' is the default already\n",
    "    frames.bundle_axes = 'zyx'  # when 'z' is available, this will be default\n",
    "\n",
    "    channels =  frames.metadata['channels']\n",
    "    metadata = frames.metadata\n",
    "    \n",
    "    \n",
    "    xml = Nd2meta2OMEXML(frames, maxT=maxT)\n",
    "    prjxml = Nd2meta2OMEXML(frames, project=True, maxT=maxT)\n",
    "\n",
    "    chunk_size=(frames.sizes['z'],frames.sizes['y']//ydivide,frames.sizes['x']//xdivide)\n",
    "\n",
    "\n",
    "    # frames.iter_axes = 'v'\n",
    "    # for frame in frames:\n",
    "    for visit in range(frames.sizes['v']):\n",
    "#     for visit in range(21,31):\n",
    "\n",
    "        frames.default_coords['v'] = visit\n",
    "        stackfile = fname[:-4]+\"_v\"+str(visit+1).zfill(2)+'.ome.tiff'\n",
    "        prjfile = fname[:-4]+\"_v\"+str(visit+1).zfill(2)+'_PRJ.ome.tiff'\n",
    "        if saveStack:\n",
    "            tif = tf.TiffWriter(stackfile, bigtiff=True , imagej=False)\n",
    "        if savePRJ:\n",
    "            tifprj = tf.TiffWriter(prjfile, bigtiff=True, imagej=False)\n",
    "        \n",
    "        first = True\n",
    "        for time in range(frames.sizes['t']):\n",
    "\n",
    "            res = np.zeros(\n",
    "                (frames.sizes['z'],frames.sizes['c']\n",
    "                 ,frames.sizes['y'],frames.sizes['x'])\n",
    "                , dtype=np.float32)\n",
    "            for i in range(frames.sizes['c']):\n",
    "                frames.default_coords['c'] = i\n",
    "#                     print('Channel:',metadata['channels'][i])\n",
    "                ch = metadata['channels'][i]\n",
    "                # ['a647', 'DAPI', 'GFP']\n",
    "                # ['FITC', 'mRuby3', 'miRFP670']\n",
    "                # ['FRET-gYFP-dsRED', 'mRuby', 'GFP', 'DAPI']\n",
    "                # ['a647', 'DAPI', 'GFP']\n",
    "                if ch == 'DAPI' or ch  == '470 nm':\n",
    "                    psf = psfdapi\n",
    "                elif ch == 'miRFP670' or ch == 'a647' or ch == 'mirfp670' or ch == 'farRED-EM':\n",
    "                    psf = psf647\n",
    "                elif ch == 'GFP' or ch == 'FITC'  or ch == 'GREEN-EM':\n",
    "                    psf = psfgfp\n",
    "                elif ch == 'mRuby3' or ch == 'mRuby' or ch ==  '555 nm' or ch == 'RED-EM':\n",
    "                    psf = psfruby\n",
    "                elif ch == 'FRET-gYFP-dsRED':\n",
    "                    psf = psfruby\n",
    "\n",
    "                arr = da.from_array(frames[time]\n",
    "#                                     [:,0:2044,0:2044]\n",
    "#                                     [:,:,:]              \n",
    "                                    , chunks=chunk_size)\n",
    "\n",
    "#                     print(arr.shape)\n",
    "                res[:,i,:,:] = da.map_overlap(deconv,arr, depth  = depthdivide ,boundary='reflect',\n",
    "                                    dtype='float32', algo=algo,\n",
    "                                    psf=psf, iters=20\n",
    "                                             ).compute(num_workers=1)\n",
    "#                     res[:,i,:,:] = deconv(frames[time],\n",
    "# #                                           depth  = depthdivide, boundary='reflect', dtype='float32',\n",
    "#                                           algo=algo, psf=psf, iters=20\n",
    "#                              ).compute(num_workers=1)\n",
    "\n",
    "#                     res[i,:,:,:] = arr.map_blocks(\n",
    "#                     deconv,dtype='float32').compute(num_workers=1)\n",
    "\n",
    "                # If we need to swap Channel and Z in the future\n",
    "                #             img5d = np.swapaxes(img5d,0,1)\n",
    "\n",
    "                update_progress( (visit+1) * (time+1) / (frames.sizes['v']* frames.sizes['t']) )\n",
    "                print(\"Visit Point: {}/{} \\t Time:{}/{} \\t Channel:{}/{}\".format(\n",
    "                        visit+1, frames.sizes['v']\n",
    "                        ,time+1, frames.sizes['t']\n",
    "                        , i+1, frames.sizes['c']))\n",
    "# Make Function\n",
    "            if saveStack:\n",
    "                if first:\n",
    "                    tif.save(res.astype(np.uint16),\n",
    "#                         compress='LZMA',\n",
    "                        description = xml.to_xml(),\n",
    "                        photometric='minisblack',\n",
    "                        #datetime= True,\n",
    "                        metadata= None,\n",
    "                        contiguous=False,\n",
    "                        )\n",
    "                    first = False\n",
    "                else:\n",
    "                    tif.save(res.astype(np.uint16),\n",
    "#                     compress='LZMA',\n",
    "#                     description = xml.to_xml(),\n",
    "                    photometric='minisblack',\n",
    "                    metadata= None,\n",
    "                    contiguous=False,\n",
    "                    )\n",
    "            if savePRJ:\n",
    "                if first:\n",
    "                    tifprj.save(res.astype(np.uint16).max(axis=0),\n",
    "#                         compress='LZMA',\n",
    "                        description = prjxml.to_xml(),\n",
    "                        photometric='minisblack',\n",
    "                        #, datetime= True\n",
    "                        metadata= None,\n",
    "                        contiguous=False\n",
    "                        )\n",
    "                    first = False\n",
    "                else:\n",
    "                    tifprj.save(res.astype(np.uint16).max(axis=0),\n",
    "#                         compress='LZMA',\n",
    "#                         description = xml.to_xml(),\n",
    "                        photometric='minisblack',\n",
    "                        #, datetime= True\n",
    "                        metadata= None,\n",
    "                        contiguous=False,\n",
    "                        )\n",
    "\n",
    "        if saveStack: tif.close()\n",
    "        if savePRJ: tifprj.close()\n",
    "\n",
    "    update_progress(1)"
   ]
  },
  {
   "cell_type": "code",
   "execution_count": 6,
   "metadata": {},
   "outputs": [
    {
     "data": {
      "text/plain": [
       "<weakproxy at 0x7fe213c4ddd0 to Device at 0x7fe213e23b90>"
      ]
     },
     "execution_count": 6,
     "metadata": {},
     "output_type": "execute_result"
    }
   ],
   "source": [
    "# print('done')\n",
    "from numba import cuda\n",
    "cuda.select_device(0)\n",
    "cuda.close()\n",
    "#the memory was released here!\n",
    "cuda.select_device(0)"
   ]
  },
  {
   "cell_type": "code",
   "execution_count": null,
   "metadata": {},
   "outputs": [],
   "source": []
  }
 ],
 "metadata": {
  "kernelspec": {
   "display_name": "Python 3",
   "language": "python",
   "name": "python3"
  },
  "language_info": {
   "codemirror_mode": {
    "name": "ipython",
    "version": 3
   },
   "file_extension": ".py",
   "mimetype": "text/x-python",
   "name": "python",
   "nbconvert_exporter": "python",
   "pygments_lexer": "ipython3",
   "version": "3.7.8"
  }
 },
 "nbformat": 4,
 "nbformat_minor": 4
}
