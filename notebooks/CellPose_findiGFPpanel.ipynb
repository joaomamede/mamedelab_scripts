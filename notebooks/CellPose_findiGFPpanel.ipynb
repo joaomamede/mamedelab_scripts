{
 "cells": [
  {
   "cell_type": "code",
   "execution_count": 1,
   "metadata": {},
   "outputs": [
    {
     "ename": "SyntaxError",
     "evalue": "invalid syntax (libraries.py, line 73)",
     "output_type": "error",
     "traceback": [
      "Traceback \u001b[0;36m(most recent call last)\u001b[0m:\n",
      "  File \u001b[1;32m\"/home/jmamede/anaconda3/lib/python3.7/site-packages/IPython/core/interactiveshell.py\"\u001b[0m, line \u001b[1;32m3418\u001b[0m, in \u001b[1;35mrun_code\u001b[0m\n    exec(code_obj, self.user_global_ns, self.user_ns)\n",
      "\u001b[0;36m  File \u001b[0;32m\"<ipython-input-1-e6bf9dc0148f>\"\u001b[0;36m, line \u001b[0;32m22\u001b[0;36m, in \u001b[0;35m<module>\u001b[0;36m\u001b[0m\n\u001b[0;31m    from libraries import initialize_reader,_read_frame,time_stack\u001b[0m\n",
      "\u001b[0;36m  File \u001b[0;32m\"/home/jmamede/scripts/LivePanelize/libraries.py\"\u001b[0;36m, line \u001b[0;32m73\u001b[0m\n\u001b[0;31m    if ch not None:\u001b[0m\n\u001b[0m                 ^\u001b[0m\n\u001b[0;31mSyntaxError\u001b[0m\u001b[0;31m:\u001b[0m invalid syntax\n"
     ]
    }
   ],
   "source": [
    "import os\n",
    "import matplotlib.pyplot as plt\n",
    "import pims\n",
    "# import pims.BioformatsReader\n",
    "import sys\n",
    "import numpy as np\n",
    "sys.path.insert(0,'/home/jmamede/scripts')\n",
    "# from support_pla import othercolor, cell_mask, multiply, rebin\n",
    "from support_pla import cellpose_mask,cellpose_model\n",
    "import pandas as pd\n",
    "from nd2reader import ND2Reader\n",
    "import glob\n",
    "import csv\n",
    "plot = True\n",
    "\n",
    "import contextlib\n",
    "import io\n",
    "from cellpose import io as iocp\n",
    "from cellpose import plot,utils\n",
    "\n",
    "sys.path.insert(0,'/home/jmamede/scripts/LivePanelize')\n",
    "from libraries import initialize_reader,_read_frame,time_stack"
   ]
  },
  {
   "cell_type": "code",
   "execution_count": null,
   "metadata": {},
   "outputs": [],
   "source": []
  },
  {
   "cell_type": "code",
   "execution_count": 5,
   "metadata": {},
   "outputs": [
    {
     "data": {
      "text/plain": [
       "['/run/media/jmamede/Joao/Stephanie/20210405_131351_890/WellA01_ChannelTRITC,FITC,DAPI_Seq0000.nd2',\n",
       " '/run/media/jmamede/Joao/Stephanie/20210405_131351_890/WellA02_ChannelTRITC,FITC,DAPI_Seq0001.nd2',\n",
       " '/run/media/jmamede/Joao/Stephanie/20210405_131351_890/WellA03_ChannelTRITC,FITC,DAPI_Seq0002.nd2',\n",
       " '/run/media/jmamede/Joao/Stephanie/20210405_131351_890/WellA04_ChannelTRITC,FITC,DAPI_Seq0003.nd2',\n",
       " '/run/media/jmamede/Joao/Stephanie/20210405_131351_890/WellA05_ChannelTRITC,FITC,DAPI_Seq0004.nd2',\n",
       " '/run/media/jmamede/Joao/Stephanie/20210405_131351_890/WellA06_ChannelTRITC,FITC,DAPI_Seq0005.nd2',\n",
       " '/run/media/jmamede/Joao/Stephanie/20210405_131351_890/WellA07_ChannelTRITC,FITC,DAPI_Seq0006.nd2',\n",
       " '/run/media/jmamede/Joao/Stephanie/20210405_131351_890/WellA08_ChannelTRITC,FITC,DAPI_Seq0007.nd2',\n",
       " '/run/media/jmamede/Joao/Stephanie/20210405_131351_890/WellA09_ChannelTRITC,FITC,DAPI_Seq0008.nd2',\n",
       " '/run/media/jmamede/Joao/Stephanie/20210405_131351_890/WellA10_ChannelTRITC,FITC,DAPI_Seq0009.nd2',\n",
       " '/run/media/jmamede/Joao/Stephanie/20210405_131351_890/WellA11_ChannelTRITC,FITC,DAPI_Seq0010.nd2',\n",
       " '/run/media/jmamede/Joao/Stephanie/20210405_131351_890/WellA12_ChannelTRITC,FITC,DAPI_Seq0011.nd2',\n",
       " '/run/media/jmamede/Joao/Stephanie/20210405_131351_890/WellB01_ChannelTRITC,FITC,DAPI_Seq0023.nd2',\n",
       " '/run/media/jmamede/Joao/Stephanie/20210405_131351_890/WellB02_ChannelTRITC,FITC,DAPI_Seq0022.nd2',\n",
       " '/run/media/jmamede/Joao/Stephanie/20210405_131351_890/WellB03_ChannelTRITC,FITC,DAPI_Seq0021.nd2',\n",
       " '/run/media/jmamede/Joao/Stephanie/20210405_131351_890/WellB04_ChannelTRITC,FITC,DAPI_Seq0020.nd2',\n",
       " '/run/media/jmamede/Joao/Stephanie/20210405_131351_890/WellB05_ChannelTRITC,FITC,DAPI_Seq0019.nd2',\n",
       " '/run/media/jmamede/Joao/Stephanie/20210405_131351_890/WellB06_ChannelTRITC,FITC,DAPI_Seq0018.nd2',\n",
       " '/run/media/jmamede/Joao/Stephanie/20210405_131351_890/WellB07_ChannelTRITC,FITC,DAPI_Seq0017.nd2',\n",
       " '/run/media/jmamede/Joao/Stephanie/20210405_131351_890/WellB08_ChannelTRITC,FITC,DAPI_Seq0016.nd2',\n",
       " '/run/media/jmamede/Joao/Stephanie/20210405_131351_890/WellB09_ChannelTRITC,FITC,DAPI_Seq0015.nd2',\n",
       " '/run/media/jmamede/Joao/Stephanie/20210405_131351_890/WellB10_ChannelTRITC,FITC,DAPI_Seq0014.nd2',\n",
       " '/run/media/jmamede/Joao/Stephanie/20210405_131351_890/WellB11_ChannelTRITC,FITC,DAPI_Seq0013.nd2',\n",
       " '/run/media/jmamede/Joao/Stephanie/20210405_131351_890/WellB12_ChannelTRITC,FITC,DAPI_Seq0012.nd2',\n",
       " '/run/media/jmamede/Joao/Stephanie/20210405_131351_890/WellC01_ChannelTRITC,FITC,DAPI_Seq0024.nd2',\n",
       " '/run/media/jmamede/Joao/Stephanie/20210405_131351_890/WellC02_ChannelTRITC,FITC,DAPI_Seq0025.nd2',\n",
       " '/run/media/jmamede/Joao/Stephanie/20210405_131351_890/WellC03_ChannelTRITC,FITC,DAPI_Seq0026.nd2',\n",
       " '/run/media/jmamede/Joao/Stephanie/20210405_131351_890/WellC04_ChannelTRITC,FITC,DAPI_Seq0027.nd2',\n",
       " '/run/media/jmamede/Joao/Stephanie/20210405_131351_890/WellC05_ChannelTRITC,FITC,DAPI_Seq0028.nd2',\n",
       " '/run/media/jmamede/Joao/Stephanie/20210405_131351_890/WellC06_ChannelTRITC,FITC,DAPI_Seq0029.nd2',\n",
       " '/run/media/jmamede/Joao/Stephanie/20210405_131351_890/WellC07_ChannelTRITC,FITC,DAPI_Seq0030.nd2',\n",
       " '/run/media/jmamede/Joao/Stephanie/20210405_131351_890/WellC08_ChannelTRITC,FITC,DAPI_Seq0031.nd2']"
      ]
     },
     "execution_count": 5,
     "metadata": {},
     "output_type": "execute_result"
    }
   ],
   "source": [
    "# ficheiro = \"/run/media/jmamede/Joao/96wells/20201119_143803_601/WellA01_ChannelGFP,DAPI_Seq0000.nd2\"\n",
    "dirname = \"/run/media/jmamede/Joao/Stephanie/20210405_131351_890/*.nd2\"\n",
    "\n",
    "filelist = glob.glob(dirname)\n",
    "filelist.sort()\n",
    "filelist\n",
    "# metadata = frames.metadata"
   ]
  },
  {
   "cell_type": "code",
   "execution_count": null,
   "metadata": {},
   "outputs": [],
   "source": [
    "ficheiro = filelist[3]\n",
    "reader = pims.open(ficheiro)\n",
    "# print(reader.sizes)\n",
    "\n",
    "reader.bundle_axes = 'yx'\n",
    "reader.iter_axes = 'c'\n",
    "plt.imshow(reader[2],vmin=np.min(reader[2]),vmax=np.median(reader[2])*7)\n",
    "ficheiro\n",
    "\n",
    "# test = dask.array.concatenate(\n",
    "#     [time_stack(ficheiro,bundler='cyx') for filename in filelist[]]\n",
    "# , axis=2)\n",
    "reader =  time_stack(ficheiro,bundler='cyx')\n",
    "reader = reader.reshape(1,183,1024,1024)\n",
    "#Shaped into Time, Color, Y, X\n",
    "reader = reader.reshape(61,3,1024,1024)\n"
   ]
  },
  {
   "cell_type": "code",
   "execution_count": 2,
   "metadata": {},
   "outputs": [
    {
     "ename": "NameError",
     "evalue": "name 'reader' is not defined",
     "output_type": "error",
     "traceback": [
      "\u001b[0;31m---------------------------------------------------------------------------\u001b[0m",
      "\u001b[0;31mNameError\u001b[0m                                 Traceback (most recent call last)",
      "\u001b[0;32m<ipython-input-2-68fb6dbf46cb>\u001b[0m in \u001b[0;36m<module>\u001b[0;34m\u001b[0m\n\u001b[0;32m----> 1\u001b[0;31m \u001b[0mplt\u001b[0m\u001b[0;34m.\u001b[0m\u001b[0mimshow\u001b[0m\u001b[0;34m(\u001b[0m\u001b[0mreader\u001b[0m\u001b[0;34m[\u001b[0m\u001b[0;36m35\u001b[0m\u001b[0;34m,\u001b[0m\u001b[0;36m2\u001b[0m\u001b[0;34m]\u001b[0m\u001b[0;34m)\u001b[0m\u001b[0;34m\u001b[0m\u001b[0;34m\u001b[0m\u001b[0m\n\u001b[0m\u001b[1;32m      2\u001b[0m \u001b[0;34m\u001b[0m\u001b[0m\n",
      "\u001b[0;31mNameError\u001b[0m: name 'reader' is not defined"
     ]
    }
   ],
   "source": [
    "plt.imshow(reader[35,2])\n",
    "\n"
   ]
  },
  {
   "cell_type": "raw",
   "metadata": {},
   "source": []
  },
  {
   "cell_type": "code",
   "execution_count": 110,
   "metadata": {},
   "outputs": [],
   "source": [
    "# reader = ND2Reader(ficheiro)\n",
    "# print(reader.sizes)\n",
    "\n",
    "# metadata = reader.metadata\n",
    "# reader.bundle_axes = 'cyx'\n",
    "# reader.iter_axes = 'z'\n",
    "# #there is a bug, it reads each visit point as a Z.\n",
    "# reader.default_coords['v'] = 0\n",
    "# #reader.sizes['z']\n",
    "\n",
    "def plots(reader,cells_masks,nuclei_masks,base):\n",
    "    from cellpose.utils import masks_to_outlines\n",
    "    %matplotlib inline\n",
    "    f, axarr = plt.subplots(2,2)\n",
    "    print(axarr.shape)\n",
    "    \n",
    "\n",
    "    axarr[0,0].imshow(reader[0],vmin=np.min(reader[0]),vmax=np.max(reader[0])\n",
    "        ,cmap=\"gray\"\n",
    "                     )\n",
    "    axarr[0,0].imshow(masks_to_outlines(cells_masks),alpha=0.4,cmap='jet')\n",
    "    axarr[0,1].imshow(cells_masks\n",
    "                      #,alpha=0.6\n",
    "        )\n",
    "#     axarr[0,2].imshow(reader[i][0],vmin=100,vmax=np.max(reader[5][0])/3\n",
    "#         )\n",
    "#     axarr[0,2].imshow(cells_masks,alpha=0.6\n",
    "#         )\n",
    "    axarr[1,0].imshow(reader[2],vmin=np.min(reader[2]),vmax=np.median(reader[2]*3)\n",
    "                      ,cmap=\"gray\"\n",
    "        )\n",
    "    axarr[1,0].imshow(masks_to_outlines(nuclei_masks),alpha=0.4,cmap='jet')\n",
    "    axarr[1,1].imshow(nuclei_masks\n",
    "                      #,alpha=0.6\n",
    "        )\n",
    "#     axarr[1,2].imshow(reader[i][1],vmin=100,vmax=np.max(reader[5][0])/3\n",
    "#         )\n",
    "#     axarr[1,2].imshow(nuclei_masks\n",
    "# #                 ,alpha=0.6\n",
    "#         )\n",
    "    plt.savefig(base+\".png\",dpi=600)\n",
    "#     plt.show()\n",
    "    return f,axarr"
   ]
  },
  {
   "cell_type": "code",
   "execution_count": null,
   "metadata": {},
   "outputs": [],
   "source": []
  },
  {
   "cell_type": "code",
   "execution_count": 111,
   "metadata": {},
   "outputs": [
    {
     "name": "stdout",
     "output_type": "stream",
     "text": [
      "** CUDA version installed and working. **\n",
      ">>>> using GPU\n",
      "cellpose_residual_on_style_on_concatenation_off\n",
      "** CUDA version installed and working. **\n",
      ">>>> using GPU\n",
      "cellpose_residual_on_style_on_concatenation_off\n"
     ]
    },
    {
     "data": {
      "text/plain": [
       "46"
      ]
     },
     "execution_count": 111,
     "metadata": {},
     "output_type": "execute_result"
    }
   ],
   "source": [
    "\n",
    "    \n",
    "model = cellpose_model(GPU=True)\n",
    "model_nuc = cellpose_model(GPU=True,model_type='nuclei')\n",
    "\n",
    "base = os.path.splitext(ficheiro)[0]\n",
    "\n",
    "f = open(base+\"csv\", 'wt')\n",
    "output = csv.writer(f\n",
    "#                     , delimiter=',',\n",
    "#                             quotechar='\"', quoting=csv.QUOTE_MINIMAL\n",
    "                   )\n",
    "output.writerow([\"FileName\",\"num_cells\",\"infected_cells\",\"percentage\"])"
   ]
  },
  {
   "cell_type": "code",
   "execution_count": 112,
   "metadata": {},
   "outputs": [
    {
     "name": "stdout",
     "output_type": "stream",
     "text": [
      "processing 1 image(s)\n"
     ]
    },
    {
     "name": "stderr",
     "output_type": "stream",
     "text": [
      "/home/jmamede/anaconda3/lib/python3.7/site-packages/numpy/core/fromnumeric.py:3335: RuntimeWarning: Mean of empty slice.\n",
      "  out=out, **kwargs)\n",
      "/home/jmamede/anaconda3/lib/python3.7/site-packages/numpy/core/_methods.py:161: RuntimeWarning: invalid value encountered in double_scalars\n",
      "  ret = ret.dtype.type(ret / rcount)\n"
     ]
    },
    {
     "name": "stdout",
     "output_type": "stream",
     "text": [
      "time spent: running network 0.62s; flow+mask computation 0.05\n",
      "estimated masks for 1 image(s) in 0.67 sec\n",
      ">>>> TOTAL TIME 0.67 sec\n",
      "processing 1 image(s)\n",
      "time spent: running network 0.63s; flow+mask computation 0.03\n",
      "estimated masks for 1 image(s) in 0.67 sec\n",
      ">>>> TOTAL TIME 0.67 sec\n"
     ]
    }
   ],
   "source": [
    "cells_masks = cellpose_mask(reader[0,0],model\n",
    "#                             ,size=2500\n",
    "                            ,flow_threshold=0.4,size=0,diam=300,cell_prob=0\n",
    "                           )\n",
    "nuclei_masks = cellpose_mask(reader[0,2],model_nuc\n",
    "#                             ,size=2500\n",
    "                            ,flow_threshold=1.8,size=0,diam=70,cell_prob=-2\n",
    "                           )"
   ]
  },
  {
   "cell_type": "code",
   "execution_count": 116,
   "metadata": {},
   "outputs": [
    {
     "data": {
      "text/plain": [
       "<matplotlib.image.AxesImage at 0x7f5f185f3f90>"
      ]
     },
     "execution_count": 116,
     "metadata": {},
     "output_type": "execute_result"
    },
    {
     "data": {
      "image/png": "[encoded data removed]",
      "text/plain": [
       "<Figure size 432x288 with 1 Axes>"
      ]
     },
     "metadata": {
      "needs_background": "light"
     },
     "output_type": "display_data"
    }
   ],
   "source": [
    "plt.imshow(nuclei_masks)"
   ]
  },
  {
   "cell_type": "code",
   "execution_count": 18,
   "metadata": {},
   "outputs": [
    {
     "data": {
      "image/png": "[encoded data removed]",
      "text/plain": [
       "<Figure size 432x288 with 1 Axes>"
      ]
     },
     "metadata": {
      "needs_background": "light"
     },
     "output_type": "display_data"
    }
   ],
   "source": [
    "%matplotlib inline\n",
    "plt.cla()"
   ]
  },
  {
   "cell_type": "code",
   "execution_count": null,
   "metadata": {},
   "outputs": [],
   "source": [
    "    \n",
    "    \n",
    "\n"
   ]
  },
  {
   "cell_type": "code",
   "execution_count": 19,
   "metadata": {},
   "outputs": [
    {
     "name": "stdout",
     "output_type": "stream",
     "text": [
      "/run/media/jmamede/Joao/tet/20201208tet/D11_24NtetPSPAXopti05_vit_rutin_nh4cl1h_pump_v10_PRJ.ome.tiff Image#: /run/media/jmamede/Joao/tet/20201208tet/D11_24NtetPSPAXopti05_vit_rutin_nh4cl1h_pump_v10_PRJ.ome Number of Nuclei: 8 Number of positive cells: 1 Percentage: 0.125\n",
      "/run/media/jmamede/Joao/tet/20201208tet/D11_24NtetPSPAXopti05_vit_rutin_nh4cl1h_pump_v11_PRJ.ome.tiff Image#: /run/media/jmamede/Joao/tet/20201208tet/D11_24NtetPSPAXopti05_vit_rutin_nh4cl1h_pump_v11_PRJ.ome Number of Nuclei: 4 Number of positive cells: 0 Percentage: 0.0\n",
      "/run/media/jmamede/Joao/tet/20201208tet/D11_24NtetPSPAXopti05_vit_rutin_nh4cl1h_pump_v12_PRJ.ome.tiff Image#: /run/media/jmamede/Joao/tet/20201208tet/D11_24NtetPSPAXopti05_vit_rutin_nh4cl1h_pump_v12_PRJ.ome Number of Nuclei: 6 Number of positive cells: 0 Percentage: 0.0\n",
      "/run/media/jmamede/Joao/tet/20201208tet/D11_24NtetPSPAXopti05_vit_rutin_nh4cl1h_pump_v13_PRJ.ome.tiff Image#: /run/media/jmamede/Joao/tet/20201208tet/D11_24NtetPSPAXopti05_vit_rutin_nh4cl1h_pump_v13_PRJ.ome Number of Nuclei: 4 Number of positive cells: 0 Percentage: 0.0\n",
      "/run/media/jmamede/Joao/tet/20201208tet/D11_24NtetPSPAXopti05_vit_rutin_nh4cl1h_pump_v14_PRJ.ome.tiff Image#: /run/media/jmamede/Joao/tet/20201208tet/D11_24NtetPSPAXopti05_vit_rutin_nh4cl1h_pump_v14_PRJ.ome Number of Nuclei: 6 Number of positive cells: 0 Percentage: 0.0\n",
      "/run/media/jmamede/Joao/tet/20201208tet/D11_24NtetPSPAXopti05_vit_rutin_nh4cl1h_pump_v15_PRJ.ome.tiff Image#: /run/media/jmamede/Joao/tet/20201208tet/D11_24NtetPSPAXopti05_vit_rutin_nh4cl1h_pump_v15_PRJ.ome Number of Nuclei: 9 Number of positive cells: 1 Percentage: 0.1111111111111111\n",
      "/run/media/jmamede/Joao/tet/20201208tet/D11_24NtetPSPAXopti05_vit_rutin_nh4cl1h_pump_v16_PRJ.ome.tiff Image#: /run/media/jmamede/Joao/tet/20201208tet/D11_24NtetPSPAXopti05_vit_rutin_nh4cl1h_pump_v16_PRJ.ome Number of Nuclei: 6 Number of positive cells: 0 Percentage: 0.0\n",
      "/run/media/jmamede/Joao/tet/20201208tet/D11_24NtetPSPAXopti05_vit_rutin_nh4cl1h_pump_v17_PRJ.ome.tiff Image#: /run/media/jmamede/Joao/tet/20201208tet/D11_24NtetPSPAXopti05_vit_rutin_nh4cl1h_pump_v17_PRJ.ome Number of Nuclei: 9 Number of positive cells: 1 Percentage: 0.1111111111111111\n",
      "/run/media/jmamede/Joao/tet/20201208tet/D11_24NtetPSPAXopti05_vit_rutin_nh4cl1h_pump_v18_PRJ.ome.tiff Image#: /run/media/jmamede/Joao/tet/20201208tet/D11_24NtetPSPAXopti05_vit_rutin_nh4cl1h_pump_v18_PRJ.ome Number of Nuclei: 6 Number of positive cells: 0 Percentage: 0.0\n"
     ]
    },
    {
     "ename": "KeyboardInterrupt",
     "evalue": "",
     "output_type": "error",
     "traceback": [
      "\u001b[0;31m---------------------------------------------------------------------------\u001b[0m",
      "\u001b[0;31mAttributeError\u001b[0m                            Traceback (most recent call last)",
      "\u001b[0;32m~/anaconda3/lib/python3.7/site-packages/PIL/ImageFile.py\u001b[0m in \u001b[0;36m_save\u001b[0;34m(im, fp, tile, bufsize)\u001b[0m\n\u001b[1;32m    509\u001b[0m     \u001b[0;32mtry\u001b[0m\u001b[0;34m:\u001b[0m\u001b[0;34m\u001b[0m\u001b[0;34m\u001b[0m\u001b[0m\n\u001b[0;32m--> 510\u001b[0;31m         \u001b[0mfh\u001b[0m \u001b[0;34m=\u001b[0m \u001b[0mfp\u001b[0m\u001b[0;34m.\u001b[0m\u001b[0mfileno\u001b[0m\u001b[0;34m(\u001b[0m\u001b[0;34m)\u001b[0m\u001b[0;34m\u001b[0m\u001b[0;34m\u001b[0m\u001b[0m\n\u001b[0m\u001b[1;32m    511\u001b[0m         \u001b[0mfp\u001b[0m\u001b[0;34m.\u001b[0m\u001b[0mflush\u001b[0m\u001b[0;34m(\u001b[0m\u001b[0;34m)\u001b[0m\u001b[0;34m\u001b[0m\u001b[0;34m\u001b[0m\u001b[0m\n",
      "\u001b[0;31mAttributeError\u001b[0m: '_idat' object has no attribute 'fileno'",
      "\nDuring handling of the above exception, another exception occurred:\n",
      "\u001b[0;31mKeyboardInterrupt\u001b[0m                         Traceback (most recent call last)",
      "\u001b[0;32m<ipython-input-19-93b62356157f>\u001b[0m in \u001b[0;36m<module>\u001b[0;34m\u001b[0m\n\u001b[1;32m     18\u001b[0m         \u001b[0miocp\u001b[0m\u001b[0;34m.\u001b[0m\u001b[0moutlines_to_text\u001b[0m\u001b[0;34m(\u001b[0m\u001b[0mbase\u001b[0m\u001b[0;34m,\u001b[0m \u001b[0moutlines\u001b[0m\u001b[0;34m)\u001b[0m\u001b[0;34m\u001b[0m\u001b[0;34m\u001b[0m\u001b[0m\n\u001b[1;32m     19\u001b[0m \u001b[0;34m\u001b[0m\u001b[0m\n\u001b[0;32m---> 20\u001b[0;31m         \u001b[0mfig\u001b[0m\u001b[0;34m,\u001b[0m\u001b[0maxarr\u001b[0m \u001b[0;34m=\u001b[0m  \u001b[0mplots\u001b[0m\u001b[0;34m(\u001b[0m\u001b[0mreader\u001b[0m\u001b[0;34m,\u001b[0m\u001b[0mcells_masks\u001b[0m\u001b[0;34m,\u001b[0m\u001b[0mnuclei_masks\u001b[0m\u001b[0;34m,\u001b[0m\u001b[0mbase\u001b[0m\u001b[0;34m)\u001b[0m\u001b[0;34m\u001b[0m\u001b[0;34m\u001b[0m\u001b[0m\n\u001b[0m\u001b[1;32m     21\u001b[0m \u001b[0;34m\u001b[0m\u001b[0m\n\u001b[1;32m     22\u001b[0m     \u001b[0mtext\u001b[0m \u001b[0;34m=\u001b[0m \u001b[0;34m\"Image#: {0} Number of Nuclei: {1} Number of positive cells: {2} Percentage: {3}\"\u001b[0m\u001b[0;34m.\u001b[0m\u001b[0mformat\u001b[0m\u001b[0;34m(\u001b[0m\u001b[0mbase\u001b[0m\u001b[0;34m,\u001b[0m\u001b[0mnuclei_masks\u001b[0m\u001b[0;34m.\u001b[0m\u001b[0mmax\u001b[0m\u001b[0;34m(\u001b[0m\u001b[0;34m)\u001b[0m\u001b[0;34m,\u001b[0m\u001b[0mcells_masks\u001b[0m\u001b[0;34m.\u001b[0m\u001b[0mmax\u001b[0m\u001b[0;34m(\u001b[0m\u001b[0;34m)\u001b[0m\u001b[0;34m,\u001b[0m\u001b[0mcells_masks\u001b[0m\u001b[0;34m.\u001b[0m\u001b[0mmax\u001b[0m\u001b[0;34m(\u001b[0m\u001b[0;34m)\u001b[0m\u001b[0;34m/\u001b[0m\u001b[0mnuclei_masks\u001b[0m\u001b[0;34m.\u001b[0m\u001b[0mmax\u001b[0m\u001b[0;34m(\u001b[0m\u001b[0;34m)\u001b[0m\u001b[0;34m)\u001b[0m\u001b[0;34m\u001b[0m\u001b[0;34m\u001b[0m\u001b[0m\n",
      "\u001b[0;32m<ipython-input-9-712c9da5e53d>\u001b[0m in \u001b[0;36mplots\u001b[0;34m(reader, cells_masks, nuclei_masks, base)\u001b[0m\n\u001b[1;32m     39\u001b[0m \u001b[0;31m# #                 ,alpha=0.6\u001b[0m\u001b[0;34m\u001b[0m\u001b[0;34m\u001b[0m\u001b[0;34m\u001b[0m\u001b[0m\n\u001b[1;32m     40\u001b[0m \u001b[0;31m#         )\u001b[0m\u001b[0;34m\u001b[0m\u001b[0;34m\u001b[0m\u001b[0;34m\u001b[0m\u001b[0m\n\u001b[0;32m---> 41\u001b[0;31m     \u001b[0mplt\u001b[0m\u001b[0;34m.\u001b[0m\u001b[0msavefig\u001b[0m\u001b[0;34m(\u001b[0m\u001b[0mbase\u001b[0m\u001b[0;34m+\u001b[0m\u001b[0;34m\".png\"\u001b[0m\u001b[0;34m,\u001b[0m\u001b[0mdpi\u001b[0m\u001b[0;34m=\u001b[0m\u001b[0;36m600\u001b[0m\u001b[0;34m)\u001b[0m\u001b[0;34m\u001b[0m\u001b[0;34m\u001b[0m\u001b[0m\n\u001b[0m\u001b[1;32m     42\u001b[0m \u001b[0;31m#     plt.show()\u001b[0m\u001b[0;34m\u001b[0m\u001b[0;34m\u001b[0m\u001b[0;34m\u001b[0m\u001b[0m\n\u001b[1;32m     43\u001b[0m     \u001b[0;32mreturn\u001b[0m \u001b[0mf\u001b[0m\u001b[0;34m,\u001b[0m\u001b[0maxarr\u001b[0m\u001b[0;34m\u001b[0m\u001b[0;34m\u001b[0m\u001b[0m\n",
      "\u001b[0;32m~/anaconda3/lib/python3.7/site-packages/matplotlib/pyplot.py\u001b[0m in \u001b[0;36msavefig\u001b[0;34m(*args, **kwargs)\u001b[0m\n\u001b[1;32m    857\u001b[0m \u001b[0;32mdef\u001b[0m \u001b[0msavefig\u001b[0m\u001b[0;34m(\u001b[0m\u001b[0;34m*\u001b[0m\u001b[0margs\u001b[0m\u001b[0;34m,\u001b[0m \u001b[0;34m**\u001b[0m\u001b[0mkwargs\u001b[0m\u001b[0;34m)\u001b[0m\u001b[0;34m:\u001b[0m\u001b[0;34m\u001b[0m\u001b[0;34m\u001b[0m\u001b[0m\n\u001b[1;32m    858\u001b[0m     \u001b[0mfig\u001b[0m \u001b[0;34m=\u001b[0m \u001b[0mgcf\u001b[0m\u001b[0;34m(\u001b[0m\u001b[0;34m)\u001b[0m\u001b[0;34m\u001b[0m\u001b[0;34m\u001b[0m\u001b[0m\n\u001b[0;32m--> 859\u001b[0;31m     \u001b[0mres\u001b[0m \u001b[0;34m=\u001b[0m \u001b[0mfig\u001b[0m\u001b[0;34m.\u001b[0m\u001b[0msavefig\u001b[0m\u001b[0;34m(\u001b[0m\u001b[0;34m*\u001b[0m\u001b[0margs\u001b[0m\u001b[0;34m,\u001b[0m \u001b[0;34m**\u001b[0m\u001b[0mkwargs\u001b[0m\u001b[0;34m)\u001b[0m\u001b[0;34m\u001b[0m\u001b[0;34m\u001b[0m\u001b[0m\n\u001b[0m\u001b[1;32m    860\u001b[0m     \u001b[0mfig\u001b[0m\u001b[0;34m.\u001b[0m\u001b[0mcanvas\u001b[0m\u001b[0;34m.\u001b[0m\u001b[0mdraw_idle\u001b[0m\u001b[0;34m(\u001b[0m\u001b[0;34m)\u001b[0m   \u001b[0;31m# need this if 'transparent=True' to reset colors\u001b[0m\u001b[0;34m\u001b[0m\u001b[0;34m\u001b[0m\u001b[0m\n\u001b[1;32m    861\u001b[0m     \u001b[0;32mreturn\u001b[0m \u001b[0mres\u001b[0m\u001b[0;34m\u001b[0m\u001b[0;34m\u001b[0m\u001b[0m\n",
      "\u001b[0;32m~/anaconda3/lib/python3.7/site-packages/matplotlib/figure.py\u001b[0m in \u001b[0;36msavefig\u001b[0;34m(self, fname, transparent, **kwargs)\u001b[0m\n\u001b[1;32m   2309\u001b[0m                 \u001b[0mpatch\u001b[0m\u001b[0;34m.\u001b[0m\u001b[0mset_edgecolor\u001b[0m\u001b[0;34m(\u001b[0m\u001b[0;34m'none'\u001b[0m\u001b[0;34m)\u001b[0m\u001b[0;34m\u001b[0m\u001b[0;34m\u001b[0m\u001b[0m\n\u001b[1;32m   2310\u001b[0m \u001b[0;34m\u001b[0m\u001b[0m\n\u001b[0;32m-> 2311\u001b[0;31m         \u001b[0mself\u001b[0m\u001b[0;34m.\u001b[0m\u001b[0mcanvas\u001b[0m\u001b[0;34m.\u001b[0m\u001b[0mprint_figure\u001b[0m\u001b[0;34m(\u001b[0m\u001b[0mfname\u001b[0m\u001b[0;34m,\u001b[0m \u001b[0;34m**\u001b[0m\u001b[0mkwargs\u001b[0m\u001b[0;34m)\u001b[0m\u001b[0;34m\u001b[0m\u001b[0;34m\u001b[0m\u001b[0m\n\u001b[0m\u001b[1;32m   2312\u001b[0m \u001b[0;34m\u001b[0m\u001b[0m\n\u001b[1;32m   2313\u001b[0m         \u001b[0;32mif\u001b[0m \u001b[0mtransparent\u001b[0m\u001b[0;34m:\u001b[0m\u001b[0;34m\u001b[0m\u001b[0;34m\u001b[0m\u001b[0m\n",
      "\u001b[0;32m~/anaconda3/lib/python3.7/site-packages/matplotlib/backend_bases.py\u001b[0m in \u001b[0;36mprint_figure\u001b[0;34m(self, filename, dpi, facecolor, edgecolor, orientation, format, bbox_inches, pad_inches, bbox_extra_artists, backend, **kwargs)\u001b[0m\n\u001b[1;32m   2215\u001b[0m                     \u001b[0morientation\u001b[0m\u001b[0;34m=\u001b[0m\u001b[0morientation\u001b[0m\u001b[0;34m,\u001b[0m\u001b[0;34m\u001b[0m\u001b[0;34m\u001b[0m\u001b[0m\n\u001b[1;32m   2216\u001b[0m                     \u001b[0mbbox_inches_restore\u001b[0m\u001b[0;34m=\u001b[0m\u001b[0m_bbox_inches_restore\u001b[0m\u001b[0;34m,\u001b[0m\u001b[0;34m\u001b[0m\u001b[0;34m\u001b[0m\u001b[0m\n\u001b[0;32m-> 2217\u001b[0;31m                     **kwargs)\n\u001b[0m\u001b[1;32m   2218\u001b[0m             \u001b[0;32mfinally\u001b[0m\u001b[0;34m:\u001b[0m\u001b[0;34m\u001b[0m\u001b[0;34m\u001b[0m\u001b[0m\n\u001b[1;32m   2219\u001b[0m                 \u001b[0;32mif\u001b[0m \u001b[0mbbox_inches\u001b[0m \u001b[0;32mand\u001b[0m \u001b[0mrestore_bbox\u001b[0m\u001b[0;34m:\u001b[0m\u001b[0;34m\u001b[0m\u001b[0;34m\u001b[0m\u001b[0m\n",
      "\u001b[0;32m~/anaconda3/lib/python3.7/site-packages/matplotlib/backend_bases.py\u001b[0m in \u001b[0;36mwrapper\u001b[0;34m(*args, **kwargs)\u001b[0m\n\u001b[1;32m   1637\u001b[0m             \u001b[0mkwargs\u001b[0m\u001b[0;34m.\u001b[0m\u001b[0mpop\u001b[0m\u001b[0;34m(\u001b[0m\u001b[0marg\u001b[0m\u001b[0;34m)\u001b[0m\u001b[0;34m\u001b[0m\u001b[0;34m\u001b[0m\u001b[0m\n\u001b[1;32m   1638\u001b[0m \u001b[0;34m\u001b[0m\u001b[0m\n\u001b[0;32m-> 1639\u001b[0;31m         \u001b[0;32mreturn\u001b[0m \u001b[0mfunc\u001b[0m\u001b[0;34m(\u001b[0m\u001b[0;34m*\u001b[0m\u001b[0margs\u001b[0m\u001b[0;34m,\u001b[0m \u001b[0;34m**\u001b[0m\u001b[0mkwargs\u001b[0m\u001b[0;34m)\u001b[0m\u001b[0;34m\u001b[0m\u001b[0;34m\u001b[0m\u001b[0m\n\u001b[0m\u001b[1;32m   1640\u001b[0m \u001b[0;34m\u001b[0m\u001b[0m\n\u001b[1;32m   1641\u001b[0m     \u001b[0;32mreturn\u001b[0m \u001b[0mwrapper\u001b[0m\u001b[0;34m\u001b[0m\u001b[0;34m\u001b[0m\u001b[0m\n",
      "\u001b[0;32m~/anaconda3/lib/python3.7/site-packages/matplotlib/backends/backend_agg.py\u001b[0m in \u001b[0;36mprint_png\u001b[0;34m(self, filename_or_obj, metadata, pil_kwargs, *args)\u001b[0m\n\u001b[1;32m    510\u001b[0m         mpl.image.imsave(\n\u001b[1;32m    511\u001b[0m             \u001b[0mfilename_or_obj\u001b[0m\u001b[0;34m,\u001b[0m \u001b[0mself\u001b[0m\u001b[0;34m.\u001b[0m\u001b[0mbuffer_rgba\u001b[0m\u001b[0;34m(\u001b[0m\u001b[0;34m)\u001b[0m\u001b[0;34m,\u001b[0m \u001b[0mformat\u001b[0m\u001b[0;34m=\u001b[0m\u001b[0;34m\"png\"\u001b[0m\u001b[0;34m,\u001b[0m \u001b[0morigin\u001b[0m\u001b[0;34m=\u001b[0m\u001b[0;34m\"upper\"\u001b[0m\u001b[0;34m,\u001b[0m\u001b[0;34m\u001b[0m\u001b[0;34m\u001b[0m\u001b[0m\n\u001b[0;32m--> 512\u001b[0;31m             dpi=self.figure.dpi, metadata=metadata, pil_kwargs=pil_kwargs)\n\u001b[0m\u001b[1;32m    513\u001b[0m \u001b[0;34m\u001b[0m\u001b[0m\n\u001b[1;32m    514\u001b[0m     \u001b[0;32mdef\u001b[0m \u001b[0mprint_to_buffer\u001b[0m\u001b[0;34m(\u001b[0m\u001b[0mself\u001b[0m\u001b[0;34m)\u001b[0m\u001b[0;34m:\u001b[0m\u001b[0;34m\u001b[0m\u001b[0;34m\u001b[0m\u001b[0m\n",
      "\u001b[0;32m~/anaconda3/lib/python3.7/site-packages/matplotlib/image.py\u001b[0m in \u001b[0;36mimsave\u001b[0;34m(fname, arr, vmin, vmax, cmap, format, origin, dpi, metadata, pil_kwargs)\u001b[0m\n\u001b[1;32m   1609\u001b[0m         \u001b[0mpil_kwargs\u001b[0m\u001b[0;34m.\u001b[0m\u001b[0msetdefault\u001b[0m\u001b[0;34m(\u001b[0m\u001b[0;34m\"format\"\u001b[0m\u001b[0;34m,\u001b[0m \u001b[0mformat\u001b[0m\u001b[0;34m)\u001b[0m\u001b[0;34m\u001b[0m\u001b[0;34m\u001b[0m\u001b[0m\n\u001b[1;32m   1610\u001b[0m         \u001b[0mpil_kwargs\u001b[0m\u001b[0;34m.\u001b[0m\u001b[0msetdefault\u001b[0m\u001b[0;34m(\u001b[0m\u001b[0;34m\"dpi\"\u001b[0m\u001b[0;34m,\u001b[0m \u001b[0;34m(\u001b[0m\u001b[0mdpi\u001b[0m\u001b[0;34m,\u001b[0m \u001b[0mdpi\u001b[0m\u001b[0;34m)\u001b[0m\u001b[0;34m)\u001b[0m\u001b[0;34m\u001b[0m\u001b[0;34m\u001b[0m\u001b[0m\n\u001b[0;32m-> 1611\u001b[0;31m         \u001b[0mimage\u001b[0m\u001b[0;34m.\u001b[0m\u001b[0msave\u001b[0m\u001b[0;34m(\u001b[0m\u001b[0mfname\u001b[0m\u001b[0;34m,\u001b[0m \u001b[0;34m**\u001b[0m\u001b[0mpil_kwargs\u001b[0m\u001b[0;34m)\u001b[0m\u001b[0;34m\u001b[0m\u001b[0;34m\u001b[0m\u001b[0m\n\u001b[0m\u001b[1;32m   1612\u001b[0m \u001b[0;34m\u001b[0m\u001b[0m\n\u001b[1;32m   1613\u001b[0m \u001b[0;34m\u001b[0m\u001b[0m\n",
      "\u001b[0;32m~/anaconda3/lib/python3.7/site-packages/PIL/Image.py\u001b[0m in \u001b[0;36msave\u001b[0;34m(self, fp, format, **params)\u001b[0m\n\u001b[1;32m   2149\u001b[0m \u001b[0;34m\u001b[0m\u001b[0m\n\u001b[1;32m   2150\u001b[0m         \u001b[0;32mtry\u001b[0m\u001b[0;34m:\u001b[0m\u001b[0;34m\u001b[0m\u001b[0;34m\u001b[0m\u001b[0m\n\u001b[0;32m-> 2151\u001b[0;31m             \u001b[0msave_handler\u001b[0m\u001b[0;34m(\u001b[0m\u001b[0mself\u001b[0m\u001b[0;34m,\u001b[0m \u001b[0mfp\u001b[0m\u001b[0;34m,\u001b[0m \u001b[0mfilename\u001b[0m\u001b[0;34m)\u001b[0m\u001b[0;34m\u001b[0m\u001b[0;34m\u001b[0m\u001b[0m\n\u001b[0m\u001b[1;32m   2152\u001b[0m         \u001b[0;32mfinally\u001b[0m\u001b[0;34m:\u001b[0m\u001b[0;34m\u001b[0m\u001b[0;34m\u001b[0m\u001b[0m\n\u001b[1;32m   2153\u001b[0m             \u001b[0;31m# do what we can to clean up\u001b[0m\u001b[0;34m\u001b[0m\u001b[0;34m\u001b[0m\u001b[0;34m\u001b[0m\u001b[0m\n",
      "\u001b[0;32m~/anaconda3/lib/python3.7/site-packages/PIL/PngImagePlugin.py\u001b[0m in \u001b[0;36m_save\u001b[0;34m(im, fp, filename, chunk, save_all)\u001b[0m\n\u001b[1;32m   1337\u001b[0m         \u001b[0m_write_multiple_frames\u001b[0m\u001b[0;34m(\u001b[0m\u001b[0mim\u001b[0m\u001b[0;34m,\u001b[0m \u001b[0mfp\u001b[0m\u001b[0;34m,\u001b[0m \u001b[0mchunk\u001b[0m\u001b[0;34m,\u001b[0m \u001b[0mrawmode\u001b[0m\u001b[0;34m)\u001b[0m\u001b[0;34m\u001b[0m\u001b[0;34m\u001b[0m\u001b[0m\n\u001b[1;32m   1338\u001b[0m     \u001b[0;32melse\u001b[0m\u001b[0;34m:\u001b[0m\u001b[0;34m\u001b[0m\u001b[0;34m\u001b[0m\u001b[0m\n\u001b[0;32m-> 1339\u001b[0;31m         \u001b[0mImageFile\u001b[0m\u001b[0;34m.\u001b[0m\u001b[0m_save\u001b[0m\u001b[0;34m(\u001b[0m\u001b[0mim\u001b[0m\u001b[0;34m,\u001b[0m \u001b[0m_idat\u001b[0m\u001b[0;34m(\u001b[0m\u001b[0mfp\u001b[0m\u001b[0;34m,\u001b[0m \u001b[0mchunk\u001b[0m\u001b[0;34m)\u001b[0m\u001b[0;34m,\u001b[0m \u001b[0;34m[\u001b[0m\u001b[0;34m(\u001b[0m\u001b[0;34m\"zip\"\u001b[0m\u001b[0;34m,\u001b[0m \u001b[0;34m(\u001b[0m\u001b[0;36m0\u001b[0m\u001b[0;34m,\u001b[0m \u001b[0;36m0\u001b[0m\u001b[0;34m)\u001b[0m \u001b[0;34m+\u001b[0m \u001b[0mim\u001b[0m\u001b[0;34m.\u001b[0m\u001b[0msize\u001b[0m\u001b[0;34m,\u001b[0m \u001b[0;36m0\u001b[0m\u001b[0;34m,\u001b[0m \u001b[0mrawmode\u001b[0m\u001b[0;34m)\u001b[0m\u001b[0;34m]\u001b[0m\u001b[0;34m)\u001b[0m\u001b[0;34m\u001b[0m\u001b[0;34m\u001b[0m\u001b[0m\n\u001b[0m\u001b[1;32m   1340\u001b[0m \u001b[0;34m\u001b[0m\u001b[0m\n\u001b[1;32m   1341\u001b[0m     \u001b[0;32mif\u001b[0m \u001b[0minfo\u001b[0m\u001b[0;34m:\u001b[0m\u001b[0;34m\u001b[0m\u001b[0;34m\u001b[0m\u001b[0m\n",
      "\u001b[0;32m~/anaconda3/lib/python3.7/site-packages/PIL/ImageFile.py\u001b[0m in \u001b[0;36m_save\u001b[0;34m(im, fp, tile, bufsize)\u001b[0m\n\u001b[1;32m    522\u001b[0m             \u001b[0;32melse\u001b[0m\u001b[0;34m:\u001b[0m\u001b[0;34m\u001b[0m\u001b[0;34m\u001b[0m\u001b[0m\n\u001b[1;32m    523\u001b[0m                 \u001b[0;32mwhile\u001b[0m \u001b[0;32mTrue\u001b[0m\u001b[0;34m:\u001b[0m\u001b[0;34m\u001b[0m\u001b[0;34m\u001b[0m\u001b[0m\n\u001b[0;32m--> 524\u001b[0;31m                     \u001b[0ml\u001b[0m\u001b[0;34m,\u001b[0m \u001b[0ms\u001b[0m\u001b[0;34m,\u001b[0m \u001b[0md\u001b[0m \u001b[0;34m=\u001b[0m \u001b[0me\u001b[0m\u001b[0;34m.\u001b[0m\u001b[0mencode\u001b[0m\u001b[0;34m(\u001b[0m\u001b[0mbufsize\u001b[0m\u001b[0;34m)\u001b[0m\u001b[0;34m\u001b[0m\u001b[0;34m\u001b[0m\u001b[0m\n\u001b[0m\u001b[1;32m    525\u001b[0m                     \u001b[0mfp\u001b[0m\u001b[0;34m.\u001b[0m\u001b[0mwrite\u001b[0m\u001b[0;34m(\u001b[0m\u001b[0md\u001b[0m\u001b[0;34m)\u001b[0m\u001b[0;34m\u001b[0m\u001b[0;34m\u001b[0m\u001b[0m\n\u001b[1;32m    526\u001b[0m                     \u001b[0;32mif\u001b[0m \u001b[0ms\u001b[0m\u001b[0;34m:\u001b[0m\u001b[0;34m\u001b[0m\u001b[0;34m\u001b[0m\u001b[0m\n",
      "\u001b[0;31mKeyboardInterrupt\u001b[0m: "
     ]
    },
    {
     "data": {
      "image/png": "[encoded data removed]",
      "text/plain": [
       "<Figure size 432x288 with 4 Axes>"
      ]
     },
     "metadata": {
      "needs_background": "light"
     },
     "output_type": "display_data"
    }
   ],
   "source": [
    "for ficheiro in filelist:\n",
    "    reader = pims.open(ficheiro)\n",
    "    base = os.path.splitext(ficheiro)[0]\n",
    "    reader.bundle_axes = 'yx'\n",
    "    reader.iter_axes = 'c'\n",
    "    with contextlib.redirect_stdout(io.StringIO()):\n",
    "\n",
    "        cells_masks = cellpose_mask(reader[0],model\n",
    "        #                             ,size=2500\n",
    "                                    ,flow_threshold=0.8,size=0,diam=300,cell_prob=-2\n",
    "                                   )\n",
    "        nuclei_masks = cellpose_mask(reader[2],model_nuc\n",
    "        #                             ,size=2500\n",
    "                                    ,flow_threshold=1.8,size=0,diam=70,cell_prob=-2\n",
    "                                   )\n",
    "\n",
    "        outlines = utils.outlines_list(cells_masks)\n",
    "        iocp.outlines_to_text(base, outlines)\n",
    "\n",
    "        fig,axarr =  plots(reader,cells_masks,nuclei_masks,base)\n",
    "\n",
    "    text = \"Image#: {0} Number of Nuclei: {1} Number of positive cells: {2} Percentage: {3}\".format(base,nuclei_masks.max(),cells_masks.max(),cells_masks.max()/nuclei_masks.max())\n",
    "    print(ficheiro,text)\n",
    "    output.writerow([ficheiro,nuclei_masks.max(),cells_masks.max(),cells_masks.max()/nuclei_masks.max()*100])\n",
    "f.close()"
   ]
  },
  {
   "cell_type": "code",
   "execution_count": null,
   "metadata": {},
   "outputs": [],
   "source": [
    "from numba import cuda\n",
    "cuda.select_device(0)\n",
    "cuda.close()\n",
    "cuda.select_device(0)"
   ]
  },
  {
   "cell_type": "code",
   "execution_count": null,
   "metadata": {},
   "outputs": [],
   "source": []
  }
 ],
 "metadata": {
  "kernelspec": {
   "display_name": "Python 3",
   "language": "python",
   "name": "python3"
  },
  "language_info": {
   "codemirror_mode": {
    "name": "ipython",
    "version": 3
   },
   "file_extension": ".py",
   "mimetype": "text/x-python",
   "name": "python",
   "nbconvert_exporter": "python",
   "pygments_lexer": "ipython3",
   "version": "3.7.8"
  }
 },
 "nbformat": 4,
 "nbformat_minor": 4
}
