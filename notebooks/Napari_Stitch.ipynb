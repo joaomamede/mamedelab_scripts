{
 "cells": [
  {
   "cell_type": "code",
   "execution_count": 1,
   "metadata": {},
   "outputs": [],
   "source": [
    "import os\n",
    "import matplotlib.pyplot as plt\n",
    "import pims\n",
    "import sys\n",
    "import numpy as np\n",
    "sys.path.insert(0,'/home/jmamede/scripts')\n",
    "# from support_pla import othercolor, cell_mask, multiply, rebin\n",
    "from nd2reader import ND2Reader\n",
    "import glob\n",
    "import napari\n",
    "from napari.qt import thread_worker\n",
    "#import sys, contextlib, io\n",
    "import matplotlib.pyplot as plt\n",
    "import time\n",
    "from dask_image.imread import imread\n",
    "from dask import delayed\n",
    "import dask.array as da"
   ]
  },
  {
   "cell_type": "code",
   "execution_count": 2,
   "metadata": {},
   "outputs": [],
   "source": [
    "# ficheiro = \"/run/media/jmamede/Joao/96wells/20201119_143803_601/WellA01_ChannelGFP,DAPI_Seq0000.nd2\"\n",
    "dirname = '/home/jmamede/Data/tet/tetMoon20201127/*ome.tiff'\n",
    "filelist = glob.glob(dirname)\n",
    "filelist.sort()\n",
    "\n",
    "\n",
    "# reader = ND2Reader(ficheiro)\n",
    "# print(reader.sizes)\n",
    "\n",
    "# metadata = reader.metadata\n",
    "# reader.bundle_axes = 'cyx'\n",
    "# reader.iter_axes = 'z'\n",
    "# #there is a bug, it reads each visit point as a Z.\n",
    "# reader.default_coords['v'] = 0\n",
    "# #reader.sizes['z']\n",
    "\n"
   ]
  },
  {
   "cell_type": "code",
   "execution_count": 3,
   "metadata": {},
   "outputs": [
    {
     "data": {
      "text/plain": [
       "['/home/jmamede/Data/tet/tetMoon20201127/D11tetMoon_opti0.5ruby24RV_250ul_VitC_PBN_spin16C_nucSPOT_3_v1_PRJ.ome.tiff',\n",
       " '/home/jmamede/Data/tet/tetMoon20201127/D11tetMoon_opti0.5ruby24RV_250ul_VitC_PBN_spin16C_nucSPOT_3_v2_PRJ.ome.tiff',\n",
       " '/home/jmamede/Data/tet/tetMoon20201127/D11tetMoon_opti0.5ruby24RV_250ul_VitC_PBN_spin16C_nucSPOT_3_v3_PRJ.ome.tiff',\n",
       " '/home/jmamede/Data/tet/tetMoon20201127/D11tetMoon_opti0.5ruby24RV_250ul_VitC_PBN_spin16C_nucSPOT_3_v4_PRJ.ome.tiff']"
      ]
     },
     "execution_count": 3,
     "metadata": {},
     "output_type": "execute_result"
    }
   ],
   "source": [
    "filelist"
   ]
  },
  {
   "cell_type": "code",
   "execution_count": 15,
   "metadata": {},
   "outputs": [
    {
     "name": "stdout",
     "output_type": "stream",
     "text": [
      "(4, 143, 2044, 2048, 3)\n"
     ]
    },
    {
     "ename": "ValueError",
     "evalue": "Shapes not compatible",
     "output_type": "error",
     "traceback": [
      "\u001b[0;31m---------------------------------------------------------------------------\u001b[0m",
      "\u001b[0;31mValueError\u001b[0m                                Traceback (most recent call last)",
      "\u001b[0;32m<ipython-input-15-91398ced57b4>\u001b[0m in \u001b[0;36m<module>\u001b[0;34m\u001b[0m\n\u001b[1;32m     10\u001b[0m \u001b[0;31m#\u001b[0m\u001b[0;34m\u001b[0m\u001b[0;34m\u001b[0m\u001b[0;34m\u001b[0m\u001b[0m\n\u001b[1;32m     11\u001b[0m \u001b[0mprint\u001b[0m\u001b[0;34m(\u001b[0m\u001b[0mstack\u001b[0m\u001b[0;34m.\u001b[0m\u001b[0mshape\u001b[0m\u001b[0;34m)\u001b[0m\u001b[0;34m\u001b[0m\u001b[0;34m\u001b[0m\u001b[0m\n\u001b[0;32m---> 12\u001b[0;31m \u001b[0mstack\u001b[0m \u001b[0;34m=\u001b[0m \u001b[0mstack\u001b[0m\u001b[0;34m.\u001b[0m\u001b[0mreshape\u001b[0m\u001b[0;34m(\u001b[0m\u001b[0;36m143\u001b[0m\u001b[0;34m,\u001b[0m\u001b[0;36m2044\u001b[0m\u001b[0;34m,\u001b[0m \u001b[0;36m2048\u001b[0m\u001b[0;34m*\u001b[0m\u001b[0;36m4\u001b[0m\u001b[0;34m,\u001b[0m\u001b[0;36m3\u001b[0m\u001b[0;34m)\u001b[0m\u001b[0;34m\u001b[0m\u001b[0;34m\u001b[0m\u001b[0m\n\u001b[0m",
      "\u001b[0;32m~/anaconda3/envs/pycuda/lib/python3.7/site-packages/dask/array/core.py\u001b[0m in \u001b[0;36mreshape\u001b[0;34m(self, *shape)\u001b[0m\n\u001b[1;32m   1795\u001b[0m         \u001b[0;32mif\u001b[0m \u001b[0mlen\u001b[0m\u001b[0;34m(\u001b[0m\u001b[0mshape\u001b[0m\u001b[0;34m)\u001b[0m \u001b[0;34m==\u001b[0m \u001b[0;36m1\u001b[0m \u001b[0;32mand\u001b[0m \u001b[0;32mnot\u001b[0m \u001b[0misinstance\u001b[0m\u001b[0;34m(\u001b[0m\u001b[0mshape\u001b[0m\u001b[0;34m[\u001b[0m\u001b[0;36m0\u001b[0m\u001b[0;34m]\u001b[0m\u001b[0;34m,\u001b[0m \u001b[0mNumber\u001b[0m\u001b[0;34m)\u001b[0m\u001b[0;34m:\u001b[0m\u001b[0;34m\u001b[0m\u001b[0;34m\u001b[0m\u001b[0m\n\u001b[1;32m   1796\u001b[0m             \u001b[0mshape\u001b[0m \u001b[0;34m=\u001b[0m \u001b[0mshape\u001b[0m\u001b[0;34m[\u001b[0m\u001b[0;36m0\u001b[0m\u001b[0;34m]\u001b[0m\u001b[0;34m\u001b[0m\u001b[0;34m\u001b[0m\u001b[0m\n\u001b[0;32m-> 1797\u001b[0;31m         \u001b[0;32mreturn\u001b[0m \u001b[0mreshape\u001b[0m\u001b[0;34m(\u001b[0m\u001b[0mself\u001b[0m\u001b[0;34m,\u001b[0m \u001b[0mshape\u001b[0m\u001b[0;34m)\u001b[0m\u001b[0;34m\u001b[0m\u001b[0;34m\u001b[0m\u001b[0m\n\u001b[0m\u001b[1;32m   1798\u001b[0m \u001b[0;34m\u001b[0m\u001b[0m\n\u001b[1;32m   1799\u001b[0m     \u001b[0;32mdef\u001b[0m \u001b[0mtopk\u001b[0m\u001b[0;34m(\u001b[0m\u001b[0mself\u001b[0m\u001b[0;34m,\u001b[0m \u001b[0mk\u001b[0m\u001b[0;34m,\u001b[0m \u001b[0maxis\u001b[0m\u001b[0;34m=\u001b[0m\u001b[0;34m-\u001b[0m\u001b[0;36m1\u001b[0m\u001b[0;34m,\u001b[0m \u001b[0msplit_every\u001b[0m\u001b[0;34m=\u001b[0m\u001b[0;32mNone\u001b[0m\u001b[0;34m)\u001b[0m\u001b[0;34m:\u001b[0m\u001b[0;34m\u001b[0m\u001b[0;34m\u001b[0m\u001b[0m\n",
      "\u001b[0;32m~/anaconda3/envs/pycuda/lib/python3.7/site-packages/dask/array/reshape.py\u001b[0m in \u001b[0;36mreshape\u001b[0;34m(x, shape)\u001b[0m\n\u001b[1;32m    193\u001b[0m \u001b[0;34m\u001b[0m\u001b[0m\n\u001b[1;32m    194\u001b[0m     \u001b[0;31m# Logic for how to rechunk\u001b[0m\u001b[0;34m\u001b[0m\u001b[0;34m\u001b[0m\u001b[0;34m\u001b[0m\u001b[0m\n\u001b[0;32m--> 195\u001b[0;31m     \u001b[0minchunks\u001b[0m\u001b[0;34m,\u001b[0m \u001b[0moutchunks\u001b[0m \u001b[0;34m=\u001b[0m \u001b[0mreshape_rechunk\u001b[0m\u001b[0;34m(\u001b[0m\u001b[0mx\u001b[0m\u001b[0;34m.\u001b[0m\u001b[0mshape\u001b[0m\u001b[0;34m,\u001b[0m \u001b[0mshape\u001b[0m\u001b[0;34m,\u001b[0m \u001b[0mx\u001b[0m\u001b[0;34m.\u001b[0m\u001b[0mchunks\u001b[0m\u001b[0;34m)\u001b[0m\u001b[0;34m\u001b[0m\u001b[0;34m\u001b[0m\u001b[0m\n\u001b[0m\u001b[1;32m    196\u001b[0m     \u001b[0mx2\u001b[0m \u001b[0;34m=\u001b[0m \u001b[0mx\u001b[0m\u001b[0;34m.\u001b[0m\u001b[0mrechunk\u001b[0m\u001b[0;34m(\u001b[0m\u001b[0minchunks\u001b[0m\u001b[0;34m)\u001b[0m\u001b[0;34m\u001b[0m\u001b[0;34m\u001b[0m\u001b[0m\n\u001b[1;32m    197\u001b[0m \u001b[0;34m\u001b[0m\u001b[0m\n",
      "\u001b[0;32m~/anaconda3/envs/pycuda/lib/python3.7/site-packages/dask/array/reshape.py\u001b[0m in \u001b[0;36mreshape_rechunk\u001b[0;34m(inshape, outshape, inchunks)\u001b[0m\n\u001b[1;32m     42\u001b[0m                 \u001b[0mileft\u001b[0m \u001b[0;34m-=\u001b[0m \u001b[0;36m1\u001b[0m\u001b[0;34m\u001b[0m\u001b[0;34m\u001b[0m\u001b[0m\n\u001b[1;32m     43\u001b[0m             \u001b[0;32mif\u001b[0m \u001b[0mreduce\u001b[0m\u001b[0;34m(\u001b[0m\u001b[0mmul\u001b[0m\u001b[0;34m,\u001b[0m \u001b[0minshape\u001b[0m\u001b[0;34m[\u001b[0m\u001b[0mileft\u001b[0m \u001b[0;34m:\u001b[0m \u001b[0mii\u001b[0m \u001b[0;34m+\u001b[0m \u001b[0;36m1\u001b[0m\u001b[0;34m]\u001b[0m\u001b[0;34m)\u001b[0m \u001b[0;34m!=\u001b[0m \u001b[0mdout\u001b[0m\u001b[0;34m:\u001b[0m\u001b[0;34m\u001b[0m\u001b[0;34m\u001b[0m\u001b[0m\n\u001b[0;32m---> 44\u001b[0;31m                 \u001b[0;32mraise\u001b[0m \u001b[0mValueError\u001b[0m\u001b[0;34m(\u001b[0m\u001b[0;34m\"Shapes not compatible\"\u001b[0m\u001b[0;34m)\u001b[0m\u001b[0;34m\u001b[0m\u001b[0;34m\u001b[0m\u001b[0m\n\u001b[0m\u001b[1;32m     45\u001b[0m \u001b[0;34m\u001b[0m\u001b[0m\n\u001b[1;32m     46\u001b[0m             \u001b[0;32mfor\u001b[0m \u001b[0mi\u001b[0m \u001b[0;32min\u001b[0m \u001b[0mrange\u001b[0m\u001b[0;34m(\u001b[0m\u001b[0mileft\u001b[0m \u001b[0;34m+\u001b[0m \u001b[0;36m1\u001b[0m\u001b[0;34m,\u001b[0m \u001b[0mii\u001b[0m \u001b[0;34m+\u001b[0m \u001b[0;36m1\u001b[0m\u001b[0;34m)\u001b[0m\u001b[0;34m:\u001b[0m  \u001b[0;31m# need single-shape dimensions\u001b[0m\u001b[0;34m\u001b[0m\u001b[0;34m\u001b[0m\u001b[0m\n",
      "\u001b[0;31mValueError\u001b[0m: Shapes not compatible"
     ]
    }
   ],
   "source": [
    "lazy_imread = delayed(imread)\n",
    "lazy_arrays = [lazy_imread(fn) for fn in filelist]\n",
    "dask_arrays = [da.from_delayed(delayed_reader, shape=(143,2044,2048,3), dtype='uint16') \n",
    "                   for delayed_reader in lazy_arrays]\n",
    "stack = da.stack(dask_arrays,axis=0)\n",
    "\n",
    "\n",
    "\n",
    "# stack = imread('/home/jmamede/Data/tet/tetMoon20201127/*ome.tiff')\n",
    "# \n",
    "print(stack.shape)\n",
    "stack = stack.reshape(143,2044, 2048*4,3)"
   ]
  },
  {
   "cell_type": "code",
   "execution_count": 5,
   "metadata": {},
   "outputs": [
    {
     "data": {
      "text/html": [
       "<table>\n",
       "<tr>\n",
       "<td>\n",
       "<table>\n",
       "  <thead>\n",
       "    <tr><td> </td><th> Array </th><th> Chunk </th></tr>\n",
       "  </thead>\n",
       "  <tbody>\n",
       "    <tr><th> Bytes </th><td> 14.37 GB </td> <td> 3.59 GB </td></tr>\n",
       "    <tr><th> Shape </th><td> (4, 143, 2044, 2048, 3) </td> <td> (1, 143, 2044, 2048, 3) </td></tr>\n",
       "    <tr><th> Count </th><td> 12 Tasks </td><td> 4 Chunks </td></tr>\n",
       "    <tr><th> Type </th><td> uint16 </td><td> numpy.ndarray </td></tr>\n",
       "  </tbody>\n",
       "</table>\n",
       "</td>\n",
       "<td>\n",
       "<svg width=\"357\" height=\"240\" style=\"stroke:rgb(0,0,0);stroke-width:1\" >\n",
       "\n",
       "  <!-- Horizontal lines -->\n",
       "  <line x1=\"0\" y1=\"0\" x2=\"36\" y2=\"0\" style=\"stroke-width:2\" />\n",
       "  <line x1=\"0\" y1=\"6\" x2=\"36\" y2=\"6\" />\n",
       "  <line x1=\"0\" y1=\"12\" x2=\"36\" y2=\"12\" />\n",
       "  <line x1=\"0\" y1=\"19\" x2=\"36\" y2=\"19\" />\n",
       "  <line x1=\"0\" y1=\"25\" x2=\"36\" y2=\"25\" style=\"stroke-width:2\" />\n",
       "\n",
       "  <!-- Vertical lines -->\n",
       "  <line x1=\"0\" y1=\"0\" x2=\"0\" y2=\"25\" style=\"stroke-width:2\" />\n",
       "  <line x1=\"36\" y1=\"0\" x2=\"36\" y2=\"25\" style=\"stroke-width:2\" />\n",
       "\n",
       "  <!-- Colored Rectangle -->\n",
       "  <polygon points=\"0.0,0.0 36.5243973015104,0.0 36.5243973015104,25.412616514582485 0.0,25.412616514582485\" style=\"fill:#ECB172A0;stroke-width:0\"/>\n",
       "\n",
       "  <!-- Text -->\n",
       "  <text x=\"18.262199\" y=\"45.412617\" font-size=\"1.0rem\" font-weight=\"100\" text-anchor=\"middle\" >143</text>\n",
       "  <text x=\"56.524397\" y=\"12.706308\" font-size=\"1.0rem\" font-weight=\"100\" text-anchor=\"middle\" transform=\"rotate(0,56.524397,12.706308)\">4</text>\n",
       "\n",
       "\n",
       "  <!-- Horizontal lines -->\n",
       "  <line x1=\"106\" y1=\"0\" x2=\"176\" y2=\"70\" style=\"stroke-width:2\" />\n",
       "  <line x1=\"106\" y1=\"120\" x2=\"176\" y2=\"190\" style=\"stroke-width:2\" />\n",
       "\n",
       "  <!-- Vertical lines -->\n",
       "  <line x1=\"106\" y1=\"0\" x2=\"106\" y2=\"120\" style=\"stroke-width:2\" />\n",
       "  <line x1=\"176\" y1=\"70\" x2=\"176\" y2=\"190\" style=\"stroke-width:2\" />\n",
       "\n",
       "  <!-- Colored Rectangle -->\n",
       "  <polygon points=\"106.0,0.0 176.45036764705884,70.45036764705883 176.45036764705884,190.45036764705884 106.0,120.0\" style=\"fill:#ECB172A0;stroke-width:0\"/>\n",
       "\n",
       "  <!-- Horizontal lines -->\n",
       "  <line x1=\"106\" y1=\"0\" x2=\"131\" y2=\"0\" style=\"stroke-width:2\" />\n",
       "  <line x1=\"176\" y1=\"70\" x2=\"201\" y2=\"70\" style=\"stroke-width:2\" />\n",
       "\n",
       "  <!-- Vertical lines -->\n",
       "  <line x1=\"106\" y1=\"0\" x2=\"176\" y2=\"70\" style=\"stroke-width:2\" />\n",
       "  <line x1=\"131\" y1=\"0\" x2=\"201\" y2=\"70\" style=\"stroke-width:2\" />\n",
       "\n",
       "  <!-- Colored Rectangle -->\n",
       "  <polygon points=\"106.0,0.0 131.41261651458248,0.0 201.8629841616413,70.45036764705883 176.45036764705884,70.45036764705883\" style=\"fill:#ECB172A0;stroke-width:0\"/>\n",
       "\n",
       "  <!-- Horizontal lines -->\n",
       "  <line x1=\"176\" y1=\"70\" x2=\"201\" y2=\"70\" style=\"stroke-width:2\" />\n",
       "  <line x1=\"176\" y1=\"190\" x2=\"201\" y2=\"190\" style=\"stroke-width:2\" />\n",
       "\n",
       "  <!-- Vertical lines -->\n",
       "  <line x1=\"176\" y1=\"70\" x2=\"176\" y2=\"190\" style=\"stroke-width:2\" />\n",
       "  <line x1=\"201\" y1=\"70\" x2=\"201\" y2=\"190\" style=\"stroke-width:2\" />\n",
       "\n",
       "  <!-- Colored Rectangle -->\n",
       "  <polygon points=\"176.45036764705884,70.45036764705883 201.86298416164132,70.45036764705883 201.86298416164132,190.45036764705884 176.45036764705884,190.45036764705884\" style=\"fill:#ECB172A0;stroke-width:0\"/>\n",
       "\n",
       "  <!-- Text -->\n",
       "  <text x=\"189.156676\" y=\"210.450368\" font-size=\"1.0rem\" font-weight=\"100\" text-anchor=\"middle\" >3</text>\n",
       "  <text x=\"221.862984\" y=\"130.450368\" font-size=\"1.0rem\" font-weight=\"100\" text-anchor=\"middle\" transform=\"rotate(-90,221.862984,130.450368)\">2048</text>\n",
       "  <text x=\"131.225184\" y=\"175.225184\" font-size=\"1.0rem\" font-weight=\"100\" text-anchor=\"middle\" transform=\"rotate(45,131.225184,175.225184)\">2044</text>\n",
       "</svg>\n",
       "</td>\n",
       "</tr>\n",
       "</table>"
      ],
      "text/plain": [
       "dask.array<concatenate, shape=(4, 143, 2044, 2048, 3), dtype=uint16, chunksize=(1, 143, 2044, 2048, 3), chunktype=numpy.ndarray>"
      ]
     },
     "execution_count": 5,
     "metadata": {},
     "output_type": "execute_result"
    }
   ],
   "source": [
    "stack"
   ]
  },
  {
   "cell_type": "code",
   "execution_count": 6,
   "metadata": {},
   "outputs": [
    {
     "name": "stdout",
     "output_type": "stream",
     "text": [
      "(4, 143, 2044, 2048, 3)\n",
      "0 0\n",
      "1\n",
      "0 1\n",
      "2\n",
      "0 2\n",
      "3\n"
     ]
    }
   ],
   "source": [
    "print(stack.shape)\n",
    "n_cols = 1\n",
    "n_rows = 3\n",
    "tet = np.zeros((143,2044*n_cols,2048*n_rows))\n",
    "integrase = np.zeros((143,2044*n_cols,2048*n_rows))\n",
    "nuclei = np.zeros((143,2044*n_cols,2048*n_rows))\n",
    "\n",
    "i=0\n",
    "times=143\n",
    "for col in range(n_cols):\n",
    "    for row in range(n_rows):\n",
    "        print(col,row)\n",
    "        tet[:times,2044*col:2044*(col+1),2048*row:2048*(row+1)]= stack[i,:times,:,:,0]\n",
    "        integrase[:times,2044*col:2044*(col+1),2048*row:2048*(row+1)]= stack[i,:times,:,:,1]\n",
    "        nuclei[:times,2044*col:2044*(col+1),2048*row:2048*(row+1)]= stack[i,:times,:,:,2]\n",
    "        i+=1\n",
    "        print(i)"
   ]
  },
  {
   "cell_type": "code",
   "execution_count": 7,
   "metadata": {},
   "outputs": [
    {
     "name": "stdout",
     "output_type": "stream",
     "text": [
      "(143, 1, 2044, 6144)\n"
     ]
    }
   ],
   "source": [
    "        \n",
    "tet = tet.reshape(143,1,2044*n_cols,2048*n_rows)\n",
    "integrase = integrase.reshape(143,1,2044*n_cols,2048*n_rows)\n",
    "nuclei = nuclei.reshape(143,1,2044*n_cols,2048*n_rows)\n",
    "print(tet.shape)"
   ]
  },
  {
   "cell_type": "code",
   "execution_count": 8,
   "metadata": {},
   "outputs": [],
   "source": [
    "%gui qt\n"
   ]
  },
  {
   "cell_type": "code",
   "execution_count": 16,
   "metadata": {},
   "outputs": [],
   "source": [
    "v = napari.Viewer(show=False)\n",
    "v.add_image(tet, contrast_limits=[0,5000],\n",
    "            blending='additive',\n",
    "            colormap='green',\n",
    "            name='tetMoon-gp41GFP',#, is_pyramid=False\n",
    "                 )\n",
    "v.add_image(integrase, contrast_limits=[0,5000],\n",
    "        blending='additive',\n",
    "        colormap='red',\n",
    "        name='IN-mRuby3',#, is_pyramid=False\n",
    "             )\n",
    "v.add_image(nuclei, contrast_limits=[0,5000],\n",
    "        blending='additive',\n",
    "        colormap='blue',\n",
    "        name='Nucspot650',#, is_pyramid=False\n",
    "             )\n",
    "v.show()"
   ]
  },
  {
   "cell_type": "code",
   "execution_count": 11,
   "metadata": {
    "scrolled": true
   },
   "outputs": [
    {
     "name": "stdout",
     "output_type": "stream",
     "text": [
      "** CUDA version installed and working. **\n",
      ">>>> using GPU\n",
      "cellpose_residual_on_style_on_concatenation_off\n",
      "** CUDA version installed and working. **\n",
      ">>>> using GPU\n",
      "cellpose_residual_on_style_on_concatenation_off\n"
     ]
    },
    {
     "data": {
      "text/plain": [
       "<napari._qt.qthreading.GeneratorWorker at 0x7f972c15ca50>"
      ]
     },
     "execution_count": 11,
     "metadata": {},
     "output_type": "execute_result"
    }
   ],
   "source": [
    "\n",
    "\n",
    "sys.path.insert(0,'/home/jmamede/scripts')\n",
    "# from support_pla import othercolor, cell_mask, multiply, rebin\n",
    "from support_pla import cellpose_mask,cellpose_model\n",
    "\n",
    "%gui qt\n",
    "v = napari.Viewer(show=False)\n",
    "v.show()\n",
    "#     layer = viewer.add_image(np.random.random((512, 512)))\n",
    "def updating(result):\n",
    "#         v.layers.remove('image')\n",
    "    from cellpose.utils import masks_to_outlines\n",
    "    import time\n",
    "    [v.layers.pop(0) for la in range(len(v.layers))]    \n",
    "\n",
    "    v.add_image(\n",
    "        result[1],\n",
    "        blending='additive',\n",
    "        contrast_limits=[np.min(result[1]),np.max(result[1])],\n",
    "#         ndisplay=2,\n",
    "        colormap='blue',\n",
    "        name='nuclei'\n",
    "    )   \n",
    "\n",
    "    v.add_image(\n",
    "        result[0],\n",
    "        blending='additive',\n",
    "        colormap='green',\n",
    "        name='cells')\n",
    "\n",
    "    v.add_labels(\n",
    "    result[2],\n",
    "    opacity=0.4,\n",
    "    blending='additive',\n",
    "#             contrast_limits=[np.min(result[2]),np.max(result[2])],\n",
    "    name='nuclei'\n",
    "    ) \n",
    "\n",
    "    v.add_labels(\n",
    "    masks_to_outlines(result[3]),\n",
    "#     utils.outlines_list(result[0]),\n",
    "    opacity=0.4,\n",
    "    blending='additive',\n",
    "#         contrast_limits=[np.min(result[1]),np.max(result[1])],\n",
    "    name='nuclei'\n",
    "    )\n",
    "\n",
    "@thread_worker(connect={'yielded': updating})\n",
    "def poseri(filelist,chan_cells,chan_nuclei,model,model_nuc):\n",
    "\n",
    "    for ficheiro in filelist:\n",
    "        reader = ND2Reader(ficheiro)\n",
    "    #     metadata = reader.metadata\n",
    "        reader.bundle_axes = 'cyx'\n",
    "        reader.iter_axes = 'z'\n",
    "        #there is a bug, it reads each visit point as a Z.\n",
    "        reader.default_coords['v'] = 0\n",
    "        ncells = 0\n",
    "        nnuclei = 0\n",
    "\n",
    "        for i in range(reader.sizes['z']):\n",
    "#         for i in [0]:\n",
    "            #shut cellpose messages up.\n",
    "#             with contextlib.redirect_stdout(io.StringIO()):\n",
    "\n",
    "            cells_masks = cellpose_mask(reader[i][chan_cells],model\n",
    "            #                             ,size=2500\n",
    "                                        ,flow_threshold=0.8,size=0,diam=50,cell_prob=-1\n",
    "                                       )\n",
    "            nuclei_masks = cellpose_mask(reader[i][chan_nuclei],model_nuc\n",
    "            #                             ,size=2500\n",
    "                                        ,flow_threshold=1.2,size=0,diam=25,cell_prob=0\n",
    "                                       )\n",
    "    #             ncells += cells_masks.max()\n",
    "    #             nnuclei += nuclei_masks.max()\n",
    "            base = os.path.splitext(ficheiro)[0]\n",
    "            outlines = utils.outlines_list(cells_masks)\n",
    "            cell_outlines = utils.masks_to_outlines(cells_masks)\n",
    "            iocp.outlines_to_text(base+'v'+str(i), outlines)\n",
    "\n",
    "    #             f,axarr =  plots(reader,cells_masks,nuclei_masks,base,i)\n",
    "\n",
    "            text = \"Image#: {0} Number of Nuclei: {1} Number of positive cells: {2} Percentage: {3}\".format(i,nuclei_masks.max(),cells_masks.max(),cells_masks.max()/nuclei_masks.max())\n",
    "            print(ficheiro,text)\n",
    "    #         output.writerow([ficheiro,i,nuclei_masks.max(),cells_masks.max(),cells_masks.max()/nuclei_masks.max()*100])\n",
    "    #     output2.writerow(([ficheiro,'NA',nnuclei,ncells,ncells/nnuclei*100]))\n",
    "            yield [reader[i][chan_cells],reader[i][chan_nuclei],cells_masks,nuclei_masks]\n",
    "\n",
    "\n",
    "#     from cellpose import io as iocp\n",
    "#     from cellpose import plot,utils\n",
    "\n",
    "\n",
    "\n",
    "model = cellpose_model(GPU=True)\n",
    "model_nuc = cellpose_model(GPU=True,model_type='nuclei')\n",
    "\n",
    "#     for ficheiro in filelist:\n",
    "poseri(filelist,0,1,model,model_nuc)\n",
    "\n",
    "#         average_large_image()\n",
    "#         result.returned.connect(v.add_image)\n",
    "#         result.start()\n",
    "\n",
    "\n",
    "#         worker.start\n",
    "\n",
    "#     layers[0].data = []\n",
    "#     layers[1].data = []\n",
    "#     layers[0] = []\n",
    "#     layers[0] = []"
   ]
  },
  {
   "cell_type": "code",
   "execution_count": 7,
   "metadata": {},
   "outputs": [
    {
     "ename": "NameError",
     "evalue": "name 'masks_to_outlines' is not defined",
     "output_type": "error",
     "traceback": [
      "\u001b[0;31m---------------------------------------------------------------------------\u001b[0m",
      "\u001b[0;31mNameError\u001b[0m                                 Traceback (most recent call last)",
      "\u001b[0;32m<ipython-input-7-aa033e692baf>\u001b[0m in \u001b[0;36m<module>\u001b[0;34m\u001b[0m\n\u001b[1;32m     29\u001b[0m     ) \n\u001b[1;32m     30\u001b[0m     label1 = v.add_labels(\n\u001b[0;32m---> 31\u001b[0;31m     \u001b[0mmasks_to_outlines\u001b[0m\u001b[0;34m(\u001b[0m\u001b[0mresult\u001b[0m\u001b[0;34m[\u001b[0m\u001b[0;36m3\u001b[0m\u001b[0;34m]\u001b[0m\u001b[0;34m)\u001b[0m\u001b[0;34m,\u001b[0m\u001b[0;34m\u001b[0m\u001b[0;34m\u001b[0m\u001b[0m\n\u001b[0m\u001b[1;32m     32\u001b[0m \u001b[0;31m#     utils.outlines_list(result[0]),\u001b[0m\u001b[0;34m\u001b[0m\u001b[0;34m\u001b[0m\u001b[0;34m\u001b[0m\u001b[0m\n\u001b[1;32m     33\u001b[0m     \u001b[0mopacity\u001b[0m\u001b[0;34m=\u001b[0m\u001b[0;36m0.4\u001b[0m\u001b[0;34m,\u001b[0m\u001b[0;34m\u001b[0m\u001b[0;34m\u001b[0m\u001b[0m\n",
      "\u001b[0;31mNameError\u001b[0m: name 'masks_to_outlines' is not defined"
     ]
    }
   ],
   "source": [
    "import time\n",
    "import numpy as np\n",
    "import napari\n",
    "\n",
    "from qtpy.QtCore import Qt\n",
    "from qtpy.QtWidgets import QPushButton\n",
    "\n",
    "\n",
    "image = np.random.random((2048, 2048))\n",
    "zeros = np.zeros((2048, 2048))\n",
    "\n",
    "@thread_worker\n",
    "def pan(layer, interval=0.05):\n",
    "    layer.translate = (-2148, 0)\n",
    "    layer.data = image\n",
    "    for i in range(-2140, 8, 16):\n",
    "        layer.translate = (i, 0)\n",
    "        yield\n",
    "        time.sleep(interval)\n",
    "\n",
    "with napari.gui_qt():\n",
    "    v = napari.Viewer(show=False)\n",
    "    v.window._qt_window.setWindowState(Qt.WindowMaximized)\n",
    "    v.show()\n",
    "\n",
    "    image_layer = v.add_image(zeros)\n",
    "    worker = pan(image_layer)\n",
    "\n",
    "    button = QPushButton(\"Start animation\")\n",
    "    button.clicked.connect(worker.start)\n",
    "    v.window.add_dock_widget(widget=button, area='left')"
   ]
  },
  {
   "cell_type": "code",
   "execution_count": 30,
   "metadata": {},
   "outputs": [],
   "source": [
    "with napari.gui_qt():\n",
    "    viewer = napari.Viewer()\n",
    "\n",
    "    @thread_worker(connect={\"returned\": viewer.add_image})\n",
    "    def average_large_image():\n",
    "        return np.random.rand(1024, 512, 512).mean(0)\n",
    "\n",
    "    average_large_image()"
   ]
  },
  {
   "cell_type": "code",
   "execution_count": 7,
   "metadata": {},
   "outputs": [
    {
     "name": "stderr",
     "output_type": "stream",
     "text": [
      "/home/jmamede/anaconda3/lib/python3.7/site-packages/napari/__init__.py:44: UserWarning: \n",
      "    napari was tested with QT library `>=5.12.3`.\n",
      "    The version installed is 5.9.7. Please report any issues with this\n",
      "    specific QT version at https://github.com/Napari/napari/issues.\n",
      "    \n",
      "  warn(message=warn_message)\n"
     ]
    }
   ],
   "source": [
    "import napari\n",
    "with napari.gui_qt():\n",
    "    v = napari.view_image(result[0])"
   ]
  },
  {
   "cell_type": "code",
   "execution_count": null,
   "metadata": {},
   "outputs": [],
   "source": [
    "from numba import cuda\n",
    "cuda.select_device(0)\n",
    "cuda.close()\n",
    "cuda.select_device(0)"
   ]
  },
  {
   "cell_type": "code",
   "execution_count": null,
   "metadata": {},
   "outputs": [],
   "source": [
    "from cellpose.utils import \n",
    "\n",
    "plt.imshow(masks_to_outlines(cells_masks))"
   ]
  }
 ],
 "metadata": {
  "kernelspec": {
   "display_name": "Python 3",
   "language": "python",
   "name": "python3"
  },
  "language_info": {
   "codemirror_mode": {
    "name": "ipython",
    "version": 3
   },
   "file_extension": ".py",
   "mimetype": "text/x-python",
   "name": "python",
   "nbconvert_exporter": "python",
   "pygments_lexer": "ipython3",
   "version": "3.7.8"
  }
 },
 "nbformat": 4,
 "nbformat_minor": 4
}
