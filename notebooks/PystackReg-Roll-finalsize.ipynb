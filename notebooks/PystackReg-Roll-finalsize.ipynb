{
 "cells": [
  {
   "cell_type": "code",
   "execution_count": 2,
   "metadata": {},
   "outputs": [],
   "source": [
    "import SimpleITK as sitk\n",
    "import pims\n",
    "# from nd2reader import ND2Reader\n",
    "import numpy as np\n",
    "import matplotlib.pyplot as plt\n",
    "import sys\n",
    "\n",
    "sys.path.insert(0,'/home/jmamede/scripts')\n",
    "# from support_pla import othercolor, cell_mask, multiply, rebin\n",
    "from support_pla import convert16to8bits\n",
    "import tifffile\n",
    "import cv2  # OpenCV for fast resizing\n",
    "\n",
    "\n",
    "\n",
    "from glob import glob\n",
    "\n",
    "from pystackreg import StackReg\n",
    "# from skimage import io\n",
    "\n",
    "def rebin(arr, new_shape):\n",
    "    from PIL import Image\n",
    "    return np.array(Image.fromarray(arr).resize(new_shape,resample=Image.NEAREST))\n",
    "\n",
    "def calculate_reg(ref,mov,name):\n",
    "    from pystackreg import StackReg\n",
    "    transformations = {\n",
    "        'TRANSLATION': StackReg.TRANSLATION,\n",
    "        'RIGID_BODY': StackReg.RIGID_BODY,\n",
    "        'SCALED_ROTATION': StackReg.SCALED_ROTATION,\n",
    "        'AFFINE': StackReg.AFFINE,\n",
    "        'BILINEAR': StackReg.BILINEAR\n",
    "    }\n",
    "    sr = StackReg(transformations[name])\n",
    "    return sr,sr.register(ref, mov,)\n",
    "\n",
    "def registration(image,tmat,name='AFFINE'):\n",
    "    from pystackreg import StackReg\n",
    "    from skimage import transform, io, exposure\n",
    "    transformations = {\n",
    "        'TRANSLATION': StackReg.TRANSLATION,\n",
    "        'RIGID_BODY': StackReg.RIGID_BODY,\n",
    "        'SCALED_ROTATION': StackReg.SCALED_ROTATION,\n",
    "        'AFFINE': StackReg.AFFINE,\n",
    "        'BILINEAR': StackReg.BILINEAR\n",
    "    }\n",
    "    sr = StackReg(transformations[name])\n",
    "    return sr.transform(image,tmat)\n",
    "    "
   ]
  },
  {
   "cell_type": "code",
   "execution_count": 3,
   "metadata": {},
   "outputs": [],
   "source": [
    "ficheiros = glob('/home/jmamede/Data/Janet/mIF/20211122mIFOrganoids/*tif')"
   ]
  },
  {
   "cell_type": "code",
   "execution_count": 4,
   "metadata": {},
   "outputs": [
    {
     "data": {
      "text/plain": [
       "['/home/jmamede/Data/Janet/mIF/20211122mIFOrganoids/C0-DAPI-InfectedSNs.ome.tif',\n",
       " '/home/jmamede/Data/Janet/mIF/20211122mIFOrganoids/C0-GFAP-InfectedSNs.ome.tif',\n",
       " '/home/jmamede/Data/Janet/mIF/20211122mIFOrganoids/C0-S100b-InfectedSNs.ome.tif',\n",
       " '/home/jmamede/Data/Janet/mIF/20211122mIFOrganoids/C0-Tuj1-InfectedSNs.ome.tif',\n",
       " '/home/jmamede/Data/Janet/mIF/20211122mIFOrganoids/C1-DAPI-InfectedSNs.ome.tif',\n",
       " '/home/jmamede/Data/Janet/mIF/20211122mIFOrganoids/C1-Ecad-InfectedSNs.ome.tif',\n",
       " '/home/jmamede/Data/Janet/mIF/20211122mIFOrganoids/C1-Iba1-InfectedSNs.ome.tif',\n",
       " '/home/jmamede/Data/Janet/mIF/20211122mIFOrganoids/C1-cGAS-InfectedSNs.ome.tif',\n",
       " '/home/jmamede/Data/Janet/mIF/20211122mIFOrganoids/C2-CD56-InfectedSNs.ome.tif',\n",
       " '/home/jmamede/Data/Janet/mIF/20211122mIFOrganoids/C2-CD69-InfectedSNs.ome.tif',\n",
       " '/home/jmamede/Data/Janet/mIF/20211122mIFOrganoids/C2-DAPI-InfectedSNs.ome.tif',\n",
       " '/home/jmamede/Data/Janet/mIF/20211122mIFOrganoids/C2-HLAdr-InfectedSNs.ome.tif']"
      ]
     },
     "execution_count": 4,
     "metadata": {},
     "output_type": "execute_result"
    }
   ],
   "source": [
    "ficheiros.sort()\n",
    "ficheiros"
   ]
  },
  {
   "cell_type": "code",
   "execution_count": 5,
   "metadata": {},
   "outputs": [
    {
     "data": {
      "text/plain": [
       "['/home/jmamede/Data/Janet/mIF/20211122mIFOrganoids/C0-DAPI-InfectedSNs.ome.tif',\n",
       " '/home/jmamede/Data/Janet/mIF/20211122mIFOrganoids/C0-GFAP-InfectedSNs.ome.tif',\n",
       " '/home/jmamede/Data/Janet/mIF/20211122mIFOrganoids/C0-S100b-InfectedSNs.ome.tif',\n",
       " '/home/jmamede/Data/Janet/mIF/20211122mIFOrganoids/C0-Tuj1-InfectedSNs.ome.tif',\n",
       " '/home/jmamede/Data/Janet/mIF/20211122mIFOrganoids/C1-DAPI-InfectedSNs.ome.tif']"
      ]
     },
     "execution_count": 5,
     "metadata": {},
     "output_type": "execute_result"
    }
   ],
   "source": [
    "ficheiros = ficheiros[:5]\n",
    "ficheiros"
   ]
  },
  {
   "cell_type": "code",
   "execution_count": 4,
   "metadata": {},
   "outputs": [
    {
     "data": {
      "text/plain": [
       "(19813, 35570)"
      ]
     },
     "execution_count": 4,
     "metadata": {},
     "output_type": "execute_result"
    }
   ],
   "source": [
    "\n",
    "image = tifffile.imread(ficheiros[0], key=0)\n",
    "h, w = image.shape\n",
    "image.shape"
   ]
  },
  {
   "cell_type": "code",
   "execution_count": 5,
   "metadata": {},
   "outputs": [
    {
     "data": {
      "text/plain": [
       "13"
      ]
     },
     "execution_count": 5,
     "metadata": {},
     "output_type": "execute_result"
    }
   ],
   "source": [
    "len(ficheiros)"
   ]
  },
  {
   "cell_type": "code",
   "execution_count": 6,
   "metadata": {},
   "outputs": [],
   "source": [
    "new = np.zeros((1,len(ficheiros)+1,h,w,))\n",
    "new = new.astype(np.uint8)"
   ]
  },
  {
   "cell_type": "code",
   "execution_count": 7,
   "metadata": {},
   "outputs": [],
   "source": [
    "for i,_file in enumerate(ficheiros):\n",
    "    new[0,i,:,:] = tifffile.imread(_file, key=0).astype(np.uint8)"
   ]
  },
  {
   "cell_type": "code",
   "execution_count": 8,
   "metadata": {},
   "outputs": [
    {
     "name": "stdout",
     "output_type": "stream",
     "text": [
      "7.707354582041554 7.707354582041554\n"
     ]
    }
   ],
   "source": [
    "print((new[0,4]).mean(),new[0,4].mean())"
   ]
  },
  {
   "cell_type": "code",
   "execution_count": 9,
   "metadata": {},
   "outputs": [
    {
     "data": {
      "text/plain": [
       "(19813, 35570)"
      ]
     },
     "execution_count": 9,
     "metadata": {},
     "output_type": "execute_result"
    }
   ],
   "source": [
    "new[0,4,...].shape"
   ]
  },
  {
   "cell_type": "code",
   "execution_count": 10,
   "metadata": {},
   "outputs": [],
   "source": [
    "new[0,13,...] = (new[0,4,...]+10) - new[0,2,...]\n",
    "\n"
   ]
  },
  {
   "cell_type": "code",
   "execution_count": 11,
   "metadata": {},
   "outputs": [
    {
     "data": {
      "text/plain": [
       "dtype('uint8')"
      ]
     },
     "execution_count": 11,
     "metadata": {},
     "output_type": "execute_result"
    }
   ],
   "source": [
    "\n",
    "new = new.astype(np.uint8)\n",
    "new.dtype"
   ]
  },
  {
   "cell_type": "code",
   "execution_count": 12,
   "metadata": {},
   "outputs": [
    {
     "data": {
      "text/plain": [
       "(1, 14, 19813, 35570)"
      ]
     },
     "execution_count": 12,
     "metadata": {},
     "output_type": "execute_result"
    }
   ],
   "source": [
    "new.shape"
   ]
  },
  {
   "cell_type": "code",
   "execution_count": 27,
   "metadata": {
    "scrolled": true
   },
   "outputs": [
    {
     "name": "stderr",
     "output_type": "stream",
     "text": [
      "/home/jmamede/anaconda3/lib/python3.7/site-packages/napari/_vispy/vispy_image_layer.py:186: UserWarning: data shape (19813, 35570) exceeds GL_MAX_TEXTURE_SIZE 16384 in at least one axis and will be downsampled. Rendering is currently in 2D mode.\n",
      "  ndisplay=self.layer._ndisplay,\n",
      "/home/jmamede/anaconda3/lib/python3.7/site-packages/napari/_vispy/vispy_image_layer.py:186: UserWarning: data shape (19813, 35570) exceeds GL_MAX_TEXTURE_SIZE 16384 in at least one axis and will be downsampled. Rendering is currently in 2D mode.\n",
      "  ndisplay=self.layer._ndisplay,\n",
      "/home/jmamede/anaconda3/lib/python3.7/site-packages/napari/_vispy/vispy_image_layer.py:186: UserWarning: data shape (19813, 35570) exceeds GL_MAX_TEXTURE_SIZE 16384 in at least one axis and will be downsampled. Rendering is currently in 2D mode.\n",
      "  ndisplay=self.layer._ndisplay,\n",
      "/home/jmamede/anaconda3/lib/python3.7/site-packages/napari/_vispy/vispy_image_layer.py:186: UserWarning: data shape (19813, 35570) exceeds GL_MAX_TEXTURE_SIZE 16384 in at least one axis and will be downsampled. Rendering is currently in 2D mode.\n",
      "  ndisplay=self.layer._ndisplay,\n",
      "/home/jmamede/anaconda3/lib/python3.7/site-packages/napari/_vispy/vispy_image_layer.py:186: UserWarning: data shape (19813, 35570) exceeds GL_MAX_TEXTURE_SIZE 16384 in at least one axis and will be downsampled. Rendering is currently in 2D mode.\n",
      "  ndisplay=self.layer._ndisplay,\n",
      "/home/jmamede/anaconda3/lib/python3.7/site-packages/napari/_vispy/vispy_image_layer.py:186: UserWarning: data shape (19813, 35570) exceeds GL_MAX_TEXTURE_SIZE 16384 in at least one axis and will be downsampled. Rendering is currently in 2D mode.\n",
      "  ndisplay=self.layer._ndisplay,\n",
      "/home/jmamede/anaconda3/lib/python3.7/site-packages/napari/_vispy/vispy_image_layer.py:186: UserWarning: data shape (19813, 35570) exceeds GL_MAX_TEXTURE_SIZE 16384 in at least one axis and will be downsampled. Rendering is currently in 2D mode.\n",
      "  ndisplay=self.layer._ndisplay,\n",
      "/home/jmamede/anaconda3/lib/python3.7/site-packages/napari/_vispy/vispy_image_layer.py:186: UserWarning: data shape (19813, 35570) exceeds GL_MAX_TEXTURE_SIZE 16384 in at least one axis and will be downsampled. Rendering is currently in 2D mode.\n",
      "  ndisplay=self.layer._ndisplay,\n",
      "/home/jmamede/anaconda3/lib/python3.7/site-packages/napari/_vispy/vispy_image_layer.py:186: UserWarning: data shape (19813, 35570) exceeds GL_MAX_TEXTURE_SIZE 16384 in at least one axis and will be downsampled. Rendering is currently in 2D mode.\n",
      "  ndisplay=self.layer._ndisplay,\n",
      "/home/jmamede/anaconda3/lib/python3.7/site-packages/napari/_vispy/vispy_image_layer.py:186: UserWarning: data shape (19813, 35570) exceeds GL_MAX_TEXTURE_SIZE 16384 in at least one axis and will be downsampled. Rendering is currently in 2D mode.\n",
      "  ndisplay=self.layer._ndisplay,\n",
      "/home/jmamede/anaconda3/lib/python3.7/site-packages/napari/_vispy/vispy_image_layer.py:186: UserWarning: data shape (19813, 35570) exceeds GL_MAX_TEXTURE_SIZE 16384 in at least one axis and will be downsampled. Rendering is currently in 2D mode.\n",
      "  ndisplay=self.layer._ndisplay,\n",
      "/home/jmamede/anaconda3/lib/python3.7/site-packages/napari/_vispy/vispy_image_layer.py:186: UserWarning: data shape (19813, 35570) exceeds GL_MAX_TEXTURE_SIZE 16384 in at least one axis and will be downsampled. Rendering is currently in 2D mode.\n",
      "  ndisplay=self.layer._ndisplay,\n",
      "/home/jmamede/anaconda3/lib/python3.7/site-packages/napari/_vispy/vispy_image_layer.py:186: UserWarning: data shape (19813, 35570) exceeds GL_MAX_TEXTURE_SIZE 16384 in at least one axis and will be downsampled. Rendering is currently in 2D mode.\n",
      "  ndisplay=self.layer._ndisplay,\n",
      "/home/jmamede/anaconda3/lib/python3.7/site-packages/napari/_vispy/vispy_image_layer.py:186: UserWarning: data shape (19813, 35570) exceeds GL_MAX_TEXTURE_SIZE 16384 in at least one axis and will be downsampled. Rendering is currently in 2D mode.\n",
      "  ndisplay=self.layer._ndisplay,\n",
      "/home/jmamede/anaconda3/lib/python3.7/site-packages/napari/_vispy/vispy_image_layer.py:186: UserWarning: data shape (19813, 35570) exceeds GL_MAX_TEXTURE_SIZE 16384 in at least one axis and will be downsampled. Rendering is currently in 2D mode.\n",
      "  ndisplay=self.layer._ndisplay,\n",
      "/home/jmamede/anaconda3/lib/python3.7/site-packages/napari/_vispy/vispy_image_layer.py:186: UserWarning: data shape (19813, 35570) exceeds GL_MAX_TEXTURE_SIZE 16384 in at least one axis and will be downsampled. Rendering is currently in 2D mode.\n",
      "  ndisplay=self.layer._ndisplay,\n",
      "/home/jmamede/anaconda3/lib/python3.7/site-packages/napari/_vispy/vispy_image_layer.py:186: UserWarning: data shape (19813, 35570) exceeds GL_MAX_TEXTURE_SIZE 16384 in at least one axis and will be downsampled. Rendering is currently in 2D mode.\n",
      "  ndisplay=self.layer._ndisplay,\n",
      "/home/jmamede/anaconda3/lib/python3.7/site-packages/napari/_vispy/vispy_image_layer.py:186: UserWarning: data shape (19813, 35570) exceeds GL_MAX_TEXTURE_SIZE 16384 in at least one axis and will be downsampled. Rendering is currently in 2D mode.\n",
      "  ndisplay=self.layer._ndisplay,\n",
      "/home/jmamede/anaconda3/lib/python3.7/site-packages/napari/_vispy/vispy_image_layer.py:186: UserWarning: data shape (19813, 35570) exceeds GL_MAX_TEXTURE_SIZE 16384 in at least one axis and will be downsampled. Rendering is currently in 2D mode.\n",
      "  ndisplay=self.layer._ndisplay,\n",
      "/home/jmamede/anaconda3/lib/python3.7/site-packages/napari/_vispy/vispy_image_layer.py:186: UserWarning: data shape (19813, 35570) exceeds GL_MAX_TEXTURE_SIZE 16384 in at least one axis and will be downsampled. Rendering is currently in 2D mode.\n",
      "  ndisplay=self.layer._ndisplay,\n",
      "/home/jmamede/anaconda3/lib/python3.7/site-packages/napari/_vispy/vispy_image_layer.py:186: UserWarning: data shape (19813, 35570) exceeds GL_MAX_TEXTURE_SIZE 16384 in at least one axis and will be downsampled. Rendering is currently in 2D mode.\n",
      "  ndisplay=self.layer._ndisplay,\n",
      "/home/jmamede/anaconda3/lib/python3.7/site-packages/napari/_vispy/vispy_image_layer.py:186: UserWarning: data shape (19813, 35570) exceeds GL_MAX_TEXTURE_SIZE 16384 in at least one axis and will be downsampled. Rendering is currently in 2D mode.\n",
      "  ndisplay=self.layer._ndisplay,\n",
      "/home/jmamede/anaconda3/lib/python3.7/site-packages/napari/_vispy/vispy_image_layer.py:186: UserWarning: data shape (19813, 35570) exceeds GL_MAX_TEXTURE_SIZE 16384 in at least one axis and will be downsampled. Rendering is currently in 2D mode.\n",
      "  ndisplay=self.layer._ndisplay,\n",
      "/home/jmamede/anaconda3/lib/python3.7/site-packages/napari/_vispy/vispy_image_layer.py:186: UserWarning: data shape (19813, 35570) exceeds GL_MAX_TEXTURE_SIZE 16384 in at least one axis and will be downsampled. Rendering is currently in 2D mode.\n",
      "  ndisplay=self.layer._ndisplay,\n",
      "/home/jmamede/anaconda3/lib/python3.7/site-packages/napari/_vispy/vispy_image_layer.py:186: UserWarning: data shape (19813, 35570) exceeds GL_MAX_TEXTURE_SIZE 16384 in at least one axis and will be downsampled. Rendering is currently in 2D mode.\n",
      "  ndisplay=self.layer._ndisplay,\n",
      "/home/jmamede/anaconda3/lib/python3.7/site-packages/napari/_vispy/vispy_image_layer.py:186: UserWarning: data shape (19813, 35570) exceeds GL_MAX_TEXTURE_SIZE 16384 in at least one axis and will be downsampled. Rendering is currently in 2D mode.\n",
      "  ndisplay=self.layer._ndisplay,\n",
      "/home/jmamede/anaconda3/lib/python3.7/site-packages/napari/_vispy/vispy_image_layer.py:186: UserWarning: data shape (35570, 19813) exceeds GL_MAX_TEXTURE_SIZE 16384 in at least one axis and will be downsampled. Rendering is currently in 2D mode.\n",
      "  ndisplay=self.layer._ndisplay,\n",
      "/home/jmamede/anaconda3/lib/python3.7/site-packages/napari/_vispy/vispy_image_layer.py:186: UserWarning: data shape (35570, 19813) exceeds GL_MAX_TEXTURE_SIZE 16384 in at least one axis and will be downsampled. Rendering is currently in 2D mode.\n",
      "  ndisplay=self.layer._ndisplay,\n",
      "/home/jmamede/anaconda3/lib/python3.7/site-packages/napari/_vispy/vispy_image_layer.py:186: UserWarning: data shape (19813, 35570) exceeds GL_MAX_TEXTURE_SIZE 16384 in at least one axis and will be downsampled. Rendering is currently in 2D mode.\n",
      "  ndisplay=self.layer._ndisplay,\n",
      "/home/jmamede/anaconda3/lib/python3.7/site-packages/napari/_vispy/vispy_image_layer.py:186: UserWarning: data shape (19813, 35570) exceeds GL_MAX_TEXTURE_SIZE 16384 in at least one axis and will be downsampled. Rendering is currently in 2D mode.\n",
      "  ndisplay=self.layer._ndisplay,\n"
     ]
    },
    {
     "name": "stderr",
     "output_type": "stream",
     "text": [
      "/home/jmamede/anaconda3/lib/python3.7/site-packages/napari/_vispy/vispy_image_layer.py:186: UserWarning: data shape (35570, 19813) exceeds GL_MAX_TEXTURE_SIZE 16384 in at least one axis and will be downsampled. Rendering is currently in 2D mode.\n",
      "  ndisplay=self.layer._ndisplay,\n",
      "/home/jmamede/anaconda3/lib/python3.7/site-packages/napari/_vispy/vispy_image_layer.py:186: UserWarning: data shape (35570, 19813) exceeds GL_MAX_TEXTURE_SIZE 16384 in at least one axis and will be downsampled. Rendering is currently in 2D mode.\n",
      "  ndisplay=self.layer._ndisplay,\n",
      "/home/jmamede/anaconda3/lib/python3.7/site-packages/napari/_vispy/vispy_image_layer.py:186: UserWarning: data shape (19813, 35570) exceeds GL_MAX_TEXTURE_SIZE 16384 in at least one axis and will be downsampled. Rendering is currently in 2D mode.\n",
      "  ndisplay=self.layer._ndisplay,\n",
      "/home/jmamede/anaconda3/lib/python3.7/site-packages/napari/_vispy/vispy_image_layer.py:186: UserWarning: data shape (19813, 35570) exceeds GL_MAX_TEXTURE_SIZE 16384 in at least one axis and will be downsampled. Rendering is currently in 2D mode.\n",
      "  ndisplay=self.layer._ndisplay,\n",
      "/home/jmamede/anaconda3/lib/python3.7/site-packages/napari/_vispy/vispy_image_layer.py:186: UserWarning: data shape (35570, 19813) exceeds GL_MAX_TEXTURE_SIZE 16384 in at least one axis and will be downsampled. Rendering is currently in 2D mode.\n",
      "  ndisplay=self.layer._ndisplay,\n",
      "/home/jmamede/anaconda3/lib/python3.7/site-packages/napari/_vispy/vispy_image_layer.py:186: UserWarning: data shape (35570, 19813) exceeds GL_MAX_TEXTURE_SIZE 16384 in at least one axis and will be downsampled. Rendering is currently in 2D mode.\n",
      "  ndisplay=self.layer._ndisplay,\n",
      "/home/jmamede/anaconda3/lib/python3.7/site-packages/napari/_vispy/vispy_image_layer.py:186: UserWarning: data shape (35570, 19813) exceeds GL_MAX_TEXTURE_SIZE 16384 in at least one axis and will be downsampled. Rendering is currently in 2D mode.\n",
      "  ndisplay=self.layer._ndisplay,\n",
      "/home/jmamede/anaconda3/lib/python3.7/site-packages/napari/_vispy/vispy_image_layer.py:186: UserWarning: data shape (35570, 19813) exceeds GL_MAX_TEXTURE_SIZE 16384 in at least one axis and will be downsampled. Rendering is currently in 2D mode.\n",
      "  ndisplay=self.layer._ndisplay,\n",
      "/home/jmamede/anaconda3/lib/python3.7/site-packages/napari/_vispy/vispy_image_layer.py:186: UserWarning: data shape (35570, 19813) exceeds GL_MAX_TEXTURE_SIZE 16384 in at least one axis and will be downsampled. Rendering is currently in 2D mode.\n",
      "  ndisplay=self.layer._ndisplay,\n",
      "/home/jmamede/anaconda3/lib/python3.7/site-packages/napari/_vispy/vispy_image_layer.py:186: UserWarning: data shape (35570, 19813) exceeds GL_MAX_TEXTURE_SIZE 16384 in at least one axis and will be downsampled. Rendering is currently in 2D mode.\n",
      "  ndisplay=self.layer._ndisplay,\n",
      "/home/jmamede/anaconda3/lib/python3.7/site-packages/napari/_vispy/vispy_image_layer.py:186: UserWarning: data shape (35570, 19813) exceeds GL_MAX_TEXTURE_SIZE 16384 in at least one axis and will be downsampled. Rendering is currently in 2D mode.\n",
      "  ndisplay=self.layer._ndisplay,\n",
      "/home/jmamede/anaconda3/lib/python3.7/site-packages/napari/_vispy/vispy_image_layer.py:186: UserWarning: data shape (35570, 19813) exceeds GL_MAX_TEXTURE_SIZE 16384 in at least one axis and will be downsampled. Rendering is currently in 2D mode.\n",
      "  ndisplay=self.layer._ndisplay,\n",
      "/home/jmamede/anaconda3/lib/python3.7/site-packages/napari/_vispy/vispy_image_layer.py:186: UserWarning: data shape (35570, 19813) exceeds GL_MAX_TEXTURE_SIZE 16384 in at least one axis and will be downsampled. Rendering is currently in 2D mode.\n",
      "  ndisplay=self.layer._ndisplay,\n",
      "/home/jmamede/anaconda3/lib/python3.7/site-packages/napari/_vispy/vispy_image_layer.py:186: UserWarning: data shape (35570, 19813) exceeds GL_MAX_TEXTURE_SIZE 16384 in at least one axis and will be downsampled. Rendering is currently in 2D mode.\n",
      "  ndisplay=self.layer._ndisplay,\n",
      "/home/jmamede/anaconda3/lib/python3.7/site-packages/napari/_vispy/vispy_image_layer.py:186: UserWarning: data shape (35570, 19813) exceeds GL_MAX_TEXTURE_SIZE 16384 in at least one axis and will be downsampled. Rendering is currently in 2D mode.\n",
      "  ndisplay=self.layer._ndisplay,\n",
      "/home/jmamede/anaconda3/lib/python3.7/site-packages/napari/_vispy/vispy_image_layer.py:186: UserWarning: data shape (35570, 19813) exceeds GL_MAX_TEXTURE_SIZE 16384 in at least one axis and will be downsampled. Rendering is currently in 2D mode.\n",
      "  ndisplay=self.layer._ndisplay,\n",
      "/home/jmamede/anaconda3/lib/python3.7/site-packages/napari/_vispy/vispy_image_layer.py:186: UserWarning: data shape (35570, 19813) exceeds GL_MAX_TEXTURE_SIZE 16384 in at least one axis and will be downsampled. Rendering is currently in 2D mode.\n",
      "  ndisplay=self.layer._ndisplay,\n",
      "/home/jmamede/anaconda3/lib/python3.7/site-packages/napari/_vispy/vispy_image_layer.py:186: UserWarning: data shape (35570, 19813) exceeds GL_MAX_TEXTURE_SIZE 16384 in at least one axis and will be downsampled. Rendering is currently in 2D mode.\n",
      "  ndisplay=self.layer._ndisplay,\n",
      "/home/jmamede/anaconda3/lib/python3.7/site-packages/napari/_vispy/vispy_image_layer.py:186: UserWarning: data shape (35570, 19813) exceeds GL_MAX_TEXTURE_SIZE 16384 in at least one axis and will be downsampled. Rendering is currently in 2D mode.\n",
      "  ndisplay=self.layer._ndisplay,\n",
      "/home/jmamede/anaconda3/lib/python3.7/site-packages/napari/_vispy/vispy_image_layer.py:186: UserWarning: data shape (35570, 19813) exceeds GL_MAX_TEXTURE_SIZE 16384 in at least one axis and will be downsampled. Rendering is currently in 2D mode.\n",
      "  ndisplay=self.layer._ndisplay,\n",
      "/home/jmamede/anaconda3/lib/python3.7/site-packages/napari/_vispy/vispy_image_layer.py:186: UserWarning: data shape (35570, 19813) exceeds GL_MAX_TEXTURE_SIZE 16384 in at least one axis and will be downsampled. Rendering is currently in 2D mode.\n",
      "  ndisplay=self.layer._ndisplay,\n",
      "/home/jmamede/anaconda3/lib/python3.7/site-packages/napari/_vispy/vispy_image_layer.py:186: UserWarning: data shape (35570, 19813) exceeds GL_MAX_TEXTURE_SIZE 16384 in at least one axis and will be downsampled. Rendering is currently in 2D mode.\n",
      "  ndisplay=self.layer._ndisplay,\n",
      "/home/jmamede/anaconda3/lib/python3.7/site-packages/napari/_vispy/vispy_image_layer.py:186: UserWarning: data shape (35570, 19813) exceeds GL_MAX_TEXTURE_SIZE 16384 in at least one axis and will be downsampled. Rendering is currently in 2D mode.\n",
      "  ndisplay=self.layer._ndisplay,\n",
      "/home/jmamede/anaconda3/lib/python3.7/site-packages/napari/_vispy/vispy_image_layer.py:186: UserWarning: data shape (35570, 19813) exceeds GL_MAX_TEXTURE_SIZE 16384 in at least one axis and will be downsampled. Rendering is currently in 2D mode.\n",
      "  ndisplay=self.layer._ndisplay,\n",
      "/home/jmamede/anaconda3/lib/python3.7/site-packages/napari/_vispy/vispy_image_layer.py:186: UserWarning: data shape (1, 35570, 19813) exceeds GL_MAX_TEXTURE_SIZE 2048 in at least one axis and will be downsampled. Rendering is currently in 3D mode.\n",
      "  ndisplay=self.layer._ndisplay,\n",
      "/home/jmamede/anaconda3/lib/python3.7/site-packages/napari/_vispy/vispy_image_layer.py:186: UserWarning: data shape (1, 35570, 19813) exceeds GL_MAX_TEXTURE_SIZE 2048 in at least one axis and will be downsampled. Rendering is currently in 3D mode.\n",
      "  ndisplay=self.layer._ndisplay,\n",
      "/home/jmamede/anaconda3/lib/python3.7/site-packages/napari/_vispy/vispy_image_layer.py:186: UserWarning: data shape (1, 35570, 19813) exceeds GL_MAX_TEXTURE_SIZE 2048 in at least one axis and will be downsampled. Rendering is currently in 3D mode.\n",
      "  ndisplay=self.layer._ndisplay,\n",
      "/home/jmamede/anaconda3/lib/python3.7/site-packages/napari/_vispy/vispy_image_layer.py:186: UserWarning: data shape (35570, 19813) exceeds GL_MAX_TEXTURE_SIZE 16384 in at least one axis and will be downsampled. Rendering is currently in 2D mode.\n",
      "  ndisplay=self.layer._ndisplay,\n",
      "/home/jmamede/anaconda3/lib/python3.7/site-packages/napari/_vispy/vispy_image_layer.py:186: UserWarning: data shape (35570, 19813) exceeds GL_MAX_TEXTURE_SIZE 16384 in at least one axis and will be downsampled. Rendering is currently in 2D mode.\n",
      "  ndisplay=self.layer._ndisplay,\n",
      "/home/jmamede/anaconda3/lib/python3.7/site-packages/napari/_vispy/vispy_image_layer.py:186: UserWarning: data shape (35570, 19813) exceeds GL_MAX_TEXTURE_SIZE 16384 in at least one axis and will be downsampled. Rendering is currently in 2D mode.\n",
      "  ndisplay=self.layer._ndisplay,\n"
     ]
    }
   ],
   "source": [
    "import napari\n",
    "v = napari.Viewer(ndisplay=2,)\n",
    "# mov = np.roll(mov,-2305,axis=1)\n",
    "# mov = np.roll(mov,100,axis=0)\n",
    "clrs = ['red','green','blue','cyan','magenta','bop purple','yellow','bop orange']\n",
    "\n",
    "for i in range(new.shape[0]):\n",
    "    v.add_image(new[i],blending='additive',\n",
    "                scale=[0.108,0.108],\n",
    "                colormap=clrs[\n",
    "                       np.random.randint(len(clrs))])\n",
    "# v.add_image(ref,blending='additive',colormap='green')\n",
    "# v.add_image(mov,blending='additive',colormap='cyan')"
   ]
  },
  {
   "cell_type": "code",
   "execution_count": 13,
   "metadata": {},
   "outputs": [],
   "source": [
    "names = ['cGAMP','YBX1','preGFP','DAPI','postGFP','CD4','CD69','CPSF6','DAPI','241D','AG3','SIM4','DAPI','GFP-Vpr']"
   ]
  },
  {
   "cell_type": "code",
   "execution_count": 24,
   "metadata": {},
   "outputs": [
    {
     "name": "stderr",
     "output_type": "stream",
     "text": [
      "/home/jmamede/anaconda3/lib/python3.7/site-packages/ipykernel_launcher.py:16: DeprecationWarning: TiffWriter: the 'compress' parameter is deprecated since 2020.9.30. Use the 'compression' parameter\n",
      "  app.launch_new_instance()\n"
     ]
    }
   ],
   "source": [
    "with tifffile.TiffWriter('/run/media/jmamede/Joao/multiplex/ENDO/out/all.ome.tif', bigtiff=True) as tif:\n",
    "    for i in range(new.shape[1]):\n",
    "        options = dict(\n",
    "             tile=(4096, 4096),\n",
    "    #         imagej=False,\n",
    "            photometric='minisblack',\n",
    "            compress=9,\n",
    "            resolution=(0.108, 0.108),\n",
    "            metadata={'axes': 'YX',\n",
    "                'Channel': {'Name': names[i]}}\n",
    "        )\n",
    "\n",
    "#     for ch in new.shape[0]:\n",
    "        tif.write(new[0,i,...].astype(np.uint8),\n",
    "    #                         compression='ZLIB',\n",
    "                          **options\n",
    "                            )\n",
    "        \n"
   ]
  },
  {
   "cell_type": "code",
   "execution_count": 19,
   "metadata": {},
   "outputs": [],
   "source": [
    "with tifffile.TiffWriter('/run/media/jmamede/Joao/multiplex/ENDO/out/all_chpiramid.ome.tif', bigtiff=True) as tif:\n",
    "    options = dict(\n",
    "             tile=(2048, 2048),\n",
    "    #         imagej=False,\n",
    "            photometric='minisblack',\n",
    "#             compress=9,\n",
    "            resolution=(0.108, 0.108),\n",
    "            metadata={'axes': 'ZCYX',\n",
    "                'Channel': {'Name': names}}\n",
    "        )\n",
    "    tif.write(new,\n",
    "               subifds=3, \n",
    "               **options)     \n",
    "#     for i,_file in enumerate(ficheiros):\n",
    "    tif.write(new[:,:,::4,::4], subfiletype=1, **options)\n",
    "    tif.write(new[:,:,::8,::8], subfiletype=1, **options)\n",
    "    tif.write(new[:,:,::16,::16], subfiletype=1, **options)\n",
    "                        \n",
    "                        \n",
    "        \n",
    "tif.close()"
   ]
  },
  {
   "cell_type": "code",
   "execution_count": 25,
   "metadata": {},
   "outputs": [],
   "source": [
    "del new"
   ]
  },
  {
   "cell_type": "code",
   "execution_count": 10,
   "metadata": {},
   "outputs": [
    {
     "ename": "ValueError",
     "evalue": "data too large for standard TIFF file",
     "output_type": "error",
     "traceback": [
      "\u001b[0;31m---------------------------------------------------------------------------\u001b[0m",
      "\u001b[0;31mValueError\u001b[0m                                Traceback (most recent call last)",
      "\u001b[0;32m<ipython-input-10-bdab79979ea6>\u001b[0m in \u001b[0;36m<module>\u001b[0;34m\u001b[0m\n\u001b[1;32m      7\u001b[0m      tif.write(new,\n\u001b[1;32m      8\u001b[0m                \u001b[0msubifds\u001b[0m\u001b[0;34m=\u001b[0m\u001b[0;36m2\u001b[0m\u001b[0;34m,\u001b[0m\u001b[0;34m\u001b[0m\u001b[0;34m\u001b[0m\u001b[0m\n\u001b[0;32m----> 9\u001b[0;31m                **options)\n\u001b[0m\u001b[1;32m     10\u001b[0m      \u001b[0;31m# save pyramid levels to the two subifds\u001b[0m\u001b[0;34m\u001b[0m\u001b[0;34m\u001b[0m\u001b[0;34m\u001b[0m\u001b[0m\n\u001b[1;32m     11\u001b[0m      \u001b[0;31m# in production use resampling to generate sub-resolutions\u001b[0m\u001b[0;34m\u001b[0m\u001b[0;34m\u001b[0m\u001b[0;34m\u001b[0m\u001b[0m\n",
      "\u001b[0;32m~/anaconda3/lib/python3.7/site-packages/tifffile/tifffile.py\u001b[0m in \u001b[0;36mwrite\u001b[0;34m(***failed resolving arguments***)\u001b[0m\n\u001b[1;32m   2477\u001b[0m             \u001b[0;32mand\u001b[0m \u001b[0mfhpos\u001b[0m \u001b[0;34m+\u001b[0m \u001b[0mdatasize\u001b[0m \u001b[0;34m>\u001b[0m \u001b[0;36m2\u001b[0m \u001b[0;34m**\u001b[0m \u001b[0;36m32\u001b[0m \u001b[0;34m-\u001b[0m \u001b[0;36m1\u001b[0m\u001b[0;34m\u001b[0m\u001b[0;34m\u001b[0m\u001b[0m\n\u001b[1;32m   2478\u001b[0m         ):\n\u001b[0;32m-> 2479\u001b[0;31m             \u001b[0;32mraise\u001b[0m \u001b[0mValueError\u001b[0m\u001b[0;34m(\u001b[0m\u001b[0;34m'data too large for standard TIFF file'\u001b[0m\u001b[0;34m)\u001b[0m\u001b[0;34m\u001b[0m\u001b[0;34m\u001b[0m\u001b[0m\n\u001b[0m\u001b[1;32m   2480\u001b[0m \u001b[0;34m\u001b[0m\u001b[0m\n\u001b[1;32m   2481\u001b[0m         \u001b[0;31m# if not compressed or multi-tiled, write the first IFD and then\u001b[0m\u001b[0;34m\u001b[0m\u001b[0;34m\u001b[0m\u001b[0;34m\u001b[0m\u001b[0m\n",
      "\u001b[0;31mValueError\u001b[0m: data too large for standard TIFF file"
     ]
    }
   ],
   "source": [
    "\n",
    "     tif.write(new,\n",
    "               subifds=2, \n",
    "               **options)\n",
    "     # save pyramid levels to the two subifds\n",
    "     # in production use resampling to generate sub-resolutirons\n",
    "#      tif.write(new[::2, ::2], subfiletype=1, **options)\n",
    "#      tif.write(new[::4, ::4], subfiletype=1, **options)\n",
    "     tif.write(new[:,:,::8, ::8], subfiletype=1, **options)\n",
    "#      tif.write(new[::16, ::16], subfiletype=1, **options)"
   ]
  },
  {
   "cell_type": "code",
   "execution_count": 14,
   "metadata": {},
   "outputs": [],
   "source": [
    "tif.close()\n",
    "del new"
   ]
  },
  {
   "cell_type": "code",
   "execution_count": 18,
   "metadata": {},
   "outputs": [
    {
     "data": {
      "text/plain": [
       "6"
      ]
     },
     "execution_count": 18,
     "metadata": {},
     "output_type": "execute_result"
    }
   ],
   "source": [
    "new.shape[0]"
   ]
  },
  {
   "cell_type": "code",
   "execution_count": 24,
   "metadata": {},
   "outputs": [],
   "source": [
    "mov_roll = np.roll(mov,-35,axis=1)\n",
    "mov_roll = np.roll(mov_roll,0,axis=0)\n"
   ]
  },
  {
   "cell_type": "code",
   "execution_count": 25,
   "metadata": {},
   "outputs": [
    {
     "name": "stderr",
     "output_type": "stream",
     "text": [
      "/home/jmamede/anaconda3/lib/python3.7/site-packages/napari/_vispy/vispy_image_layer.py:186: UserWarning: data shape (19813, 35570) exceeds GL_MAX_TEXTURE_SIZE 16384 in at least one axis and will be downsampled. Rendering is currently in 2D mode.\n",
      "  ndisplay=self.layer._ndisplay,\n"
     ]
    },
    {
     "data": {
      "text/plain": [
       "<Image layer 'mov_roll' at 0x7f2213920750>"
      ]
     },
     "execution_count": 25,
     "metadata": {},
     "output_type": "execute_result"
    }
   ],
   "source": [
    "\n",
    "v.add_image(mov_roll,blending='additive',colormap='red')"
   ]
  },
  {
   "cell_type": "code",
   "execution_count": null,
   "metadata": {},
   "outputs": [],
   "source": [
    "# test1 = sr.transform(mov,tmat=mta1)\n",
    "#Translational transformation\n",
    "sr = StackReg(StackReg.RIGID_BODY)\n",
    "mta1 = sr.register(ref,mov\n",
    "                  )"
   ]
  },
  {
   "cell_type": "code",
   "execution_count": null,
   "metadata": {},
   "outputs": [],
   "source": [
    "\n",
    "#Translational transformation\n",
    "sr = StackReg(StackReg.AFFINE)\n",
    "mta1 = sr.register(ref[0],mov[0])"
   ]
  },
  {
   "cell_type": "code",
   "execution_count": null,
   "metadata": {},
   "outputs": [],
   "source": [
    "mta1"
   ]
  },
  {
   "cell_type": "code",
   "execution_count": null,
   "metadata": {},
   "outputs": [],
   "source": [
    "mta1 = np.array([\n",
    "       [ 9.99999951e-01, -3.12420350e-04,  3.28717291e+02],\n",
    "       [ 3.12420350e-04,  9.99999951e-01, -3.98938467e+01],\n",
    "       [ 0.00000000e+00,  0.00000000e+00,  1.00000000e+00]]\n",
    ")"
   ]
  },
  {
   "cell_type": "code",
   "execution_count": 8,
   "metadata": {},
   "outputs": [],
   "source": [
    "mta1 = np.array([[ 1.00108756e+00,  1.24853472e-04, -1.21100576e+01],\n",
    "       [ 3.28726193e-03,  1.00099829e+00, -4.27326598e+01],\n",
    "       [ 0.00000000e+00,  0.00000000e+00,  1.00000000e+00]])"
   ]
  },
  {
   "cell_type": "code",
   "execution_count": 9,
   "metadata": {
    "scrolled": true
   },
   "outputs": [],
   "source": []
  },
  {
   "cell_type": "code",
   "execution_count": 18,
   "metadata": {},
   "outputs": [
    {
     "name": "stdout",
     "output_type": "stream",
     "text": [
      "Reader will load image in-memory: False\n"
     ]
    },
    {
     "name": "stderr",
     "output_type": "stream",
     "text": [
      "/home/jmamede/anaconda3/lib/python3.7/site-packages/napari/_vispy/vispy_image_layer.py:186: UserWarning: data shape (19813, 35570) exceeds GL_MAX_TEXTURE_SIZE 16384 in at least one axis and will be downsampled. Rendering is currently in 2D mode.\n",
      "  ndisplay=self.layer._ndisplay,\n"
     ]
    },
    {
     "name": "stdout",
     "output_type": "stream",
     "text": [
      "Reader will load image in-memory: False\n"
     ]
    },
    {
     "name": "stderr",
     "output_type": "stream",
     "text": [
      "/home/jmamede/anaconda3/lib/python3.7/site-packages/napari/_vispy/vispy_image_layer.py:186: UserWarning: data shape (19813, 33534) exceeds GL_MAX_TEXTURE_SIZE 16384 in at least one axis and will be downsampled. Rendering is currently in 2D mode.\n",
      "  ndisplay=self.layer._ndisplay,\n"
     ]
    },
    {
     "name": "stdout",
     "output_type": "stream",
     "text": [
      "Reader will load image in-memory: False\n"
     ]
    },
    {
     "name": "stderr",
     "output_type": "stream",
     "text": [
      "/home/jmamede/anaconda3/lib/python3.7/site-packages/napari/_vispy/vispy_image_layer.py:186: UserWarning: data shape (19813, 33534) exceeds GL_MAX_TEXTURE_SIZE 16384 in at least one axis and will be downsampled. Rendering is currently in 2D mode.\n",
      "  ndisplay=self.layer._ndisplay,\n",
      "/home/jmamede/anaconda3/lib/python3.7/site-packages/napari/_vispy/vispy_image_layer.py:186: UserWarning: data shape (19813, 35570) exceeds GL_MAX_TEXTURE_SIZE 16384 in at least one axis and will be downsampled. Rendering is currently in 2D mode.\n",
      "  ndisplay=self.layer._ndisplay,\n",
      "/home/jmamede/anaconda3/lib/python3.7/site-packages/napari/_vispy/vispy_image_layer.py:186: UserWarning: data shape (19813, 33534) exceeds GL_MAX_TEXTURE_SIZE 16384 in at least one axis and will be downsampled. Rendering is currently in 2D mode.\n",
      "  ndisplay=self.layer._ndisplay,\n",
      "/home/jmamede/anaconda3/lib/python3.7/site-packages/napari/_vispy/vispy_image_layer.py:186: UserWarning: data shape (19813, 33534) exceeds GL_MAX_TEXTURE_SIZE 16384 in at least one axis and will be downsampled. Rendering is currently in 2D mode.\n",
      "  ndisplay=self.layer._ndisplay,\n",
      "/home/jmamede/anaconda3/lib/python3.7/site-packages/napari/_vispy/vispy_image_layer.py:186: UserWarning: data shape (19813, 35570) exceeds GL_MAX_TEXTURE_SIZE 16384 in at least one axis and will be downsampled. Rendering is currently in 2D mode.\n",
      "  ndisplay=self.layer._ndisplay,\n",
      "/home/jmamede/anaconda3/lib/python3.7/site-packages/napari/_vispy/vispy_image_layer.py:186: UserWarning: data shape (19813, 33534) exceeds GL_MAX_TEXTURE_SIZE 16384 in at least one axis and will be downsampled. Rendering is currently in 2D mode.\n",
      "  ndisplay=self.layer._ndisplay,\n",
      "/home/jmamede/anaconda3/lib/python3.7/site-packages/napari/_vispy/vispy_image_layer.py:186: UserWarning: data shape (19813, 33534) exceeds GL_MAX_TEXTURE_SIZE 16384 in at least one axis and will be downsampled. Rendering is currently in 2D mode.\n",
      "  ndisplay=self.layer._ndisplay,\n",
      "/home/jmamede/anaconda3/lib/python3.7/site-packages/napari/_vispy/vispy_image_layer.py:186: UserWarning: data shape (19813, 35570) exceeds GL_MAX_TEXTURE_SIZE 16384 in at least one axis and will be downsampled. Rendering is currently in 2D mode.\n",
      "  ndisplay=self.layer._ndisplay,\n",
      "/home/jmamede/anaconda3/lib/python3.7/site-packages/napari/_vispy/vispy_image_layer.py:186: UserWarning: data shape (19813, 33534) exceeds GL_MAX_TEXTURE_SIZE 16384 in at least one axis and will be downsampled. Rendering is currently in 2D mode.\n",
      "  ndisplay=self.layer._ndisplay,\n",
      "/home/jmamede/anaconda3/lib/python3.7/site-packages/napari/_vispy/vispy_image_layer.py:186: UserWarning: data shape (19813, 33534) exceeds GL_MAX_TEXTURE_SIZE 16384 in at least one axis and will be downsampled. Rendering is currently in 2D mode.\n",
      "  ndisplay=self.layer._ndisplay,\n",
      "/home/jmamede/anaconda3/lib/python3.7/site-packages/napari/_vispy/vispy_image_layer.py:186: UserWarning: data shape (19813, 35570) exceeds GL_MAX_TEXTURE_SIZE 16384 in at least one axis and will be downsampled. Rendering is currently in 2D mode.\n",
      "  ndisplay=self.layer._ndisplay,\n",
      "/home/jmamede/anaconda3/lib/python3.7/site-packages/napari/_vispy/vispy_image_layer.py:186: UserWarning: data shape (19813, 33534) exceeds GL_MAX_TEXTURE_SIZE 16384 in at least one axis and will be downsampled. Rendering is currently in 2D mode.\n",
      "  ndisplay=self.layer._ndisplay,\n",
      "/home/jmamede/anaconda3/lib/python3.7/site-packages/napari/_vispy/vispy_image_layer.py:186: UserWarning: data shape (19813, 33534) exceeds GL_MAX_TEXTURE_SIZE 16384 in at least one axis and will be downsampled. Rendering is currently in 2D mode.\n",
      "  ndisplay=self.layer._ndisplay,\n",
      "/home/jmamede/anaconda3/lib/python3.7/site-packages/napari/_vispy/vispy_image_layer.py:186: UserWarning: data shape (19813, 33534) exceeds GL_MAX_TEXTURE_SIZE 16384 in at least one axis and will be downsampled. Rendering is currently in 2D mode.\n",
      "  ndisplay=self.layer._ndisplay,\n",
      "/home/jmamede/anaconda3/lib/python3.7/site-packages/napari/_vispy/vispy_image_layer.py:186: UserWarning: data shape (19813, 33534) exceeds GL_MAX_TEXTURE_SIZE 16384 in at least one axis and will be downsampled. Rendering is currently in 2D mode.\n",
      "  ndisplay=self.layer._ndisplay,\n",
      "/home/jmamede/anaconda3/lib/python3.7/site-packages/napari/_vispy/vispy_image_layer.py:186: UserWarning: data shape (19813, 35570) exceeds GL_MAX_TEXTURE_SIZE 16384 in at least one axis and will be downsampled. Rendering is currently in 2D mode.\n",
      "  ndisplay=self.layer._ndisplay,\n",
      "/home/jmamede/anaconda3/lib/python3.7/site-packages/napari/_vispy/vispy_image_layer.py:186: UserWarning: data shape (19813, 35570) exceeds GL_MAX_TEXTURE_SIZE 16384 in at least one axis and will be downsampled. Rendering is currently in 2D mode.\n",
      "  ndisplay=self.layer._ndisplay,\n",
      "/home/jmamede/anaconda3/lib/python3.7/site-packages/napari/_vispy/vispy_image_layer.py:186: UserWarning: data shape (19813, 33534) exceeds GL_MAX_TEXTURE_SIZE 16384 in at least one axis and will be downsampled. Rendering is currently in 2D mode.\n",
      "  ndisplay=self.layer._ndisplay,\n",
      "/home/jmamede/anaconda3/lib/python3.7/site-packages/napari/_vispy/vispy_image_layer.py:186: UserWarning: data shape (19813, 33534) exceeds GL_MAX_TEXTURE_SIZE 16384 in at least one axis and will be downsampled. Rendering is currently in 2D mode.\n",
      "  ndisplay=self.layer._ndisplay,\n",
      "/home/jmamede/anaconda3/lib/python3.7/site-packages/napari/_vispy/vispy_image_layer.py:186: UserWarning: data shape (19813, 33534) exceeds GL_MAX_TEXTURE_SIZE 16384 in at least one axis and will be downsampled. Rendering is currently in 2D mode.\n",
      "  ndisplay=self.layer._ndisplay,\n",
      "/home/jmamede/anaconda3/lib/python3.7/site-packages/napari/_vispy/vispy_image_layer.py:186: UserWarning: data shape (19813, 35570) exceeds GL_MAX_TEXTURE_SIZE 16384 in at least one axis and will be downsampled. Rendering is currently in 2D mode.\n",
      "  ndisplay=self.layer._ndisplay,\n",
      "/home/jmamede/anaconda3/lib/python3.7/site-packages/napari/_vispy/vispy_image_layer.py:186: UserWarning: data shape (19813, 33534) exceeds GL_MAX_TEXTURE_SIZE 16384 in at least one axis and will be downsampled. Rendering is currently in 2D mode.\n",
      "  ndisplay=self.layer._ndisplay,\n",
      "/home/jmamede/anaconda3/lib/python3.7/site-packages/napari/_vispy/vispy_image_layer.py:186: UserWarning: data shape (19813, 33534) exceeds GL_MAX_TEXTURE_SIZE 16384 in at least one axis and will be downsampled. Rendering is currently in 2D mode.\n",
      "  ndisplay=self.layer._ndisplay,\n",
      "/home/jmamede/anaconda3/lib/python3.7/site-packages/napari/_vispy/vispy_image_layer.py:186: UserWarning: data shape (19813, 35570) exceeds GL_MAX_TEXTURE_SIZE 16384 in at least one axis and will be downsampled. Rendering is currently in 2D mode.\n",
      "  ndisplay=self.layer._ndisplay,\n",
      "/home/jmamede/anaconda3/lib/python3.7/site-packages/napari/_vispy/vispy_image_layer.py:186: UserWarning: data shape (19813, 33534) exceeds GL_MAX_TEXTURE_SIZE 16384 in at least one axis and will be downsampled. Rendering is currently in 2D mode.\n",
      "  ndisplay=self.layer._ndisplay,\n",
      "/home/jmamede/anaconda3/lib/python3.7/site-packages/napari/_vispy/vispy_image_layer.py:186: UserWarning: data shape (19813, 35570) exceeds GL_MAX_TEXTURE_SIZE 16384 in at least one axis and will be downsampled. Rendering is currently in 2D mode.\n",
      "  ndisplay=self.layer._ndisplay,\n",
      "/home/jmamede/anaconda3/lib/python3.7/site-packages/napari/_vispy/vispy_image_layer.py:186: UserWarning: data shape (19813, 33534) exceeds GL_MAX_TEXTURE_SIZE 16384 in at least one axis and will be downsampled. Rendering is currently in 2D mode.\n",
      "  ndisplay=self.layer._ndisplay,\n",
      "/home/jmamede/anaconda3/lib/python3.7/site-packages/napari/_vispy/vispy_image_layer.py:186: UserWarning: data shape (19813, 33534) exceeds GL_MAX_TEXTURE_SIZE 16384 in at least one axis and will be downsampled. Rendering is currently in 2D mode.\n",
      "  ndisplay=self.layer._ndisplay,\n",
      "/home/jmamede/anaconda3/lib/python3.7/site-packages/napari/_vispy/vispy_image_layer.py:186: UserWarning: data shape (19813, 35570) exceeds GL_MAX_TEXTURE_SIZE 16384 in at least one axis and will be downsampled. Rendering is currently in 2D mode.\n",
      "  ndisplay=self.layer._ndisplay,\n",
      "/home/jmamede/anaconda3/lib/python3.7/site-packages/napari/_vispy/vispy_image_layer.py:186: UserWarning: data shape (19813, 33534) exceeds GL_MAX_TEXTURE_SIZE 16384 in at least one axis and will be downsampled. Rendering is currently in 2D mode.\n",
      "  ndisplay=self.layer._ndisplay,\n"
     ]
    },
    {
     "name": "stderr",
     "output_type": "stream",
     "text": [
      "/home/jmamede/anaconda3/lib/python3.7/site-packages/napari/_vispy/vispy_image_layer.py:186: UserWarning: data shape (19813, 33534) exceeds GL_MAX_TEXTURE_SIZE 16384 in at least one axis and will be downsampled. Rendering is currently in 2D mode.\n",
      "  ndisplay=self.layer._ndisplay,\n",
      "/home/jmamede/anaconda3/lib/python3.7/site-packages/napari/_vispy/vispy_image_layer.py:186: UserWarning: data shape (19813, 33534) exceeds GL_MAX_TEXTURE_SIZE 16384 in at least one axis and will be downsampled. Rendering is currently in 2D mode.\n",
      "  ndisplay=self.layer._ndisplay,\n"
     ]
    }
   ],
   "source": [
    "import napari\n",
    "v = napari.Viewer(ndisplay=2)"
   ]
  },
  {
   "cell_type": "code",
   "execution_count": 14,
   "metadata": {},
   "outputs": [
    {
     "name": "stderr",
     "output_type": "stream",
     "text": [
      "/home/jmamede/anaconda3/lib/python3.7/site-packages/napari/_vispy/vispy_image_layer.py:186: UserWarning: data shape (19813, 35570) exceeds GL_MAX_TEXTURE_SIZE 16384 in at least one axis and will be downsampled. Rendering is currently in 2D mode.\n",
      "  ndisplay=self.layer._ndisplay,\n",
      "/home/jmamede/anaconda3/lib/python3.7/site-packages/napari/_vispy/vispy_image_layer.py:186: UserWarning: data shape (19813, 35570) exceeds GL_MAX_TEXTURE_SIZE 16384 in at least one axis and will be downsampled. Rendering is currently in 2D mode.\n",
      "  ndisplay=self.layer._ndisplay,\n",
      "/home/jmamede/anaconda3/lib/python3.7/site-packages/napari/_vispy/vispy_image_layer.py:186: UserWarning: data shape (19813, 35570) exceeds GL_MAX_TEXTURE_SIZE 16384 in at least one axis and will be downsampled. Rendering is currently in 2D mode.\n",
      "  ndisplay=self.layer._ndisplay,\n"
     ]
    },
    {
     "data": {
      "text/plain": [
       "<Image layer 'test1' at 0x7f457da9a350>"
      ]
     },
     "execution_count": 14,
     "metadata": {},
     "output_type": "execute_result"
    }
   ],
   "source": [
    "v.add_image(ref2,blending='additive',colormap='green')\n",
    "v.add_image(mov2,blending='additive',colormap='red')\n",
    "v.add_image(test1,blending='additive',colormap='cyan')"
   ]
  },
  {
   "cell_type": "code",
   "execution_count": 27,
   "metadata": {},
   "outputs": [
    {
     "ename": "NameError",
     "evalue": "name 'test1' is not defined",
     "output_type": "error",
     "traceback": [
      "\u001b[0;31m---------------------------------------------------------------------------\u001b[0m",
      "\u001b[0;31mNameError\u001b[0m                                 Traceback (most recent call last)",
      "\u001b[0;32m<ipython-input-27-e31c6e023dc3>\u001b[0m in \u001b[0;36m<module>\u001b[0;34m\u001b[0m\n\u001b[0;32m----> 1\u001b[0;31m \u001b[0;32mdel\u001b[0m \u001b[0mtest1\u001b[0m\u001b[0;34m\u001b[0m\u001b[0;34m\u001b[0m\u001b[0m\n\u001b[0m",
      "\u001b[0;31mNameError\u001b[0m: name 'test1' is not defined"
     ]
    }
   ],
   "source": [
    "mov\n",
    "mov2[:mov.frame_shape[0],:mov.frame_shape[1]] = mov[dapich]"
   ]
  },
  {
   "cell_type": "code",
   "execution_count": 7,
   "metadata": {},
   "outputs": [],
   "source": [
    "ficheiros = glob('/run/media/jmamede/Joao/multiplex/ENDO/out/*8bit*tiff')\n",
    "ficheiros.sort()\n",
    "\n",
    "#load reference and \"moved\" image\n",
    "ref = pims.open(ficheiros[0])\n",
    "mov = pims.open(ficheiros[1])\n",
    "\n",
    "\n",
    "sizes = np.array([mov.frame_shape,ref.frame_shape]).T\n",
    "empty = sizes[0].max(),sizes[1].max()\n",
    "\n",
    "ref2 = np.zeros(empty )\n",
    "mov2 = np.zeros(empty )\n",
    "\n",
    "\n",
    "sr = StackReg(StackReg.AFFINE)"
   ]
  },
  {
   "cell_type": "code",
   "execution_count": 8,
   "metadata": {},
   "outputs": [],
   "source": [
    "# quarter = tuple(np.round(np.array(ref2.shape)/5).astype('int'))\n",
    "\n",
    "\n",
    "# mta3 = sr.register(\n",
    "#     ref2[quarter[0]:-quarter[0],quarter[1]:-quarter[1]],\n",
    "#     mov2[quarter[0]:-quarter[0],quarter[1]:-quarter[1]]\n",
    "#                              )"
   ]
  },
  {
   "cell_type": "code",
   "execution_count": 9,
   "metadata": {},
   "outputs": [],
   "source": [
    "# mta3 = np.array([[ 1.00108756e+00,  1.24853472e-04, -1.21100576e+01],\n",
    "#        [ 3.28726193e-03,  1.00099829e+00, -4.27326598e+01],\n",
    "#        [ 0.00000000e+00,  0.00000000e+00,  1.00000000e+00]])\n",
    "\n",
    "mta3 = np.array([[ 9.98186010e-01, -9.85277006e-04,  1.08630602e+01],\n",
    "       [ 9.66418193e-04,  9.97938822e-01,  8.23410514e+00],\n",
    "       [ 0.00000000e+00,  0.00000000e+00,  1.00000000e+00]])"
   ]
  },
  {
   "cell_type": "code",
   "execution_count": 14,
   "metadata": {},
   "outputs": [
    {
     "data": {
      "text/plain": [
       "(1, 19813, 35570)"
      ]
     },
     "execution_count": 14,
     "metadata": {},
     "output_type": "execute_result"
    }
   ],
   "source": [
    "mov2.reshape((1,1,)+(mov2.shape)).shape"
   ]
  },
  {
   "cell_type": "code",
   "execution_count": 17,
   "metadata": {},
   "outputs": [],
   "source": [
    "tif.close()"
   ]
  },
  {
   "cell_type": "code",
   "execution_count": null,
   "metadata": {},
   "outputs": [],
   "source": []
  },
  {
   "cell_type": "code",
   "execution_count": null,
   "metadata": {},
   "outputs": [],
   "source": []
  },
  {
   "cell_type": "code",
   "execution_count": null,
   "metadata": {},
   "outputs": [],
   "source": []
  },
  {
   "cell_type": "code",
   "execution_count": 8,
   "metadata": {},
   "outputs": [],
   "source": [
    "ref2 = rebin(ref2,(ref2.shape[0]//2,ref2.shape[1]//2))\n",
    "mov2 = rebin(mov2,(mov2.shape[0]//2,mov2.shape[1]//2) )"
   ]
  },
  {
   "cell_type": "code",
   "execution_count": 9,
   "metadata": {},
   "outputs": [
    {
     "data": {
      "text/plain": [
       "(17785, 9907)"
      ]
     },
     "execution_count": 9,
     "metadata": {},
     "output_type": "execute_result"
    }
   ],
   "source": [
    "ref2.shape"
   ]
  },
  {
   "cell_type": "code",
   "execution_count": 10,
   "metadata": {},
   "outputs": [
    {
     "name": "stdout",
     "output_type": "stream",
     "text": [
      "asdf\n",
      "asdf\n",
      "63.4 µs ± 25.2 µs per loop (mean ± std. dev. of 2 runs, 1 loop each)\n"
     ]
    }
   ],
   "source": [
    "%timeit -n1 -r 2 print('asdf')"
   ]
  },
  {
   "cell_type": "code",
   "execution_count": 11,
   "metadata": {},
   "outputs": [],
   "source": [
    "\n",
    "#Translational transformation\n",
    "sr = StackReg(StackReg.TRANSLATION)\n",
    "out_tra = sr.register(ref2, mov2)"
   ]
  },
  {
   "cell_type": "code",
   "execution_count": 13,
   "metadata": {},
   "outputs": [],
   "source": [
    "sr2 = StackReg(StackReg.TRANSLATION)\n",
    "out_tra2 = sr2.register(ref[0][4940:14818,8893:26678], mov[0][4940:14818,8893:26678])"
   ]
  },
  {
   "cell_type": "code",
   "execution_count": 5,
   "metadata": {},
   "outputs": [],
   "source": [
    "out_tra = np.array([[  1.        ,   0.        , 641.24722516],\n",
    "       [  0.        ,   1.        , -83.64280372],\n",
    "       [  0.        ,   0.        ,   1.        ]])\n"
   ]
  },
  {
   "cell_type": "code",
   "execution_count": 6,
   "metadata": {},
   "outputs": [],
   "source": [
    "out_tra2 = np.array([[  1.        ,   0.        , 641.24722516*2],\n",
    "       [  0.        ,   1.        , -83.64280372*2],\n",
    "       [  0.        ,   0.        ,   1.        ]])"
   ]
  },
  {
   "cell_type": "code",
   "execution_count": 8,
   "metadata": {},
   "outputs": [],
   "source": [
    "ref2 = np.zeros((19814,35570))\n",
    "mov2 = np.zeros((19814,35570))\n",
    "ref2[:ref.frame_shape[0],:ref.frame_shape[1]] = ref[0]\n",
    "mov2[:mov.frame_shape[0],:mov.frame_shape[1]] = mov[0]\n",
    "\n",
    "sr = StackReg(StackReg.TRANSLATION)\n",
    "test1 = sr.transform(mov2,tmat=out_tra)"
   ]
  },
  {
   "cell_type": "code",
   "execution_count": 11,
   "metadata": {},
   "outputs": [],
   "source": [
    "s2 = StackReg(StackReg.TRANSLATION)\n",
    "test2 = s2.transform(mov[0],tmat=out_tra2)"
   ]
  },
  {
   "cell_type": "code",
   "execution_count": 20,
   "metadata": {},
   "outputs": [],
   "source": [
    "#Rigid Body transformation\n",
    "sr = StackReg(StackReg.RIGID_BODY)\n",
    "out_rot = sr.register(ref2, mov2)"
   ]
  },
  {
   "cell_type": "code",
   "execution_count": 51,
   "metadata": {},
   "outputs": [],
   "source": [
    "out_rot = out_rot*2"
   ]
  },
  {
   "cell_type": "code",
   "execution_count": null,
   "metadata": {},
   "outputs": [],
   "source": [
    "out_rot[2][2] = 1.0\n",
    "out_rot\n",
    "test2 = sr.transform(mov2,tmat=out_rot)"
   ]
  },
  {
   "cell_type": "code",
   "execution_count": 59,
   "metadata": {},
   "outputs": [
    {
     "data": {
      "text/plain": [
       "array([[ 1.99999983e+00, -8.24006515e-04,  1.28852116e+03],\n",
       "       [ 8.24006515e-04,  1.99999983e+00, -1.70715351e+02],\n",
       "       [ 0.00000000e+00,  0.00000000e+00,  1.00000000e+00]])"
      ]
     },
     "execution_count": 59,
     "metadata": {},
     "output_type": "execute_result"
    }
   ],
   "source": [
    "out_rot[2][2] = 1\n",
    "out_rot"
   ]
  },
  {
   "cell_type": "code",
   "execution_count": 40,
   "metadata": {},
   "outputs": [],
   "source": [
    "#Scaled Rotation transformation\n",
    "sr = StackReg(StackReg.SCALED_ROTATION)\n",
    "out_sca = sr.register(ref2, mov2)"
   ]
  },
  {
   "cell_type": "code",
   "execution_count": null,
   "metadata": {},
   "outputs": [],
   "source": [
    "out_sca.shape"
   ]
  },
  {
   "cell_type": "code",
   "execution_count": 29,
   "metadata": {},
   "outputs": [],
   "source": [
    "#Affine transformation\n",
    "sr = StackReg(StackReg.AFFINE)\n",
    "out_aff = sr.register(ref2, mov2)\n"
   ]
  },
  {
   "cell_type": "code",
   "execution_count": 36,
   "metadata": {},
   "outputs": [
    {
     "data": {
      "text/plain": [
       "array([ 3.27281430e-01,  1.13811964e+00, -2.77346128e+03])"
      ]
     },
     "execution_count": 36,
     "metadata": {},
     "output_type": "execute_result"
    }
   ],
   "source": [
    "out_aff[1]"
   ]
  },
  {
   "cell_type": "code",
   "execution_count": null,
   "metadata": {},
   "outputs": [],
   "source": [
    "#Bilinear transformation\n",
    "sr = StackReg(StackReg.BILINEAR)\n",
    "out_bil = sr.register(ref2, mov2)"
   ]
  },
  {
   "cell_type": "code",
   "execution_count": null,
   "metadata": {},
   "outputs": [],
   "source": [
    "out_bil.shape"
   ]
  },
  {
   "cell_type": "code",
   "execution_count": 43,
   "metadata": {},
   "outputs": [
    {
     "data": {
      "text/plain": [
       "(19814, 35570)"
      ]
     },
     "execution_count": 43,
     "metadata": {},
     "output_type": "execute_result"
    }
   ],
   "source": [
    "ref2.shape"
   ]
  },
  {
   "cell_type": "code",
   "execution_count": 19,
   "metadata": {},
   "outputs": [
    {
     "ename": "ValueError",
     "evalue": "could not broadcast input array from shape (19759,35570) into shape (19814,35570)",
     "output_type": "error",
     "traceback": [
      "\u001b[0;31m---------------------------------------------------------------------------\u001b[0m",
      "\u001b[0;31mValueError\u001b[0m                                Traceback (most recent call last)",
      "\u001b[0;32m<ipython-input-19-dea6f04bcd9c>\u001b[0m in \u001b[0;36m<module>\u001b[0;34m\u001b[0m\n\u001b[1;32m      3\u001b[0m \u001b[0mreg_im\u001b[0m\u001b[0;34m[\u001b[0m\u001b[0;34m...\u001b[0m\u001b[0;34m,\u001b[0m\u001b[0;36m1\u001b[0m\u001b[0;34m]\u001b[0m \u001b[0;34m=\u001b[0m \u001b[0mmov2\u001b[0m\u001b[0;34m\u001b[0m\u001b[0;34m\u001b[0m\u001b[0m\n\u001b[1;32m      4\u001b[0m \u001b[0mreg_im\u001b[0m\u001b[0;34m[\u001b[0m\u001b[0;34m...\u001b[0m\u001b[0;34m,\u001b[0m\u001b[0;36m2\u001b[0m\u001b[0;34m]\u001b[0m \u001b[0;34m=\u001b[0m \u001b[0mtest1\u001b[0m\u001b[0;34m\u001b[0m\u001b[0;34m\u001b[0m\u001b[0m\n\u001b[0;32m----> 5\u001b[0;31m \u001b[0mreg_im\u001b[0m\u001b[0;34m[\u001b[0m\u001b[0;34m...\u001b[0m\u001b[0;34m,\u001b[0m\u001b[0;36m3\u001b[0m\u001b[0;34m]\u001b[0m \u001b[0;34m=\u001b[0m \u001b[0mtest2\u001b[0m\u001b[0;31m# reg_im[...,3] = out_rot\u001b[0m\u001b[0;34m\u001b[0m\u001b[0;34m\u001b[0m\u001b[0m\n\u001b[0m\u001b[1;32m      6\u001b[0m \u001b[0;31m# reg_im[...,4] = out_sca\u001b[0m\u001b[0;34m\u001b[0m\u001b[0;34m\u001b[0m\u001b[0;34m\u001b[0m\u001b[0m\n\u001b[1;32m      7\u001b[0m \u001b[0;31m# reg_im[...,5] = out_aff\u001b[0m\u001b[0;34m\u001b[0m\u001b[0;34m\u001b[0m\u001b[0;34m\u001b[0m\u001b[0m\n",
      "\u001b[0;31mValueError\u001b[0m: could not broadcast input array from shape (19759,35570) into shape (19814,35570)"
     ]
    }
   ],
   "source": [
    "# reg_im = np.zeros((19814, 35570,4))\n",
    "# reg_im[...,0] = ref2\n",
    "# reg_im[...,1] = mov2\n",
    "# reg_im[...,2] = test1\n",
    "# reg_im[...,3] = test2\n",
    "\n",
    "# reg_im[...,3] = out_rot \n",
    "# reg_im[...,4] = out_sca\n",
    "# reg_im[...,5] = out_aff\n",
    "# reg_im[...,6] = out_tra\n",
    "# reg_im[...,7] = out_bil"
   ]
  },
  {
   "cell_type": "code",
   "execution_count": 13,
   "metadata": {},
   "outputs": [
    {
     "name": "stderr",
     "output_type": "stream",
     "text": [
      "/home/jmamede/anaconda3/lib/python3.7/site-packages/napari/_vispy/vispy_image_layer.py:186: UserWarning: data shape (19813, 33534) exceeds GL_MAX_TEXTURE_SIZE 16384 in at least one axis and will be downsampled. Rendering is currently in 2D mode.\n",
      "  ndisplay=self.layer._ndisplay,\n",
      "/home/jmamede/anaconda3/lib/python3.7/site-packages/napari/_vispy/vispy_image_layer.py:186: UserWarning: data shape (19759, 35570) exceeds GL_MAX_TEXTURE_SIZE 16384 in at least one axis and will be downsampled. Rendering is currently in 2D mode.\n",
      "  ndisplay=self.layer._ndisplay,\n",
      "/home/jmamede/anaconda3/lib/python3.7/site-packages/napari/_vispy/vispy_image_layer.py:186: UserWarning: data shape (19814, 35570) exceeds GL_MAX_TEXTURE_SIZE 16384 in at least one axis and will be downsampled. Rendering is currently in 2D mode.\n",
      "  ndisplay=self.layer._ndisplay,\n",
      "/home/jmamede/anaconda3/lib/python3.7/site-packages/napari/_vispy/vispy_image_layer.py:186: UserWarning: data shape (19759, 35570) exceeds GL_MAX_TEXTURE_SIZE 16384 in at least one axis and will be downsampled. Rendering is currently in 2D mode.\n",
      "  ndisplay=self.layer._ndisplay,\n",
      "/home/jmamede/anaconda3/lib/python3.7/site-packages/napari/_vispy/vispy_image_layer.py:186: UserWarning: data shape (19759, 35570) exceeds GL_MAX_TEXTURE_SIZE 16384 in at least one axis and will be downsampled. Rendering is currently in 2D mode.\n",
      "  ndisplay=self.layer._ndisplay,\n",
      "/home/jmamede/anaconda3/lib/python3.7/site-packages/napari/_vispy/vispy_image_layer.py:186: UserWarning: data shape (19814, 35570) exceeds GL_MAX_TEXTURE_SIZE 16384 in at least one axis and will be downsampled. Rendering is currently in 2D mode.\n",
      "  ndisplay=self.layer._ndisplay,\n",
      "/home/jmamede/anaconda3/lib/python3.7/site-packages/napari/_vispy/vispy_image_layer.py:186: UserWarning: data shape (19759, 35570) exceeds GL_MAX_TEXTURE_SIZE 16384 in at least one axis and will be downsampled. Rendering is currently in 2D mode.\n",
      "  ndisplay=self.layer._ndisplay,\n",
      "/home/jmamede/anaconda3/lib/python3.7/site-packages/napari/_vispy/vispy_image_layer.py:186: UserWarning: data shape (19813, 33534) exceeds GL_MAX_TEXTURE_SIZE 16384 in at least one axis and will be downsampled. Rendering is currently in 2D mode.\n",
      "  ndisplay=self.layer._ndisplay,\n"
     ]
    }
   ],
   "source": [
    "\n",
    "\n",
    "cmap = ['green','red','cyan','red','red','red','red','red','red','red']\n",
    "\n",
    "for i,img in enumerate([ref[0],mov[0],test1,test2]):\n",
    "    v.add_image(img,name='image'+str(i),blending='additive',colormap=cmap[i])"
   ]
  },
  {
   "cell_type": "code",
   "execution_count": 48,
   "metadata": {},
   "outputs": [
    {
     "name": "stderr",
     "output_type": "stream",
     "text": [
      "/home/jmamede/anaconda3/lib/python3.7/site-packages/napari/_vispy/vispy_image_layer.py:186: UserWarning: data shape (19814, 35570) exceeds GL_MAX_TEXTURE_SIZE 16384 in at least one axis and will be downsampled. Rendering is currently in 2D mode.\n",
      "  ndisplay=self.layer._ndisplay,\n"
     ]
    },
    {
     "data": {
      "text/plain": [
       "<Image layer 'image1 [1]' at 0x7f8d843c15d0>"
      ]
     },
     "execution_count": 48,
     "metadata": {},
     "output_type": "execute_result"
    },
    {
     "name": "stderr",
     "output_type": "stream",
     "text": [
      "/home/jmamede/anaconda3/lib/python3.7/site-packages/napari/_vispy/vispy_image_layer.py:186: UserWarning: data shape (19814, 35570) exceeds GL_MAX_TEXTURE_SIZE 16384 in at least one axis and will be downsampled. Rendering is currently in 2D mode.\n",
      "  ndisplay=self.layer._ndisplay,\n",
      "/home/jmamede/anaconda3/lib/python3.7/site-packages/napari/_vispy/vispy_image_layer.py:186: UserWarning: data shape (19814, 35570) exceeds GL_MAX_TEXTURE_SIZE 16384 in at least one axis and will be downsampled. Rendering is currently in 2D mode.\n",
      "  ndisplay=self.layer._ndisplay,\n",
      "/home/jmamede/anaconda3/lib/python3.7/site-packages/napari/_vispy/vispy_image_layer.py:186: UserWarning: data shape (19814, 35570) exceeds GL_MAX_TEXTURE_SIZE 16384 in at least one axis and will be downsampled. Rendering is currently in 2D mode.\n",
      "  ndisplay=self.layer._ndisplay,\n",
      "/home/jmamede/anaconda3/lib/python3.7/site-packages/napari/_vispy/vispy_image_layer.py:186: UserWarning: data shape (19814, 35570) exceeds GL_MAX_TEXTURE_SIZE 16384 in at least one axis and will be downsampled. Rendering is currently in 2D mode.\n",
      "  ndisplay=self.layer._ndisplay,\n",
      "/home/jmamede/anaconda3/lib/python3.7/site-packages/napari/_vispy/vispy_image_layer.py:186: UserWarning: data shape (19814, 35570) exceeds GL_MAX_TEXTURE_SIZE 16384 in at least one axis and will be downsampled. Rendering is currently in 2D mode.\n",
      "  ndisplay=self.layer._ndisplay,\n",
      "/home/jmamede/anaconda3/lib/python3.7/site-packages/napari/_vispy/vispy_image_layer.py:186: UserWarning: data shape (19814, 35570) exceeds GL_MAX_TEXTURE_SIZE 16384 in at least one axis and will be downsampled. Rendering is currently in 2D mode.\n",
      "  ndisplay=self.layer._ndisplay,\n"
     ]
    }
   ],
   "source": [
    "v.add_image(reg_im[...,2],name='image'+str(i),blending='additive',colormap=cmap[i])"
   ]
  },
  {
   "cell_type": "code",
   "execution_count": 39,
   "metadata": {},
   "outputs": [
    {
     "name": "stderr",
     "output_type": "stream",
     "text": [
      "/home/jmamede/anaconda3/lib/python3.7/site-packages/pims/api.py:207: UserWarning: <class 'pims.tiff_stack.TiffStack_tifffile'> errored: 'NoneType' object has no attribute 'TiffFile'\n",
      "  warn(message)\n"
     ]
    }
   ],
   "source": [
    "import pims\n",
    "# from nd2reader import ND2Reader\n",
    "import numpy as np\n",
    "import matplotlib.pyplot as plt\n",
    "import sys\n",
    "\n",
    "sys.path.insert(0,'/home/jmamede/scripts')\n",
    "# from support_pla import othercolor, cell_mask, multiply, rebin\n",
    "from support_pla import convert16to8bits\n",
    "from pystackreg import StackReg\n",
    "\n",
    "# from skimage import io\n",
    "\n",
    "#load reference and \"moved\" image\n",
    "\n",
    "reg_channel = 3\n",
    "\n",
    "image0 = pims.open('/home/jmamede/Data/multiplex/KOTHP1/DAPI-iGFP-INmruby3-bactin647_v01_PRJ.Custom.ome.tiff')\n",
    "image1 = pims.open('/home/jmamede/Data/multiplex/KOTHP1/DAPI-1a11_488-241_647_v01_PRJ.Custom.ome.tiff')\n",
    "\n",
    "ref = image0[reg_channel]\n",
    "mov = image1[reg_channel]"
   ]
  },
  {
   "cell_type": "code",
   "execution_count": 40,
   "metadata": {},
   "outputs": [],
   "source": [
    "def calculate_reg(ref,mov,name):\n",
    "    from pystackreg import StackReg\n",
    "    transformations = {\n",
    "        'TRANSLATION': StackReg.TRANSLATION,\n",
    "        'RIGID_BODY': StackReg.RIGID_BODY,\n",
    "        'SCALED_ROTATION': StackReg.SCALED_ROTATION,\n",
    "        'AFFINE': StackReg.AFFINE,\n",
    "        'BILINEAR': StackReg.BILINEAR\n",
    "    }\n",
    "    sr = StackReg(transformations[name])\n",
    "    return sr.register(ref, mov,)\n",
    "\n",
    "def registration(image,tmat,name='AFFINE'):\n",
    "    from pystackreg import StackReg\n",
    "    from skimage import transform, io, exposure\n",
    "    transformations = {\n",
    "        'TRANSLATION': StackReg.TRANSLATION,\n",
    "        'RIGID_BODY': StackReg.RIGID_BODY,\n",
    "        'SCALED_ROTATION': StackReg.SCALED_ROTATION,\n",
    "        'AFFINE': StackReg.AFFINE,\n",
    "        'BILINEAR': StackReg.BILINEAR\n",
    "    }\n",
    "\n",
    "    sr = StackReg(transformations[name])\n",
    "    return sr.transform(image,tmat)\n",
    "    \n",
    "# def registration_gpu(image,tmat):\n",
    "#     #it's not working it's inverted....\n",
    "#     import cupy as cp\n",
    "#     from cupyx.scipy.ndimage import affine_transform\n",
    "    \n",
    "#     return cp.asnumpy(\n",
    "#         affine_transform(\n",
    "#             cp.asarray(image),\n",
    "#             cp.asarray(tmat)\n",
    "#         )\n",
    "#     )\n",
    "\n",
    "matrix = calculate_reg(ref,mov,'AFFINE')\n"
   ]
  },
  {
   "cell_type": "code",
   "execution_count": 59,
   "metadata": {},
   "outputs": [],
   "source": [
    "image1.sizes\n",
    "result = np.zeros((image1.sizes['t'],image1.sizes['x'],image1.sizes['y']))\n",
    "\n",
    "for i in range(image1.sizes['t']):\n",
    "    result[i,:,:] = registration(image1[i],matrix,'AFFINE')\n",
    "# result_gpu = registration_gpu(mov,matrix)"
   ]
  },
  {
   "cell_type": "code",
   "execution_count": 77,
   "metadata": {},
   "outputs": [],
   "source": [
    "import napari\n",
    "from vispy.color import Colormap\n",
    "v = napari.Viewer(ndisplay=2)\n",
    "# cmap = Colormap([[1, 0, 0], [0, 0, 0], [0, 0, 1]])\n",
    "# cmap = ['green','red','red','bluered','red','red','red','red','red','red']\n",
    "cmap = ['magenta','red','green','blue']\n",
    "\n",
    "names = ['B-actin','IN-mruby3','iGFP','DAPI','CA-241','Blank','PQBP1','DAPI2']\n",
    "j = 0\n",
    "for img in [image0,result]:\n",
    "    for i in range(4):\n",
    "        v.add_image(img[i],name=names[j],blending='additive',\n",
    "                    colormap=cmap[i]                    \n",
    "#                     colormap=('diverging', cmap)\n",
    "                   )\n",
    "        j +=1"
   ]
  }
 ],
 "metadata": {
  "kernelspec": {
   "display_name": "Python 3",
   "language": "python",
   "name": "python3"
  },
  "language_info": {
   "codemirror_mode": {
    "name": "ipython",
    "version": 3
   },
   "file_extension": ".py",
   "mimetype": "text/x-python",
   "name": "python",
   "nbconvert_exporter": "python",
   "pygments_lexer": "ipython3",
   "version": "3.7.10"
  }
 },
 "nbformat": 4,
 "nbformat_minor": 4
}
