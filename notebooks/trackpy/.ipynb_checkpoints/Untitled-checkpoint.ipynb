{
 "cells": [
  {
   "cell_type": "code",
   "execution_count": 1,
   "metadata": {},
   "outputs": [],
   "source": [
    "import pims\n",
    "import numpy as np\n",
    "import dask\n",
    "import dask.array\n",
    "import warnings\n",
    "# import cupy as cp\n",
    "import glob\n",
    "import napari\n",
    "__author__ = \"\"\"João Mamede\"\"\"\n",
    "__email__ = \"jmamede@rush.edu\"\n",
    "# import Libraries"
   ]
  },
  {
   "cell_type": "code",
   "execution_count": 2,
   "metadata": {},
   "outputs": [],
   "source": [
    "reader1 = pims.open(\"/home/jmamede/Data/N2V_09-51-12_KC13_Vag_cy5cy3fitc_32x_UltraII_Cy5_xyz.ome.tif\")\n",
    "reader2 = pims.open(\"/home/jmamede/Data/09-51-12_KC13_Vag_cy5cy3fitc_32x_UltraII_Cy5_xyz.ome.tif\")"
   ]
  },
  {
   "cell_type": "code",
   "execution_count": 3,
   "metadata": {},
   "outputs": [],
   "source": [
    "reader2 = np.asarray(reader2)\n",
    "reader1 = np.asarray(reader1)"
   ]
  },
  {
   "cell_type": "code",
   "execution_count": 4,
   "metadata": {},
   "outputs": [
    {
     "data": {
      "text/plain": [
       "(421, 2560, 2160)"
      ]
     },
     "execution_count": 4,
     "metadata": {},
     "output_type": "execute_result"
    }
   ],
   "source": [
    "reader2.shape"
   ]
  },
  {
   "cell_type": "code",
   "execution_count": 5,
   "metadata": {},
   "outputs": [
    {
     "data": {
      "text/plain": [
       "<Image layer 'Original' at 0x7fd5d1d44f90>"
      ]
     },
     "execution_count": 5,
     "metadata": {},
     "output_type": "execute_result"
    }
   ],
   "source": [
    "v = napari.Viewer(show=True)\n",
    "v.add_image(reader1,\n",
    "#             # reader=True,\n",
    "#             contrast_limits=[rmin,rmax],\n",
    "            blending='additive',\n",
    "#             colormap='gray',\n",
    "            name='N2V',#, is_pyramid=False\n",
    "                 )\n",
    "v.add_image(reader2, \n",
    "#             contrast_limits=[gmin,gmax],\n",
    "        blending='additive',\n",
    "#         colormap='gray',\n",
    "        name='Original',#, is_pyramid=False\n",
    "             )\n",
    "\n"
   ]
  },
  {
   "cell_type": "code",
   "execution_count": null,
   "metadata": {},
   "outputs": [],
   "source": [
    "from napari_animation import AnimationWidget\n",
    "\n",
    "animation_widget = AnimationWidget(v)\n",
    "v.window.add_dock_widget(animation_widget, area='right')"
   ]
  }
 ],
 "metadata": {
  "kernelspec": {
   "display_name": "Python 3",
   "language": "python",
   "name": "python3"
  },
  "language_info": {
   "codemirror_mode": {
    "name": "ipython",
    "version": 3
   },
   "file_extension": ".py",
   "mimetype": "text/x-python",
   "name": "python",
   "nbconvert_exporter": "python",
   "pygments_lexer": "ipython3",
   "version": "3.7.8"
  }
 },
 "nbformat": 4,
 "nbformat_minor": 4
}
