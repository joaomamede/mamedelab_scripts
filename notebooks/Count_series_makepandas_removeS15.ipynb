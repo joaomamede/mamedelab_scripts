{
 "cells": [
  {
   "cell_type": "code",
   "execution_count": 1,
   "metadata": {},
   "outputs": [
    {
     "name": "stdout",
     "output_type": "stream",
     "text": [
      "Count_series_makepandas.ipynb\n",
      "Count_series_makepandas_removeS15.ipynb\n",
      "Rbdylight405_viruses_MsAF647_seelayout_01_B01_R3D_D3D_PRJ.dv\n",
      "Rbdylight405_viruses_MsAF647_seelayout_01_B02_R3D_D3D_PRJ.dv\n",
      "Rbdylight405_viruses_MsAF647_seelayout_01_B03_R3D_D3D_PRJ.dv\n",
      "Rbdylight405_viruses_MsAF647_seelayout_01_B04_R3D_D3D_PRJ.dv\n",
      "Rbdylight405_viruses_MsAF647_seelayout_01_B05_R3D_D3D_PRJ.dv\n",
      "Rbdylight405_viruses_MsAF647_seelayout_01_B06_R3D_D3D_PRJ.dv\n",
      "Rbdylight405_viruses_MsAF647_seelayout_01_B07_R3D_D3D_PRJ.dv\n",
      "Rbdylight405_viruses_MsAF647_seelayout_01_B08_R3D_D3D_PRJ.dv\n",
      "Rbdylight405_viruses_MsAF647_seelayout_01_B09_R3D_D3D_PRJ.dv\n",
      "Rbdylight405_viruses_MsAF647_seelayout_01_B10_R3D_D3D_PRJ.dv\n",
      "Rbdylight405_viruses_MsAF647_seelayout_01_B11_R3D_D3D_PRJ.dv\n",
      "Rbdylight405_viruses_MsAF647_seelayout_01_B12_R3D_D3D_PRJ.dv\n",
      "Rbdylight405_viruses_MsAF647_seelayout_01_C01_R3D_D3D_PRJ.dv\n",
      "Rbdylight405_viruses_MsAF647_seelayout_01_C02_R3D_D3D_PRJ.dv\n",
      "Rbdylight405_viruses_MsAF647_seelayout_01_C03_R3D_D3D_PRJ.dv\n",
      "Rbdylight405_viruses_MsAF647_seelayout_01_C04_R3D_D3D_PRJ.dv\n",
      "Rbdylight405_viruses_MsAF647_seelayout_01_C05_R3D_D3D_PRJ.dv\n",
      "Rbdylight405_viruses_MsAF647_seelayout_01_C06_R3D_D3D_PRJ.dv\n",
      "Rbdylight405_viruses_MsAF647_seelayout_01_C07_R3D_D3D_PRJ.dv\n",
      "Rbdylight405_viruses_MsAF647_seelayout_01_C08_R3D_D3D_PRJ.dv\n",
      "Rbdylight405_viruses_MsAF647_seelayout_01_C09_R3D_D3D_PRJ.dv\n",
      "Rbdylight405_viruses_MsAF647_seelayout_01_C10_R3D_D3D_PRJ.dv\n",
      "Rbdylight405_viruses_MsAF647_seelayout_01_C11_R3D_D3D_PRJ.dv\n",
      "Rbdylight405_viruses_MsAF647_seelayout_01_C12_R3D_D3D_PRJ.dv\n",
      "Rbdylight405_viruses_MsAF647_seelayout_01_D01_R3D_D3D_PRJ.dv\n",
      "Rbdylight405_viruses_MsAF647_seelayout_01_D02_R3D_D3D_PRJ.dv\n",
      "Rbdylight405_viruses_MsAF647_seelayout_01_D03_R3D_D3D_PRJ.dv\n",
      "Rbdylight405_viruses_MsAF647_seelayout_01_D04_R3D_D3D_PRJ.dv\n",
      "Rbdylight405_viruses_MsAF647_seelayout_01_D05_R3D_D3D_PRJ.dv\n",
      "Rbdylight405_viruses_MsAF647_seelayout_01_D06_R3D_D3D_PRJ.dv\n",
      "Rbdylight405_viruses_MsAF647_seelayout_01_D07_R3D_D3D_PRJ.dv\n",
      "Rbdylight405_viruses_MsAF647_seelayout_01_D08_R3D_D3D_PRJ.dv\n",
      "Rbdylight405_viruses_MsAF647_seelayout_01_D09_R3D_D3D_PRJ.dv\n",
      "Rbdylight405_viruses_MsAF647_seelayout_01_D10_R3D_D3D_PRJ.dv\n",
      "Rbdylight405_viruses_MsAF647_seelayout_01_D11_R3D_D3D_PRJ.dv\n",
      "Rbdylight405_viruses_MsAF647_seelayout_01_D12_R3D_D3D_PRJ.dv\n",
      "Rbdylight405_viruses_MsAF647_seelayout_01_E01_R3D_D3D_PRJ.dv\n",
      "Rbdylight405_viruses_MsAF647_seelayout_01_E02_R3D_D3D_PRJ.dv\n",
      "Rbdylight405_viruses_MsAF647_seelayout_01_E03_R3D_D3D_PRJ.dv\n",
      "Rbdylight405_viruses_MsAF647_seelayout_01_E04_R3D_D3D_PRJ.dv\n",
      "Rbdylight405_viruses_MsAF647_seelayout_01_E05_R3D_D3D_PRJ.dv\n",
      "Rbdylight405_viruses_MsAF647_seelayout_01_E06_R3D_D3D_PRJ.dv\n",
      "Rbdylight405_viruses_MsAF647_seelayout_01_E07_R3D_D3D_PRJ.dv\n",
      "Rbdylight405_viruses_MsAF647_seelayout_01_E08_R3D_D3D_PRJ.dv\n",
      "Rbdylight405_viruses_MsAF647_seelayout_01_E09_R3D_D3D_PRJ.dv\n",
      "Rbdylight405_viruses_MsAF647_seelayout_01_E10_R3D_D3D_PRJ.dv\n",
      "Rbdylight405_viruses_MsAF647_seelayout_01_E12_R3D_D3D_PRJ.dv\n",
      "Rbdylight405_viruses_MsAF647_seelayout_01_F01_R3D_D3D_PRJ.dv\n",
      "Rbdylight405_viruses_MsAF647_seelayout_01_F02_R3D_D3D_PRJ.dv\n",
      "Rbdylight405_viruses_MsAF647_seelayout_01_F03_R3D_D3D_PRJ.dv\n",
      "Rbdylight405_viruses_MsAF647_seelayout_01_F04_R3D_D3D_PRJ.dv\n",
      "Rbdylight405_viruses_MsAF647_seelayout_01_F05_R3D_D3D_PRJ.dv\n",
      "Rbdylight405_viruses_MsAF647_seelayout_01_F06_R3D_D3D_PRJ.dv\n",
      "Rbdylight405_viruses_MsAF647_seelayout_01_F07_R3D_D3D_PRJ.dv\n",
      "Rbdylight405_viruses_MsAF647_seelayout_01_F08_R3D_D3D_PRJ.dv\n",
      "Rbdylight405_viruses_MsAF647_seelayout_01_F09_R3D_D3D_PRJ.dv\n",
      "Rbdylight405_viruses_MsAF647_seelayout_01_F10_R3D_D3D_PRJ.dv\n",
      "Rbdylight405_viruses_MsAF647_seelayout_01_F12_R3D_D3D_PRJ.dv\n",
      "Rbdylight405_viruses_MsAF647_seelayout_01_G01_R3D_D3D_PRJ.dv\n",
      "Rbdylight405_viruses_MsAF647_seelayout_01_G02_R3D_D3D_PRJ.dv\n",
      "Rbdylight405_viruses_MsAF647_seelayout_01_G03_R3D_D3D_PRJ.dv\n",
      "Rbdylight405_viruses_MsAF647_seelayout_01_G04_R3D_D3D_PRJ.dv\n",
      "Rbdylight405_viruses_MsAF647_seelayout_01_G05_R3D_D3D_PRJ.dv\n",
      "Rbdylight405_viruses_MsAF647_seelayout_01_G06_R3D_D3D_PRJ.dv\n",
      "Rbdylight405_viruses_MsAF647_seelayout_01_G07_R3D_D3D_PRJ.dv\n",
      "Rbdylight405_viruses_MsAF647_seelayout_01_G08_R3D_D3D_PRJ.dv\n",
      "Rbdylight405_viruses_MsAF647_seelayout_01_G09_R3D_D3D_PRJ.dv\n",
      "Rbdylight405_viruses_MsAF647_seelayout_01_G10_R3D_D3D_PRJ.dv\n",
      "Rbdylight405_viruses_MsAF647_seelayout_01_G12_R3D_D3D_PRJ.dv\n",
      "support_pla.py\n",
      "support_pla.pyc\n",
      "Untitled1.ipynb\n",
      "Untitled2.ipynb\n",
      "Untitled.ipynb\n"
     ]
    }
   ],
   "source": [
    "import scipy.ndimage as ndi\n",
    "#import cv2\n",
    "import numpy as np\n",
    "import matplotlib.pyplot as plt\n",
    "import pims\n",
    "#import libtiff\n",
    "import time,sys\n",
    "import csv\n",
    "# ~ import skimage\n",
    "# ~ from skimage.morphology import watershed\n",
    "# ~ from skimage.feature import peak_local_max\n",
    "# ~ from skimage import measure\n",
    "import glob,os\n",
    "\n",
    "!ls\n"
   ]
  },
  {
   "cell_type": "code",
   "execution_count": 2,
   "metadata": {},
   "outputs": [],
   "source": [
    "ficheiro = 'Rbdylight405_viruses_MsAF647_seelayout_01_G04_R3D_D3D_PRJ.dv'"
   ]
  },
  {
   "cell_type": "code",
   "execution_count": 3,
   "metadata": {},
   "outputs": [],
   "source": [
    "    from skimage import filters\n",
    "    import pims\n",
    "    import sys\n",
    "    import numpy as np\n",
    "    #sys.path.insert(0,'/home/jmamede/scripts')\n",
    "    from support_pla import *\n",
    "    import pandas as pd\n",
    "        #for blobs/dots\n",
    "    minsmask=4\n",
    "    maxsmask=80\n",
    "    #for cell mask\n",
    "    cells=3\n",
    "#    virus=0\n",
    "    label=2\n",
    "    #tag\n",
    "    chan1=0\n",
    "    #IN\n",
    "    chan2=1\n",
    "    #GFP\n",
    "    chan3=2\n",
    "    #cGAS\n",
    "    chan4=3"
   ]
  },
  {
   "cell_type": "code",
   "execution_count": 4,
   "metadata": {},
   "outputs": [
    {
     "name": "stderr",
     "output_type": "stream",
     "text": [
      "/home/jmamede/anaconda2/lib/python2.7/site-packages/jpype/_core.py:210: UserWarning: \n",
      "-------------------------------------------------------------------------------\n",
      "Deprecated: convertStrings was not specified when starting the JVM. The default\n",
      "behavior in JPype will be False starting in JPype 0.8. The recommended setting\n",
      "for new code is convertStrings=False.  The legacy value of True was assumed for\n",
      "this session. If you are a user of an application that reported this warning,\n",
      "please file a ticket with the developer.\n",
      "-------------------------------------------------------------------------------\n",
      "\n",
      "  \"\"\")\n"
     ]
    }
   ],
   "source": [
    "    \n",
    "    reader = pims.bioformats.BioformatsReader(ficheiro,java_memory='1024m')\n",
    "    #reader = pims.ReaderSequence(ficheiro, pims.bioformats.BioformatsReader)\n",
    "    meta = reader.metadata\n",
    "    nseries = meta.ImageCount()"
   ]
  },
  {
   "cell_type": "code",
   "execution_count": 6,
   "metadata": {},
   "outputs": [],
   "source": [
    "s= 0\n",
    "reader.series = s\n",
    "reader.bundle_axes = 'yx'\n",
    "reader.iter_axes = 'c'"
   ]
  },
  {
   "cell_type": "code",
   "execution_count": 13,
   "metadata": {},
   "outputs": [
    {
     "data": {
      "text/plain": [
       "<matplotlib.image.AxesImage at 0x7f713d371b90>"
      ]
     },
     "execution_count": 13,
     "metadata": {},
     "output_type": "execute_result"
    }
   ],
   "source": [
    "%matplotlib qt5\n",
    "\n",
    "plt.imshow(reader[3])"
   ]
  },
  {
   "cell_type": "code",
   "execution_count": 5,
   "metadata": {},
   "outputs": [],
   "source": [
    "%matplotlib qt5\n",
    "nseries = meta.ImageCount()\n",
    "f, axarr = plt.subplots(2,2)\n",
    "\n",
    "df = pd.DataFrame()\n",
    "from IPython import display\n",
    "\n",
    "plt.ion()\n",
    "plt.draw()"
   ]
  },
  {
   "cell_type": "code",
   "execution_count": 6,
   "metadata": {},
   "outputs": [],
   "source": [
    "    #%matplotlib inline \n",
    "    #reader.series = s\n",
    "    #reader.bundle_axes = 'yx'\n",
    "    #reader.iter_axes = 'c'\n",
    "    #cells = 3\n",
    "    #zproject = reader[cells]\n",
    "    #cells_mask = cell_mask(zproject,np.mean(zproject),size=100)\n",
    "    #axarr[0,0].imshow(zproject,vmin=np.mean(zproject),vmax=500,cmap='gray')\n",
    "    #print cm3d\n",
    "    #plt.imshow(reader[label])\n",
    "    #reader[cells].shape"
   ]
  },
  {
   "cell_type": "code",
   "execution_count": 7,
   "metadata": {},
   "outputs": [
    {
     "name": "stdout",
     "output_type": "stream",
     "text": [
      "label threshold 200\n",
      "[679 597 525 435]\n",
      "0 10612\n",
      "label threshold 200\n",
      "[679 597 525 435]\n",
      "1 12564\n",
      "label threshold 200\n",
      "[679 597 525 435]\n",
      "2 15928\n",
      "label threshold 200\n",
      "[679 597 525 435]\n",
      "3 24576\n",
      "label threshold 200\n",
      "[679 597 525 435]\n",
      "4 26908\n",
      "label threshold 200\n",
      "[679 597 525 435]\n",
      "5 30344\n",
      "label threshold 200\n",
      "[679 597 525 435]\n",
      "6 38356\n",
      "label threshold 200\n",
      "[679 597 525 435]\n",
      "7 41584\n",
      "label threshold 200\n",
      "[679 597 525 435]\n",
      "8 50232\n",
      "label threshold 200\n",
      "[679 597 525 435]\n",
      "9 58352\n",
      "label threshold 200\n",
      "[679 597 525 435]\n",
      "10 64988\n",
      "label threshold 200\n",
      "[679 597 525 435]\n",
      "11 67860\n",
      "label threshold 200\n",
      "[679 597 525 435]\n",
      "12 69868\n"
     ]
    }
   ],
   "source": [
    "for s in range(nseries):\n",
    "\n",
    "    reader.series = s\n",
    "    reader.bundle_axes = 'yx'\n",
    "    reader.iter_axes = 'c'\n",
    "    cells = 3\n",
    "    #zproject = reader[cells]\n",
    "    #cells_mask = cell_mask(zproject,np.mean(zproject),size=100)\n",
    "    #axarr[0,0].imshow(zproject,vmin=np.mean(zproject),vmax=500,cmap='gray')\n",
    "    \n",
    "    #axarr[0,1].imshow(cm3d)\n",
    "    #cm3d = cells_mask    \n",
    "    cm3d = np.ones(reader[cells].shape)\n",
    "    axarr[0,1].imshow(cm3d)\n",
    "    label_img = multiply(reader[label],cm3d)\n",
    "    axarr[0,0].imshow(label_img,vmin=np.mean(cm3d),vmax=1500,cmap='gray')\n",
    "    chan1_img = multiply(reader[chan1],cm3d)\n",
    "    chan2_img = multiply(reader[chan2],cm3d)\n",
    "    chan3_img = multiply(reader[chan3],cm3d)\n",
    "    chan4_img = multiply(reader[chan4],cm3d)\n",
    "    \n",
    "    label_tres = 200\n",
    "    #label_tres = filters.threshold_otsu(reader[label])\n",
    "    print \"label threshold\", label_tres\n",
    "    \n",
    "    #####\n",
    "    #print label_tres\n",
    "#~ nucleus_tres = 350\n",
    "    chan1_tres = 110\n",
    "    chan2_tres = 250\n",
    "    chan3_tres = 175\n",
    "    chan4_tres = 175\n",
    "    label_real = (label_img > label_tres)\n",
    "    axarr[1,0].imshow(label_real)\n",
    "    minsmask= 8\n",
    "    maxsmask= 35\n",
    "    labels_ws = make_labels_ws(label_real,minsmask,maxsmask)\n",
    "    #labels_ws = make_labels_rw(label_real,minsmask,maxsmask)\n",
    "    axarr[1,1].imshow(labels_ws)\n",
    "    plt.draw()\n",
    "    plt.pause(0.1)\n",
    "    #f.canvas.pause(0.1)\n",
    "    #display.clear_output(wait=True)\n",
    "    #display.display(plt.gcf())\n",
    "    \n",
    "    data_chan1 = othercolor(chan1_img,labels_ws)\n",
    "    data_chan2 = othercolor(chan2_img,labels_ws)\n",
    "    data_chan3 = othercolor(chan3_img,labels_ws)\n",
    "    data_chan4 = othercolor(chan4_img,labels_ws)\n",
    "    \n",
    "    data_chan1['Filename']=ficheiro\n",
    "    data_chan1['Series']=s\n",
    "    data_chan1['Wavelength'] = int(meta.ChannelEmissionWavelength(0,chan1))\n",
    "\n",
    "    data_chan2['Filename']=ficheiro\n",
    "    data_chan2['Series']=s\n",
    "    data_chan2['Wavelength'] = int(meta.ChannelEmissionWavelength(0,chan2))\n",
    "\n",
    "    data_chan3['Filename']=ficheiro\n",
    "    data_chan3['Series']=s\n",
    "    data_chan3['Wavelength'] = int(meta.ChannelEmissionWavelength(0,chan3))\n",
    "\n",
    "    data_chan4['Filename']=ficheiro\n",
    "    data_chan4['Series']=s\n",
    "    data_chan4['Wavelength'] = int(meta.ChannelEmissionWavelength(0,chan4))\n",
    "\n",
    "\n",
    "\n",
    "    #pd.DataFrame.from_dict(data_chan1)\n",
    "    df = df.append(pd.DataFrame.from_dict(data_chan1),ignore_index = True)\n",
    "    df = df.append(pd.DataFrame.from_dict(data_chan2), ignore_index = True) \n",
    "    df = df.append(pd.DataFrame.from_dict(data_chan3), ignore_index = True)\n",
    "    df = df.append(pd.DataFrame.from_dict(data_chan4), ignore_index = True)\n",
    "\n",
    "    #[pdData['Wavelength' == 435]]['max']\n",
    "    print df.Wavelength.unique()\n",
    "    print s,len(df.index)\n",
    "\n",
    "plt.ioff()\n",
    "plt.show()"
   ]
  },
  {
   "cell_type": "code",
   "execution_count": 14,
   "metadata": {},
   "outputs": [
    {
     "data": {
      "image/png": "[encoded data removed]",
      "text/plain": [
       "<Figure size 432x288 with 1 Axes>"
      ]
     },
     "metadata": {},
     "output_type": "display_data"
    }
   ],
   "source": [
    "%matplotlib inline\n",
    "import seaborn as sns\n",
    "sns.set(style=\"ticks\")\n",
    "#sns.pairplot(df, hue='Wavelength')\n",
    "#sns.lineplot(x=\"Series\", y=\"mean\",\n",
    "#             hue=\"Wavelength\",\n",
    "#             data=df)\n",
    "#ax = sns.distplot(df[df['Wavelength'] == 679]['max'], color=\"m\")\n",
    "#ax = sns.violinplot(x=\"Wavelength\",y=\"mean\", data=df[df['Wavelength'] == 679])\n",
    "ax = sns.scatterplot(x=\"stdev\",y=\"mean\", data=df[df['Wavelength'] == 525])\n",
    "#ax.set_yscale('log')"
   ]
  },
  {
   "cell_type": "code",
   "execution_count": null,
   "metadata": {},
   "outputs": [],
   "source": [
    "plt.show()"
   ]
  },
  {
   "cell_type": "code",
   "execution_count": null,
   "metadata": {},
   "outputs": [],
   "source": []
  }
 ],
 "metadata": {
  "kernelspec": {
   "display_name": "Python 3",
   "language": "python",
   "name": "python3"
  },
  "language_info": {
   "codemirror_mode": {
    "name": "ipython",
    "version": 3
   },
   "file_extension": ".py",
   "mimetype": "text/x-python",
   "name": "python",
   "nbconvert_exporter": "python",
   "pygments_lexer": "ipython3",
   "version": "3.7.8"
  }
 },
 "nbformat": 4,
 "nbformat_minor": 2
}
