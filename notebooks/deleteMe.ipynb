{
 "cells": [
  {
   "cell_type": "code",
   "execution_count": 1,
   "id": "9590a197",
   "metadata": {},
   "outputs": [],
   "source": [
    "%matplotlib inline\n",
    "import pims\n",
    "from pims import ND2_Reader\n",
    "from ipywidgets import interact\n",
    "from ipywidgets import widgets\n",
    "from fnmatch import fnmatch\n",
    "import numpy as np\n",
    "import matplotlib.pyplot as plt\n",
    "from flowdec.nb import utils as nbutils \n",
    "from flowdec import data as fd_data\n",
    "# import pims\n",
    "# import pims\n",
    "from flowdec import restoration as fd_restoration\n",
    "from flowdec import data as fd_data\n",
    "from flowdec import psf as fd_psf\n",
    "import dask\n",
    "import dask.array as da\n",
    "import tifffile as tf\n",
    "from nd2reader import ND2Reader\n",
    "# from pims import ND2_Reader \n",
    "# import aicsimageio.vendor.omexml as ome\n",
    "import glob\n",
    "import time, sys,os\n",
    "sys.path.insert(0,'./libraries')\n",
    "from deco_libraries import update_progress, pimsmeta2OMEXML, Nd2meta2OMEXML, observer, init_RL_algo, deconv, depth_divide\n",
    "from deco_libraries import SelectFilesButton, tick_choices, get_deltaT"
   ]
  },
  {
   "cell_type": "code",
   "execution_count": 2,
   "id": "4123c19c",
   "metadata": {},
   "outputs": [
    {
     "data": {
      "application/vnd.jupyter.widget-view+json": {
       "model_id": "ec67bb12f8084346a5057dcbae7aa79a",
       "version_major": 2,
       "version_minor": 0
      },
      "text/plain": [
       "Button(description='Select Files', icon='square-o', style=ButtonStyle(button_color='orange'))"
      ]
     },
     "metadata": {},
     "output_type": "display_data"
    },
    {
     "data": {
      "application/vnd.jupyter.widget-view+json": {
       "model_id": "3750cc54fccb42b6a5e9347fb1da12be",
       "version_major": 2,
       "version_minor": 0
      },
      "text/plain": [
       "Button(description='Select Directory', icon='square-o', style=ButtonStyle(button_color='orange'))"
      ]
     },
     "metadata": {},
     "output_type": "display_data"
    },
    {
     "data": {
      "text/plain": [
       "<deco_libraries.SelectFilesButton at 0x7fb0e4524d50>"
      ]
     },
     "execution_count": 2,
     "metadata": {},
     "output_type": "execute_result"
    }
   ],
   "source": [
    "my_button = SelectFilesButton()\n",
    "my_button # This will display the button in the context of Jupyter Notebook"
   ]
  },
  {
   "cell_type": "code",
   "execution_count": 3,
   "id": "c18888ec",
   "metadata": {},
   "outputs": [],
   "source": [
    "if my_button.button.pick:\n",
    "    filelist = my_button.button.files\n",
    "elif my_button.button2.pick:\n",
    "    patterns = (\"*.nd2\",\"*.ome.tifNO\")\n",
    "    filelist = [f.path for f in os.scandir(my_button.button2.files) if any(fnmatch(f, p) for p in patterns)]\n",
    "    filelist.sort()"
   ]
  },
  {
   "cell_type": "code",
   "execution_count": 4,
   "id": "b4bf4f49",
   "metadata": {},
   "outputs": [
    {
     "name": "stdout",
     "output_type": "stream",
     "text": [
      "{'x': 2048, 'y': 2048, 't': 1}\n",
      "['DAPI']\n"
     ]
    },
    {
     "name": "stderr",
     "output_type": "stream",
     "text": [
      "/home/jmamede/anaconda3/lib/python3.7/site-packages/nd2reader/raw_metadata.py:173: UserWarning: Z-levels details missing in metadata. Using Z-coordinates instead.\n",
      "  warnings.warn(\"Z-levels details missing in metadata. Using Z-coordinates instead.\")\n"
     ]
    },
    {
     "data": {
      "text/plain": [
       "<FramesSequenceND>\n",
       "Axes: 3\n",
       "Axis 'x' size: 2048\n",
       "Axis 'y' size: 2048\n",
       "Axis 't' size: 1\n",
       "Pixel Datatype: <class 'numpy.float64'>"
      ]
     },
     "execution_count": 4,
     "metadata": {},
     "output_type": "execute_result"
    }
   ],
   "source": [
    "#Load the first file for reference and what's inside the file\n",
    "frames = ND2Reader(filelist[0])\n",
    "print(frames.sizes)\n",
    "#Grab metadata\n",
    "metadata = frames.metadata\n",
    "print(metadata['channels'])\n",
    "\n",
    "#If you don't have enough VRAM divide the XY to do the deconvolution that is automatically assembled after\n",
    "xdivide = round(frames.sizes['x']/1024)\n",
    "ydivide = round(frames.sizes['y']/1024)\n",
    "depthdivide = depth_divide(xdivide, ydivide)\n",
    "frames"
   ]
  },
  {
   "cell_type": "code",
   "execution_count": 5,
   "id": "2268cffe",
   "metadata": {},
   "outputs": [
    {
     "data": {
      "text/plain": [
       "{'height': 2048,\n",
       " 'width': 2048,\n",
       " 'date': datetime.datetime(2021, 8, 25, 11, 0, 48),\n",
       " 'fields_of_view': [0],\n",
       " 'frames': [0],\n",
       " 'z_levels': range(0, 1),\n",
       " 'z_coordinates': [5612.75],\n",
       " 'x_coordinates': [4596.8],\n",
       " 'y_coordinates': [2695.6000000000004],\n",
       " 'total_images_per_channel': 1,\n",
       " 'channels': ['DAPI'],\n",
       " 'pixel_microns': 0.1625,\n",
       " 'num_frames': 1,\n",
       " 'experiment': {'description': 'unknown', 'loops': []},\n",
       " 'events': []}"
      ]
     },
     "execution_count": 5,
     "metadata": {},
     "output_type": "execute_result"
    }
   ],
   "source": [
    "metadata"
   ]
  },
  {
   "cell_type": "code",
   "execution_count": null,
   "id": "6c29be2c",
   "metadata": {},
   "outputs": [],
   "source": [
    "frames.metadata"
   ]
  },
  {
   "cell_type": "code",
   "execution_count": null,
   "id": "2913c209",
   "metadata": {},
   "outputs": [],
   "source": []
  }
 ],
 "metadata": {
  "kernelspec": {
   "display_name": "Python 3",
   "language": "python",
   "name": "python3"
  },
  "language_info": {
   "codemirror_mode": {
    "name": "ipython",
    "version": 3
   },
   "file_extension": ".py",
   "mimetype": "text/x-python",
   "name": "python",
   "nbconvert_exporter": "python",
   "pygments_lexer": "ipython3",
   "version": "3.7.10"
  }
 },
 "nbformat": 4,
 "nbformat_minor": 5
}
