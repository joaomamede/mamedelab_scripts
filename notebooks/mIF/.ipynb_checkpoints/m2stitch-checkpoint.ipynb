{
 "cells": [
  {
   "cell_type": "code",
   "execution_count": null,
   "id": "0b85ff32",
   "metadata": {},
   "outputs": [],
   "source": [
    "# coding: utf-8\n",
    "from os import path\n",
    "\n",
    "import numpy as np\n",
    "import pandas as pd\n",
    "\n",
    "import m2stitch\n",
    "\n",
    "# script_path = path.dirname(path.realpath(__file__))\n",
    "script_path = '/run/media/jmamede/Joao/multiplex/ENDO/img1'\n",
    "image_file_path = path.join(script_path, \"../tests/data/testimages.npy\")\n",
    "props_file_path = path.join(script_path, \"../tests/data/testimages_props.csv\")\n",
    "images = np.load(image_file_path)\n",
    "props = pd.read_csv(props_file_path, index_col=0)\n",
    "rows = props[\"row\"].to_list()\n",
    "cols = props[\"col\"].to_list()\n",
    "\n",
    "print(images.shape)\n",
    "# must be 3-dim, with each dimension meaning (tile_index,x,y)\n",
    "print(rows)\n",
    "# the row indices for each tile index. for example, [1,1,2,2,2,...]\n",
    "print(cols)\n",
    "# the column indices for each tile index. for example, [2,3,1,2,3,...]\n",
    "\n",
    "result_df, _ = m2stitch.stitch_images(images, rows, cols)\n",
    "\n",
    "print(result_df[\"x_pos\"])\n",
    "# the absolute x positions of the tiles\n",
    "print(result_df[\"y_pos\"])\n",
    "# the absolute y positions of the tiles\n",
    "\n",
    "\n",
    "# stitching example\n",
    "result_df[\"x_pos2\"] = result_df[\"x_pos\"] - result_df[\"x_pos\"].min()\n",
    "result_df[\"y_pos2\"] = result_df[\"y_pos\"] - result_df[\"y_pos\"].min()\n",
    "\n",
    "size_x = images.shape[1]\n",
    "size_y = images.shape[2]\n",
    "\n",
    "stitched_image_size = (\n",
    "    result_df[\"x_pos2\"].max() + size_x,\n",
    "    result_df[\"y_pos2\"].max() + size_y,\n",
    ")\n",
    "stitched_image = np.zeros_like(images, shape=stitched_image_size)\n",
    "for i, row in result_df.iterrows():\n",
    "    stitched_image[\n",
    "        row[\"x_pos2\"] : row[\"x_pos2\"] + size_x,\n",
    "        row[\"y_pos2\"] : row[\"y_pos2\"] + size_y,\n",
    "    ] = images[i]\n",
    "\n",
    "result_image_file_path = path.join(script_path, \"stitched_image.npy\")\n",
    "np.save(result_image_file_path, stitched_image)"
   ]
  }
 ],
 "metadata": {
  "kernelspec": {
   "display_name": "Python 3",
   "language": "python",
   "name": "python3"
  },
  "language_info": {
   "codemirror_mode": {
    "name": "ipython",
    "version": 3
   },
   "file_extension": ".py",
   "mimetype": "text/x-python",
   "name": "python",
   "nbconvert_exporter": "python",
   "pygments_lexer": "ipython3",
   "version": "3.7.10"
  }
 },
 "nbformat": 4,
 "nbformat_minor": 5
}
