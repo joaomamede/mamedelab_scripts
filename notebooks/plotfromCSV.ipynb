{
 "cells": [
  {
   "cell_type": "code",
   "execution_count": 1,
   "metadata": {},
   "outputs": [],
   "source": [
    "import pandas\n",
    "import seaborn as sns\n",
    "w\n",
    "# sns.set(font_scale = 2,style=\"whitegrid\")\n",
    "reader = pandas.read_csv('/home/jmamede/Rush/Data/D116G/percentages_counts500nm.csv')"
   ]
  },
  {
   "cell_type": "code",
   "execution_count": 2,
   "metadata": {},
   "outputs": [
    {
     "data": {
      "text/html": [
       "<div>\n",
       "<style scoped>\n",
       "    .dataframe tbody tr th:only-of-type {\n",
       "        vertical-align: middle;\n",
       "    }\n",
       "\n",
       "    .dataframe tbody tr th {\n",
       "        vertical-align: top;\n",
       "    }\n",
       "\n",
       "    .dataframe thead th {\n",
       "        text-align: right;\n",
       "    }\n",
       "</style>\n",
       "<table border=\"1\" class=\"dataframe\">\n",
       "  <thead>\n",
       "    <tr style=\"text-align: right;\">\n",
       "      <th></th>\n",
       "      <th>Row</th>\n",
       "      <th>Visit</th>\n",
       "      <th>Count</th>\n",
       "      <th>Type</th>\n",
       "    </tr>\n",
       "  </thead>\n",
       "  <tbody>\n",
       "    <tr>\n",
       "      <th>0</th>\n",
       "      <td>Vpr-mRuby3IN-D116N</td>\n",
       "      <td>10</td>\n",
       "      <td>753.0</td>\n",
       "      <td>AG3Count</td>\n",
       "    </tr>\n",
       "    <tr>\n",
       "      <th>1</th>\n",
       "      <td>Vpr-mRuby3IN-D116N</td>\n",
       "      <td>1</td>\n",
       "      <td>810.0</td>\n",
       "      <td>AG3Count</td>\n",
       "    </tr>\n",
       "    <tr>\n",
       "      <th>2</th>\n",
       "      <td>Vpr-mRuby3IN-D116N</td>\n",
       "      <td>2</td>\n",
       "      <td>748.0</td>\n",
       "      <td>AG3Count</td>\n",
       "    </tr>\n",
       "    <tr>\n",
       "      <th>3</th>\n",
       "      <td>Vpr-mRuby3IN-D116N</td>\n",
       "      <td>3</td>\n",
       "      <td>754.0</td>\n",
       "      <td>AG3Count</td>\n",
       "    </tr>\n",
       "    <tr>\n",
       "      <th>4</th>\n",
       "      <td>Vpr-mRuby3IN-D116N</td>\n",
       "      <td>4</td>\n",
       "      <td>499.0</td>\n",
       "      <td>AG3Count</td>\n",
       "    </tr>\n",
       "  </tbody>\n",
       "</table>\n",
       "</div>"
      ],
      "text/plain": [
       "                  Row  Visit  Count      Type\n",
       "0  Vpr-mRuby3IN-D116N     10  753.0  AG3Count\n",
       "1  Vpr-mRuby3IN-D116N      1  810.0  AG3Count\n",
       "2  Vpr-mRuby3IN-D116N      2  748.0  AG3Count\n",
       "3  Vpr-mRuby3IN-D116N      3  754.0  AG3Count\n",
       "4  Vpr-mRuby3IN-D116N      4  499.0  AG3Count"
      ]
     },
     "execution_count": 2,
     "metadata": {},
     "output_type": "execute_result"
    }
   ],
   "source": [
    "reader.head()\n",
    "# reader = reader.replace(to_replace='optiR3-D117',value='mRuby3-D116N')\n",
    "# reader = reader.replace(to_replace='sfGFPD117',value='sfGFP-D116N')\n",
    "# reader = reader.replace(to_replace='D116',value='-D116N')"
   ]
  },
  {
   "cell_type": "code",
   "execution_count": 5,
   "metadata": {},
   "outputs": [],
   "source": [
    "%matplotlib qt5\n",
    "# ax = sns.stripplot(x=\"Row\",y=\"Count\", \n",
    "#                  hue='Type',\n",
    "#                  data=reader[reader['Type'] != 'PercentageDual'],\n",
    "# #                    showfliers=False\n",
    "#                   )\n",
    "ax = sns.barplot(x=\"Row\",y=\"Count\", \n",
    "                 hue='Type',\n",
    "                 data=reader[reader['Type'] != 'PercentageDual'],\n",
    "#                    showfliers=False\n",
    "                  )\n",
    "# ax = sns.boxplot(x=\"Row\",y=\"FluoCount\", \n",
    "# #                  hue='FluoCount',\n",
    "#                  data=reader,\n",
    "#                    showfliers=False\n",
    "#                   )"
   ]
  },
  {
   "cell_type": "code",
   "execution_count": 6,
   "metadata": {},
   "outputs": [],
   "source": [
    "ax = sns.barplot(x=\"Row\",y=\"Count\", \n",
    "#                  hue='Type',\n",
    "                 data=reader[reader['Type'] == 'PercentageDual'],\n",
    "#                    showfliers=False\n",
    "                  )"
   ]
  },
  {
   "cell_type": "code",
   "execution_count": null,
   "metadata": {},
   "outputs": [],
   "source": []
  }
 ],
 "metadata": {
  "kernelspec": {
   "display_name": "Python 3",
   "language": "python",
   "name": "python3"
  },
  "language_info": {
   "codemirror_mode": {
    "name": "ipython",
    "version": 3
   },
   "file_extension": ".py",
   "mimetype": "text/x-python",
   "name": "python",
   "nbconvert_exporter": "python",
   "pygments_lexer": "ipython3",
   "version": "3.7.8"
  }
 },
 "nbformat": 4,
 "nbformat_minor": 4
}
