{
 "cells": [
  {
   "cell_type": "code",
   "execution_count": 1,
   "metadata": {},
   "outputs": [],
   "source": [
    "import pandas as pd\n",
    "import matplotlib\n",
    "import seaborn as sns\n",
    "import pims\n",
    "from matplotlib.widgets import Slider, Button, RadioButtons\n",
    "%matplotlib qt5\n",
    "sns.set(style=\"ticks\")"
   ]
  },
  {
   "cell_type": "code",
   "execution_count": 2,
   "metadata": {},
   "outputs": [],
   "source": [
    "df = pd.read_hdf('stored_data_iGFPlabeel.h5')\n"
   ]
  },
  {
   "cell_type": "code",
   "execution_count": 3,
   "metadata": {},
   "outputs": [
    {
     "name": "stdout",
     "output_type": "stream",
     "text": [
      "Index([u'COMX 679', u'COMY 679', u'Threshold 679', u'Wavelength 679',\n",
      "       u'max 679', u'mean 679', u'median 679', u'stdev 679', u'sum 679',\n",
      "       u'COMX 597', u'COMY 597', u'Threshold 597', u'Wavelength 597',\n",
      "       u'max 597', u'mean 597', u'median 597', u'stdev 597', u'sum 597',\n",
      "       u'COMX 525', u'COMY 525', u'Threshold 525', u'Wavelength 525',\n",
      "       u'max 525', u'mean 525', u'median 525', u'stdev 525', u'sum 525',\n",
      "       u'COMX 435', u'COMY 435', u'Threshold 435', u'Wavelength 435',\n",
      "       u'max 435', u'mean 435', u'median 435', u'stdev 435', u'sum 435',\n",
      "       u'Filename', u'PlateRow'],\n",
      "      dtype='object')\n"
     ]
    }
   ],
   "source": [
    "print df.keys()"
   ]
  },
  {
   "cell_type": "code",
   "execution_count": 4,
   "metadata": {},
   "outputs": [
    {
     "name": "stdout",
     "output_type": "stream",
     "text": [
      "Index([u'COMX 679', u'COMY 679', u'Threshold 679', u'Wavelength 679',\n",
      "       u'max 679', u'mean 679', u'median 679', u'stdev 679', u'sum 679',\n",
      "       u'COMX 597', u'COMY 597', u'Threshold 597', u'Wavelength 597',\n",
      "       u'max 597', u'mean 597', u'median 597', u'stdev 597', u'sum 597',\n",
      "       u'COMX 525', u'COMY 525', u'Threshold 525', u'Wavelength 525',\n",
      "       u'max 525', u'mean 525', u'median 525', u'stdev 525', u'sum 525',\n",
      "       u'COMX 435', u'COMY 435', u'Threshold 435', u'Wavelength 435',\n",
      "       u'max 435', u'mean 435', u'median 435', u'stdev 435', u'sum 435',\n",
      "       u'Filename', u'PlateRow'],\n",
      "      dtype='object')\n",
      "['B' 'D']\n"
     ]
    },
    {
     "ename": "AttributeError",
     "evalue": "'DataFrame' object has no attribute 'VisitP'",
     "output_type": "error",
     "traceback": [
      "\u001b[0;31m---------------------------------------------------------------------------\u001b[0m",
      "\u001b[0;31mAttributeError\u001b[0m                            Traceback (most recent call last)",
      "\u001b[0;32m<ipython-input-4-bfe48e653b0d>\u001b[0m in \u001b[0;36m<module>\u001b[0;34m()\u001b[0m\n\u001b[1;32m      1\u001b[0m \u001b[0;32mprint\u001b[0m \u001b[0mdf\u001b[0m\u001b[0;34m.\u001b[0m\u001b[0mcolumns\u001b[0m\u001b[0;34m\u001b[0m\u001b[0m\n\u001b[1;32m      2\u001b[0m \u001b[0;32mprint\u001b[0m \u001b[0mdf\u001b[0m\u001b[0;34m.\u001b[0m\u001b[0mPlateRow\u001b[0m\u001b[0;34m.\u001b[0m\u001b[0munique\u001b[0m\u001b[0;34m(\u001b[0m\u001b[0;34m)\u001b[0m\u001b[0;34m\u001b[0m\u001b[0m\n\u001b[0;32m----> 3\u001b[0;31m \u001b[0;32mprint\u001b[0m \u001b[0mdf\u001b[0m\u001b[0;34m.\u001b[0m\u001b[0mVisitP\u001b[0m\u001b[0;34m.\u001b[0m\u001b[0munique\u001b[0m\u001b[0;34m(\u001b[0m\u001b[0;34m)\u001b[0m\u001b[0;34m\u001b[0m\u001b[0m\n\u001b[0m",
      "\u001b[0;32m/home/jmamede/anaconda2/lib/python2.7/site-packages/pandas/core/generic.pyc\u001b[0m in \u001b[0;36m__getattr__\u001b[0;34m(self, name)\u001b[0m\n\u001b[1;32m   5065\u001b[0m             \u001b[0;32mif\u001b[0m \u001b[0mself\u001b[0m\u001b[0;34m.\u001b[0m\u001b[0m_info_axis\u001b[0m\u001b[0;34m.\u001b[0m\u001b[0m_can_hold_identifiers_and_holds_name\u001b[0m\u001b[0;34m(\u001b[0m\u001b[0mname\u001b[0m\u001b[0;34m)\u001b[0m\u001b[0;34m:\u001b[0m\u001b[0;34m\u001b[0m\u001b[0m\n\u001b[1;32m   5066\u001b[0m                 \u001b[0;32mreturn\u001b[0m \u001b[0mself\u001b[0m\u001b[0;34m[\u001b[0m\u001b[0mname\u001b[0m\u001b[0;34m]\u001b[0m\u001b[0;34m\u001b[0m\u001b[0m\n\u001b[0;32m-> 5067\u001b[0;31m             \u001b[0;32mreturn\u001b[0m \u001b[0mobject\u001b[0m\u001b[0;34m.\u001b[0m\u001b[0m__getattribute__\u001b[0m\u001b[0;34m(\u001b[0m\u001b[0mself\u001b[0m\u001b[0;34m,\u001b[0m \u001b[0mname\u001b[0m\u001b[0;34m)\u001b[0m\u001b[0;34m\u001b[0m\u001b[0m\n\u001b[0m\u001b[1;32m   5068\u001b[0m \u001b[0;34m\u001b[0m\u001b[0m\n\u001b[1;32m   5069\u001b[0m     \u001b[0;32mdef\u001b[0m \u001b[0m__setattr__\u001b[0m\u001b[0;34m(\u001b[0m\u001b[0mself\u001b[0m\u001b[0;34m,\u001b[0m \u001b[0mname\u001b[0m\u001b[0;34m,\u001b[0m \u001b[0mvalue\u001b[0m\u001b[0;34m)\u001b[0m\u001b[0;34m:\u001b[0m\u001b[0;34m\u001b[0m\u001b[0m\n",
      "\u001b[0;31mAttributeError\u001b[0m: 'DataFrame' object has no attribute 'VisitP'"
     ]
    }
   ],
   "source": [
    "print df.columns\n",
    "print df.PlateRow.unique()\n",
    "print df.VisitP.unique()\n"
   ]
  },
  {
   "cell_type": "code",
   "execution_count": 5,
   "metadata": {},
   "outputs": [
    {
     "name": "stdout",
     "output_type": "stream",
     "text": [
      "['/home/jmamede/Area51/WorkAnalyze/pqbp1/iCas9PQBP1/1stExp/noVpx/B7_001_PQBP1AF647_cGASdy405_iGFP_GIR3_004_P10_R3D_D3D_PRJ.dv'\n",
      " '/home/jmamede/Area51/WorkAnalyze/pqbp1/iCas9PQBP1/1stExp/noVpx/B7_001_PQBP1AF647_cGASdy405_iGFP_GIR3_004_P1_R3D_D3D_PRJ.dv'\n",
      " '/home/jmamede/Area51/WorkAnalyze/pqbp1/iCas9PQBP1/1stExp/noVpx/B7_001_PQBP1AF647_cGASdy405_iGFP_GIR3_004_P2_R3D_D3D_PRJ.dv'\n",
      " '/home/jmamede/Area51/WorkAnalyze/pqbp1/iCas9PQBP1/1stExp/noVpx/B7_001_PQBP1AF647_cGASdy405_iGFP_GIR3_004_P3_R3D_D3D_PRJ.dv'\n",
      " '/home/jmamede/Area51/WorkAnalyze/pqbp1/iCas9PQBP1/1stExp/noVpx/B7_001_PQBP1AF647_cGASdy405_iGFP_GIR3_004_P4_R3D_D3D_PRJ.dv'\n",
      " '/home/jmamede/Area51/WorkAnalyze/pqbp1/iCas9PQBP1/1stExp/noVpx/B7_001_PQBP1AF647_cGASdy405_iGFP_GIR3_004_P5_R3D_D3D_PRJ.dv'\n",
      " '/home/jmamede/Area51/WorkAnalyze/pqbp1/iCas9PQBP1/1stExp/noVpx/B7_001_PQBP1AF647_cGASdy405_iGFP_GIR3_004_P6_R3D_D3D_PRJ.dv'\n",
      " '/home/jmamede/Area51/WorkAnalyze/pqbp1/iCas9PQBP1/1stExp/noVpx/B7_001_PQBP1AF647_cGASdy405_iGFP_GIR3_004_P7_R3D_D3D_PRJ.dv'\n",
      " '/home/jmamede/Area51/WorkAnalyze/pqbp1/iCas9PQBP1/1stExp/noVpx/B7_001_PQBP1AF647_cGASdy405_iGFP_GIR3_004_P8_R3D_D3D_PRJ.dv'\n",
      " '/home/jmamede/Area51/WorkAnalyze/pqbp1/iCas9PQBP1/1stExp/noVpx/B7_001_PQBP1AF647_cGASdy405_iGFP_GIR3_004_P9_R3D_D3D_PRJ.dv'\n",
      " '/home/jmamede/Area51/WorkAnalyze/pqbp1/iCas9PQBP1/1stExp/noVpx/D7_001_PQBP1AF647_cGASdy405_iGFP_GIR3_001_P10_R3D_D3D_PRJ.dv'\n",
      " '/home/jmamede/Area51/WorkAnalyze/pqbp1/iCas9PQBP1/1stExp/noVpx/D7_001_PQBP1AF647_cGASdy405_iGFP_GIR3_001_P1_R3D_D3D_PRJ.dv'\n",
      " '/home/jmamede/Area51/WorkAnalyze/pqbp1/iCas9PQBP1/1stExp/noVpx/D7_001_PQBP1AF647_cGASdy405_iGFP_GIR3_001_P2_R3D_D3D_PRJ.dv'\n",
      " '/home/jmamede/Area51/WorkAnalyze/pqbp1/iCas9PQBP1/1stExp/noVpx/D7_001_PQBP1AF647_cGASdy405_iGFP_GIR3_001_P3_R3D_D3D_PRJ.dv'\n",
      " '/home/jmamede/Area51/WorkAnalyze/pqbp1/iCas9PQBP1/1stExp/noVpx/D7_001_PQBP1AF647_cGASdy405_iGFP_GIR3_001_P4_R3D_D3D_PRJ.dv'\n",
      " '/home/jmamede/Area51/WorkAnalyze/pqbp1/iCas9PQBP1/1stExp/noVpx/D7_001_PQBP1AF647_cGASdy405_iGFP_GIR3_001_P5_R3D_D3D_PRJ.dv'\n",
      " '/home/jmamede/Area51/WorkAnalyze/pqbp1/iCas9PQBP1/1stExp/noVpx/D7_001_PQBP1AF647_cGASdy405_iGFP_GIR3_001_P6_R3D_D3D_PRJ.dv'\n",
      " '/home/jmamede/Area51/WorkAnalyze/pqbp1/iCas9PQBP1/1stExp/noVpx/D7_001_PQBP1AF647_cGASdy405_iGFP_GIR3_001_P7_R3D_D3D_PRJ.dv'\n",
      " '/home/jmamede/Area51/WorkAnalyze/pqbp1/iCas9PQBP1/1stExp/noVpx/D7_001_PQBP1AF647_cGASdy405_iGFP_GIR3_001_P8_R3D_D3D_PRJ.dv'\n",
      " '/home/jmamede/Area51/WorkAnalyze/pqbp1/iCas9PQBP1/1stExp/noVpx/D7_001_PQBP1AF647_cGASdy405_iGFP_GIR3_001_P9_R3D_D3D_PRJ.dv']\n"
     ]
    }
   ],
   "source": [
    "print df.Filename.unique()"
   ]
  },
  {
   "cell_type": "code",
   "execution_count": 6,
   "metadata": {},
   "outputs": [],
   "source": [
    "%matplotlib qt5\n",
    "ficheiro =  '/home/jmamede/Area51/WorkAnalyze/pqbp1/iCas9PQBP1/1stExp/noVpx/D7_001_PQBP1AF647_cGASdy405_iGFP_GIR3_001_P9_R3D_D3D_PRJ.dv'\n",
    "#ficheiro =  '/home/jmamede/Area51/WorkAnalyze/pqbp1/iCas9PQBP1/20200130/Plate1/E04_P4_real_P6_R3D_D3D_PRJ.dv'\n",
    "#ficheiro =  '/home/jmamede/Area51/WorkAnalyze/pqbp1/iCas9PQBP1/20200130/Plate1/E02_P3_R3D_D3D_PRJ.dv'\n",
    "\n",
    "cells=3\n",
    "#    virus=0\n",
    "label=1\n",
    "#pqbp1\n",
    "chan1=0\n",
    "    #IN\n",
    "chan2=1\n",
    "    #GFP\n",
    "chan3=2\n",
    "    #cGAS\n",
    "chan4=3"
   ]
  },
  {
   "cell_type": "code",
   "execution_count": 7,
   "metadata": {},
   "outputs": [
    {
     "name": "stderr",
     "output_type": "stream",
     "text": [
      "/home/jmamede/anaconda2/lib/python2.7/site-packages/jpype/_core.py:210: UserWarning: \n",
      "-------------------------------------------------------------------------------\n",
      "Deprecated: convertStrings was not specified when starting the JVM. The default\n",
      "behavior in JPype will be False starting in JPype 0.8. The recommended setting\n",
      "for new code is convertStrings=False.  The legacy value of True was assumed for\n",
      "this session. If you are a user of an application that reported this warning,\n",
      "please file a ticket with the developer.\n",
      "-------------------------------------------------------------------------------\n",
      "\n",
      "  \"\"\")\n"
     ]
    },
    {
     "name": "stdout",
     "output_type": "stream",
     "text": [
      "<FramesSequenceND>\n",
      "Axes: 3\n",
      "Axis 'y' size: 1200\n",
      "Axis 'x' size: 1200\n",
      "Axis 'c' size: 4\n",
      "Pixel Datatype: <u2\n"
     ]
    }
   ],
   "source": [
    "#%matplotlib inline\n",
    "%matplotlib qt5\n",
    "#for ficheiro in df.Filename.unique():\n",
    "reader = pims.bioformats.BioformatsReader(ficheiro,java_memory='1024m')\n",
    "#reader = pims.ReaderSequence(ficheiro, pims.bioformats.BioformatsReader)\n",
    "meta = reader.metadata\n",
    "nseries = meta.ImageCount()\n",
    "plot= True\n",
    "reader.bundle_axes = 'yx'\n",
    "reader.iter_axes = 'c'\n",
    "\n",
    "\n",
    "if plot: f, axarr = plt.subplots(2,2,sharex=True, sharey=True)\n",
    "\n",
    "\n",
    "\n",
    "s=0\n",
    "    #for s in range(nseries):\n",
    "        #reader.series = s\n",
    "        #if z>1: else\n",
    "    #    reader.bundle_axes = 'zyx'\n",
    "label_img = reader[label]\n",
    "cell_img = reader[cells]\n",
    "print reader\n",
    "if plot: \n",
    "    axarr[0,0].imshow(label_img,vmin=np.mean(label_img),vmax=np.mean(label_img)*5,cmap='gray')\n",
    "    axarr[0,0].set_title('Viral Particles - IN-mRuby3')\n",
    "\n",
    "\n",
    "    axarr[0,1].imshow(cell_img,vmin=np.mean(cell_img),vmax=np.mean(cell_img)*3,cmap='gray')\n",
    "    axarr[0,1].set_title('cGAS-Dylight405')\n",
    "    axarr[1,0].imshow(reader[0],vmin=np.mean(reader[0]),vmax=np.mean(reader[0])*3,cmap='gray')\n",
    "    axarr[1,0].set_title('PQBP1-AF647')\n",
    "    axarr[1,1].imshow(reader[2],vmin=np.mean(reader[2]),vmax=np.mean(reader[2])*3,cmap='gray')\n",
    "    axarr[1,1].set_title('iGFP')\n",
    "    df_sub = df[df['Filename'] == ficheiro]\n",
    "\n",
    "    axarr[0,0].scatter(df_sub['COMY 597'],df_sub['COMX 597'], marker='o',  color='r', facecolors='none')\n",
    "    axarr[0,1].scatter(df_sub['COMY 597'],df_sub['COMX 597'], marker='o',  color='r', facecolors='none')\n",
    "    axarr[1,0].scatter(df_sub['COMY 597'],df_sub['COMX 597'], marker='o',  color='r', facecolors='none')\n",
    "    axarr[1,1].scatter(df_sub['COMY 597'],df_sub['COMX 597'], marker='o',  color='r', facecolors='none')\n",
    "        \n",
    "        #f.savefig(ficheiro+'_test.png',dpi=600)"
   ]
  },
  {
   "cell_type": "code",
   "execution_count": null,
   "metadata": {},
   "outputs": [],
   "source": []
  },
  {
   "cell_type": "code",
   "execution_count": null,
   "metadata": {},
   "outputs": [],
   "source": []
  }
 ],
 "metadata": {
  "kernelspec": {
   "display_name": "Python 3",
   "language": "python",
   "name": "python3"
  },
  "language_info": {
   "codemirror_mode": {
    "name": "ipython",
    "version": 3
   },
   "file_extension": ".py",
   "mimetype": "text/x-python",
   "name": "python",
   "nbconvert_exporter": "python",
   "pygments_lexer": "ipython3",
   "version": "3.7.10"
  }
 },
 "nbformat": 4,
 "nbformat_minor": 2
}
