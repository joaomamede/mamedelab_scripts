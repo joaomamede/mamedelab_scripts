{
 "cells": [
  {
   "cell_type": "code",
   "execution_count": 1,
   "metadata": {},
   "outputs": [],
   "source": [
    "%matplotlib inline\n",
    "import numpy as np\n",
    "import matplotlib.pyplot as plt\n",
    "from flowdec.nb import utils as nbutils \n",
    "from flowdec import data as fd_data\n",
    "import pims\n",
    "# import pims\n",
    "from flowdec import restoration as fd_restoration\n",
    "from flowdec import data as fd_data\n",
    "from flowdec import psf as fd_psf\n",
    "import dask\n",
    "import dask.array as da\n",
    "import tifffile as tf\n",
    "from nd2reader import ND2Reader\n",
    "# from pims import ND2_Reader as ND2Reader\n",
    "# import aicsimageio.vendor.omexml as ome\n",
    "import glob"
   ]
  },
  {
   "cell_type": "code",
   "execution_count": 2,
   "metadata": {},
   "outputs": [],
   "source": [
    "# channels = ['miRFP670', 'mRuby3','FITC']\n",
    "import time, sys\n",
    "from IPython.display import clear_output\n",
    "\n",
    "sys.path.insert(0,'/home/jmamede/scripts/notebooks/libraries/')\n",
    "from deco_libraries import update_progress, pimsmeta2OMEXML, Nd2meta2OMEXML, observer, observer, init_RL_algo, deconv"
   ]
  },
  {
   "cell_type": "code",
   "execution_count": 3,
   "metadata": {},
   "outputs": [
    {
     "name": "stdout",
     "output_type": "stream",
     "text": [
      "['/home/jmamede/Data/CaRuby3/VOG/Caru3_optineon.nd2', '/home/jmamede/Data/CaRuby3/VOG/Caru3_optineon_v1.ome.tiff', '/home/jmamede/Data/CaRuby3/VOG/Caru3_optineon_v1_PRJ.ome.tiff', '/home/jmamede/Data/CaRuby3/VOG/Caru3_optineon_v2.ome.tiff', '/home/jmamede/Data/CaRuby3/VOG/Caru3_optineon_v2_PRJ.ome.tiff', '/home/jmamede/Data/CaRuby3/VOG/Caru3_optineon_v3.ome.tiff', '/home/jmamede/Data/CaRuby3/VOG/Caru3_optineon_v3_PRJ.ome.tiff', '/home/jmamede/Data/CaRuby3/VOG/Caru3_optineon_v4.ome.tiff', '/home/jmamede/Data/CaRuby3/VOG/Caru3_optineon_v4_PRJ.ome.tiff', '/home/jmamede/Data/CaRuby3/VOG/Caru3_optineon_v5.ome.tiff', '/home/jmamede/Data/CaRuby3/VOG/Caru3_optineon_v5_PRJ.ome.tiff', '/home/jmamede/Data/CaRuby3/VOG/Caruby_PSPAX.nd2', '/home/jmamede/Data/CaRuby3/VOG/iGFP_Caru3_3_3.nd2']\n",
      "{'x': 1024, 'y': 1024, 'c': 3, 'z': 7}\n",
      "523.0\n"
     ]
    },
    {
     "name": "stderr",
     "output_type": "stream",
     "text": [
      "/home/jmamede/anaconda3/lib/python3.7/site-packages/pims/bioformats.py:409: UserWarning: Due to an issue with JPype 0.6.0, reading is slower. Please consider upgrading JPype to 0.6.1 or later.\n",
      "  warn('Due to an issue with JPype 0.6.0, reading is slower. '\n"
     ]
    }
   ],
   "source": [
    "#THINGS TO CHANGE!!!!! Always keep /*.nd2 at the end\n",
    "\n",
    "dirname = \"/home/jmamede/Data/CaRuby3/VOG/*\"\n",
    "# dirname = \"D:/JM/20201222caru3/Carubyigfp_F2_Nh4cl_vitc_rutin_BVD002.nd2\"\n",
    "\n",
    "filelist = glob.glob(dirname)\n",
    "filelist.sort()\n",
    "# filelist = filelist[3:]\n",
    "print(filelist)\n",
    "\n",
    "frames = pims.bioformats.BioformatsReader(filelist[0],java_memory='1024m')\n",
    "print(frames.sizes)\n",
    "\n",
    "metadata = frames.metadata\n",
    "print(metadata.ChannelEmissionWavelength(0,0))\n",
    "\n",
    "ydivide = 1\n",
    "xdivide = 1\n",
    "\n",
    "if xdivide >1 and ydivide >1:\n",
    "    depthdivide = (0,64,64)\n",
    "elif xdivide > 1 and ydivide == 1:\n",
    "        depthdivide = (0,0,64)\n",
    "else:\n",
    "        depthdivide = (0,0,0)\n",
    "# print(frames.parser._raw_metadata.image_metadata[b'SLxExperiment'][b'ppNextLevelEx'][b''][b'ppNextLevelEx'][b''][b'uLoopPars'][b'dZStep'])\n"
   ]
  },
  {
   "cell_type": "code",
   "execution_count": 4,
   "metadata": {},
   "outputs": [
    {
     "data": {
      "text/plain": [
       "<FramesSequenceND>\n",
       "Axes: 4\n",
       "Axis 'x' size: 1024\n",
       "Axis 'y' size: 1024\n",
       "Axis 'c' size: 3\n",
       "Axis 'z' size: 7\n",
       "Pixel Datatype: <u2"
      ]
     },
     "execution_count": 4,
     "metadata": {},
     "output_type": "execute_result"
    }
   ],
   "source": [
    "frames"
   ]
  },
  {
   "cell_type": "code",
   "execution_count": 5,
   "metadata": {},
   "outputs": [
    {
     "name": "stderr",
     "output_type": "stream",
     "text": [
      "TiffPage 0: TypeError: read_bytes() missing 3 required positional arguments: 'dtype', 'count', and 'offsetsize'\n",
      "TiffPage 0: TypeError: read_bytes() missing 3 required positional arguments: 'dtype', 'count', and 'offsetsize'\n",
      "TiffPage 0: TypeError: read_bytes() missing 3 required positional arguments: 'dtype', 'count', and 'offsetsize'\n",
      "TiffPage 0: TypeError: read_bytes() missing 3 required positional arguments: 'dtype', 'count', and 'offsetsize'\n"
     ]
    },
    {
     "name": "stdout",
     "output_type": "stream",
     "text": [
      "(7, 128, 128)\n",
      "(7, 128, 128)\n"
     ]
    }
   ],
   "source": [
    "PSFdir=\"/home/jmamede/Rush/PSF/\"\n",
    "psf647 = tf.imread(PSFdir+\"/AF647_0.3_EMCCD.tif\")\n",
    "psfruby =  tf.imread(PSFdir+'/mRuby3_0.3_EMCCD.tif')\n",
    "psfgfp =  tf.imread(PSFdir+'/green_0.3_EMCCD.tif')\n",
    "psfdapi =  tf.imread(PSFdir+'/DAPI_0.3_EMCCD.tif')\n",
    "# psf647 = tf.imread(PSFdir+\"/AF647_0.5_EMCCD.tif\")\n",
    "# psfruby =  tf.imread(PSFdir+'/mRuby3_0.5_EMCCD.tif')\n",
    "# psfgfp =  tf.imread(PSFdir+'/green_0.5_EMCCD.tif')\n",
    "# psfdapi =  tf.imread(PSFdir+'/DAPI_0.5_EMCCD.tif')\n",
    "# psf647 = tf.imread(PSFdir+\"/AF647.tif\")\n",
    "# psfruby =  tf.imread(PSFdir+'/mRuby3.tif')\n",
    "# psfgfp =  tf.imread(PSFdir+'/green.tif')\n",
    "# psfdapi =  tf.imread(PSFdir+'/DAPI.tif')\n",
    "# psfruby = psf647\n",
    "# psfgfp = psf647\n",
    "# psfdapi = psf647\n",
    "remove = 8\n",
    "remove = 14\n",
    "psf647 = np.flip(psf647,\n",
    "#                  axis=0\n",
    "                )[remove:-remove]\n",
    "# [8:-8]\n",
    "\n",
    "\n",
    "psfgfp = np.flip(psfgfp,\n",
    "#                  axis=0\n",
    "                )[remove:-remove]\n",
    "psfdapi = np.flip(psfdapi,\n",
    "#                   axis=0\n",
    "                 )[remove:-remove]\n",
    "psfruby = np.flip(psfruby,\n",
    "#                   axis=0\n",
    "                 )[remove:-remove]\n",
    "\n",
    "print(psf647.shape)\n",
    "print(psfruby.shape)\n",
    "# psf647"
   ]
  },
  {
   "cell_type": "code",
   "execution_count": 6,
   "metadata": {},
   "outputs": [
    {
     "data": {
      "text/plain": [
       "['/home/jmamede/Data/CaRuby3/VOG/Caru3_optineon.nd2',\n",
       " '/home/jmamede/Data/CaRuby3/VOG/Caru3_optineon_v1.ome.tiff',\n",
       " '/home/jmamede/Data/CaRuby3/VOG/Caru3_optineon_v1_PRJ.ome.tiff',\n",
       " '/home/jmamede/Data/CaRuby3/VOG/Caru3_optineon_v2.ome.tiff',\n",
       " '/home/jmamede/Data/CaRuby3/VOG/Caru3_optineon_v2_PRJ.ome.tiff',\n",
       " '/home/jmamede/Data/CaRuby3/VOG/Caru3_optineon_v3.ome.tiff',\n",
       " '/home/jmamede/Data/CaRuby3/VOG/Caru3_optineon_v3_PRJ.ome.tiff',\n",
       " '/home/jmamede/Data/CaRuby3/VOG/Caru3_optineon_v4.ome.tiff',\n",
       " '/home/jmamede/Data/CaRuby3/VOG/Caru3_optineon_v4_PRJ.ome.tiff',\n",
       " '/home/jmamede/Data/CaRuby3/VOG/Caru3_optineon_v5.ome.tiff',\n",
       " '/home/jmamede/Data/CaRuby3/VOG/Caru3_optineon_v5_PRJ.ome.tiff',\n",
       " '/home/jmamede/Data/CaRuby3/VOG/Caruby_PSPAX.nd2',\n",
       " '/home/jmamede/Data/CaRuby3/VOG/iGFP_Caru3_3_3.nd2']"
      ]
     },
     "execution_count": 6,
     "metadata": {},
     "output_type": "execute_result"
    }
   ],
   "source": [
    "algo =init_RL_algo(psfgfp.ndim\n",
    "#                    ,pad_mode='2357',pad_min=(1,1,1)\n",
    "                   ,pad_mode='log2',pad_min=(1,1,1)\n",
    "                  )\n",
    "filelist"
   ]
  },
  {
   "cell_type": "code",
   "execution_count": 7,
   "metadata": {},
   "outputs": [
    {
     "name": "stdout",
     "output_type": "stream",
     "text": [
      "Progress: [####################] 100.0%\n"
     ]
    },
    {
     "ename": "loci.formats.FormatException",
     "evalue": "loci.formats.FormatException: No IFDs found",
     "output_type": "error",
     "traceback": [
      "\u001b[0;31m---------------------------------------------------------------------------\u001b[0m",
      "\u001b[0;31mException\u001b[0m                                 Traceback (most recent call last)",
      "\u001b[0;32m~/anaconda3/lib/python3.7/site-packages/_jpype.cpython-37m-x86_64-linux-gnu.so\u001b[0m in \u001b[0;36mloci.formats.ChannelSeparator.setId\u001b[0;34m()\u001b[0m\n",
      "\u001b[0;32m~/anaconda3/lib/python3.7/site-packages/_jpype.cpython-37m-x86_64-linux-gnu.so\u001b[0m in \u001b[0;36mloci.formats.ReaderWrapper.setId\u001b[0;34m()\u001b[0m\n",
      "\u001b[0;32m~/anaconda3/lib/python3.7/site-packages/_jpype.cpython-37m-x86_64-linux-gnu.so\u001b[0m in \u001b[0;36mloci.formats.ChannelFiller.setId\u001b[0;34m()\u001b[0m\n",
      "\u001b[0;32m~/anaconda3/lib/python3.7/site-packages/_jpype.cpython-37m-x86_64-linux-gnu.so\u001b[0m in \u001b[0;36mloci.formats.ReaderWrapper.setId\u001b[0;34m()\u001b[0m\n",
      "\u001b[0;32m~/anaconda3/lib/python3.7/site-packages/_jpype.cpython-37m-x86_64-linux-gnu.so\u001b[0m in \u001b[0;36mloci.formats.ImageReader.setId\u001b[0;34m()\u001b[0m\n",
      "\u001b[0;32m~/anaconda3/lib/python3.7/site-packages/_jpype.cpython-37m-x86_64-linux-gnu.so\u001b[0m in \u001b[0;36mloci.formats.in.TiffDelegateReader.setId\u001b[0;34m()\u001b[0m\n",
      "\u001b[0;32m~/anaconda3/lib/python3.7/site-packages/_jpype.cpython-37m-x86_64-linux-gnu.so\u001b[0m in \u001b[0;36mloci.formats.FormatReader.setId\u001b[0;34m()\u001b[0m\n",
      "\u001b[0;32m~/anaconda3/lib/python3.7/site-packages/_jpype.cpython-37m-x86_64-linux-gnu.so\u001b[0m in \u001b[0;36mloci.formats.in.BaseTiffReader.initFile\u001b[0;34m()\u001b[0m\n",
      "\u001b[0;32m~/anaconda3/lib/python3.7/site-packages/_jpype.cpython-37m-x86_64-linux-gnu.so\u001b[0m in \u001b[0;36mloci.formats.in.MinimalTiffReader.initFile\u001b[0;34m()\u001b[0m\n",
      "\u001b[0;31mException\u001b[0m: Java Exception",
      "\nThe above exception was the direct cause of the following exception:\n",
      "\u001b[0;31mloci.formats.FormatException\u001b[0m              Traceback (most recent call last)",
      "\u001b[0;32m<ipython-input-7-4b8994caf1bb>\u001b[0m in \u001b[0;36m<module>\u001b[0;34m\u001b[0m\n\u001b[1;32m      1\u001b[0m \u001b[0;32mfor\u001b[0m \u001b[0mfname\u001b[0m \u001b[0;32min\u001b[0m \u001b[0mfilelist\u001b[0m\u001b[0;34m:\u001b[0m\u001b[0;34m\u001b[0m\u001b[0;34m\u001b[0m\u001b[0m\n\u001b[0;32m----> 2\u001b[0;31m     \u001b[0mframes\u001b[0m \u001b[0;34m=\u001b[0m  \u001b[0mpims\u001b[0m\u001b[0;34m.\u001b[0m\u001b[0mbioformats\u001b[0m\u001b[0;34m.\u001b[0m\u001b[0mBioformatsReader\u001b[0m\u001b[0;34m(\u001b[0m\u001b[0mfname\u001b[0m\u001b[0;34m,\u001b[0m\u001b[0mjava_memory\u001b[0m\u001b[0;34m=\u001b[0m\u001b[0;34m'1024m'\u001b[0m\u001b[0;34m)\u001b[0m\u001b[0;34m\u001b[0m\u001b[0;34m\u001b[0m\u001b[0m\n\u001b[0m\u001b[1;32m      3\u001b[0m \u001b[0;31m#     frames.iter_axes = 't'  # 't' is the default already\u001b[0m\u001b[0;34m\u001b[0m\u001b[0;34m\u001b[0m\u001b[0;34m\u001b[0m\u001b[0m\n\u001b[1;32m      4\u001b[0m     \u001b[0mframes\u001b[0m\u001b[0;34m.\u001b[0m\u001b[0mbundle_axes\u001b[0m \u001b[0;34m=\u001b[0m \u001b[0;34m'zyx'\u001b[0m  \u001b[0;31m# when 'z' is available, this will be default\u001b[0m\u001b[0;34m\u001b[0m\u001b[0;34m\u001b[0m\u001b[0m\n\u001b[1;32m      5\u001b[0m \u001b[0;34m\u001b[0m\u001b[0m\n",
      "\u001b[0;32m~/anaconda3/lib/python3.7/site-packages/pims/bioformats.py\u001b[0m in \u001b[0;36m__init__\u001b[0;34m(self, filename, meta, java_memory, read_mode, series)\u001b[0m\n\u001b[1;32m    370\u001b[0m             \u001b[0mself\u001b[0m\u001b[0;34m.\u001b[0m\u001b[0m_metadata\u001b[0m \u001b[0;34m=\u001b[0m \u001b[0mloci\u001b[0m\u001b[0;34m.\u001b[0m\u001b[0mformats\u001b[0m\u001b[0;34m.\u001b[0m\u001b[0mMetadataTools\u001b[0m\u001b[0;34m.\u001b[0m\u001b[0mcreateOMEXMLMetadata\u001b[0m\u001b[0;34m(\u001b[0m\u001b[0;34m)\u001b[0m\u001b[0;34m\u001b[0m\u001b[0;34m\u001b[0m\u001b[0m\n\u001b[1;32m    371\u001b[0m             \u001b[0mself\u001b[0m\u001b[0;34m.\u001b[0m\u001b[0mrdr\u001b[0m\u001b[0;34m.\u001b[0m\u001b[0msetMetadataStore\u001b[0m\u001b[0;34m(\u001b[0m\u001b[0mself\u001b[0m\u001b[0;34m.\u001b[0m\u001b[0m_metadata\u001b[0m\u001b[0;34m)\u001b[0m\u001b[0;34m\u001b[0m\u001b[0;34m\u001b[0m\u001b[0m\n\u001b[0;32m--> 372\u001b[0;31m         \u001b[0mself\u001b[0m\u001b[0;34m.\u001b[0m\u001b[0mrdr\u001b[0m\u001b[0;34m.\u001b[0m\u001b[0msetId\u001b[0m\u001b[0;34m(\u001b[0m\u001b[0mself\u001b[0m\u001b[0;34m.\u001b[0m\u001b[0mfilename\u001b[0m\u001b[0;34m)\u001b[0m\u001b[0;34m\u001b[0m\u001b[0;34m\u001b[0m\u001b[0m\n\u001b[0m\u001b[1;32m    373\u001b[0m         \u001b[0;32mif\u001b[0m \u001b[0mmeta\u001b[0m\u001b[0;34m:\u001b[0m\u001b[0;34m\u001b[0m\u001b[0;34m\u001b[0m\u001b[0m\n\u001b[1;32m    374\u001b[0m             \u001b[0mself\u001b[0m\u001b[0;34m.\u001b[0m\u001b[0mmetadata\u001b[0m \u001b[0;34m=\u001b[0m \u001b[0mMetadataRetrieve\u001b[0m\u001b[0;34m(\u001b[0m\u001b[0mself\u001b[0m\u001b[0;34m.\u001b[0m\u001b[0m_metadata\u001b[0m\u001b[0;34m)\u001b[0m\u001b[0;34m\u001b[0m\u001b[0;34m\u001b[0m\u001b[0m\n",
      "\u001b[0;31mloci.formats.FormatException\u001b[0m: loci.formats.FormatException: No IFDs found"
     ]
    }
   ],
   "source": [
    "for fname in filelist:\n",
    "    frames =  pims.bioformats.BioformatsReader(fname,java_memory='1024m')\n",
    "#     frames.iter_axes = 't'  # 't' is the default already\n",
    "    frames.bundle_axes = 'zyx'  # when 'z' is available, this will be default\n",
    "\n",
    "    channels = [frames.metadata.ChannelEmissionWavelength(0,ch) for ch in range(frames.metadata.ChannelCount(0))]\n",
    "    metadata = frames.metadata\n",
    "    xml = pimsmeta2OMEXML(frames)\n",
    "    prjxml = pimsmeta2OMEXML(frames, project=True)\n",
    "\n",
    "#     psf =[]\n",
    "\n",
    "    chunk_size=(frames.sizes['z'],frames.sizes['y']//ydivide,frames.sizes['x']//xdivide)\n",
    "\n",
    "\n",
    "    # frames.iter_axes = 'v'\n",
    "    # for frame in frames:\n",
    "    #update SERIES HERE\n",
    "    nseries = metadata.ImageCount()\n",
    "    for visit in range(nseries):\n",
    "#     for visit in range(21,31):\n",
    "\n",
    "        frames.series = visit\n",
    "        stackfile = fname[:-4]+\"_v\"+str(visit+1)+'.ome.tiff'\n",
    "        prjfile = fname[:-4]+\"_v\"+str(visit+1)+'_PRJ.ome.tiff'\n",
    "        \n",
    "        with tf.TiffWriter(stackfile, bigtiff=True ,\n",
    "                           imagej=False) as tif,  tf.TiffWriter(\n",
    "                        prjfile, bigtiff=True, imagej=False) as tifprj:\n",
    "            first = True\n",
    "#             for time in range(frames.sizes['t']):\n",
    "            for time in range(1):\n",
    "\n",
    "                res = np.zeros(\n",
    "                    (frames.sizes['z'],frames.sizes['c']\n",
    "                     ,frames.sizes['y'],frames.sizes['x'])\n",
    "                    , dtype=np.float32)\n",
    "                for i in range(frames.sizes['c']):\n",
    "                    frames.default_coords['c'] = i\n",
    "#                     print('Channel:',metadata['channels'][i])\n",
    "                    ch = str(metadata.ChannelEmissionWavelength(0,i))\n",
    "                    # ['a647', 'DAPI', 'GFP']\n",
    "                    # ['FITC', 'mRuby3', 'miRFP670']\n",
    "                    # ['FRET-gYFP-dsRED', 'mRuby', 'GFP', 'DAPI']\n",
    "                    # ['a647', 'DAPI', 'GFP']\n",
    "                    if ch == 'DAPI' or ch  == '470 nm':\n",
    "                        psf = psfdapi\n",
    "                    elif ch == 'miRFP670' or ch == 'a647' or ch == 'mirfp670' or ch == 'farRED-EM' or ch == '670.0':\n",
    "                        psf = psf647\n",
    "                    elif ch == 'GFP' or ch == 'FITC'  or ch == 'GREEN-EM' or  ch == '535.0':\n",
    "                        psf = psfgfp\n",
    "                    elif ch == 'mRuby3' or ch == 'mRuby' or ch ==  '555 nm' or ch == 'RED-EM' or ch == '590.0':\n",
    "                        psf = psfruby\n",
    "                    elif ch == 'FRET-gYFP-dsRED':\n",
    "                        psf = psfruby\n",
    "                    elif ch == '548.0':\n",
    "                        psf = psfyfp\n",
    "                    elif ch == '625.0' or ch == '626.0':\n",
    "                        psf = psfch\n",
    "                    else: psf = psfruby\n",
    "\n",
    "                    arr = da.from_array(frames[time]\n",
    "    #                                     [:,0:2044,0:2044]\n",
    "    #                                     [:,:,:]              \n",
    "                                        , chunks=chunk_size)\n",
    "\n",
    "#                     print(arr.shape)\n",
    "                    res[:,i,:,:] = da.map_overlap(deconv,arr, depth  = depthdivide ,boundary='reflect',\n",
    "                                        dtype='float32', algo=algo,\n",
    "                                        psf=psf, iters=20, use_ram=1\n",
    "                                                 ).compute(num_workers=1)\n",
    "#                     res[:,i,:,:] = deconv(frames[time],\n",
    "# #                                           depth  = depthdivide, boundary='reflect', dtype='float32',\n",
    "#                                           algo=algo, psf=psf, iters=20\n",
    "#                              )\n",
    "#     .compute(num_workers=1)\n",
    "                    # res[i,:,:,:] = arr.map_blocks(\n",
    "                    # deconv,dtype='float32').compute(num_workers=1)\n",
    "\n",
    "                    # If we need to swap Channel and Z in the future\n",
    "                    #             img5d = np.swapaxes(img5d,0,1)\n",
    "\n",
    "#                     update_progress( (visit+1) * (time+1) / (nseries * frames.sizes['t']) )\n",
    "                    update_progress( (visit+1) * (time+1) / (nseries ) )\n",
    "                    print(\"Visit Point: {}/{} \\t Time:{}/{} \\t Channel:{}/{}\".format(\n",
    "                            visit+1, nseries\n",
    "                            ,time+1, 1\n",
    "#                         ,time+1, frames.sizes['t']\n",
    "                            , i+1, frames.sizes['c']))\n",
    "\n",
    "                if first:\n",
    "#                     tif.save(res.astype(np.uint16)\n",
    "# #                             , compress='LZMA'\n",
    "#                         , description = xml.to_xml()\n",
    "#                         , photometric='minisblack'\n",
    "#                         #, datetime= True\n",
    "#                         , metadata= None\n",
    "#                         , contiguous=False\n",
    "#                         )\n",
    "                    tifprj.save(res.astype(np.uint16).max(axis=0),\n",
    "#                             , compress='LZMA'\n",
    "                        description = prjxml.to_xml(),\n",
    "                        photometric='minisblack',\n",
    "                        #, datetime= True\n",
    "                        metadata= None,\n",
    "                        contiguous=False\n",
    "                        )\n",
    "                    first = False\n",
    "                else:\n",
    "#                     tif.save(res.astype(np.uint16)\n",
    "# #                             , compress='LZMA'\n",
    "# #                         , description = xml.to_xml()\n",
    "#                         , photometric='minisblack'\n",
    "#                         , metadata= None\n",
    "#                         , contiguous=False\n",
    "#                         )\n",
    "                    tifprj.save(res.astype(np.uint16).max(axis=0),\n",
    "#                             , compress='LZMA'\n",
    "#                         , description = xml.to_xml()\n",
    "                        photometric='minisblack',\n",
    "                        #, datetime= True\n",
    "                        metadata= None,\n",
    "                        contiguous=False,\n",
    "                        )\n",
    "\n",
    "        tif.close()\n",
    "        tifprj.close()\n",
    "\n",
    "    update_progress(1)"
   ]
  },
  {
   "cell_type": "code",
   "execution_count": 17,
   "metadata": {},
   "outputs": [
    {
     "data": {
      "text/plain": [
       "<weakproxy at 0x7f2e7c1a8230 to Device at 0x7f2e7c387fd0>"
      ]
     },
     "execution_count": 17,
     "metadata": {},
     "output_type": "execute_result"
    }
   ],
   "source": [
    "# print('done')\n",
    "from numba import cuda\n",
    "cuda.select_device(0)\n",
    "cuda.close()\n",
    "#the memory was released here!\n",
    "cuda.select_device(0)"
   ]
  },
  {
   "cell_type": "code",
   "execution_count": null,
   "metadata": {},
   "outputs": [],
   "source": []
  }
 ],
 "metadata": {
  "kernelspec": {
   "display_name": "Python 3",
   "language": "python",
   "name": "python3"
  },
  "language_info": {
   "codemirror_mode": {
    "name": "ipython",
    "version": 3
   },
   "file_extension": ".py",
   "mimetype": "text/x-python",
   "name": "python",
   "nbconvert_exporter": "python",
   "pygments_lexer": "ipython3",
   "version": "3.7.8"
  }
 },
 "nbformat": 4,
 "nbformat_minor": 4
}
