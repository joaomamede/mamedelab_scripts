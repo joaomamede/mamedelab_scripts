{
 "cells": [
  {
   "cell_type": "markdown",
   "metadata": {
    "id": "Z0s2fz5hUk75"
   },
   "source": [
    "### Make sure you have GPU access enabled by going to Runtime -> Change Runtime Type -> Hardware accelerator and selecting GPU\n",
    "\n",
    "![image.png](data:image/png;base64,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)"
   ]
  },
  {
   "cell_type": "code",
   "execution_count": null,
   "metadata": {
    "cellView": "form",
    "colab": {
     "base_uri": "https://localhost:8080/"
    },
    "id": "R0ZcxoN699u0",
    "outputId": "324f6f9f-3fba-49db-b28d-07fb96fba548"
   },
   "outputs": [
    {
     "name": "stdout",
     "output_type": "stream",
     "text": [
      "Collecting colab_ssh\n",
      "  Downloading colab_ssh-0.3.27-py3-none-any.whl (26 kB)\n",
      "Installing collected packages: colab-ssh\n",
      "Successfully installed colab-ssh-0.3.27\n"
     ]
    }
   ],
   "source": [
    "#@title Setup Colab_ssh and prepare other things\n",
    "# Install colab_ssh\n",
    "!pip install colab_ssh --upgrade\n",
    "!mkdir /content/mount\n",
    "# from colab_ssh import launch_ssh\n",
    "# launch_ssh('1xEyLqOzSCuiHkxbKc3pcCEtJOg_2a4omqcYK7agN8gnxP5K', 'cookies123')"
   ]
  },
  {
   "cell_type": "code",
   "execution_count": null,
   "metadata": {
    "colab": {
     "base_uri": "https://localhost:8080/"
    },
    "id": "4PZhztsz9FrV",
    "outputId": "85499706-67d9-4d87-d7f8-fe37ea37fbe5"
   },
   "outputs": [
    {
     "name": "stdout",
     "output_type": "stream",
     "text": [
      "Reading package lists... Done\n",
      "Building dependency tree       \n",
      "Reading state information... Done\n",
      "E: Unable to locate package vi\n"
     ]
    }
   ],
   "source": [
    "!apt -y install sshfs vi"
   ]
  },
  {
   "cell_type": "code",
   "execution_count": null,
   "metadata": {
    "cellView": "form",
    "colab": {
     "base_uri": "https://localhost:8080/",
     "height": 455
    },
    "id": "5r1SJFMX7_5W",
    "outputId": "8f1ecdb2-0fd6-43c7-eb43-a8b095998a24"
   },
   "outputs": [
    {
     "data": {
      "text/html": [
       "<style>\n",
       "*{\n",
       "\toutline:none;\n",
       "}\n",
       "code{\n",
       "\tdisplay:inline-block;\n",
       "\tpadding:5px 10px;\n",
       "\tbackground: #444;\n",
       "\tborder-radius: 4px;\n",
       "\twhite-space: pre-wrap;\n",
       "\tposition:relative;\n",
       "\tcolor:white;\n",
       "}\n",
       ".copy-code-button{\n",
       "\tfloat:right;\n",
       "\tbackground:#333;\n",
       "\tcolor:white;\n",
       "\tborder: none;\n",
       "\tmargin: 0 0 0 10px;\n",
       "\tcursor: pointer;\n",
       "}\n",
       "p, li{\n",
       "\tmax-width:700px;\n",
       "}\n",
       ".choices{\n",
       "\tdisplay:flex;\n",
       "\tflex: 1 0 auto;\n",
       "}\n",
       ".choice-section{\n",
       "\tborder:solid 1px #555;\n",
       "\tborder-radius: 4px;\n",
       "\tmin-width:300px;\n",
       "\tmargin: 10px 15px 0 0;\n",
       "\tpadding: 0 15px 15px 15px ;\n",
       "}\n",
       ".button{\n",
       "\tpadding: 10px 15px;\n",
       "\tbackground:#333;\n",
       "\tborder-radius: 4px;\n",
       "\tborder:solid 1px #555;\n",
       "\tcolor:white;\n",
       "\tfont-weight:bold;\n",
       "\tcursor:pointer;\n",
       "}\n",
       ".pill{\n",
       "\tpadding:2px 4px;\n",
       "\tborder-radius: 100px;\n",
       "\tbackground-color:#e65858;\n",
       "\tfont-size:12px;\n",
       "\tfont-weight:bold;\n",
       "\tmargin: 0 15px;\n",
       "\tcolor:white;\n",
       "}\n",
       "</style>\n",
       "<details class=\"choice-section\">\n",
       "\t<summary style=\"cursor:pointer\">\n",
       "\t\t<h3 style=\"display:inline-block;margin-top:15px\">⚙️ Client machine configuration<span class=\"pill\">Required</span></h3>\n",
       "\t</summary>\n",
       "\t<p>Don't worry, you only have to do this <b>once per client machine</b>.</p>\n",
       "\t<ol>\n",
       "\t\t<li>Download <a href=\"https://developers.cloudflare.com/argo-tunnel/getting-started/installation\">Cloudflared (Argo Tunnel)</a>, then copy the absolute path of the cloudflare binary</li>\n",
       "\t\t<li>Now, you have to append the following to your SSH config file (usually under ~/.ssh/config), and make sure you replace the placeholder with the path you copied in Step 1:</li>\n",
       "\t</ol>\n",
       "\t<code>Host *.trycloudflare.com\n",
       "\tHostName %h\n",
       "\tUser root\n",
       "\tPort 22\n",
       "\tProxyCommand &ltPUT_THE_ABSOLUTE_CLOUDFLARE_PATH_HERE&gt access ssh --hostname %h\n",
       "\t</code>\n",
       "</details>\n",
       "<div class=\"choices\">\n",
       "\t<div class=\"choice-section\">\n",
       "\t\t<h4>SSH Terminal</h4>\n",
       "\t\t<p>To connect using your terminal, type this command:</p>\n",
       "\t\t<code>ssh formerly-bloomberg-entertaining-specifically.trycloudflare.com</code>\n",
       "\t</div>\n",
       "\t<div class=\"choice-section\">\n",
       "\t\t<h4>VSCode Remote SSH</h4>\n",
       "\t\t<p>You can also connect with VSCode Remote SSH (Ctrl+Shift+P and type \"Connect to Host...\"). Then, paste the following hostname in the opened command palette:</p>\n",
       "\t\t<code>formerly-bloomberg-entertaining-specifically.trycloudflare.com</code>\n",
       "\t</div>\n",
       "</div>\n",
       "\n",
       "<script>\n",
       "// Copy any string\n",
       "function fallbackCopyTextToClipboard(text) {\n",
       "  var textArea = document.createElement(\"textarea\");\n",
       "  textArea.value = text;\n",
       "  \n",
       "  // Avoid scrolling to bottom\n",
       "  textArea.style.top = \"0\";\n",
       "  textArea.style.left = \"0\";\n",
       "  textArea.style.position = \"fixed\";\n",
       "\n",
       "  document.body.appendChild(textArea);\n",
       "  textArea.focus();\n",
       "  textArea.select();\n",
       "\n",
       "  try {\n",
       "    var successful = document.execCommand('copy');\n",
       "    var msg = successful ? 'successful' : 'unsuccessful';\n",
       "    console.log('Fallback: Copying text command was ' + msg);\n",
       "  } catch (err) {\n",
       "    console.error('Fallback: Oops, unable to copy', err);\n",
       "  }\n",
       "\n",
       "  document.body.removeChild(textArea);\n",
       "}\n",
       "\n",
       "// Show the copy button with every code tag\n",
       "document.querySelectorAll('code').forEach(function (codeBlock) {\n",
       "\tconst codeToCopy= codeBlock.innerText;\n",
       "\tvar pre = document.createElement('pre');\n",
       "\tpre.innerText = codeToCopy;\n",
       "    var button = document.createElement('button');\n",
       "    button.className = 'copy-code-button';\n",
       "    button.type = 'button';\n",
       "    button.innerText = 'Copy';\n",
       "\tbutton.onclick = function(){\n",
       "\t\tfallbackCopyTextToClipboard(codeToCopy);\n",
       "\t\tbutton.innerText = 'Copied'\n",
       "\t\tsetTimeout(()=>{\n",
       "\t\t\tbutton.innerText = 'Copy'\n",
       "\t\t},2000)\n",
       "\t}\n",
       "\tcodeBlock.children = pre;\n",
       "\tcodeBlock.prepend(button)\n",
       "});\n",
       "</script>\n"
      ],
      "text/plain": [
       "<IPython.core.display.HTML object>"
      ]
     },
     "metadata": {},
     "output_type": "display_data"
    }
   ],
   "source": [
    "#@title Launch cloudflared password is test123\n",
    "#We still need this to have terminal access to the machine\n",
    "from colab_ssh import launch_ssh_cloudflared, init_git_cloudflared\n",
    "launch_ssh_cloudflared('test123')\n"
   ]
  },
  {
   "cell_type": "code",
   "execution_count": null,
   "metadata": {
    "id": "6arEd11bz8Jl"
   },
   "outputs": [],
   "source": [
    "#option mount client side\n",
    "#we need to do a ssh login first because the machine needs to pass the zero trust policy. \n",
    "#Link will be provided to login\n",
    "#sshfs won't output this option\n",
    "#!ssh -o ProxyCommand=\"/content/cloudflared access ssh --hostname %h\" Colaborators@endovelicus.mamede.xyz\n"
   ]
  },
  {
   "cell_type": "code",
   "execution_count": null,
   "metadata": {
    "cellView": "form",
    "colab": {
     "base_uri": "https://localhost:8080/"
    },
    "id": "mWCmhng6bf85",
    "outputId": "742b05cf-5846-4927-e258-d1d0872fdf31"
   },
   "outputs": [
    {
     "name": "stdout",
     "output_type": "stream",
     "text": [
      "Sat Oct 30 04:21:09 2021       \n",
      "+-----------------------------------------------------------------------------+\n",
      "| NVIDIA-SMI 495.29.05    Driver Version: 460.32.03    CUDA Version: 11.2     |\n",
      "|-------------------------------+----------------------+----------------------+\n",
      "| GPU  Name        Persistence-M| Bus-Id        Disp.A | Volatile Uncorr. ECC |\n",
      "| Fan  Temp  Perf  Pwr:Usage/Cap|         Memory-Usage | GPU-Util  Compute M. |\n",
      "|                               |                      |               MIG M. |\n",
      "|===============================+======================+======================|\n",
      "|   0  Tesla K80           Off  | 00000000:00:04.0 Off |                    0 |\n",
      "| N/A   71C    P8    33W / 149W |      0MiB / 11441MiB |      0%      Default |\n",
      "|                               |                      |                  N/A |\n",
      "+-------------------------------+----------------------+----------------------+\n",
      "                                                                               \n",
      "+-----------------------------------------------------------------------------+\n",
      "| Processes:                                                                  |\n",
      "|  GPU   GI   CI        PID   Type   Process name                  GPU Memory |\n",
      "|        ID   ID                                                   Usage      |\n",
      "|=============================================================================|\n",
      "|  No running processes found                                                 |\n",
      "+-----------------------------------------------------------------------------+\n"
     ]
    }
   ],
   "source": [
    "#@title Check if GPU mode is activated.\n",
    "!nvidia-smi"
   ]
  },
  {
   "cell_type": "markdown",
   "metadata": {
    "id": "jaNYDhQlklFV"
   },
   "source": [
    "#We need to add the password in this string so that we can call it from here. So far this version works inside the console\n",
    " #!sshfs -o  reconnect,ServerAliveInterval=15,ServerAliveCountMax=3,ProxyCommand=\"/content/cloudflared access ssh --hostname %h\" Colaborators@endovelicus.mamede.xyz:/D:/ /content/mount"
   ]
  },
  {
   "cell_type": "markdown",
   "metadata": {
    "id": "FdqtoQdbkpdf"
   },
   "source": [
    "#ssh blablabla.trycloudflare.com  -R 10000:localhost:22\n",
    "#  !sshfs -p 10000  'Mamede lab'@127.0.0.1:/D:/ /content/mount/\n",
    "\n",
    " #!sshfs -o ProxyCommand=\"/content/cloudflared access ssh --hostname %h\" Colaborators@endovelicus.mamede.xyz:/D:/ /content/mount"
   ]
  },
  {
   "cell_type": "code",
   "execution_count": null,
   "metadata": {
    "cellView": "form",
    "colab": {
     "base_uri": "https://localhost:8080/"
    },
    "id": "SgHSxdUsNZc4",
    "outputId": "954fbe64-4da8-4bc6-f610-f48cdd3aed7a"
   },
   "outputs": [
    {
     "name": "stdout",
     "output_type": "stream",
     "text": [
      "Mounted at /content/drive\n"
     ]
    }
   ],
   "source": [
    "#@title Mount Google Drive to /content/drive\n",
    "from google.colab import drive\n",
    "drive.mount('/content/drive')"
   ]
  },
  {
   "cell_type": "code",
   "execution_count": null,
   "metadata": {
    "cellView": "form",
    "colab": {
     "base_uri": "https://localhost:8080/"
    },
    "id": "8I0OJnLu-a8Y",
    "outputId": "a2d33851-9258-47b0-a913-2d675d644209"
   },
   "outputs": [
    {
     "name": "stdout",
     "output_type": "stream",
     "text": [
      "Collecting nd2reader\n",
      "  Downloading nd2reader-3.3.0-py2.py3-none-any.whl (36 kB)\n",
      "Requirement already satisfied: numpy>=1.14 in /usr/local/lib/python3.7/dist-packages (from nd2reader) (1.19.5)\n",
      "Collecting xmltodict>=0.9.2\n",
      "  Downloading xmltodict-0.12.0-py2.py3-none-any.whl (9.2 kB)\n",
      "Collecting pims>=0.3.0\n",
      "  Downloading PIMS-0.5.tar.gz (85 kB)\n",
      "\u001b[K     |████████████████████████████████| 85 kB 2.7 MB/s \n",
      "\u001b[?25hRequirement already satisfied: six>=1.4 in /usr/local/lib/python3.7/dist-packages (from nd2reader) (1.15.0)\n",
      "Collecting slicerator>=0.9.8\n",
      "  Downloading slicerator-1.0.0-py3-none-any.whl (9.3 kB)\n",
      "Building wheels for collected packages: pims\n",
      "  Building wheel for pims (setup.py) ... \u001b[?25l\u001b[?25hdone\n",
      "  Created wheel for pims: filename=PIMS-0.5-py3-none-any.whl size=84326 sha256=858218e94dc8d3c006eea4533a1d5328ec12456f9f00425260844c8e449517ac\n",
      "  Stored in directory: /root/.cache/pip/wheels/75/02/a9/86571c38081ba4c1832eb95430b5d588dfa15a738e2a603737\n",
      "Successfully built pims\n",
      "Installing collected packages: slicerator, xmltodict, pims, nd2reader\n",
      "Successfully installed nd2reader-3.3.0 pims-0.5 slicerator-1.0.0 xmltodict-0.12.0\n",
      "Requirement already satisfied: pims in /usr/local/lib/python3.7/dist-packages (0.5)\n",
      "Requirement already satisfied: numpy>=1.7 in /usr/local/lib/python3.7/dist-packages (from pims) (1.19.5)\n",
      "Requirement already satisfied: six>=1.8 in /usr/local/lib/python3.7/dist-packages (from pims) (1.15.0)\n",
      "Requirement already satisfied: slicerator>=0.9.8 in /usr/local/lib/python3.7/dist-packages (from pims) (1.0.0)\n",
      "Collecting flowdec\n",
      "  Downloading flowdec-1.1.0-py3-none-any.whl (4.4 MB)\n",
      "\u001b[K     |████████████████████████████████| 4.4 MB 4.2 MB/s \n",
      "\u001b[?25hRequirement already satisfied: matplotlib in /usr/local/lib/python3.7/dist-packages (from flowdec) (3.2.2)\n",
      "Requirement already satisfied: requests in /usr/local/lib/python3.7/dist-packages (from flowdec) (2.23.0)\n",
      "Requirement already satisfied: scikit-image>=0.16.1 in /usr/local/lib/python3.7/dist-packages (from flowdec) (0.16.2)\n",
      "Requirement already satisfied: scipy>=0.19.0 in /usr/local/lib/python3.7/dist-packages (from scikit-image>=0.16.1->flowdec) (1.4.1)\n",
      "Requirement already satisfied: networkx>=2.0 in /usr/local/lib/python3.7/dist-packages (from scikit-image>=0.16.1->flowdec) (2.6.3)\n",
      "Requirement already satisfied: PyWavelets>=0.4.0 in /usr/local/lib/python3.7/dist-packages (from scikit-image>=0.16.1->flowdec) (1.1.1)\n",
      "Requirement already satisfied: imageio>=2.3.0 in /usr/local/lib/python3.7/dist-packages (from scikit-image>=0.16.1->flowdec) (2.4.1)\n",
      "Requirement already satisfied: pillow>=4.3.0 in /usr/local/lib/python3.7/dist-packages (from scikit-image>=0.16.1->flowdec) (7.1.2)\n",
      "Requirement already satisfied: numpy in /usr/local/lib/python3.7/dist-packages (from imageio>=2.3.0->scikit-image>=0.16.1->flowdec) (1.19.5)\n",
      "Requirement already satisfied: python-dateutil>=2.1 in /usr/local/lib/python3.7/dist-packages (from matplotlib->flowdec) (2.8.2)\n",
      "Requirement already satisfied: kiwisolver>=1.0.1 in /usr/local/lib/python3.7/dist-packages (from matplotlib->flowdec) (1.3.2)\n",
      "Requirement already satisfied: pyparsing!=2.0.4,!=2.1.2,!=2.1.6,>=2.0.1 in /usr/local/lib/python3.7/dist-packages (from matplotlib->flowdec) (2.4.7)\n",
      "Requirement already satisfied: cycler>=0.10 in /usr/local/lib/python3.7/dist-packages (from matplotlib->flowdec) (0.10.0)\n",
      "Requirement already satisfied: six in /usr/local/lib/python3.7/dist-packages (from cycler>=0.10->matplotlib->flowdec) (1.15.0)\n",
      "Requirement already satisfied: certifi>=2017.4.17 in /usr/local/lib/python3.7/dist-packages (from requests->flowdec) (2021.5.30)\n",
      "Requirement already satisfied: idna<3,>=2.5 in /usr/local/lib/python3.7/dist-packages (from requests->flowdec) (2.10)\n",
      "Requirement already satisfied: chardet<4,>=3.0.2 in /usr/local/lib/python3.7/dist-packages (from requests->flowdec) (3.0.4)\n",
      "Requirement already satisfied: urllib3!=1.25.0,!=1.25.1,<1.26,>=1.21.1 in /usr/local/lib/python3.7/dist-packages (from requests->flowdec) (1.24.3)\n",
      "Installing collected packages: flowdec\n",
      "Successfully installed flowdec-1.1.0\n",
      "Collecting aicsimageio==3.2.3\n",
      "  Downloading aicsimageio-3.2.3-py2.py3-none-any.whl (61 kB)\n",
      "\u001b[K     |████████████████████████████████| 61 kB 3.0 MB/s \n",
      "\u001b[?25hCollecting distributed>=2.9.3\n",
      "  Downloading distributed-2021.10.0-py3-none-any.whl (791 kB)\n",
      "\u001b[K     |████████████████████████████████| 791 kB 8.0 MB/s \n",
      "\u001b[?25hCollecting readlif>=0.2.1\n",
      "  Downloading readlif-0.6.4-py3-none-any.whl (24 kB)\n",
      "Requirement already satisfied: toolz>=0.10.0 in /usr/local/lib/python3.7/dist-packages (from aicsimageio==3.2.3) (0.11.1)\n",
      "Collecting lxml>=4.4.2\n",
      "  Downloading lxml-4.6.3-cp37-cp37m-manylinux2014_x86_64.whl (6.3 MB)\n",
      "\u001b[K     |████████████████████████████████| 6.3 MB 41.7 MB/s \n",
      "\u001b[?25hRequirement already satisfied: imageio>=2.3.0 in /usr/local/lib/python3.7/dist-packages (from aicsimageio==3.2.3) (2.4.1)\n",
      "Collecting aicspylibczi>=2.5.0\n",
      "  Downloading aicspylibczi-3.0.3-cp37-cp37m-manylinux_2_12_x86_64.manylinux2010_x86_64.whl (628 kB)\n",
      "\u001b[K     |████████████████████████████████| 628 kB 46.5 MB/s \n",
      "\u001b[?25hCollecting imagecodecs>=2020.2.18\n",
      "  Downloading imagecodecs-2021.8.26-cp37-cp37m-manylinux_2_17_x86_64.manylinux2014_x86_64.whl (29.6 MB)\n",
      "\u001b[K     |████████████████████████████████| 29.6 MB 62 kB/s \n",
      "\u001b[?25hRequirement already satisfied: tifffile>=2019.7.26.2 in /usr/local/lib/python3.7/dist-packages (from aicsimageio==3.2.3) (2021.10.12)\n",
      "Requirement already satisfied: dask>=2.9.0 in /usr/local/lib/python3.7/dist-packages (from aicsimageio==3.2.3) (2.12.0)\n",
      "Requirement already satisfied: numpy>=1.16 in /usr/local/lib/python3.7/dist-packages (from aicsimageio==3.2.3) (1.19.5)\n",
      "Requirement already satisfied: psutil>=5.0 in /usr/local/lib/python3.7/dist-packages (from distributed>=2.9.3->aicsimageio==3.2.3) (5.4.8)\n",
      "Requirement already satisfied: zict>=0.1.3 in /usr/local/lib/python3.7/dist-packages (from distributed>=2.9.3->aicsimageio==3.2.3) (2.0.0)\n",
      "Requirement already satisfied: pyyaml in /usr/local/lib/python3.7/dist-packages (from distributed>=2.9.3->aicsimageio==3.2.3) (3.13)\n",
      "Requirement already satisfied: tblib>=1.6.0 in /usr/local/lib/python3.7/dist-packages (from distributed>=2.9.3->aicsimageio==3.2.3) (1.7.0)\n",
      "Requirement already satisfied: click>=6.6 in /usr/local/lib/python3.7/dist-packages (from distributed>=2.9.3->aicsimageio==3.2.3) (7.1.2)\n",
      "Requirement already satisfied: setuptools in /usr/local/lib/python3.7/dist-packages (from distributed>=2.9.3->aicsimageio==3.2.3) (57.4.0)\n",
      "Requirement already satisfied: msgpack>=0.6.0 in /usr/local/lib/python3.7/dist-packages (from distributed>=2.9.3->aicsimageio==3.2.3) (1.0.2)\n",
      "Collecting cloudpickle>=1.5.0\n",
      "  Downloading cloudpickle-2.0.0-py3-none-any.whl (25 kB)\n",
      "Requirement already satisfied: jinja2 in /usr/local/lib/python3.7/dist-packages (from distributed>=2.9.3->aicsimageio==3.2.3) (2.11.3)\n",
      "Collecting dask>=2.9.0\n",
      "  Downloading dask-2021.10.0-py3-none-any.whl (1.0 MB)\n",
      "\u001b[K     |████████████████████████████████| 1.0 MB 43.3 MB/s \n",
      "\u001b[?25hRequirement already satisfied: sortedcontainers!=2.0.0,!=2.0.1 in /usr/local/lib/python3.7/dist-packages (from distributed>=2.9.3->aicsimageio==3.2.3) (2.4.0)\n",
      "Requirement already satisfied: tornado>=5 in /usr/local/lib/python3.7/dist-packages (from distributed>=2.9.3->aicsimageio==3.2.3) (5.1.1)\n",
      "Collecting fsspec>=0.6.0\n",
      "  Downloading fsspec-2021.10.1-py3-none-any.whl (125 kB)\n",
      "\u001b[K     |████████████████████████████████| 125 kB 51.8 MB/s \n",
      "\u001b[?25hCollecting partd>=0.3.10\n",
      "  Downloading partd-1.2.0-py3-none-any.whl (19 kB)\n",
      "Requirement already satisfied: packaging>=20.0 in /usr/local/lib/python3.7/dist-packages (from dask>=2.9.0->aicsimageio==3.2.3) (21.0)\n",
      "Requirement already satisfied: pillow in /usr/local/lib/python3.7/dist-packages (from imageio>=2.3.0->aicsimageio==3.2.3) (7.1.2)\n",
      "Requirement already satisfied: pyparsing>=2.0.2 in /usr/local/lib/python3.7/dist-packages (from packaging>=20.0->dask>=2.9.0->aicsimageio==3.2.3) (2.4.7)\n",
      "Collecting locket\n",
      "  Downloading locket-0.2.1-py2.py3-none-any.whl (4.1 kB)\n",
      "Requirement already satisfied: heapdict in /usr/local/lib/python3.7/dist-packages (from zict>=0.1.3->distributed>=2.9.3->aicsimageio==3.2.3) (1.0.1)\n",
      "Requirement already satisfied: MarkupSafe>=0.23 in /usr/local/lib/python3.7/dist-packages (from jinja2->distributed>=2.9.3->aicsimageio==3.2.3) (2.0.1)\n",
      "Installing collected packages: locket, partd, fsspec, cloudpickle, dask, readlif, lxml, imagecodecs, distributed, aicspylibczi, aicsimageio\n",
      "  Attempting uninstall: cloudpickle\n",
      "    Found existing installation: cloudpickle 1.3.0\n",
      "    Uninstalling cloudpickle-1.3.0:\n",
      "      Successfully uninstalled cloudpickle-1.3.0\n",
      "  Attempting uninstall: dask\n",
      "    Found existing installation: dask 2.12.0\n",
      "    Uninstalling dask-2.12.0:\n",
      "      Successfully uninstalled dask-2.12.0\n",
      "  Attempting uninstall: lxml\n",
      "    Found existing installation: lxml 4.2.6\n",
      "    Uninstalling lxml-4.2.6:\n",
      "      Successfully uninstalled lxml-4.2.6\n",
      "  Attempting uninstall: distributed\n",
      "    Found existing installation: distributed 1.25.3\n",
      "    Uninstalling distributed-1.25.3:\n",
      "      Successfully uninstalled distributed-1.25.3\n",
      "\u001b[31mERROR: pip's dependency resolver does not currently take into account all the packages that are installed. This behaviour is the source of the following dependency conflicts.\n",
      "gym 0.17.3 requires cloudpickle<1.7.0,>=1.2.0, but you have cloudpickle 2.0.0 which is incompatible.\u001b[0m\n",
      "Successfully installed aicsimageio-3.2.3 aicspylibczi-3.0.3 cloudpickle-2.0.0 dask-2021.10.0 distributed-2021.10.0 fsspec-2021.10.1 imagecodecs-2021.8.26 locket-0.2.1 lxml-4.6.3 partd-1.2.0 readlif-0.6.4\n"
     ]
    }
   ],
   "source": [
    "#@title Install all the needed modules with pip\n",
    "!pip install dask>2.30.0\n",
    "!pip install nd2reader\n",
    "!pip install pims\n",
    "!pip install flowdec\n",
    "!pip install aicsimageio==3.2.3"
   ]
  },
  {
   "cell_type": "code",
   "execution_count": null,
   "metadata": {
    "cellView": "form",
    "colab": {
     "base_uri": "https://localhost:8080/"
    },
    "id": "OBRg4-z3IWV1",
    "outputId": "6e1fbf08-11a4-4baa-ebb4-8854348c0e00"
   },
   "outputs": [
    {
     "name": "stdout",
     "output_type": "stream",
     "text": [
      "Imageio: 'ffmpeg-linux64-v3.3.1' was not found on your computer; downloading it now.\n",
      "Try 1. Download from https://github.com/imageio/imageio-binaries/raw/master/ffmpeg/ffmpeg-linux64-v3.3.1 (43.8 MB)\n",
      "Downloading: 8192/45929032 bytes (0.0%)\b\b\b\b\b\b\b\b\b\b\b\b\b\b\b\b\b\b\b\b\b\b\b\b\b\b2048000/45929032 bytes (4.5%)\b\b\b\b\b\b\b\b\b\b\b\b\b\b\b\b\b\b\b\b\b\b\b\b\b\b\b\b\b5160960/45929032 bytes (11.2%)\b\b\b\b\b\b\b\b\b\b\b\b\b\b\b\b\b\b\b\b\b\b\b\b\b\b\b\b\b\b8372224/45929032 bytes (18.2%)\b\b\b\b\b\b\b\b\b\b\b\b\b\b\b\b\b\b\b\b\b\b\b\b\b\b\b\b\b\b11722752/45929032 bytes (25.5%)\b\b\b\b\b\b\b\b\b\b\b\b\b\b\b\b\b\b\b\b\b\b\b\b\b\b\b\b\b\b\b14958592/45929032 bytes (32.6%)\b\b\b\b\b\b\b\b\b\b\b\b\b\b\b\b\b\b\b\b\b\b\b\b\b\b\b\b\b\b\b18251776/45929032 bytes (39.7%)\b\b\b\b\b\b\b\b\b\b\b\b\b\b\b\b\b\b\b\b\b\b\b\b\b\b\b\b\b\b\b21512192/45929032 bytes (46.8%)\b\b\b\b\b\b\b\b\b\b\b\b\b\b\b\b\b\b\b\b\b\b\b\b\b\b\b\b\b\b\b24551424/45929032 bytes (53.5%)\b\b\b\b\b\b\b\b\b\b\b\b\b\b\b\b\b\b\b\b\b\b\b\b\b\b\b\b\b\b\b27738112/45929032 bytes (60.4%)\b\b\b\b\b\b\b\b\b\b\b\b\b\b\b\b\b\b\b\b\b\b\b\b\b\b\b\b\b\b\b30842880/45929032 bytes (67.2%)\b\b\b\b\b\b\b\b\b\b\b\b\b\b\b\b\b\b\b\b\b\b\b\b\b\b\b\b\b\b\b34136064/45929032 bytes (74.3%)\b\b\b\b\b\b\b\b\b\b\b\b\b\b\b\b\b\b\b\b\b\b\b\b\b\b\b\b\b\b\b37429248/45929032 bytes (81.5%)\b\b\b\b\b\b\b\b\b\b\b\b\b\b\b\b\b\b\b\b\b\b\b\b\b\b\b\b\b\b\b40484864/45929032 bytes (88.1%)\b\b\b\b\b\b\b\b\b\b\b\b\b\b\b\b\b\b\b\b\b\b\b\b\b\b\b\b\b\b\b43614208/45929032 bytes (95.0%)\b\b\b\b\b\b\b\b\b\b\b\b\b\b\b\b\b\b\b\b\b\b\b\b\b\b\b\b\b\b\b45929032/45929032 bytes (100.0%)\n",
      "  Done\n",
      "File saved as /root/.imageio/ffmpeg/ffmpeg-linux64-v3.3.1.\n"
     ]
    }
   ],
   "source": [
    "#@title Load Modules and custom libraries\n",
    "%matplotlib inline\n",
    "import pims\n",
    "from pims import ND2_Reader\n",
    "import os\n",
    "import numpy as np\n",
    "import matplotlib.pyplot as plt\n",
    "from flowdec.nb import utils as nbutils \n",
    "from flowdec import data as fd_data\n",
    "# import pims\n",
    "# import pims\n",
    "from flowdec import restoration as fd_restoration\n",
    "from flowdec import data as fd_data\n",
    "from flowdec import psf as fd_psf\n",
    "import dask\n",
    "import dask.array as da\n",
    "import tifffile as tf\n",
    "from nd2reader import ND2Reader\n",
    "# from pims import ND2_Reader \n",
    "# import aicsimageio.vendor.omexml as ome\n",
    "import glob\n",
    "import time, sys\n",
    "sys.path.insert(0,'/content/drive/MyDrive/Colab Notebooks/Notebooks/libraries')\n",
    "\n",
    "from deco_libraries import update_progress, pimsmeta2OMEXML, Nd2meta2OMEXML, observer, init_RL_algo, deconv, depth_divide\n"
   ]
  },
  {
   "cell_type": "code",
   "execution_count": null,
   "metadata": {
    "cellView": "form",
    "colab": {
     "base_uri": "https://localhost:8080/"
    },
    "id": "aoOpW1q8IXK3",
    "outputId": "739e837c-4b72-408c-b722-a73170815741"
   },
   "outputs": [
    {
     "name": "stdout",
     "output_type": "stream",
     "text": [
      "['/content/mount/Stephanie/20211026Ghost/Caru3_iGFP_1_5_PLB_VitC_Nuc_Nh4Cl_Vera_1loop.nd2']\n"
     ]
    }
   ],
   "source": [
    "#THINGS TO CHANGE!!!!! Always keep /*.nd2 at the end\n",
    "#For gui make a function with all this input for verification purposes when loading the files\n",
    "# dirname = \"D:/igfp1_caruby5_continue001trigger002.nd2\"\n",
    "# dirname = \"D:/JM/20201222caru3/Carubyigfp_F2_Nh4cl_vitc_rutin_BVD002.nd2\"\n",
    "# dirname = \"X:/Mamede/JM/2020/20200626/igfp1_caruby5_continue001trigger00*.nd2\"\n",
    "#like this format.D:\\Stephanie\\20210702F2\n",
    "# dirname = \"D:/JM/20210716_8ibidi_every3/*.nd2\"\n",
    "dirname = \"/content/mount/Stephanie/20211026Ghost/*.nd2\" #@param {type:\"string\"}\n",
    "# dirname = \"D:/Stephanie/20210820sfGFP/*.nd2\"\n",
    "# dirname = \"D:/JM/20210806-L670/igfpoptir3in_hela670_nh4cl_pbn_vitc_pump002*.nd2\"\n",
    "filelist = glob.glob(dirname)\n",
    "filelist.sort()\n",
    "\n",
    "# filelist = filelist[2:3]\n",
    "\n",
    "print(filelist)\n",
    "# print(filelist[1])"
   ]
  },
  {
   "cell_type": "code",
   "execution_count": null,
   "metadata": {
    "id": "LcaFXSlSjjZ1"
   },
   "outputs": [],
   "source": [
    "#@title Remove the file indexes\n",
    "#rm \n",
    "# filelist.pop()"
   ]
  },
  {
   "cell_type": "code",
   "execution_count": null,
   "metadata": {
    "colab": {
     "base_uri": "https://localhost:8080/"
    },
    "id": "qF-SQqYzMpYn",
    "outputId": "ff943686-aa9d-4c91-f3c4-2756c5b0e915"
   },
   "outputs": [
    {
     "name": "stdout",
     "output_type": "stream",
     "text": [
      "{'x': 1024, 'y': 1024, 'c': 3, 't': 137, 'z': 15, 'v': 45}\n",
      "['mirfp670', 'FITc', 'mRuby3']\n"
     ]
    },
    {
     "data": {
      "text/plain": [
       "<FramesSequenceND>\n",
       "Axes: 6\n",
       "Axis 'x' size: 1024\n",
       "Axis 'y' size: 1024\n",
       "Axis 'c' size: 3\n",
       "Axis 't' size: 137\n",
       "Axis 'z' size: 15\n",
       "Axis 'v' size: 45\n",
       "Pixel Datatype: <class 'numpy.float64'>"
      ]
     },
     "execution_count": 13,
     "metadata": {},
     "output_type": "execute_result"
    }
   ],
   "source": [
    "#Load the first file for reference and what's inside the file\n",
    "frames = ND2Reader(filelist[0])\n",
    "print(frames.sizes)\n",
    "#Grab metadata\n",
    "metadata = frames.metadata\n",
    "print(metadata['channels'])\n",
    "\n",
    "#If you don't have enough VRAM divide the XY to do the deconvolution that is automatically assembled after\n",
    "xdivide = round(frames.sizes['x']/1024)\n",
    "ydivide = round(frames.sizes['y']/1024)\n",
    "depthdivide = depth_divide(xdivide, ydivide)\n",
    "frames"
   ]
  },
  {
   "cell_type": "code",
   "execution_count": null,
   "metadata": {
    "colab": {
     "base_uri": "https://localhost:8080/"
    },
    "id": "XxuPO2W2MsQE",
    "outputId": "88d83f0f-f146-479a-dd0a-bdacc960781d"
   },
   "outputs": [
    {
     "data": {
      "text/plain": [
       "0.21420169761064"
      ]
     },
     "execution_count": 14,
     "metadata": {},
     "output_type": "execute_result"
    }
   ],
   "source": [
    "# reader = frames \n",
    "frames.iter_axes = 'tc'  # 't' is the default already\n",
    "frames.bundle_axes = 'zyx'  # when 'z' is available, this will be default\n",
    "# metadata['pixel_microns']\n",
    "# frames[2]\n",
    "frames[0][0]"
   ]
  },
  {
   "cell_type": "code",
   "execution_count": null,
   "metadata": {
    "colab": {
     "base_uri": "https://localhost:8080/"
    },
    "id": "j-BsFyTpMvHW",
    "outputId": "7612e565-35a5-47a7-a9df-7beb0d4a15a2"
   },
   "outputs": [
    {
     "data": {
      "text/plain": [
       "0.5"
      ]
     },
     "execution_count": 14,
     "metadata": {},
     "output_type": "execute_result"
    }
   ],
   "source": [
    "xml = Nd2meta2OMEXML(frames,time_offset=0,maxT=None,verbose=False)\n",
    "xml.image().Pixels.PhysicalSizeZ\n"
   ]
  },
  {
   "cell_type": "code",
   "execution_count": null,
   "metadata": {
    "cellView": "form",
    "colab": {
     "base_uri": "https://localhost:8080/"
    },
    "id": "cygRVVmyM0OW",
    "outputId": "90009311-2801-437c-dadc-6ca9e0dcd982"
   },
   "outputs": [
    {
     "name": "stdout",
     "output_type": "stream",
     "text": [
      "(15, 65, 65)\n",
      "(15, 65, 65)\n"
     ]
    }
   ],
   "source": [
    "#@title Create PSFs based on the metadatas\n",
    "#Need to make this a big more automatic, but indexing all the files and iterations is not easy\n",
    "#In the version where the PSF is estimated by flowdec is easier because everything was set to automatic\n",
    "\n",
    "\n",
    "# na = meta['NA']\n",
    "    \n",
    "    \n",
    "    \n",
    "na = 1.4\n",
    "#ra = meta['refractive_index1']\n",
    "ra = 1.5156\n",
    "z = int(frames.sizes['z'])\n",
    "# z= 31\n",
    "# z = 6\n",
    "#     x = frames.sizes['x'] // 2\n",
    "#     y = frames.sizes['y'] // 2\n",
    "#     z = 26\n",
    "x = 65\n",
    "y = 65\n",
    "res_z = xml.image().Pixels.PhysicalSizeZ\n",
    "# res_z = xml.image().Pixels.PhysicalSizeZ\n",
    "res_xy =  metadata['pixel_microns']\n",
    "distance_cover = 0\n",
    "##Make better with automatic wavelength from metadata and a loop and a dictionary with the PSFs\n",
    "psf = fd_psf.GibsonLanni(\n",
    "    na = na, wavelength= 0.670 , size_z=  z, size_x=  x , size_y=  y\n",
    "    ,m = 60, ns =  1.333\n",
    "    , tg =  170, tg0 = 170\n",
    "    , ni0 =  ra, ni =  ra, ti0 = 130\n",
    "    ,res_lateral =  res_xy , res_axial = res_z, \n",
    "    pz = distance_cover \n",
    ")\n",
    "psf647 = psf.generate()    \n",
    "\n",
    "psf = fd_psf.GibsonLanni(\n",
    "    na = na, wavelength= 0.620 , size_z=  z, size_x=  x , size_y=  y\n",
    "    ,m =60, ns =  1.333\n",
    "    , tg =  170, tg0 = 170\n",
    "    , ni0 =  ra, ni =  ra, ti0 = 130\n",
    "    ,res_lateral =  res_xy , res_axial = res_z, \n",
    "    pz = distance_cover \n",
    ")\n",
    "psfruby = psf.generate()\n",
    "\n",
    "psf = fd_psf.GibsonLanni(\n",
    "    na = na, wavelength= 0.535 , size_z=  z, size_x=  x , size_y=  y\n",
    "    ,m =60, ns =  1.333\n",
    "    , tg =  170, tg0 = 170\n",
    "    , ni0 =  ra, ni =  ra, ti0 = 130\n",
    "    ,res_lateral =  res_xy , res_axial = res_z, \n",
    "    pz = distance_cover \n",
    ")\n",
    "psfgfp = psf.generate()\n",
    "\n",
    "psf = fd_psf.GibsonLanni(\n",
    "    na = na, wavelength= 0.420 , size_z=  z, size_x=  x , size_y=  y\n",
    "    ,m =60, ns =  1.333\n",
    "    , tg =  170, tg0 = 170\n",
    "    , ni0 =  ra, ni =  ra, ti0 = 130\n",
    "    ,res_lateral =  res_xy , res_axial = res_z, \n",
    "    pz = distance_cover \n",
    ")\n",
    "psfdapi = psf.generate()  \n",
    "\n",
    "#Clip Top and bottom, I found that if the PSF is calculated with distance from coverslip, it is flipped from Fiji\n",
    "#As in, it is Top to Bottom, I acquire the images Bottom to Top\n",
    "# remove = 13\n",
    "# remove = 14\n",
    "# psf647 = np.flip(psf647,\n",
    "# #                  axis=0\n",
    "#                 )[remove:-remove]\n",
    "\n",
    "# psfgfp = np.flip(psfgfp,\n",
    "# #                  axis=0\n",
    "#                 )[remove:-remove]\n",
    "# psfdapi = np.flip(psfdapi,\n",
    "# #                   axis=0\n",
    "#                  )[remove:-remove]\n",
    "# psfruby = np.flip(psfruby,\n",
    "# #                   axis=0\n",
    "#                  )[remove:-remove]\n",
    "\n",
    "print(psf647.shape)\n",
    "print(psfruby.shape)\n",
    "# \"C:/Users/Mamede/PSF/\"\n",
    "import pims\n",
    "pims.Frame(psf647)"
   ]
  },
  {
   "cell_type": "code",
   "execution_count": null,
   "metadata": {
    "colab": {
     "base_uri": "https://localhost:8080/"
    },
    "id": "oLlBJfyIM51t",
    "outputId": "2c7437d2-d5fd-422d-da6c-2cd6b460bd82"
   },
   "outputs": [
    {
     "name": "stdout",
     "output_type": "stream",
     "text": [
      "['/content/mount/Stephanie/20211026Ghost/Caru3_iGFP_1_5_PLB_VitC_Nuc_Nh4Cl_Vera_1loop.nd2']\n"
     ]
    }
   ],
   "source": [
    "\n",
    "# from flowdec import restoration as fd_restoration\n",
    "# algo = fd_restoration.RichardsonLucyDeconvolver(n_dims=psfgfp.ndim\n",
    "#                                                     # , pad_mode=pad_mode\n",
    "#                                                     # ,pad_min=pad_min\n",
    "#     #                                                     ,observer_fn=observer\n",
    "#                                                     #,real_domain_fft=True\n",
    "#                                                     #,device='/cpu:0'\n",
    "#                                                    ).initialize()\n",
    "\n",
    "print(filelist)\n",
    "# fname2 = filelist[1]\n",
    "fname1 = filelist[0]"
   ]
  },
  {
   "cell_type": "code",
   "execution_count": null,
   "metadata": {
    "id": "zSURl2axM_D5"
   },
   "outputs": [],
   "source": []
  },
  {
   "cell_type": "code",
   "execution_count": null,
   "metadata": {
    "id": "QZG1uYqlNCDt"
   },
   "outputs": [],
   "source": [
    "\n",
    "# frames.parser._raw_metadata.image_metadata\n",
    "def get_deltaT(filename1,filename2):\n",
    "    \n",
    "    import pathlib\n",
    "#     frames = ND2Reader(filelist[0])\n",
    "#     a = frames.metadata['date']\n",
    "#     frames = ND2Reader(filelist[1])\n",
    "#     b = frames.metadata['date']\n",
    "    fname1 = pathlib.Path(filename1)\n",
    "    fname2 = pathlib.Path(filename2)\n",
    "    import datetime\n",
    "    mtime2 = datetime.datetime.fromtimestamp(fname2.stat().st_ctime)\n",
    "    mtime1 = datetime.datetime.fromtimestamp(fname1.stat().st_ctime)\n",
    "#     print(mtime2,mtime1)\n",
    "#     print(fname2.stat().st_ctime - fname1.stat().st_ctime)\n",
    "    return fname2.stat().st_ctime - fname1.stat().st_ctime\n",
    "    # time_offset = 71146.03463482857\n",
    "# fname2 = filelist[1]\n",
    "   \n",
    "# print(get_deltaT(fname1,fname2)/60)\n",
    "# print(get_deltaT(fname1,fname2)/60)\n",
    "\n",
    "# time_offset = get_deltaT(fname1,fname2)"
   ]
  },
  {
   "cell_type": "code",
   "execution_count": null,
   "metadata": {
    "cellView": "form",
    "colab": {
     "base_uri": "https://localhost:8080/"
    },
    "id": "d0gSe_ZCNDk8",
    "outputId": "ed41c5db-f28b-45b1-df9e-d103951e98f6"
   },
   "outputs": [
    {
     "data": {
      "text/plain": [
       "['/content/mount/Stephanie/20211026Ghost/Caru3_iGFP_1_5_PLB_VitC_Nuc_Nh4Cl_Vera_1loop.nd2']"
      ]
     },
     "execution_count": 20,
     "metadata": {},
     "output_type": "execute_result"
    }
   ],
   "source": [
    "#@title Check final filelist\n",
    "fname1 = filelist[0]\n",
    "# filelist.pop(0)\n",
    "# filelist.pop(0)\n",
    "filelist"
   ]
  },
  {
   "cell_type": "code",
   "execution_count": null,
   "metadata": {
    "colab": {
     "base_uri": "https://localhost:8080/"
    },
    "id": "C6plmjJe5jyU",
    "outputId": "c88c9845-b9b6-4c02-b281-7237a7b0b595"
   },
   "outputs": [
    {
     "name": "stdout",
     "output_type": "stream",
     "text": [
      "Sat Oct 30 04:25:08 2021       \n",
      "+-----------------------------------------------------------------------------+\n",
      "| NVIDIA-SMI 495.29.05    Driver Version: 460.32.03    CUDA Version: 11.2     |\n",
      "|-------------------------------+----------------------+----------------------+\n",
      "| GPU  Name        Persistence-M| Bus-Id        Disp.A | Volatile Uncorr. ECC |\n",
      "| Fan  Temp  Perf  Pwr:Usage/Cap|         Memory-Usage | GPU-Util  Compute M. |\n",
      "|                               |                      |               MIG M. |\n",
      "|===============================+======================+======================|\n",
      "|   0  Tesla K80           Off  | 00000000:00:04.0 Off |                    0 |\n",
      "| N/A   70C    P8    33W / 149W |      3MiB / 11441MiB |      0%      Default |\n",
      "|                               |                      |                  N/A |\n",
      "+-------------------------------+----------------------+----------------------+\n",
      "                                                                               \n",
      "+-----------------------------------------------------------------------------+\n",
      "| Processes:                                                                  |\n",
      "|  GPU   GI   CI        PID   Type   Process name                  GPU Memory |\n",
      "|        ID   ID                                                   Usage      |\n",
      "|=============================================================================|\n",
      "|  No running processes found                                                 |\n",
      "+-----------------------------------------------------------------------------+\n"
     ]
    }
   ],
   "source": [
    "!nvidia-smi"
   ]
  },
  {
   "cell_type": "code",
   "execution_count": null,
   "metadata": {
    "cellView": "form",
    "id": "eNm8VAQlh2ZK"
   },
   "outputs": [],
   "source": [
    "#@title Default title text\n",
    "#these are the settings you need to look at\n",
    "\n",
    "n_iters = 100 #@param\n",
    "# keep this one always at 100\n",
    "ram = False #@param {type:\"boolean\"}\n",
    "savePRJ = True #@param {type:\"boolean\"}\n",
    " # if you want the projection Z have it at True, if not, False\n",
    "saveStack = False #@param {type:\"boolean\"}\n",
    "# if you want the Z-stack have it at True, if not, False \n",
    "\n",
    "\n",
    "# time_offset = 0 #@param\n",
    "# maxT = 25\n",
    "#do not worry about these ones\n",
    "#@markdown If you want to add stop at a interval timepoint change here:\n",
    "maxT = None #@param\n",
    "\n",
    "#If it's a broken experiment, you need to do concat Time True, \n",
    "#so that it makes the 0 from file #2 to be the diference between the files\n",
    "#@markdown In case the files need to concatenate the time later in case of \n",
    "#@markdown broken experiments\n",
    "concattime = False #@param {type:\"boolean\"}"
   ]
  },
  {
   "cell_type": "code",
   "execution_count": null,
   "metadata": {
    "cellView": "form",
    "colab": {
     "base_uri": "https://localhost:8080/",
     "height": 1000
    },
    "id": "GCuH4JxcNJng",
    "outputId": "46a331f9-6b0e-4859-a531-8f372f704077"
   },
   "outputs": [
    {
     "name": "stdout",
     "output_type": "stream",
     "text": [
      "Progress: [#-------------------] 7.1%\n",
      "Visit Point: 22/45 \t Time:20/137 \t Channel:3/3\n"
     ]
    },
    {
     "name": "stderr",
     "output_type": "stream",
     "text": [
      "/usr/local/lib/python3.7/dist-packages/ipykernel_launcher.py:153: DeprecationWarning: TiffWriter: the 'compress' parameter is deprecated since 2020.9.30. Use the 'compression' parameter\n"
     ]
    },
    {
     "ename": "OSError",
     "evalue": "ignored",
     "output_type": "error",
     "traceback": [
      "\u001b[0;31m---------------------------------------------------------------------------\u001b[0m",
      "\u001b[0;31mOSError\u001b[0m                                   Traceback (most recent call last)",
      "\u001b[0;32m<ipython-input-22-47e865783913>\u001b[0m in \u001b[0;36m<module>\u001b[0;34m()\u001b[0m\n\u001b[1;32m     94\u001b[0m                 \u001b[0;32melse\u001b[0m\u001b[0;34m:\u001b[0m \u001b[0mpsf\u001b[0m \u001b[0;34m=\u001b[0m \u001b[0mpsfruby\u001b[0m\u001b[0;34m\u001b[0m\u001b[0;34m\u001b[0m\u001b[0m\n\u001b[1;32m     95\u001b[0m \u001b[0;34m\u001b[0m\u001b[0m\n\u001b[0;32m---> 96\u001b[0;31m                 arr = da.from_array(frames[time]           \n\u001b[0m\u001b[1;32m     97\u001b[0m                                     , chunks=chunk_size)\n\u001b[1;32m     98\u001b[0m \u001b[0;34m\u001b[0m\u001b[0m\n",
      "\u001b[0;32m/usr/local/lib/python3.7/dist-packages/slicerator/__init__.py\u001b[0m in \u001b[0;36m__getitem__\u001b[0;34m(self, i)\u001b[0m\n\u001b[1;32m    186\u001b[0m                 \u001b[0mindices\u001b[0m\u001b[0;34m,\u001b[0m \u001b[0mnew_length\u001b[0m \u001b[0;34m=\u001b[0m \u001b[0mkey_to_indices\u001b[0m\u001b[0;34m(\u001b[0m\u001b[0mi\u001b[0m\u001b[0;34m,\u001b[0m \u001b[0mlen\u001b[0m\u001b[0;34m(\u001b[0m\u001b[0mself\u001b[0m\u001b[0;34m)\u001b[0m\u001b[0;34m)\u001b[0m\u001b[0;34m\u001b[0m\u001b[0;34m\u001b[0m\u001b[0m\n\u001b[1;32m    187\u001b[0m                 \u001b[0;32mif\u001b[0m \u001b[0mnew_length\u001b[0m \u001b[0;32mis\u001b[0m \u001b[0;32mNone\u001b[0m\u001b[0;34m:\u001b[0m\u001b[0;34m\u001b[0m\u001b[0;34m\u001b[0m\u001b[0m\n\u001b[0;32m--> 188\u001b[0;31m                     \u001b[0;32mreturn\u001b[0m \u001b[0mself\u001b[0m\u001b[0;34m.\u001b[0m\u001b[0m_get\u001b[0m\u001b[0;34m(\u001b[0m\u001b[0mindices\u001b[0m\u001b[0;34m)\u001b[0m\u001b[0;34m\u001b[0m\u001b[0;34m\u001b[0m\u001b[0m\n\u001b[0m\u001b[1;32m    189\u001b[0m                 \u001b[0;32melse\u001b[0m\u001b[0;34m:\u001b[0m\u001b[0;34m\u001b[0m\u001b[0;34m\u001b[0m\u001b[0m\n\u001b[1;32m    190\u001b[0m                     \u001b[0;32mreturn\u001b[0m \u001b[0mcls\u001b[0m\u001b[0;34m(\u001b[0m\u001b[0mself\u001b[0m\u001b[0;34m,\u001b[0m \u001b[0mindices\u001b[0m\u001b[0;34m,\u001b[0m \u001b[0mnew_length\u001b[0m\u001b[0;34m,\u001b[0m \u001b[0mpropagate_attrs\u001b[0m\u001b[0;34m)\u001b[0m\u001b[0;34m\u001b[0m\u001b[0;34m\u001b[0m\u001b[0m\n",
      "\u001b[0;32m/usr/local/lib/python3.7/dist-packages/pims/base_frames.py\u001b[0m in \u001b[0;36m__getitem__\u001b[0;34m(self, key)\u001b[0m\n\u001b[1;32m     96\u001b[0m         \"\"\"__getitem__ is handled by Slicerator. In all pims readers, the data\n\u001b[1;32m     97\u001b[0m         returning function is get_frame.\"\"\"\n\u001b[0;32m---> 98\u001b[0;31m         \u001b[0;32mreturn\u001b[0m \u001b[0mself\u001b[0m\u001b[0;34m.\u001b[0m\u001b[0mget_frame\u001b[0m\u001b[0;34m(\u001b[0m\u001b[0mkey\u001b[0m\u001b[0;34m)\u001b[0m\u001b[0;34m\u001b[0m\u001b[0;34m\u001b[0m\u001b[0m\n\u001b[0m\u001b[1;32m     99\u001b[0m \u001b[0;34m\u001b[0m\u001b[0m\n\u001b[1;32m    100\u001b[0m     \u001b[0;32mdef\u001b[0m \u001b[0m__iter__\u001b[0m\u001b[0;34m(\u001b[0m\u001b[0mself\u001b[0m\u001b[0;34m)\u001b[0m\u001b[0;34m:\u001b[0m\u001b[0;34m\u001b[0m\u001b[0;34m\u001b[0m\u001b[0m\n",
      "\u001b[0;32m/usr/local/lib/python3.7/dist-packages/pims/base_frames.py\u001b[0m in \u001b[0;36mget_frame\u001b[0;34m(self, i)\u001b[0m\n\u001b[1;32m    590\u001b[0m         \u001b[0mcoords\u001b[0m\u001b[0;34m.\u001b[0m\u001b[0mupdate\u001b[0m\u001b[0;34m(\u001b[0m\u001b[0;34m**\u001b[0m\u001b[0;34m{\u001b[0m\u001b[0mk\u001b[0m\u001b[0;34m:\u001b[0m \u001b[0mv\u001b[0m \u001b[0;32mfor\u001b[0m \u001b[0mk\u001b[0m\u001b[0;34m,\u001b[0m \u001b[0mv\u001b[0m \u001b[0;32min\u001b[0m \u001b[0mzip\u001b[0m\u001b[0;34m(\u001b[0m\u001b[0mself\u001b[0m\u001b[0;34m.\u001b[0m\u001b[0miter_axes\u001b[0m\u001b[0;34m,\u001b[0m \u001b[0miter_coords\u001b[0m\u001b[0;34m)\u001b[0m\u001b[0;34m}\u001b[0m\u001b[0;34m)\u001b[0m\u001b[0;34m\u001b[0m\u001b[0;34m\u001b[0m\u001b[0m\n\u001b[1;32m    591\u001b[0m \u001b[0;34m\u001b[0m\u001b[0m\n\u001b[0;32m--> 592\u001b[0;31m         \u001b[0mresult\u001b[0m \u001b[0;34m=\u001b[0m \u001b[0mself\u001b[0m\u001b[0;34m.\u001b[0m\u001b[0m_get_frame_wrapped\u001b[0m\u001b[0;34m(\u001b[0m\u001b[0;34m**\u001b[0m\u001b[0mcoords\u001b[0m\u001b[0;34m)\u001b[0m\u001b[0;34m\u001b[0m\u001b[0;34m\u001b[0m\u001b[0m\n\u001b[0m\u001b[1;32m    593\u001b[0m         \u001b[0;32mif\u001b[0m \u001b[0mhasattr\u001b[0m\u001b[0;34m(\u001b[0m\u001b[0mresult\u001b[0m\u001b[0;34m,\u001b[0m \u001b[0;34m'metadata'\u001b[0m\u001b[0;34m)\u001b[0m\u001b[0;34m:\u001b[0m\u001b[0;34m\u001b[0m\u001b[0;34m\u001b[0m\u001b[0m\n\u001b[1;32m    594\u001b[0m             \u001b[0mmetadata\u001b[0m \u001b[0;34m=\u001b[0m \u001b[0mresult\u001b[0m\u001b[0;34m.\u001b[0m\u001b[0mmetadata\u001b[0m\u001b[0;34m\u001b[0m\u001b[0;34m\u001b[0m\u001b[0m\n",
      "\u001b[0;32m/usr/local/lib/python3.7/dist-packages/pims/base_frames.py\u001b[0m in \u001b[0;36mget_frame_bundled\u001b[0;34m(**ind)\u001b[0m\n\u001b[1;32m    263\u001b[0m         \u001b[0;32mfor\u001b[0m \u001b[0mindices\u001b[0m \u001b[0;32min\u001b[0m \u001b[0mitertools\u001b[0m\u001b[0;34m.\u001b[0m\u001b[0mproduct\u001b[0m\u001b[0;34m(\u001b[0m\u001b[0;34m*\u001b[0m\u001b[0;34m[\u001b[0m\u001b[0mrange\u001b[0m\u001b[0;34m(\u001b[0m\u001b[0ms\u001b[0m\u001b[0;34m)\u001b[0m \u001b[0;32mfor\u001b[0m \u001b[0ms\u001b[0m \u001b[0;32min\u001b[0m \u001b[0miter_shape\u001b[0m\u001b[0;34m]\u001b[0m\u001b[0;34m)\u001b[0m\u001b[0;34m:\u001b[0m\u001b[0;34m\u001b[0m\u001b[0;34m\u001b[0m\u001b[0m\n\u001b[1;32m    264\u001b[0m             \u001b[0mind\u001b[0m\u001b[0;34m.\u001b[0m\u001b[0mupdate\u001b[0m\u001b[0;34m(\u001b[0m\u001b[0;34m{\u001b[0m\u001b[0mn\u001b[0m\u001b[0;34m:\u001b[0m \u001b[0mi\u001b[0m \u001b[0;32mfor\u001b[0m \u001b[0mn\u001b[0m\u001b[0;34m,\u001b[0m \u001b[0mi\u001b[0m \u001b[0;32min\u001b[0m \u001b[0mzip\u001b[0m\u001b[0;34m(\u001b[0m\u001b[0mto_iter\u001b[0m\u001b[0;34m,\u001b[0m \u001b[0mindices\u001b[0m\u001b[0;34m)\u001b[0m\u001b[0;34m}\u001b[0m\u001b[0;34m)\u001b[0m\u001b[0;34m\u001b[0m\u001b[0;34m\u001b[0m\u001b[0m\n\u001b[0;32m--> 265\u001b[0;31m             \u001b[0mframe\u001b[0m \u001b[0;34m=\u001b[0m \u001b[0mget_frame\u001b[0m\u001b[0;34m(\u001b[0m\u001b[0;34m**\u001b[0m\u001b[0mind\u001b[0m\u001b[0;34m)\u001b[0m\u001b[0;34m\u001b[0m\u001b[0;34m\u001b[0m\u001b[0m\n\u001b[0m\u001b[1;32m    266\u001b[0m             \u001b[0mresult\u001b[0m\u001b[0;34m[\u001b[0m\u001b[0mindices\u001b[0m\u001b[0;34m]\u001b[0m \u001b[0;34m=\u001b[0m \u001b[0mframe\u001b[0m\u001b[0;34m\u001b[0m\u001b[0;34m\u001b[0m\u001b[0m\n\u001b[1;32m    267\u001b[0m \u001b[0;34m\u001b[0m\u001b[0m\n",
      "\u001b[0;32m/usr/local/lib/python3.7/dist-packages/pims/base_frames.py\u001b[0m in \u001b[0;36mget_frame_dropped\u001b[0;34m(**ind)\u001b[0m\n\u001b[1;32m    301\u001b[0m \u001b[0;34m\u001b[0m\u001b[0m\n\u001b[1;32m    302\u001b[0m     \u001b[0;32mdef\u001b[0m \u001b[0mget_frame_dropped\u001b[0m\u001b[0;34m(\u001b[0m\u001b[0;34m**\u001b[0m\u001b[0mind\u001b[0m\u001b[0;34m)\u001b[0m\u001b[0;34m:\u001b[0m\u001b[0;34m\u001b[0m\u001b[0;34m\u001b[0m\u001b[0m\n\u001b[0;32m--> 303\u001b[0;31m         \u001b[0mresult\u001b[0m \u001b[0;34m=\u001b[0m \u001b[0mget_frame\u001b[0m\u001b[0;34m(\u001b[0m\u001b[0;34m**\u001b[0m\u001b[0mind\u001b[0m\u001b[0;34m)\u001b[0m\u001b[0;34m\u001b[0m\u001b[0;34m\u001b[0m\u001b[0m\n\u001b[0m\u001b[1;32m    304\u001b[0m         \u001b[0;32mfor\u001b[0m \u001b[0;34m(\u001b[0m\u001b[0max\u001b[0m\u001b[0;34m,\u001b[0m \u001b[0mname\u001b[0m\u001b[0;34m)\u001b[0m \u001b[0;32min\u001b[0m \u001b[0mzip\u001b[0m\u001b[0;34m(\u001b[0m\u001b[0maxes\u001b[0m\u001b[0;34m,\u001b[0m \u001b[0mto_drop\u001b[0m\u001b[0;34m)\u001b[0m\u001b[0;34m:\u001b[0m\u001b[0;34m\u001b[0m\u001b[0;34m\u001b[0m\u001b[0m\n\u001b[1;32m    305\u001b[0m             \u001b[0mresult\u001b[0m \u001b[0;34m=\u001b[0m \u001b[0mnp\u001b[0m\u001b[0;34m.\u001b[0m\u001b[0mtake\u001b[0m\u001b[0;34m(\u001b[0m\u001b[0mresult\u001b[0m\u001b[0;34m,\u001b[0m \u001b[0mind\u001b[0m\u001b[0;34m[\u001b[0m\u001b[0mname\u001b[0m\u001b[0;34m]\u001b[0m\u001b[0;34m,\u001b[0m \u001b[0maxis\u001b[0m\u001b[0;34m=\u001b[0m\u001b[0max\u001b[0m\u001b[0;34m)\u001b[0m\u001b[0;34m\u001b[0m\u001b[0;34m\u001b[0m\u001b[0m\n",
      "\u001b[0;32m/usr/local/lib/python3.7/dist-packages/nd2reader/reader.py\u001b[0m in \u001b[0;36mget_frame_2D\u001b[0;34m(self, c, t, z, x, y, v)\u001b[0m\n\u001b[1;32m     86\u001b[0m         \u001b[0my\u001b[0m \u001b[0;34m=\u001b[0m \u001b[0mself\u001b[0m\u001b[0;34m.\u001b[0m\u001b[0mmetadata\u001b[0m\u001b[0;34m[\u001b[0m\u001b[0;34m\"height\"\u001b[0m\u001b[0;34m]\u001b[0m\u001b[0;34m\u001b[0m\u001b[0;34m\u001b[0m\u001b[0m\n\u001b[1;32m     87\u001b[0m \u001b[0;34m\u001b[0m\u001b[0m\n\u001b[0;32m---> 88\u001b[0;31m         \u001b[0;32mreturn\u001b[0m \u001b[0mself\u001b[0m\u001b[0;34m.\u001b[0m\u001b[0m_parser\u001b[0m\u001b[0;34m.\u001b[0m\u001b[0mget_image_by_attributes\u001b[0m\u001b[0;34m(\u001b[0m\u001b[0mt\u001b[0m\u001b[0;34m,\u001b[0m \u001b[0mv\u001b[0m\u001b[0;34m,\u001b[0m \u001b[0mc\u001b[0m\u001b[0;34m,\u001b[0m \u001b[0mz\u001b[0m\u001b[0;34m,\u001b[0m \u001b[0my\u001b[0m\u001b[0;34m,\u001b[0m \u001b[0mx\u001b[0m\u001b[0;34m)\u001b[0m\u001b[0;34m\u001b[0m\u001b[0;34m\u001b[0m\u001b[0m\n\u001b[0m\u001b[1;32m     89\u001b[0m \u001b[0;34m\u001b[0m\u001b[0m\n\u001b[1;32m     90\u001b[0m     \u001b[0;34m@\u001b[0m\u001b[0mproperty\u001b[0m\u001b[0;34m\u001b[0m\u001b[0;34m\u001b[0m\u001b[0m\n",
      "\u001b[0;32m/usr/local/lib/python3.7/dist-packages/nd2reader/parser.py\u001b[0m in \u001b[0;36mget_image_by_attributes\u001b[0;34m(self, frame_number, field_of_view, channel, z_level, height, width)\u001b[0m\n\u001b[1;32m    102\u001b[0m         \u001b[0;32mtry\u001b[0m\u001b[0;34m:\u001b[0m\u001b[0;34m\u001b[0m\u001b[0;34m\u001b[0m\u001b[0m\n\u001b[1;32m    103\u001b[0m             timestamp, raw_image_data = self._get_raw_image_data(image_group_number, channel,\n\u001b[0;32m--> 104\u001b[0;31m                                                                  height, width)\n\u001b[0m\u001b[1;32m    105\u001b[0m         \u001b[0;32mexcept\u001b[0m \u001b[0;34m(\u001b[0m\u001b[0mTypeError\u001b[0m\u001b[0;34m)\u001b[0m\u001b[0;34m:\u001b[0m\u001b[0;34m\u001b[0m\u001b[0;34m\u001b[0m\u001b[0m\n\u001b[1;32m    106\u001b[0m             \u001b[0;32mreturn\u001b[0m \u001b[0mFrame\u001b[0m\u001b[0;34m(\u001b[0m\u001b[0;34m[\u001b[0m\u001b[0;34m]\u001b[0m\u001b[0;34m,\u001b[0m \u001b[0mframe_no\u001b[0m\u001b[0;34m=\u001b[0m\u001b[0mframe_number\u001b[0m\u001b[0;34m,\u001b[0m \u001b[0mmetadata\u001b[0m\u001b[0;34m=\u001b[0m\u001b[0mself\u001b[0m\u001b[0;34m.\u001b[0m\u001b[0m_get_frame_metadata\u001b[0m\u001b[0;34m(\u001b[0m\u001b[0;34m)\u001b[0m\u001b[0;34m)\u001b[0m\u001b[0;34m\u001b[0m\u001b[0;34m\u001b[0m\u001b[0m\n",
      "\u001b[0;32m/usr/local/lib/python3.7/dist-packages/nd2reader/parser.py\u001b[0m in \u001b[0;36m_get_raw_image_data\u001b[0;34m(self, image_group_number, channel_offset, height, width)\u001b[0m\n\u001b[1;32m    260\u001b[0m         \"\"\"\n\u001b[1;32m    261\u001b[0m         \u001b[0mchunk\u001b[0m \u001b[0;34m=\u001b[0m \u001b[0mself\u001b[0m\u001b[0;34m.\u001b[0m\u001b[0m_label_map\u001b[0m\u001b[0;34m.\u001b[0m\u001b[0mget_image_data_location\u001b[0m\u001b[0;34m(\u001b[0m\u001b[0mimage_group_number\u001b[0m\u001b[0;34m)\u001b[0m\u001b[0;34m\u001b[0m\u001b[0;34m\u001b[0m\u001b[0m\n\u001b[0;32m--> 262\u001b[0;31m         \u001b[0mdata\u001b[0m \u001b[0;34m=\u001b[0m \u001b[0mread_chunk\u001b[0m\u001b[0;34m(\u001b[0m\u001b[0mself\u001b[0m\u001b[0;34m.\u001b[0m\u001b[0m_fh\u001b[0m\u001b[0;34m,\u001b[0m \u001b[0mchunk\u001b[0m\u001b[0;34m)\u001b[0m\u001b[0;34m\u001b[0m\u001b[0;34m\u001b[0m\u001b[0m\n\u001b[0m\u001b[1;32m    263\u001b[0m \u001b[0;34m\u001b[0m\u001b[0m\n\u001b[1;32m    264\u001b[0m         \u001b[0;31m# All images in the same image group share the same timestamp! So if you have complicated image data,\u001b[0m\u001b[0;34m\u001b[0m\u001b[0;34m\u001b[0m\u001b[0;34m\u001b[0m\u001b[0m\n",
      "\u001b[0;32m/usr/local/lib/python3.7/dist-packages/nd2reader/common.py\u001b[0m in \u001b[0;36mread_chunk\u001b[0;34m(fh, chunk_location)\u001b[0m\n\u001b[1;32m     67\u001b[0m     \u001b[0;31m# start of the actual data field, which is at some arbitrary place after the metadata.\u001b[0m\u001b[0;34m\u001b[0m\u001b[0;34m\u001b[0m\u001b[0;34m\u001b[0m\u001b[0m\n\u001b[1;32m     68\u001b[0m     \u001b[0mfh\u001b[0m\u001b[0;34m.\u001b[0m\u001b[0mseek\u001b[0m\u001b[0;34m(\u001b[0m\u001b[0mchunk_location\u001b[0m \u001b[0;34m+\u001b[0m \u001b[0;36m16\u001b[0m \u001b[0;34m+\u001b[0m \u001b[0mrelative_offset\u001b[0m\u001b[0;34m)\u001b[0m\u001b[0;34m\u001b[0m\u001b[0;34m\u001b[0m\u001b[0m\n\u001b[0;32m---> 69\u001b[0;31m     \u001b[0;32mreturn\u001b[0m \u001b[0mfh\u001b[0m\u001b[0;34m.\u001b[0m\u001b[0mread\u001b[0m\u001b[0;34m(\u001b[0m\u001b[0mdata_length\u001b[0m\u001b[0;34m)\u001b[0m\u001b[0;34m\u001b[0m\u001b[0;34m\u001b[0m\u001b[0m\n\u001b[0m\u001b[1;32m     70\u001b[0m \u001b[0;34m\u001b[0m\u001b[0m\n\u001b[1;32m     71\u001b[0m \u001b[0;34m\u001b[0m\u001b[0m\n",
      "\u001b[0;31mOSError\u001b[0m: [Errno 5] Input/output error"
     ]
    }
   ],
   "source": [
    "#@title Crunch it\n",
    "_first = 21 #@param\n",
    "_last = frames.sizes['v'] #@param\n",
    "\n",
    "\n",
    "algo = init_RL_algo(psfgfp.ndim\n",
    "                  #  ,pad_mode='2357' ,pad_min=(2,24,24)\n",
    "                   ,pad_mode='log2' \n",
    "                    #,pad_min=(4,24,24)\n",
    "#                       ,pad_mode='none'\n",
    "                  )\n",
    "\n",
    "for fname in filelist:\n",
    "    #to add the real time of experiment when we have to split it into different files\n",
    "    if concattime:\n",
    "#         time_offset = get_deltaT(filelist[0],fname)\n",
    "        time_offset = get_deltaT(fname1,fname)\n",
    "#         time_offset = 72424\n",
    "#         time_offset = 72424\n",
    "    else: time_offset = 0\n",
    "    frames =  ND2Reader(fname)\n",
    "    frames.iter_axes = 't'  # 't' is the default already\n",
    "    frames.bundle_axes = 'zyx'  # when 'z' is available, this will be default\n",
    "\n",
    "    channels = frames.metadata['channels']\n",
    "    metadata = frames.metadata\n",
    "    \n",
    "    if saveStack:\n",
    "        xml = Nd2meta2OMEXML(frames,time_offset=time_offset,maxT=maxT,verbose=False)\n",
    "    if savePRJ:\n",
    "        prjxml = Nd2meta2OMEXML(frames, project=True,time_offset=time_offset,maxT=maxT,verbose=False)\n",
    "\n",
    "    chunk_size=(frames.sizes['z'],frames.sizes['y']//ydivide,frames.sizes['x']//xdivide)\n",
    "\n",
    "    # frames.iter_axes = 'v'\n",
    "    # for frame in frames:\n",
    "#     for visit in range(22,25):\n",
    "#         frames.sizes['v']):\n",
    "    # for visit in range(11,frames.sizes['v']):\n",
    "    # for visit in range(0,51):\n",
    "    for visit in range(_first,_last):\n",
    "\n",
    "        frames.default_coords['v'] = visit\n",
    "        stackfile = '/content/drive/MyDrive/Colab Notebooks/'+os.path.basename(fname)[:-4]+\"_v\"+str(visit+1).zfill(3)+'.ome.tiff'\n",
    "        # prjfile = '/content/drive/MyDrive/Colab Notebooks/'+os.path.basename(fname)[:-4]+\"_v\"+str(visit+1).zfill(3)+'_PRJ.ome.tiff'\n",
    "        prjfile = fname[:-4]+\"_v\"+str(visit+1).zfill(3)+'_PRJ.ome.tiff'\n",
    "        # prjfile = fname\n",
    "        if saveStack:\n",
    "            tifstack = tf.TiffWriter(stackfile, bigtiff=False,imagej=False)\n",
    "            firststk = True\n",
    "        if savePRJ:\n",
    "            tifprj = tf.TiffWriter(prjfile, bigtiff=False, imagej=False)\n",
    "            first = True\n",
    "        if maxT == None:\n",
    "            counterT = frames.sizes['t']\n",
    "        else: counterT = maxT\n",
    "# +\n",
    "        for time in range(counterT):\n",
    "#         for time in range(25):\n",
    "\n",
    "#             res = np.zeros(\n",
    "#                 (frames.sizes['z'],frames.sizes['c']\n",
    "#                  ,frames.sizes['y'],frames.sizes['x'])\n",
    "#                 , dtype=np.float32)\n",
    "    \n",
    "            res = np.zeros(\n",
    "                (frames.sizes['z'],frames.sizes['c']\n",
    "                 ,frames.sizes['y'],frames.sizes['x'])\n",
    "                , dtype=np.float32)\n",
    "\n",
    "            for i in range(frames.sizes['c']):\n",
    "#             for i in range(3, frames.sizes['c']):\n",
    "                frames.default_coords['c'] = i\n",
    "#                     print('Channel:',metadata['channels'][i])\n",
    "                ch = metadata['channels'][i]\n",
    "                # ['a647', 'DAPI', 'GFP']\n",
    "                # ['FITC', 'mRuby3', 'miRFP670']\n",
    "                # ['FRET-gYFP-dsRED', 'mRuby', 'GFP', 'DAPI']\n",
    "                # ['a647', 'DAPI', 'GFP']\n",
    "                if ch == 'DAPI' or ch  == '470 nm':\n",
    "                    psf = psfdapi\n",
    "                elif ch == 'miRFP670' or ch == 'AF647' or ch == 'mirfp670' or ch == 'farRED-EM' or ch == '640 nm' or ch == 'AF647':\n",
    "                    psf = psf647\n",
    "                elif ch == 'FITc' or  ch == 'GFP' or ch == 'FITC'  or ch == 'GREEN-EM' or ch == 'AF488' or ch == 'PAGFP' or ch == 'pre-paGFP':\n",
    "                    psf = psfgfp\n",
    "                elif ch == 'mRuby3' or ch == 'mRuby' or ch ==  '555 nm' or ch == 'Cy3':\n",
    "                    psf = psfruby\n",
    "                elif ch == 'FRET-gYFP-dsRED':\n",
    "                    psf = psfruby\n",
    "                else: psf = psfruby\n",
    "\n",
    "                arr = da.from_array(frames[time]           \n",
    "                                    , chunks=chunk_size)\n",
    "\n",
    "                res[:,i,:,:] = da.map_overlap(deconv,arr, depth  = depthdivide ,boundary='reflect',\n",
    "                                    dtype='float32', algo=algo,\n",
    "                                    psf=psf, iters=n_iters, use_ram=ram\n",
    "                                             ).compute(num_workers=1)\n",
    "                res[res> 2**16-1] = 2**16-1\n",
    "                # If we need to swap Channel and Z in the future\n",
    "                #             img5d = np.swapaxes(img5d,0,1)\n",
    "\n",
    "                update_progress( (visit+1) * (time+1) / (frames.sizes['v']* counterT) )\n",
    "                print(\"Visit Point: {}/{} \\t Time:{}/{} \\t Channel:{}/{}\".format(\n",
    "                        visit+1, frames.sizes['v']\n",
    "                        ,time+1,  counterT\n",
    "                        , i+1, frames.sizes['c']))\n",
    "# Make Function\n",
    "\n",
    "            if saveStack:\n",
    "                if firststk:\n",
    "                    tifstack.save(res.astype(np.uint16),\n",
    "                        compress='ZLIB',\n",
    "                        description = xml.to_xml(),\n",
    "                        photometric='minisblack',\n",
    "                        metadata= None,\n",
    "                        contiguous=False\n",
    "                        )\n",
    "                    firststk = False\n",
    "                    print('blup')\n",
    "                else:\n",
    "                    tifstack.save(res.astype(np.uint16),\n",
    "                        compress='ZLIB',\n",
    "#                         description = xml.to_xml(),\n",
    "#                         datetime= True,\n",
    "                        photometric='minisblack',\n",
    "                        metadata= None,\n",
    "                        contiguous=False\n",
    "                        )\n",
    "            if savePRJ:\n",
    "                if first:\n",
    "                    tifprj.save(res.astype(np.uint16).max(axis=0),\n",
    "                        compress='ZLIB',\n",
    "                        description = prjxml.to_xml(),\n",
    "                        photometric='minisblack',\n",
    "                        #, datetime= True\n",
    "                        metadata= None,\n",
    "                        contiguous=False\n",
    "                        )\n",
    "                    first = False\n",
    "                else:                  \n",
    "                    tifprj.save(res.astype(np.uint16).max(axis=0),\n",
    "                        compress='ZLIB',\n",
    "#                         description = xml.to_xml(),\n",
    "                        photometric='minisblack',\n",
    "                        #, datetime= True\n",
    "                        metadata= None,\n",
    "                        contiguous=False,\n",
    "                        )\n",
    "        if saveStack:\n",
    "            tifstack.close()\n",
    "        if savePRJ:\n",
    "            tifprj.close()\n",
    "\n",
    "    update_progress(1)"
   ]
  },
  {
   "cell_type": "code",
   "execution_count": null,
   "metadata": {
    "id": "3fNW-_tYNMJ2"
   },
   "outputs": [],
   "source": [
    "print('done')\n",
    "from numba import cuda\n",
    "cuda.select_device(0)\n",
    "cuda.close()\n",
    "#the memory was released here!\n",
    "cuda.select_device(0)"
   ]
  }
 ],
 "metadata": {
  "accelerator": "GPU",
  "colab": {
   "collapsed_sections": [],
   "name": "SSH_enabled.ipynb",
   "provenance": []
  },
  "kernelspec": {
   "display_name": "Python 3",
   "language": "python",
   "name": "python3"
  },
  "language_info": {
   "codemirror_mode": {
    "name": "ipython",
    "version": 3
   },
   "file_extension": ".py",
   "mimetype": "text/x-python",
   "name": "python",
   "nbconvert_exporter": "python",
   "pygments_lexer": "ipython3",
   "version": "3.8.8"
  }
 },
 "nbformat": 4,
 "nbformat_minor": 1
}
