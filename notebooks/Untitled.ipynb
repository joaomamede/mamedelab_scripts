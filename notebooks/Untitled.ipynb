{
 "cells": [
  {
   "cell_type": "code",
   "execution_count": 42,
   "id": "1b1d968e",
   "metadata": {},
   "outputs": [
    {
     "data": {
      "text/plain": [
       "['/run/media/jmamede/Joao/multiplex/ENDO/out/img2_c0_registered.tiff',\n",
       " '/run/media/jmamede/Joao/multiplex/ENDO/out/img2_c1_registered.tiff',\n",
       " '/run/media/jmamede/Joao/multiplex/ENDO/out/img2_c2_registered.tiff',\n",
       " '/run/media/jmamede/Joao/multiplex/ENDO/out/img2_c3_registered.tiff']"
      ]
     },
     "execution_count": 42,
     "metadata": {},
     "output_type": "execute_result"
    }
   ],
   "source": [
    "import SimpleITK as sitk\n",
    "import pims\n",
    "# from nd2reader import ND2Reader\n",
    "import numpy as np\n",
    "import matplotlib.pyplot as plt\n",
    "import sys\n",
    "import tifffile\n",
    "sys.path.insert(0,'/home/jmamede/scripts')\n",
    "# from support_pla import othercolor, cell_mask, multiply, rebin\n",
    "from support_pla import convert16to8bits\n",
    "\n",
    "\n",
    "from glob import glob\n",
    "\n",
    "from pystackreg import StackReg\n",
    "# from skimage imporsr,t io\n",
    "\n",
    "ficheiros = glob('/run/media/jmamede/Joao/multiplex/ENDO/out/img2*.tiff')\n",
    "ficheiros.sort()\n",
    "ficheiros[:5]"
   ]
  },
  {
   "cell_type": "code",
   "execution_count": 47,
   "id": "0a61c4de",
   "metadata": {},
   "outputs": [],
   "source": [
    "mov = pims.open(ficheiros[0])"
   ]
  },
  {
   "cell_type": "code",
   "execution_count": 48,
   "id": "40c5c04d",
   "metadata": {},
   "outputs": [
    {
     "data": {
      "text/plain": [
       "<Frames>\n",
       "Source: /run/media/jmamede/Joao/multiplex/ENDO/out/img2_c0_registered.tiff\n",
       "Length: 1 frames\n",
       "Frame Shape: (19813, 35557)\n",
       "Pixel Datatype: uint16"
      ]
     },
     "execution_count": 48,
     "metadata": {},
     "output_type": "execute_result"
    }
   ],
   "source": [
    "mov"
   ]
  },
  {
   "cell_type": "code",
   "execution_count": 49,
   "id": "96eb27dd",
   "metadata": {},
   "outputs": [],
   "source": [
    "empty = (19813, 35557)"
   ]
  },
  {
   "cell_type": "code",
   "execution_count": null,
   "id": "e80204dd",
   "metadata": {},
   "outputs": [],
   "source": [
    "mov2 = np.zeros(empty).astype(np.uint16)\n",
    "#         mov2 = np.zeros((1,)+empty).astype(np.uint16)\n",
    "mov2[:mov.frame_shape[0],:mov.frame_shape[1]] = mov[i].astype(np.uint16)\n",
    "\n",
    "mov2 = np.roll(mov2,xroll,axis=1)\n",
    "mov2 = np.roll(mov2,yroll,axis=0)\n",
    "\n",
    "(19813, 35557)"
   ]
  },
  {
   "cell_type": "code",
   "execution_count": 51,
   "id": "d9f1c1c2",
   "metadata": {},
   "outputs": [
    {
     "name": "stdout",
     "output_type": "stream",
     "text": [
      "0\n"
     ]
    },
    {
     "name": "stderr",
     "output_type": "stream",
     "text": [
      "/home/jmamede/anaconda3/lib/python3.7/site-packages/ipykernel_launcher.py:35: DeprecationWarning: TiffWriter: the 'compress' parameter is deprecated since 2020.9.30. Use the 'compression' parameter\n"
     ]
    },
    {
     "name": "stdout",
     "output_type": "stream",
     "text": [
      "1\n",
      "2\n",
      "3\n"
     ]
    }
   ],
   "source": [
    "names = [\n",
    "#     'cGAMP','YBX1','preGFP','DAPI','postGFP',\n",
    "    'CD4','CD69','CPSF6','DAPI',\n",
    "#     '241D','AG3','SIM4','DAPI'\n",
    "#     ,'GFP-Vpr'\n",
    "]\n",
    "\n",
    "# xroll = -320\n",
    "# yroll = 48\n",
    "# tifprj = tf.TiffWriter(prjfile, bigtiff=True, imagej=False)\n",
    "\n",
    "for i,_file in enumerate(ficheiros):\n",
    "    prjfile = '/run/media/jmamede/Joao/multiplex/ENDO/out/img2_c'+str(i)+'_registered.ome.tif'\n",
    "    with tifffile.TiffWriter(prjfile, bigtiff=True, imagej=False) as tif:\n",
    "        options = dict(\n",
    "             tile=(4096, 4096),\n",
    "    #         imagej=False,\n",
    "            photometric='minisblack',\n",
    "            compress=9,\n",
    "            resolution=(0.108, 0.108),\n",
    "            metadata={'axes': 'YX','unit': 'um',\n",
    "                'Channel': {'Name': names[i]}}\n",
    "        )\n",
    "        print(i)\n",
    "        mov = pims.open(_file)\n",
    "#         mov2 = np.zeros(empty).astype(np.uint16)\n",
    "#         mov2 = np.zeros((1,)+empty).astype(np.uint16)\n",
    "#         mov2[:mov.frame_shape[0],:mov.frame_shape[1]] = mov[i].astype(np.uint16)\n",
    "\n",
    "#         mov2 = np.roll(mov2,xroll,axis=1)\n",
    "#         mov2 = np.roll(mov2,yroll,axis=0)\n",
    "\n",
    "        \n",
    "        tif.save( mov[0].astype(np.uint16),\n",
    "              **options\n",
    "            )\n",
    "#         del test1\n",
    "        del mov\n",
    "tif.close()"
   ]
  },
  {
   "cell_type": "code",
   "execution_count": null,
   "id": "29c5c9f1",
   "metadata": {},
   "outputs": [],
   "source": []
  }
 ],
 "metadata": {
  "kernelspec": {
   "display_name": "Python 3",
   "language": "python",
   "name": "python3"
  },
  "language_info": {
   "codemirror_mode": {
    "name": "ipython",
    "version": 3
   },
   "file_extension": ".py",
   "mimetype": "text/x-python",
   "name": "python",
   "nbconvert_exporter": "python",
   "pygments_lexer": "ipython3",
   "version": "3.8.8"
  }
 },
 "nbformat": 4,
 "nbformat_minor": 5
}
