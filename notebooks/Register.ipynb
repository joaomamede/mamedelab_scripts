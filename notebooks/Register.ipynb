{
 "cells": [
  {
   "cell_type": "code",
   "execution_count": 123,
   "metadata": {},
   "outputs": [],
   "source": [
    "import SimpleITK as sitk\n",
    "import pims\n",
    "# from nd2reader import ND2Reader\n",
    "import numpy as np\n",
    "import matplotlib.pyplot as plt\n",
    "import sys\n",
    "\n",
    "sys.path.insert(0,'/home/jmamede/scripts')\n",
    "# from support_pla import othercolor, cell_mask, multiply, rebin\n",
    "from support_pla import convert16to8bits\n"
   ]
  },
  {
   "cell_type": "code",
   "execution_count": 124,
   "metadata": {},
   "outputs": [],
   "source": [
    "pims?"
   ]
  },
  {
   "cell_type": "code",
   "execution_count": 129,
   "metadata": {},
   "outputs": [],
   "source": [
    "fixedI = pims.open('/home/jmamede/Data/multiplex/KOTHP1/DAPI-iGFP-INmruby3-bactin647_v01_PRJ.Custom.ome.tiff')[3]\n",
    "movingI = pims.open('/home/jmamede/Data/multiplex/KOTHP1/DAPI-1a11_488-241_647_v01_PRJ.Custom.ome.tiff')[3]\n",
    "\n",
    "# image_view = itk.GetImageViewFromArray( np_array)\n",
    "# image = itk.GetImageFromArray( np_array)"
   ]
  },
  {
   "cell_type": "code",
   "execution_count": 130,
   "metadata": {},
   "outputs": [],
   "source": [
    "from image_registration import chi2_shift,cross_correlation_shifts\n",
    "from scipy.ndimage import shift"
   ]
  },
  {
   "cell_type": "code",
   "execution_count": 131,
   "metadata": {},
   "outputs": [],
   "source": [
    "# fixedI = convert16to8bits(np.asarray(fixedI[3]),np.min(fixedI[3]),np.max(fixedI[3]))\n",
    "# movingI = convert16to8bits(np.asarray(movingI[3]),np.min(movingI[3]),np.max(movingI[3]))\n",
    "# fixedI.shape"
   ]
  },
  {
   "cell_type": "code",
   "execution_count": 92,
   "metadata": {},
   "outputs": [
    {
     "name": "stderr",
     "output_type": "stream",
     "text": [
      "/home/jmamede/anaconda3/lib/python3.7/site-packages/image_registration/fft_tools/convolve_nd.py:269: FutureWarning: Using a non-tuple sequence for multidimensional indexing is deprecated; use `arr[tuple(seq)]` instead of `arr[seq]`. In the future this will be interpreted as an array index, `arr[np.array(seq)]`, which will result either in an error or a different result.\n",
      "  bigarray[arrayslices] = array\n",
      "/home/jmamede/anaconda3/lib/python3.7/site-packages/image_registration/fft_tools/convolve_nd.py:270: FutureWarning: Using a non-tuple sequence for multidimensional indexing is deprecated; use `arr[tuple(seq)]` instead of `arr[seq]`. In the future this will be interpreted as an array index, `arr[np.array(seq)]`, which will result either in an error or a different result.\n",
      "  bigkernel[kernslices] = kernel\n",
      "/home/jmamede/anaconda3/lib/python3.7/site-packages/image_registration/fft_tools/convolve_nd.py:325: FutureWarning: Using a non-tuple sequence for multidimensional indexing is deprecated; use `arr[tuple(seq)]` instead of `arr[seq]`. In the future this will be interpreted as an array index, `arr[np.array(seq)]`, which will result either in an error or a different result.\n",
      "  result = rifft[arrayslices].real\n",
      "/home/jmamede/anaconda3/lib/python3.7/site-packages/image_registration/fft_tools/zoom.py:101: FutureWarning: Using a non-tuple sequence for multidimensional indexing is deprecated; use `arr[tuple(seq)]` instead of `arr[seq]`. In the future this will be interpreted as an array index, `arr[np.array(seq)]`, which will result either in an error or a different result.\n",
      "  outarr[ii] = outarr_d[dims]\n"
     ]
    }
   ],
   "source": [
    "# from skimage.registration import optical_flow_tvl1, optical_flow_ilk\n",
    "# from skimage.transform import warp\n",
    "# v, u = optical_flow_ilk(movingI, fixedI)\n",
    "noise=0.01\n",
    "xoff, yoff, exoff, eyoff = chi2_shift(fixedI,movingI,noise, return_error=True, upsample_factor='auto')\n",
    "\n"
   ]
  },
  {
   "cell_type": "code",
   "execution_count": 93,
   "metadata": {},
   "outputs": [
    {
     "name": "stdout",
     "output_type": "stream",
     "text": [
      "-78.076171875 67.576171875\n"
     ]
    }
   ],
   "source": [
    "print(xoff, yoff)\n",
    "corrected_image = shift(movingI,shift=(xoff,yoff), mode='constant')\n"
   ]
  },
  {
   "cell_type": "code",
   "execution_count": 94,
   "metadata": {},
   "outputs": [
    {
     "data": {
      "text/plain": [
       "(2048, 2048)"
      ]
     },
     "execution_count": 94,
     "metadata": {},
     "output_type": "execute_result"
    }
   ],
   "source": [
    "corrected_image.shape"
   ]
  },
  {
   "cell_type": "code",
   "execution_count": 95,
   "metadata": {},
   "outputs": [],
   "source": [
    "reg_im = np.zeros((2048, 2048, 3))\n",
    "reg_im[..., 0] = fixedI\n",
    "reg_im[..., 1] = movingI\n",
    "reg_im[..., 2] = corrected_image"
   ]
  },
  {
   "cell_type": "code",
   "execution_count": 101,
   "metadata": {},
   "outputs": [
    {
     "ename": "TypeError",
     "evalue": "add_image() got an unexpected keyword argument 'blening'",
     "output_type": "error",
     "traceback": [
      "\u001b[0;31m---------------------------------------------------------------------------\u001b[0m",
      "\u001b[0;31mTypeError\u001b[0m                                 Traceback (most recent call last)",
      "\u001b[0;32m<ipython-input-101-32c05e863b83>\u001b[0m in \u001b[0;36m<module>\u001b[0;34m\u001b[0m\n\u001b[1;32m      4\u001b[0m \u001b[0mcmap\u001b[0m \u001b[0;34m=\u001b[0m \u001b[0;34m[\u001b[0m\u001b[0;34m'green'\u001b[0m\u001b[0;34m,\u001b[0m\u001b[0;34m'red'\u001b[0m\u001b[0;34m,\u001b[0m\u001b[0;34m'blue'\u001b[0m\u001b[0;34m]\u001b[0m\u001b[0;34m\u001b[0m\u001b[0;34m\u001b[0m\u001b[0m\n\u001b[1;32m      5\u001b[0m \u001b[0;32mfor\u001b[0m \u001b[0mi\u001b[0m \u001b[0;32min\u001b[0m \u001b[0mrange\u001b[0m\u001b[0;34m(\u001b[0m\u001b[0;36m2\u001b[0m\u001b[0;34m)\u001b[0m\u001b[0;34m:\u001b[0m\u001b[0;34m\u001b[0m\u001b[0;34m\u001b[0m\u001b[0m\n\u001b[0;32m----> 6\u001b[0;31m     \u001b[0mv\u001b[0m\u001b[0;34m.\u001b[0m\u001b[0madd_image\u001b[0m\u001b[0;34m(\u001b[0m\u001b[0mreg_im\u001b[0m\u001b[0;34m[\u001b[0m\u001b[0mi\u001b[0m\u001b[0;34m]\u001b[0m\u001b[0;34m,\u001b[0m\u001b[0mname\u001b[0m\u001b[0;34m=\u001b[0m\u001b[0;34m'image'\u001b[0m\u001b[0;34m+\u001b[0m\u001b[0mstr\u001b[0m\u001b[0;34m(\u001b[0m\u001b[0mi\u001b[0m\u001b[0;34m)\u001b[0m\u001b[0;34m,\u001b[0m\u001b[0mblening\u001b[0m\u001b[0;34m=\u001b[0m\u001b[0;34m'additive'\u001b[0m\u001b[0;34m,\u001b[0m\u001b[0mcolormap\u001b[0m\u001b[0;34m=\u001b[0m\u001b[0mcmap\u001b[0m\u001b[0;34m[\u001b[0m\u001b[0mi\u001b[0m\u001b[0;34m]\u001b[0m\u001b[0;34m)\u001b[0m\u001b[0;34m\u001b[0m\u001b[0;34m\u001b[0m\u001b[0m\n\u001b[0m",
      "\u001b[0;31mTypeError\u001b[0m: add_image() got an unexpected keyword argument 'blening'"
     ]
    }
   ],
   "source": [
    "import napari\n",
    "v = napari.Viewer(ndisplay=2)\n",
    "\n",
    "cmap = ['green','red','blue']\n",
    "for i in range(2):\n",
    "    v.add_image(reg_im[i],name='image'+str(i),blending='additive',colormap=cmap[i])"
   ]
  },
  {
   "cell_type": "code",
   "execution_count": 133,
   "metadata": {},
   "outputs": [
    {
     "ename": "ValueError",
     "evalue": "not enough values to unpack (expected 4, got 2)",
     "output_type": "error",
     "traceback": [
      "\u001b[0;31m---------------------------------------------------------------------------\u001b[0m",
      "\u001b[0;31mValueError\u001b[0m                                Traceback (most recent call last)",
      "\u001b[0;32m<ipython-input-133-f05803a6c080>\u001b[0m in \u001b[0;36m<module>\u001b[0;34m\u001b[0m\n\u001b[0;32m----> 1\u001b[0;31m \u001b[0mxoff\u001b[0m\u001b[0;34m,\u001b[0m \u001b[0myoff\u001b[0m\u001b[0;34m,\u001b[0m \u001b[0mexoff\u001b[0m\u001b[0;34m,\u001b[0m \u001b[0meyoff\u001b[0m \u001b[0;34m=\u001b[0m \u001b[0mcross_correlation_shifts\u001b[0m\u001b[0;34m(\u001b[0m\u001b[0mfixedI\u001b[0m\u001b[0;34m,\u001b[0m\u001b[0mmovingI\u001b[0m\u001b[0;34m)\u001b[0m\u001b[0;34m\u001b[0m\u001b[0;34m\u001b[0m\u001b[0m\n\u001b[0m",
      "\u001b[0;31mValueError\u001b[0m: not enough values to unpack (expected 4, got 2)"
     ]
    }
   ],
   "source": [
    "# xoff, yoff, exoff, eyoff = cross_correlation_shifts(fixedI,movingI)"
   ]
  },
  {
   "cell_type": "code",
   "execution_count": 98,
   "metadata": {},
   "outputs": [],
   "source": [
    "import imreg_dft as ird"
   ]
  },
  {
   "cell_type": "code",
   "execution_count": 114,
   "metadata": {},
   "outputs": [],
   "source": [
    "corrected_image = ird.similarity(fixedI,movingI, numiter=3)"
   ]
  },
  {
   "cell_type": "code",
   "execution_count": 119,
   "metadata": {},
   "outputs": [
    {
     "data": {
      "text/plain": [
       "{'tvec': array([-0.14497177,  0.03165953]),\n",
       " 'success': 0.11141923595330952,\n",
       " 'angle': -0.011558798864825803,\n",
       " 'scale': 1.000794587735744,\n",
       " 'Dscale': 0.0008599174040278565,\n",
       " 'Dangle': 0.02197265625,\n",
       " 'Dt': 0.25,\n",
       " 'timg': array([[16.04023254, 14.68913128, 14.04607095, ...,  2.91568282,\n",
       "          3.87708226,  4.04498997],\n",
       "        [21.38659959, 18.69546511, 16.623902  , ...,  3.81096553,\n",
       "          3.97202061,  4.00290246],\n",
       "        [24.49662948, 19.02270258, 15.85304242, ...,  4.04988043,\n",
       "          4.08130681,  4.08037014],\n",
       "        ...,\n",
       "        [ 2.76401285,  2.93903158,  2.99332186, ...,  3.98979868,\n",
       "          4.24403702,  4.78601879],\n",
       "        [ 3.07736517,  3.44618621,  3.46942907, ...,  2.72568624,\n",
       "          4.38854571,  3.85686787],\n",
       "        [ 2.9689932 ,  4.12039691,  3.70923928, ...,  2.18487347,\n",
       "          3.3959083 ,  1.89994223]])}"
      ]
     },
     "execution_count": 119,
     "metadata": {},
     "output_type": "execute_result"
    }
   ],
   "source": [
    "corrected_image"
   ]
  },
  {
   "cell_type": "code",
   "execution_count": 117,
   "metadata": {},
   "outputs": [],
   "source": [
    "reg_im = np.zeros((2048, 2048, 3))\n",
    "reg_im[..., 0] = fixedI\n",
    "reg_im[..., 1] = movingI\n",
    "reg_im[..., 2] = corrected_image['timg']"
   ]
  },
  {
   "cell_type": "code",
   "execution_count": 118,
   "metadata": {},
   "outputs": [],
   "source": [
    "import napari\n",
    "v = napari.Viewer(ndisplay=2)\n",
    "\n",
    "cmap = ['green','red','blue']\n",
    "for i in range(3):\n",
    "    v.add_image(reg_im[...,i],name='image'+str(i),blending='additive',colormap=cmap[i])"
   ]
  },
  {
   "cell_type": "code",
   "execution_count": 142,
   "metadata": {},
   "outputs": [
    {
     "name": "stdout",
     "output_type": "stream",
     "text": [
      "Help on function similarity in module imreg_dft.imreg:\n",
      "\n",
      "similarity(im0, im1, numiter=1, order=3, constraints=None, filter_pcorr=0, exponent='inf', reports=None)\n",
      "    Return similarity transformed image im1 and transformation parameters.\n",
      "    Transformation parameters are: isotropic scale factor, rotation angle (in\n",
      "    degrees), and translation vector.\n",
      "    \n",
      "    A similarity transformation is an affine transformation with isotropic\n",
      "    scale and without shear.\n",
      "    \n",
      "    Args:\n",
      "        im0 (2D numpy array): The first (template) image\n",
      "        im1 (2D numpy array): The second (subject) image\n",
      "        numiter (int): How many times to iterate when determining scale and\n",
      "            rotation\n",
      "        order (int): Order of approximation (when doing transformations). 1 =\n",
      "            linear, 3 = cubic etc.\n",
      "        filter_pcorr (int): Radius of a spectrum filter for translation\n",
      "            detection\n",
      "        exponent (float or 'inf'): The exponent value used during processing.\n",
      "            Refer to the docs for a thorough explanation. Generally, pass \"inf\"\n",
      "            when feeling conservative. Otherwise, experiment, values below 5\n",
      "            are not even supposed to work.\n",
      "        constraints (dict or None): Specify preference of seeked values.\n",
      "            Pass None (default) for no constraints, otherwise pass a dict with\n",
      "            keys ``angle``, ``scale``, ``tx`` and/or ``ty`` (i.e. you can pass\n",
      "            all, some of them or none of them, all is fine). The value of a key\n",
      "            is supposed to be a mutable 2-tuple (e.g. a list), where the first\n",
      "            value is related to the constraint center and the second one to\n",
      "            softness of the constraint (the higher is the number,\n",
      "            the more soft a constraint is).\n",
      "    \n",
      "            More specifically, constraints may be regarded as weights\n",
      "            in form of a shifted Gaussian curve.\n",
      "            However, for precise meaning of keys and values,\n",
      "            see the documentation section :ref:`constraints`.\n",
      "            Names of dictionary keys map to names of command-line arguments.\n",
      "    \n",
      "    Returns:\n",
      "        dict: Contains following keys: ``scale``, ``angle``, ``tvec`` (Y, X),\n",
      "        ``success`` and ``timg`` (the transformed subject image)\n",
      "    \n",
      "    .. note:: There are limitations\n",
      "    \n",
      "        * Scale change must be less than 2.\n",
      "        * No subpixel precision (but you can use *resampling* to get\n",
      "          around this).\n",
      "\n"
     ]
    }
   ],
   "source": [
    "help(ird.similarity)"
   ]
  },
  {
   "cell_type": "code",
   "execution_count": 122,
   "metadata": {},
   "outputs": [
    {
     "data": {
      "image/png": "[encoded data removed]",
      "text/plain": [
       "<Figure size 432x288 with 4 Axes>"
      ]
     },
     "execution_count": 122,
     "metadata": {},
     "output_type": "execute_result"
    },
    {
     "data": {
      "image/png": "[encoded data removed]",
      "text/plain": [
       "<Figure size 432x288 with 4 Axes>"
      ]
     },
     "metadata": {
      "needs_background": "light"
     },
     "output_type": "display_data"
    }
   ],
   "source": [
    "ird.imshow(fixedI,movingI,corrected_image['timg'])"
   ]
  },
  {
   "cell_type": "code",
   "execution_count": 134,
   "metadata": {},
   "outputs": [],
   "source": [
    "import imreg"
   ]
  },
  {
   "cell_type": "code",
   "execution_count": 138,
   "metadata": {},
   "outputs": [],
   "source": [
    "corrected_image, scale, angle, (t0, t1) = imreg.similarity(fixedI,movingI)"
   ]
  },
  {
   "cell_type": "code",
   "execution_count": 141,
   "metadata": {},
   "outputs": [],
   "source": [
    "reg_im = np.zeros((2048, 2048, 3))\n",
    "reg_im[..., 0] = fixedI\n",
    "reg_im[..., 1] = movingI\n",
    "reg_im[..., 2] = corrected_image\n",
    "\n",
    "import napari\n",
    "v = napari.Viewer(ndisplay=2)\n",
    "\n",
    "cmap = ['green','red','blue']\n",
    "for i in range(3):\n",
    "    v.add_image(reg_im[...,i],name='image'+str(i),blending='additive',colormap=cmap[i])"
   ]
  },
  {
   "cell_type": "code",
   "execution_count": null,
   "metadata": {},
   "outputs": [],
   "source": []
  }
 ],
 "metadata": {
  "kernelspec": {
   "display_name": "Python 3",
   "language": "python",
   "name": "python3"
  },
  "language_info": {
   "codemirror_mode": {
    "name": "ipython",
    "version": 3
   },
   "file_extension": ".py",
   "mimetype": "text/x-python",
   "name": "python",
   "nbconvert_exporter": "python",
   "pygments_lexer": "ipython3",
   "version": "3.7.10"
  }
 },
 "nbformat": 4,
 "nbformat_minor": 4
}
