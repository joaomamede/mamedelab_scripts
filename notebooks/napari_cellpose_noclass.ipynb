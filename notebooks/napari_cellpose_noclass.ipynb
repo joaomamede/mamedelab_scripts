{
 "cells": [
  {
   "cell_type": "code",
   "execution_count": 1,
   "metadata": {},
   "outputs": [],
   "source": [
    "import os\n",
    "import matplotlib.pyplot as plt\n",
    "import pims\n",
    "import sys\n",
    "import numpy as np\n",
    "sys.path.insert(0,'/home/jmamede/scripts')\n",
    "# from support_pla import othercolor, cell_mask, multiply, rebin\n",
    "from support_pla import cellpose_mask,cellpose_model\n",
    "import pandas as pd\n",
    "from nd2reader import ND2Reader\n",
    "import glob\n",
    "import csv\n",
    "plot = True"
   ]
  },
  {
   "cell_type": "code",
   "execution_count": 2,
   "metadata": {},
   "outputs": [],
   "source": [
    "# ficheiro = \"/run/media/jmamede/Joao/96wells/20201119_143803_601/WellA01_ChannelGFP,DAPI_Seq0000.nd2\"\n",
    "dirname = '/home/jmamede/Data/tests/Well*.nd2'\n",
    "filelist = glob.glob(dirname)\n",
    "filelist.sort()\n",
    "\n",
    "\n",
    "# reader = ND2Reader(ficheiro)\n",
    "# print(reader.sizes)\n",
    "\n",
    "# metadata = reader.metadata\n",
    "# reader.bundle_axes = 'cyx'\n",
    "# reader.iter_axes = 'z'\n",
    "# #there is a bug, it reads each visit point as a Z.\n",
    "# reader.default_coords['v'] = 0\n",
    "# #reader.sizes['z']\n",
    "\n",
    "def plots(reader,cells_masks,nuclei_masks,base,series):\n",
    "    %matplotlib inline\n",
    "    from cellpose.utils import masks_to_outlines\n",
    "    f, axarr = plt.subplots(3)\n",
    "    print(axarr.shape)\n",
    "    axarr[0].imshow(reader[series][1],vmin=np.min(reader[5][1]),vmax=np.max(reader[5][1])/2\n",
    "#         ,cmap=\"gray\"\n",
    "                     )\n",
    "    axarr[0].imshow(masks_to_outlines(cells_masks),alpha=0.6,cmap='gray'\n",
    "        )\n",
    "#     axarr[0,2].imshow(reader[i][0],vmin=100,vmax=np.max(reader[5][0])/3\n",
    "#         )\n",
    "    axarr[2].imshow(reader[series][1],vmin=np.min(reader[5][1]),vmax=np.max(reader[5][1])/2\n",
    "#         ,cmap=\"gray\"\n",
    "                     )\n",
    "    axarr[2].imshow(cells_masks,alpha=0.4,cmap='jet')\n",
    "    \n",
    "    axarr[1].imshow(reader[series][0],vmin=np.min(reader[5][0]),vmax=np.max(reader[5][0])/2\n",
    "#                       ,cmap=\"gray\"\n",
    "        )\n",
    "    axarr[1].imshow(masks_to_outlines(nuclei_masks),alpha=0.4,cmap='gray')\n",
    "        \n",
    "        \n",
    "#     axarr[1,2].imshow(reader[i][1],vmin=100,vmax=np.max(reader[5][0])/3\n",
    "#         )\n",
    "#     axarr[1,2].imshow(nuclei_masks\n",
    "# #                 ,alpha=0.6\n",
    "#         )\n",
    "    plt.savefig(base+'v'+str(series),dpi=600)\n",
    "    return f,axarr\n",
    "\n",
    "\n"
   ]
  },
  {
   "cell_type": "code",
   "execution_count": 3,
   "metadata": {},
   "outputs": [
    {
     "name": "stdout",
     "output_type": "stream",
     "text": [
      "** CUDA version installed and working. **\n",
      ">>>> using GPU\n",
      "cellpose_residual_on_style_on_concatenation_off\n",
      "** CUDA version installed and working. **\n",
      ">>>> using GPU\n",
      "cellpose_residual_on_style_on_concatenation_off\n"
     ]
    },
    {
     "name": "stderr",
     "output_type": "stream",
     "text": [
      "/home/jmamede/anaconda3/lib/python3.7/site-packages/napari/__init__.py:44: UserWarning: \n",
      "    napari was tested with QT library `>=5.12.3`.\n",
      "    The version installed is 5.9.7. Please report any issues with this\n",
      "    specific QT version at https://github.com/Napari/napari/issues.\n",
      "    \n",
      "  warn(message=warn_message)\n"
     ]
    }
   ],
   "source": [
    "import contextlib\n",
    "import io\n",
    "from cellpose import io as iocp\n",
    "from cellpose import plot,utils\n",
    "    \n",
    "    \n",
    "    \n",
    "model = cellpose_model(GPU=True)\n",
    "model_nuc = cellpose_model(GPU=True,model_type='nuclei')\n",
    "\n",
    "f = open(\"/home/jmamede/Data/analysis2.csv\", 'wt')\n",
    "output = csv.writer(f\n",
    "#                     , delimiter=',',\n",
    "#                             quotechar='\"', quoting=csv.QUOTE_MINIMAL\n",
    "                   )\n",
    "output.writerow([\"Well\",\"VisitPoint\",\"num_cells\",\"infected_cells\",\"percentage\"])\n",
    "\n",
    "f2 = open(\"/home/jmamede/Data/analysisWells.csv\", 'wt')\n",
    "output2 = csv.writer(f2\n",
    "#                     , delimiter=',',\n",
    "#                             quotechar='\"', quoting=csv.QUOTE_MINIMAL\n",
    "                   )\n",
    "output2.writerow([\"Well\",\"VisitPoint\",\"num_cells\",\"infected_cells\",\"percentage\"])\n",
    "\n",
    "from napari.qt import thread_worker\n",
    "\n",
    "# for ficheiro in filelist:\n",
    "# @thread_worker\n",
    "def poseri(ficheiro,chan_cells,chan_nuclei):\n",
    "    from cellpose import io as iocp\n",
    "    from cellpose import plot,utils\n",
    "    reader = ND2Reader(ficheiro)\n",
    "#     metadata = reader.metadata\n",
    "    reader.bundle_axes = 'cyx'\n",
    "    reader.iter_axes = 'z'\n",
    "    #there is a bug, it reads each visit point as a Z.\n",
    "    reader.default_coords['v'] = 0\n",
    "    ncells = 0\n",
    "    nnuclei = 0\n",
    "    \n",
    "#     for i in range(reader.sizes['z']):\n",
    "    for i in [0]:\n",
    "        #shut cellpose messages up.\n",
    "        with contextlib.redirect_stdout(io.StringIO()):\n",
    "            \n",
    "            cells_masks = cellpose_mask(reader[i][chan_cells],model\n",
    "            #                             ,size=2500\n",
    "                                        ,flow_threshold=0.8,size=0,diam=50,cell_prob=-1\n",
    "                                       )\n",
    "            nuclei_masks = cellpose_mask(reader[i][chan_nuclei],model_nuc\n",
    "            #                             ,size=2500\n",
    "                                        ,flow_threshold=1.2,size=0,diam=25,cell_prob=0\n",
    "                                       )\n",
    "            ncells += cells_masks.max()\n",
    "            nnuclei += nuclei_masks.max()\n",
    "            base = os.path.splitext(ficheiro)[0]\n",
    "            outlines = utils.outlines_list(cells_masks)\n",
    "            cell_outlines = utils.masks_to_outlines(cells_masks)\n",
    "            iocp.outlines_to_text(base+'v'+str(i), outlines)\n",
    "            f,axarr =  plots(reader,cells_masks,nuclei_masks,base,i)\n",
    "    \n",
    "        text = \"Image#: {0} Number of Nuclei: {1} Number of positive cells: {2} Percentage: {3}\".format(i,nuclei_masks.max(),cells_masks.max(),cells_masks.max()/nuclei_masks.max())\n",
    "        print(ficheiro,text)\n",
    "#         output.writerow([ficheiro,i,nuclei_masks.max(),cells_masks.max(),cells_masks.max()/nuclei_masks.max()*100])\n",
    "#     output2.writerow(([ficheiro,'NA',nnuclei,ncells,ncells/nnuclei*100]))\n",
    "    return [reader[i][chan_cells],reader[i][chan_nuclei],cells_masks,nuclei_masks]\n",
    "f.close()"
   ]
  },
  {
   "cell_type": "code",
   "execution_count": 4,
   "metadata": {},
   "outputs": [
    {
     "name": "stderr",
     "output_type": "stream",
     "text": [
      "/home/jmamede/anaconda3/lib/python3.7/site-packages/nd2reader/raw_metadata.py:171: UserWarning: Z-levels details missing in metadata. Using Z-coordinates instead.\n",
      "  warnings.warn(\"Z-levels details missing in metadata. Using Z-coordinates instead.\")\n"
     ]
    },
    {
     "name": "stdout",
     "output_type": "stream",
     "text": [
      "/home/jmamede/Data/tests/WellA01_Channela647,GFP,mRuby_Seq0000.nd2 Image#: 0 Number of Nuclei: 167 Number of positive cells: 28 Percentage: 0.16766467065868262\n"
     ]
    },
    {
     "data": {
      "image/png": "[encoded data removed]",
      "text/plain": [
       "<Figure size 432x288 with 3 Axes>"
      ]
     },
     "metadata": {
      "needs_background": "light"
     },
     "output_type": "display_data"
    }
   ],
   "source": [
    "result = poseri(filelist[0],1,0)"
   ]
  },
  {
   "cell_type": "code",
   "execution_count": 5,
   "metadata": {},
   "outputs": [
    {
     "data": {
      "text/plain": [
       "[Frame([[803., 864., 850., ..., 801., 930., 854.],\n",
       "        [956., 835., 807., ..., 817., 922., 921.],\n",
       "        [894., 896., 854., ..., 949., 859., 895.],\n",
       "        ...,\n",
       "        [923., 876., 858., ..., 827., 881., 857.],\n",
       "        [873., 878., 861., ..., 824., 858., 847.],\n",
       "        [878., 842., 809., ..., 911., 824., 850.]]),\n",
       " Frame([[445., 462., 439., ..., 260., 291., 252.],\n",
       "        [496., 463., 453., ..., 243., 275., 245.],\n",
       "        [434., 448., 456., ..., 276., 238., 292.],\n",
       "        ...,\n",
       "        [275., 254., 308., ..., 532., 499., 483.],\n",
       "        [280., 301., 301., ..., 519., 474., 536.],\n",
       "        [244., 286., 304., ..., 520., 498., 479.]]),\n",
       " array([[0, 0, 0, ..., 0, 0, 0],\n",
       "        [0, 0, 0, ..., 0, 0, 0],\n",
       "        [0, 0, 0, ..., 0, 0, 0],\n",
       "        ...,\n",
       "        [0, 0, 0, ..., 0, 0, 0],\n",
       "        [0, 0, 0, ..., 0, 0, 0],\n",
       "        [0, 0, 0, ..., 0, 0, 0]], dtype=int32),\n",
       " array([[1, 1, 1, ..., 0, 0, 0],\n",
       "        [1, 1, 1, ..., 0, 0, 0],\n",
       "        [1, 1, 1, ..., 0, 0, 0],\n",
       "        ...,\n",
       "        [0, 0, 0, ..., 0, 0, 0],\n",
       "        [0, 0, 0, ..., 0, 0, 0],\n",
       "        [0, 0, 0, ..., 0, 0, 0]], dtype=int32)]"
      ]
     },
     "execution_count": 5,
     "metadata": {},
     "output_type": "execute_result"
    }
   ],
   "source": [
    "result"
   ]
  },
  {
   "cell_type": "code",
   "execution_count": 6,
   "metadata": {},
   "outputs": [],
   "source": [
    "# import numpy as np\n",
    "# import napari\n",
    "# import time\n",
    "# from dask import delayed\n",
    "# import dask.array as da\n",
    "\n",
    "# def outputfiles(ficheiro):\n",
    "#     from nd2reader import ND2Reader\n",
    "#     reader = ND2Reader(ficheiro)\n",
    "# #     metadata = reader.metadata\n",
    "#     reader.bundle_axes = 'cyx'\n",
    "#     reader.iter_axes = 'z'\n",
    "#     #there is a bug, it reads each visit point as a Z.\n",
    "#     reader.default_coords['v'] = 0\n",
    "#     return reader\n",
    "    \n",
    "# a = outputfiles(filelist[0])\n",
    "# a[0].dtype\n",
    "# lazy_imread = delayed(outputfiles)\n",
    "# lazy_arrays = [lazy_imread(fn) for fn in filelist]\n",
    "    \n",
    "# lazy_imread = delayed(outputfiles)\n",
    "# # lazy_arrays = [lazy_imread(fn) for fn in filelist]\n",
    "# lazy_arrays = [lazy_imread(filelist[0])]\n",
    "\n",
    "# dask_arrays = [da.from_delayed(delayed_reader,shape=(3,2044,2048),dtype='float64') for delayed_reader in lazy_arrays]"
   ]
  },
  {
   "cell_type": "code",
   "execution_count": null,
   "metadata": {},
   "outputs": [
    {
     "name": "stderr",
     "output_type": "stream",
     "text": [
      "/home/jmamede/anaconda3/lib/python3.7/site-packages/nd2reader/raw_metadata.py:171: UserWarning: Z-levels details missing in metadata. Using Z-coordinates instead.\n",
      "  warnings.warn(\"Z-levels details missing in metadata. Using Z-coordinates instead.\")\n"
     ]
    },
    {
     "name": "stdout",
     "output_type": "stream",
     "text": [
      "/home/jmamede/Data/tests/WellA01_Channela647,GFP,mRuby_Seq0000.nd2 Image#: 0 Number of Nuclei: 167 Number of positive cells: 28 Percentage: 0.16766467065868262\n"
     ]
    },
    {
     "name": "stderr",
     "output_type": "stream",
     "text": [
      "/home/jmamede/anaconda3/lib/python3.7/site-packages/nd2reader/raw_metadata.py:171: UserWarning: Z-levels details missing in metadata. Using Z-coordinates instead.\n",
      "  warnings.warn(\"Z-levels details missing in metadata. Using Z-coordinates instead.\")\n"
     ]
    },
    {
     "name": "stdout",
     "output_type": "stream",
     "text": [
      "/home/jmamede/Data/tests/WellA02_Channela647,GFP,mRuby_Seq0001.nd2 Image#: 0 Number of Nuclei: 242 Number of positive cells: 18 Percentage: 0.0743801652892562\n"
     ]
    },
    {
     "name": "stderr",
     "output_type": "stream",
     "text": [
      "/home/jmamede/anaconda3/lib/python3.7/site-packages/nd2reader/raw_metadata.py:171: UserWarning: Z-levels details missing in metadata. Using Z-coordinates instead.\n",
      "  warnings.warn(\"Z-levels details missing in metadata. Using Z-coordinates instead.\")\n"
     ]
    },
    {
     "name": "stdout",
     "output_type": "stream",
     "text": [
      "/home/jmamede/Data/tests/WellB01_Channela647,GFP,mRuby_Seq0019.nd2 Image#: 0 Number of Nuclei: 231 Number of positive cells: 10 Percentage: 0.04329004329004329\n"
     ]
    },
    {
     "name": "stderr",
     "output_type": "stream",
     "text": [
      "/home/jmamede/anaconda3/lib/python3.7/site-packages/nd2reader/raw_metadata.py:171: UserWarning: Z-levels details missing in metadata. Using Z-coordinates instead.\n",
      "  warnings.warn(\"Z-levels details missing in metadata. Using Z-coordinates instead.\")\n"
     ]
    },
    {
     "name": "stdout",
     "output_type": "stream",
     "text": [
      "/home/jmamede/Data/tests/WellB02_Channela647,GFP,mRuby_Seq0018.nd2 Image#: 0 Number of Nuclei: 298 Number of positive cells: 7 Percentage: 0.02348993288590604\n"
     ]
    },
    {
     "name": "stderr",
     "output_type": "stream",
     "text": [
      "/home/jmamede/anaconda3/lib/python3.7/site-packages/nd2reader/raw_metadata.py:171: UserWarning: Z-levels details missing in metadata. Using Z-coordinates instead.\n",
      "  warnings.warn(\"Z-levels details missing in metadata. Using Z-coordinates instead.\")\n"
     ]
    },
    {
     "name": "stdout",
     "output_type": "stream",
     "text": [
      "/home/jmamede/Data/tests/WellB03_Channela647,GFP,mRuby_Seq0017.nd2 Image#: 0 Number of Nuclei: 288 Number of positive cells: 5 Percentage: 0.017361111111111112\n"
     ]
    },
    {
     "name": "stderr",
     "output_type": "stream",
     "text": [
      "/home/jmamede/anaconda3/lib/python3.7/site-packages/nd2reader/raw_metadata.py:171: UserWarning: Z-levels details missing in metadata. Using Z-coordinates instead.\n",
      "  warnings.warn(\"Z-levels details missing in metadata. Using Z-coordinates instead.\")\n"
     ]
    },
    {
     "name": "stdout",
     "output_type": "stream",
     "text": [
      "/home/jmamede/Data/tests/WellB04_Channela647,GFP,mRuby_Seq0016.nd2 Image#: 0 Number of Nuclei: 283 Number of positive cells: 9 Percentage: 0.03180212014134275\n"
     ]
    },
    {
     "name": "stderr",
     "output_type": "stream",
     "text": [
      "/home/jmamede/anaconda3/lib/python3.7/site-packages/nd2reader/raw_metadata.py:171: UserWarning: Z-levels details missing in metadata. Using Z-coordinates instead.\n",
      "  warnings.warn(\"Z-levels details missing in metadata. Using Z-coordinates instead.\")\n"
     ]
    },
    {
     "name": "stdout",
     "output_type": "stream",
     "text": [
      "/home/jmamede/Data/tests/WellB05_Channela647,GFP,mRuby_Seq0015.nd2 Image#: 0 Number of Nuclei: 311 Number of positive cells: 11 Percentage: 0.03536977491961415\n"
     ]
    },
    {
     "name": "stderr",
     "output_type": "stream",
     "text": [
      "/home/jmamede/anaconda3/lib/python3.7/site-packages/nd2reader/raw_metadata.py:171: UserWarning: Z-levels details missing in metadata. Using Z-coordinates instead.\n",
      "  warnings.warn(\"Z-levels details missing in metadata. Using Z-coordinates instead.\")\n"
     ]
    },
    {
     "name": "stdout",
     "output_type": "stream",
     "text": [
      "/home/jmamede/Data/tests/WellB06_Channela647,GFP,mRuby_Seq0014.nd2 Image#: 0 Number of Nuclei: 286 Number of positive cells: 11 Percentage: 0.038461538461538464\n"
     ]
    },
    {
     "name": "stderr",
     "output_type": "stream",
     "text": [
      "/home/jmamede/anaconda3/lib/python3.7/site-packages/nd2reader/raw_metadata.py:171: UserWarning: Z-levels details missing in metadata. Using Z-coordinates instead.\n",
      "  warnings.warn(\"Z-levels details missing in metadata. Using Z-coordinates instead.\")\n"
     ]
    },
    {
     "name": "stdout",
     "output_type": "stream",
     "text": [
      "/home/jmamede/Data/tests/WellB07_Channela647,GFP,mRuby_Seq0013.nd2 Image#: 0 Number of Nuclei: 298 Number of positive cells: 10 Percentage: 0.03355704697986577\n"
     ]
    },
    {
     "name": "stderr",
     "output_type": "stream",
     "text": [
      "/home/jmamede/anaconda3/lib/python3.7/site-packages/nd2reader/raw_metadata.py:171: UserWarning: Z-levels details missing in metadata. Using Z-coordinates instead.\n",
      "  warnings.warn(\"Z-levels details missing in metadata. Using Z-coordinates instead.\")\n"
     ]
    },
    {
     "name": "stdout",
     "output_type": "stream",
     "text": [
      "/home/jmamede/Data/tests/WellB08_Channela647,GFP,mRuby_Seq0012.nd2 Image#: 0 Number of Nuclei: 291 Number of positive cells: 15 Percentage: 0.05154639175257732\n"
     ]
    },
    {
     "name": "stderr",
     "output_type": "stream",
     "text": [
      "/home/jmamede/anaconda3/lib/python3.7/site-packages/nd2reader/raw_metadata.py:171: UserWarning: Z-levels details missing in metadata. Using Z-coordinates instead.\n",
      "  warnings.warn(\"Z-levels details missing in metadata. Using Z-coordinates instead.\")\n"
     ]
    },
    {
     "name": "stdout",
     "output_type": "stream",
     "text": [
      "/home/jmamede/Data/tests/WellB09_Channela647,GFP,mRuby_Seq0011.nd2 Image#: 0 Number of Nuclei: 282 Number of positive cells: 3 Percentage: 0.010638297872340425\n"
     ]
    },
    {
     "name": "stderr",
     "output_type": "stream",
     "text": [
      "/home/jmamede/anaconda3/lib/python3.7/site-packages/nd2reader/raw_metadata.py:171: UserWarning: Z-levels details missing in metadata. Using Z-coordinates instead.\n",
      "  warnings.warn(\"Z-levels details missing in metadata. Using Z-coordinates instead.\")\n"
     ]
    },
    {
     "name": "stdout",
     "output_type": "stream",
     "text": [
      "/home/jmamede/Data/tests/WellB10_Channela647,GFP,mRuby_Seq0010.nd2 Image#: 0 Number of Nuclei: 11 Number of positive cells: 10 Percentage: 0.9090909090909091\n"
     ]
    },
    {
     "name": "stderr",
     "output_type": "stream",
     "text": [
      "/home/jmamede/anaconda3/lib/python3.7/site-packages/nd2reader/raw_metadata.py:171: UserWarning: Z-levels details missing in metadata. Using Z-coordinates instead.\n",
      "  warnings.warn(\"Z-levels details missing in metadata. Using Z-coordinates instead.\")\n"
     ]
    },
    {
     "name": "stdout",
     "output_type": "stream",
     "text": [
      "/home/jmamede/Data/tests/WellC01_Channela647,GFP,mRuby_Seq0020.nd2 Image#: 0 Number of Nuclei: 272 Number of positive cells: 9 Percentage: 0.03308823529411765\n"
     ]
    },
    {
     "name": "stderr",
     "output_type": "stream",
     "text": [
      "/home/jmamede/anaconda3/lib/python3.7/site-packages/nd2reader/raw_metadata.py:171: UserWarning: Z-levels details missing in metadata. Using Z-coordinates instead.\n",
      "  warnings.warn(\"Z-levels details missing in metadata. Using Z-coordinates instead.\")\n"
     ]
    },
    {
     "name": "stdout",
     "output_type": "stream",
     "text": [
      "/home/jmamede/Data/tests/WellD01_Channela647,GFP,mRuby_Seq0039.nd2 Image#: 0 Number of Nuclei: 230 Number of positive cells: 10 Percentage: 0.043478260869565216\n"
     ]
    },
    {
     "name": "stderr",
     "output_type": "stream",
     "text": [
      "/home/jmamede/anaconda3/lib/python3.7/site-packages/nd2reader/raw_metadata.py:171: UserWarning: Z-levels details missing in metadata. Using Z-coordinates instead.\n",
      "  warnings.warn(\"Z-levels details missing in metadata. Using Z-coordinates instead.\")\n"
     ]
    }
   ],
   "source": [
    "import napari\n",
    "from napari.qt import thread_worker\n",
    "from cellpose.utils import masks_to_outlines\n",
    "with napari.gui_qt():\n",
    "    v = napari.Viewer(show=False)\n",
    "    v.show()\n",
    "    #     layer = viewer.add_image(np.random.random((512, 512)))\n",
    "#     @thread_worker\n",
    "    def updating(result):\n",
    "    #         v.layers.remove('image')\n",
    "        from cellpose.utils import masks_to_outlines\n",
    "        [v.layers.pop(0) for la in range(len(v.layers))]    \n",
    "\n",
    "        v.add_image(\n",
    "            result[1],\n",
    "            blending='additive',\n",
    "    #         contrast_limits=[np.min(result[1]),np.max(result[1])],\n",
    "    #         ndisplay=2,\n",
    "            colormap='blue',\n",
    "            name='nuclei'\n",
    "        )   \n",
    "\n",
    "        v.add_image(\n",
    "            result[0],\n",
    "            blending='additive',\n",
    "            colormap='green',\n",
    "            name='cells')\n",
    "\n",
    "        v.add_labels(\n",
    "        result[2],\n",
    "        opacity=0.4,\n",
    "        blending='additive',\n",
    "    #         contrast_limits=[np.min(result[1]),np.max(result[1])],\n",
    "        name='nuclei'\n",
    "        ) \n",
    "\n",
    "        v.add_labels(\n",
    "        masks_to_outlines(result[3]),\n",
    "    #     utils.outlines_list(result[0]),\n",
    "        opacity=0.4,\n",
    "        blending='additive',\n",
    "    #         contrast_limits=[np.min(result[1]),np.max(result[1])],\n",
    "        name='nuclei'\n",
    "        )\n",
    "#         yield\n",
    "\n",
    "        \n",
    "\n",
    "    for ficheiro in filelist:\n",
    "        result = poseri(ficheiro,1,0)\n",
    "        updating(result)\n",
    "#         worker.start\n",
    "\n",
    "    #     layers[0].data = []\n",
    "    #     layers[1].data = []\n",
    "    #     layers[0] = []\n",
    "    #     layers[0] = []"
   ]
  },
  {
   "cell_type": "code",
   "execution_count": 7,
   "metadata": {},
   "outputs": [
    {
     "ename": "NameError",
     "evalue": "name 'masks_to_outlines' is not defined",
     "output_type": "error",
     "traceback": [
      "\u001b[0;31m---------------------------------------------------------------------------\u001b[0m",
      "\u001b[0;31mNameError\u001b[0m                                 Traceback (most recent call last)",
      "\u001b[0;32m<ipython-input-7-aa033e692baf>\u001b[0m in \u001b[0;36m<module>\u001b[0;34m\u001b[0m\n\u001b[1;32m     29\u001b[0m     ) \n\u001b[1;32m     30\u001b[0m     label1 = v.add_labels(\n\u001b[0;32m---> 31\u001b[0;31m     \u001b[0mmasks_to_outlines\u001b[0m\u001b[0;34m(\u001b[0m\u001b[0mresult\u001b[0m\u001b[0;34m[\u001b[0m\u001b[0;36m3\u001b[0m\u001b[0;34m]\u001b[0m\u001b[0;34m)\u001b[0m\u001b[0;34m,\u001b[0m\u001b[0;34m\u001b[0m\u001b[0;34m\u001b[0m\u001b[0m\n\u001b[0m\u001b[1;32m     32\u001b[0m \u001b[0;31m#     utils.outlines_list(result[0]),\u001b[0m\u001b[0;34m\u001b[0m\u001b[0;34m\u001b[0m\u001b[0;34m\u001b[0m\u001b[0m\n\u001b[1;32m     33\u001b[0m     \u001b[0mopacity\u001b[0m\u001b[0;34m=\u001b[0m\u001b[0;36m0.4\u001b[0m\u001b[0;34m,\u001b[0m\u001b[0;34m\u001b[0m\u001b[0;34m\u001b[0m\u001b[0m\n",
      "\u001b[0;31mNameError\u001b[0m: name 'masks_to_outlines' is not defined"
     ]
    }
   ],
   "source": [
    "import time\n",
    "import numpy as np\n",
    "import napari\n",
    "\n",
    "from qtpy.QtCore import Qt\n",
    "from qtpy.QtWidgets import QPushButton\n",
    "\n",
    "\n",
    "image = np.random.random((2048, 2048))\n",
    "zeros = np.zeros((2048, 2048))\n",
    "\n",
    "@thread_worker\n",
    "def pan(layer, interval=0.05):\n",
    "    layer.translate = (-2148, 0)\n",
    "    layer.data = image\n",
    "    for i in range(-2140, 8, 16):\n",
    "        layer.translate = (i, 0)\n",
    "        yield\n",
    "        time.sleep(interval)\n",
    "\n",
    "with napari.gui_qt():\n",
    "    v = napari.Viewer(show=False)\n",
    "    v.window._qt_window.setWindowState(Qt.WindowMaximized)\n",
    "    v.show()\n",
    "\n",
    "    image_layer = v.add_image(zeros)\n",
    "    worker = pan(image_layer)\n",
    "\n",
    "    button = QPushButton(\"Start animation\")\n",
    "    button.clicked.connect(worker.start)\n",
    "    v.window.add_dock_widget(widget=button, area='left')"
   ]
  },
  {
   "cell_type": "code",
   "execution_count": 30,
   "metadata": {},
   "outputs": [],
   "source": [
    "with napari.gui_qt():\n",
    "    viewer = napari.Viewer()\n",
    "\n",
    "    @thread_worker(connect={\"returned\": viewer.add_image})\n",
    "    def average_large_image():\n",
    "        return np.random.rand(1024, 512, 512).mean(0)\n",
    "\n",
    "    average_large_image()"
   ]
  },
  {
   "cell_type": "code",
   "execution_count": 7,
   "metadata": {},
   "outputs": [
    {
     "name": "stderr",
     "output_type": "stream",
     "text": [
      "/home/jmamede/anaconda3/lib/python3.7/site-packages/napari/__init__.py:44: UserWarning: \n",
      "    napari was tested with QT library `>=5.12.3`.\n",
      "    The version installed is 5.9.7. Please report any issues with this\n",
      "    specific QT version at https://github.com/Napari/napari/issues.\n",
      "    \n",
      "  warn(message=warn_message)\n"
     ]
    }
   ],
   "source": [
    "import napari\n",
    "with napari.gui_qt():\n",
    "    v = napari.view_image(result[0])"
   ]
  },
  {
   "cell_type": "code",
   "execution_count": null,
   "metadata": {},
   "outputs": [],
   "source": [
    "from numba import cuda\n",
    "cuda.select_device(0)\n",
    "cuda.close()\n",
    "cuda.select_device(0)"
   ]
  },
  {
   "cell_type": "code",
   "execution_count": null,
   "metadata": {},
   "outputs": [],
   "source": [
    "from cellpose.utils import \n",
    "\n",
    "plt.imshow(masks_to_outlines(cells_masks))"
   ]
  }
 ],
 "metadata": {
  "kernelspec": {
   "display_name": "Python 3",
   "language": "python",
   "name": "python3"
  },
  "language_info": {
   "codemirror_mode": {
    "name": "ipython",
    "version": 3
   },
   "file_extension": ".py",
   "mimetype": "text/x-python",
   "name": "python",
   "nbconvert_exporter": "python",
   "pygments_lexer": "ipython3",
   "version": "3.7.8"
  }
 },
 "nbformat": 4,
 "nbformat_minor": 4
}
