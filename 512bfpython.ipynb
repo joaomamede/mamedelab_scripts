{
 "cells": [
  {
   "cell_type": "code",
   "execution_count": 2,
   "metadata": {},
   "outputs": [],
   "source": [
    "%matplotlib inline\n",
    "import numpy as np\n",
    "import matplotlib.pyplot as plt\n",
    "from flowdec.nb import utils as nbutils \n",
    "from skimage import io\n",
    "from scipy.stats import describe\n",
    "from skimage.exposure import rescale_intensity, histogram, adjust_gamma\n",
    "from flowdec import data as fd_data\n",
    "import pims\n",
    "# import pims\n",
    "from skimage import io\n",
    "from flowdec import restoration as fd_restoration\n",
    "from flowdec import data as fd_data\n",
    "from flowdec import psf as fd_psf\n",
    "import dask\n",
    "import dask.array as da\n",
    "import tifffile as tf\n",
    "from nd2reader import ND2Reader\n",
    "from pims import ND2_Reader as nd2_two\n",
    "import matplotlib.pyplot as plt\n"
   ]
  },
  {
   "cell_type": "code",
   "execution_count": 3,
   "metadata": {},
   "outputs": [],
   "source": [
    "# channels = ['miRFP670', 'mRuby3','FITC']\n"
   ]
  },
  {
   "cell_type": "code",
   "execution_count": 4,
   "metadata": {},
   "outputs": [
    {
     "name": "stderr",
     "output_type": "stream",
     "text": [
      "/home/jmamede/anaconda3/lib/python3.7/site-packages/pims/bioformats.py:408: UserWarning: Due to an issue with JPype 0.6.0, reading is slower. Please consider upgrading JPype to 0.6.1 or later.\n",
      "  warn('Due to an issue with JPype 0.6.0, reading is slower. '\n"
     ]
    }
   ],
   "source": [
    "fname = 'igfp1_caruby5_continue001trigger003.nd2'\n",
    "# fname = '/home/jmamede/Area51/igfp3_caruby3_rutin_bvd_f2_2days_xy02.nd2'\n",
    "# fname = '/tmp/test.ome.tiff'\n",
    "# frames =  pims.ND2_Reader('/home/jmamede/Area51/igfp3_caruby3_rutin_bvd_f2_2days_xy02.nd2.')\n",
    "frames =  frames = pims.bioformats.BioformatsReader(fname)\n",
    "# fames2 = nd2_two(fname)\n",
    "# frames = pims.bioformats.BioformatsReader(fname)\n",
    "# frames.reader=0\n",
    "#frames.iter_axes = 't'  # 't' is the default already\n",
    "frames.bundle_axes = 'zyx'  # when 'z' is available, this will be default"
   ]
  },
  {
   "cell_type": "code",
   "execution_count": 7,
   "metadata": {},
   "outputs": [],
   "source": [
    "frames.sizes\n",
    "#['z']\n",
    "#frames.bundle_axes = 'czyx'  # when 'z' is available, this will be default\n",
    "#frames.iter_axes = 'c' \n",
    "#frames.default_coords['c'] = 1  # 0 is the default setting\n",
    "#for frame in frames[:3]:\n",
    "    # do something with 3D frames in channel 1\n",
    "metadata =  frames.metadata\n",
    "# print(frames.metadata.keys())\n",
    "# print(frames.metadata['events'])\n",
    "# print(fames2.metadata.keys())\n",
    "# print(fames2.metadata.flush())\n",
    "# print(frames.parser._"
   ]
  },
  {
   "cell_type": "code",
   "execution_count": 28,
   "metadata": {},
   "outputs": [
    {
     "data": {
      "text/plain": [
       "'None'"
      ]
     },
     "execution_count": 28,
     "metadata": {},
     "output_type": "execute_result"
    }
   ],
   "source": [
    "metadata.PlaneExposureTime(0,5)"
   ]
  },
  {
   "cell_type": "code",
   "execution_count": 103,
   "metadata": {},
   "outputs": [],
   "source": [
    "from apeer_ometiff_library import omexmlClass\n",
    "omexml = omexmlClass.OMEXML()\n",
    "#example on how to add more series!\n",
    "omexml.image_count = 8\n",
    "p = omexml.image().Pixels\n",
    "p7 = omexml.image(7).Pixels\n",
    "# >>> o = OMEXML()\n",
    "# >>> o.image().Pixels.channel_count = 3\n",
    "# >>> o.image().Pixels.Channel(0).Name = \"Red\"\n",
    "# >>> o.image().Pixels.Channel(1).Name = \"Green\"\n",
    "# >>> o.image().Pixels.Channel(2).Name = \"Blue\""
   ]
  },
  {
   "cell_type": "code",
   "execution_count": 81,
   "metadata": {},
   "outputs": [],
   "source": [
    "def Nd2meta2OMEXML(nd2meta,output_file):\n",
    "    from apeer_ometiff_library import omexmlClass\n",
    "    \n",
    "    def writeplanes(pixel, SizeT=1, SizeZ=1, SizeC=1, order='TZCYX', verbose=False):\n",
    "\n",
    "        if order == 'TZCYX':\n",
    "\n",
    "            pixel.DimensionOrder = omexmlClass.DO_XYCZT\n",
    "#             counter = 0\n",
    "            for t in range(SizeT):\n",
    "                for z in range(SizeZ):\n",
    "                    for c in range(SizeC):\n",
    "\n",
    "                        if verbose:\n",
    "                            print('Write PlaneTable: ', t, z, c),\n",
    "                            sys.stdout.flush()\n",
    "\n",
    "                        pixel.Plane(counter).TheT = t\n",
    "                        pixel.Plane(counter).TheZ = z\n",
    "                        pixel.Plane(counter).TheC = c\n",
    "#                         counter = counter + 1\n",
    "\n",
    "        return pixel\n",
    "    SizeT = nd2meta['frames'][-1]+1\n",
    "    SizeZ = nd2meta['z_levels'][-1]+1\n",
    "    SizeC = len(nd2meta['channels'])\n",
    "    SizeX = nd2meta['width']\n",
    "    SizeY = nd2meta['height']\n",
    "    print(SizeZ, SizeC, SizeX, SizeY)\n",
    "    Series = nd2meta['fields_of_view'][-1]+1\n",
    "    scalex = nd2meta['pixel_microns']\n",
    "    scaley = scalex\n",
    "    scalez = round(nd2meta['z_coordinates'][1]-nd2meta['z_coordinates'][0],3)\n",
    "    pixeltype = 'uint16'\n",
    "    dimorder = 'TZCYX'\n",
    "# print(a)\n",
    "    omexml = omexmlClass.OMEXML()\n",
    "#     omexml.image(0).Name = output_file\n",
    "    p = omexml.image(0).Pixels\n",
    "    p.SizeX = SizeX\n",
    "    p.SizeY = SizeY\n",
    "    p.SizeC = SizeC\n",
    "    p.SizeT = SizeT\n",
    "    p.SizeZ = SizeZ\n",
    "    p.PhysicalSizeX = np.float(scalex)\n",
    "    p.PhysicalSizeY = np.float(scaley)\n",
    "    p.PhysicalSizeZ = np.float(scalez)\n",
    "    p.PixelType = pixeltype\n",
    "    p.channel_count = SizeC\n",
    "    p.plane_count = SizeZ * SizeT * SizeC #* SizeV\n",
    "    p = writeplanes(p, SizeT=SizeT, SizeZ=SizeZ, SizeC=SizeC, order=dimorder)\n",
    "    for c in range(SizeC):\n",
    "        if pixeltype == 'unit8':\n",
    "            p.Channel(c).SamplesPerPixel = 1\n",
    "        if pixeltype == 'unit16':\n",
    "            p.Channel(c).SamplesPerPixel = 2\n",
    "        \n",
    "    omexml.structured_annotations.add_original_metadata(omexmlClass.OM_SAMPLES_PER_PIXEL, str(SizeC))\n",
    "    \n",
    "    return omexml.to_xml()\n",
    "    "
   ]
  },
  {
   "cell_type": "code",
   "execution_count": 82,
   "metadata": {},
   "outputs": [
    {
     "name": "stdout",
     "output_type": "stream",
     "text": [
      "11 5 2048 2044\n",
      "<ome:OME xmlns:om=\"openmicroscopy.org/OriginalMetadata\" xmlns:ome=\"http://www.openmicroscopy.org/Schemas/OME/2016-06\" xmlns:sa=\"http://www.openmicroscopy.org/Schemas/sa/2013-06s\" xmlns:xsi=\"http://www.w3.org/2001/XMLSchema-instance\" xsi:schemaLocation=\"http://www.openmicroscopy.org/Schemas/OME/2016-06 http://www.openmicroscopy.org/Schemas/OME/2016-06/ome.xsd\">\n",
      "    <ome:Image ID=\"Image:0\" Name=\"default.png\">\n",
      "        <ome:AcquisitionDate>%(DEFAULT_NOW)s</ome:AcquisitionDate>\n",
      "        <ome:Pixels BigEndian=\"false\" DimensionOrder=\"XYCZT\" ID=\"Pixels:0\" Interleaved=\"false\" PhysicalSizeX=\"0.108333333333333\" PhysicalSizeY=\"0.108333333333333\" PhysicalSizeZ=\"0.3\" SizeC=\"5\" SizeT=\"1\" SizeX=\"2048\" SizeY=\"2044\" SizeZ=\"11\" Type=\"uint16\">\n",
      "            <ome:Channel ID=\"Channel:0:0\" SamplesPerPixel=\"1\">\n",
      "                <ome:LightPath />\n",
      "            </ome:Channel>\n",
      "        <ome:Channel ID=\"424ca862-d647-4e58-97a6-985d818dd26f\" Name=\"424ca862-d647-4e58-97a6-985d818dd26f\" SamplesPerPixel=\"1\" /><ome:Channel ID=\"bb24d717-d4ad-42d8-94c2-0dd18a487a16\" Name=\"bb24d717-d4ad-42d8-94c2-0dd18a487a16\" SamplesPerPixel=\"1\" /><ome:Channel ID=\"35166413-0f08-4048-acea-6ff1defab2a5\" Name=\"35166413-0f08-4048-acea-6ff1defab2a5\" SamplesPerPixel=\"1\" /><ome:Channel ID=\"4adb7c13-fe3c-40df-9114-9d9a0829d8f9\" Name=\"4adb7c13-fe3c-40df-9114-9d9a0829d8f9\" SamplesPerPixel=\"1\" /><ome:Plane TheC=\"1\" TheT=\"1\" TheZ=\"1\" /><ome:Plane TheC=\"2\" TheT=\"1\" TheZ=\"1\" /><ome:Plane TheC=\"3\" TheT=\"1\" TheZ=\"1\" /><ome:Plane TheC=\"4\" TheT=\"1\" TheZ=\"1\" /><ome:Plane TheC=\"5\" TheT=\"1\" TheZ=\"1\" /><ome:Plane TheC=\"1\" TheT=\"1\" TheZ=\"2\" /><ome:Plane TheC=\"2\" TheT=\"1\" TheZ=\"2\" /><ome:Plane TheC=\"3\" TheT=\"1\" TheZ=\"2\" /><ome:Plane TheC=\"4\" TheT=\"1\" TheZ=\"2\" /><ome:Plane TheC=\"5\" TheT=\"1\" TheZ=\"2\" /><ome:Plane TheC=\"1\" TheT=\"1\" TheZ=\"3\" /><ome:Plane TheC=\"2\" TheT=\"1\" TheZ=\"3\" /><ome:Plane TheC=\"3\" TheT=\"1\" TheZ=\"3\" /><ome:Plane TheC=\"4\" TheT=\"1\" TheZ=\"3\" /><ome:Plane TheC=\"5\" TheT=\"1\" TheZ=\"3\" /><ome:Plane TheC=\"1\" TheT=\"1\" TheZ=\"4\" /><ome:Plane TheC=\"2\" TheT=\"1\" TheZ=\"4\" /><ome:Plane TheC=\"3\" TheT=\"1\" TheZ=\"4\" /><ome:Plane TheC=\"4\" TheT=\"1\" TheZ=\"4\" /><ome:Plane TheC=\"5\" TheT=\"1\" TheZ=\"4\" /><ome:Plane TheC=\"1\" TheT=\"1\" TheZ=\"5\" /><ome:Plane TheC=\"2\" TheT=\"1\" TheZ=\"5\" /><ome:Plane TheC=\"3\" TheT=\"1\" TheZ=\"5\" /><ome:Plane TheC=\"4\" TheT=\"1\" TheZ=\"5\" /><ome:Plane TheC=\"5\" TheT=\"1\" TheZ=\"5\" /><ome:Plane TheC=\"1\" TheT=\"1\" TheZ=\"6\" /><ome:Plane TheC=\"2\" TheT=\"1\" TheZ=\"6\" /><ome:Plane TheC=\"3\" TheT=\"1\" TheZ=\"6\" /><ome:Plane TheC=\"4\" TheT=\"1\" TheZ=\"6\" /><ome:Plane TheC=\"5\" TheT=\"1\" TheZ=\"6\" /><ome:Plane TheC=\"1\" TheT=\"1\" TheZ=\"7\" /><ome:Plane TheC=\"2\" TheT=\"1\" TheZ=\"7\" /><ome:Plane TheC=\"3\" TheT=\"1\" TheZ=\"7\" /><ome:Plane TheC=\"4\" TheT=\"1\" TheZ=\"7\" /><ome:Plane TheC=\"5\" TheT=\"1\" TheZ=\"7\" /><ome:Plane TheC=\"1\" TheT=\"1\" TheZ=\"8\" /><ome:Plane TheC=\"2\" TheT=\"1\" TheZ=\"8\" /><ome:Plane TheC=\"3\" TheT=\"1\" TheZ=\"8\" /><ome:Plane TheC=\"4\" TheT=\"1\" TheZ=\"8\" /><ome:Plane TheC=\"5\" TheT=\"1\" TheZ=\"8\" /><ome:Plane TheC=\"1\" TheT=\"1\" TheZ=\"9\" /><ome:Plane TheC=\"2\" TheT=\"1\" TheZ=\"9\" /><ome:Plane TheC=\"3\" TheT=\"1\" TheZ=\"9\" /><ome:Plane TheC=\"4\" TheT=\"1\" TheZ=\"9\" /><ome:Plane TheC=\"5\" TheT=\"1\" TheZ=\"9\" /><ome:Plane TheC=\"1\" TheT=\"1\" TheZ=\"10\" /><ome:Plane TheC=\"2\" TheT=\"1\" TheZ=\"10\" /><ome:Plane TheC=\"3\" TheT=\"1\" TheZ=\"10\" /><ome:Plane TheC=\"4\" TheT=\"1\" TheZ=\"10\" /><ome:Plane TheC=\"5\" TheT=\"1\" TheZ=\"10\" /><ome:Plane TheC=\"1\" TheT=\"1\" TheZ=\"11\" /><ome:Plane TheC=\"2\" TheT=\"1\" TheZ=\"11\" /><ome:Plane TheC=\"3\" TheT=\"1\" TheZ=\"11\" /><ome:Plane TheC=\"4\" TheT=\"1\" TheZ=\"11\" /><ome:Plane TheC=\"5\" TheT=\"1\" TheZ=\"11\" /></ome:Pixels>\n",
      "    </ome:Image>\n",
      "  <sa:StructuredAnnotations><sa:XMLAnnotation ID=\"1e3349da-ea0a-4810-aa5a-71d7340542ce\"><sa:Value><om:OriginalMetadata><om:Key>SamplesPerPixel</om:Key><om:Value>5</om:Value></om:OriginalMetadata></sa:Value></sa:XMLAnnotation></sa:StructuredAnnotations>\n",
      "</ome:OME>\n"
     ]
    }
   ],
   "source": [
    "beta = Nd2meta2OMEXML(nd2meta,'test.ome.tiff')\n",
    "print(beta)"
   ]
  },
  {
   "cell_type": "code",
   "execution_count": 83,
   "metadata": {},
   "outputs": [],
   "source": [
    "SizeT = 1\n",
    "SizeZ = 11\n",
    "SizeC = 5\n",
    "SizeX = 2048\n",
    "SizeY = 2044\n",
    "Series = 0\n",
    "\n",
    "\n",
    "\n",
    "# create numpy array with correct order\n",
    "img5d = np.random.randn(SizeT, SizeZ, SizeC, SizeY, SizeX).astype(np.uint16)\n",
    "\n",
    "import tifffile as tf\n",
    "tf.imsave('/tmp/test.ome.tiff',img5d, description = beta, metadata={'axes': 'TZCYX'})\n",
    "\n"
   ]
  },
  {
   "cell_type": "code",
   "execution_count": 13,
   "metadata": {
    "scrolled": false
   },
   "outputs": [
    {
     "name": "stdout",
     "output_type": "stream",
     "text": [
      "Visit: 0\n",
      "Time: 0\n"
     ]
    },
    {
     "ename": "TypeError",
     "evalue": "'MetadataRetrieve' object is not subscriptable",
     "output_type": "error",
     "traceback": [
      "\u001b[0;31m---------------------------------------------------------------------------\u001b[0m",
      "\u001b[0;31mTypeError\u001b[0m                                 Traceback (most recent call last)",
      "\u001b[0;32m<ipython-input-13-ed86466a1e0e>\u001b[0m in \u001b[0;36m<module>\u001b[0;34m\u001b[0m\n\u001b[1;32m     33\u001b[0m \u001b[0;31m#             for ch in channels:\u001b[0m\u001b[0;34m\u001b[0m\u001b[0;34m\u001b[0m\u001b[0;34m\u001b[0m\u001b[0m\n\u001b[1;32m     34\u001b[0m             \u001b[0;32mfor\u001b[0m \u001b[0mi\u001b[0m \u001b[0;32min\u001b[0m \u001b[0mrange\u001b[0m\u001b[0;34m(\u001b[0m\u001b[0mframes\u001b[0m\u001b[0;34m.\u001b[0m\u001b[0msizes\u001b[0m\u001b[0;34m[\u001b[0m\u001b[0;34m'c'\u001b[0m\u001b[0;34m]\u001b[0m\u001b[0;34m)\u001b[0m\u001b[0;34m:\u001b[0m\u001b[0;34m\u001b[0m\u001b[0;34m\u001b[0m\u001b[0m\n\u001b[0;32m---> 35\u001b[0;31m                 \u001b[0mprint\u001b[0m\u001b[0;34m(\u001b[0m\u001b[0;34m'Channel:'\u001b[0m\u001b[0;34m,\u001b[0m\u001b[0mmeta\u001b[0m\u001b[0;34m[\u001b[0m\u001b[0;34m'channels'\u001b[0m\u001b[0;34m]\u001b[0m\u001b[0;34m[\u001b[0m\u001b[0mi\u001b[0m\u001b[0;34m]\u001b[0m\u001b[0;34m)\u001b[0m\u001b[0;34m\u001b[0m\u001b[0;34m\u001b[0m\u001b[0m\n\u001b[0m\u001b[1;32m     36\u001b[0m                 \u001b[0mch\u001b[0m \u001b[0;34m=\u001b[0m \u001b[0mmeta\u001b[0m\u001b[0;34m[\u001b[0m\u001b[0;34m'channels'\u001b[0m\u001b[0;34m]\u001b[0m\u001b[0;34m[\u001b[0m\u001b[0mi\u001b[0m\u001b[0;34m]\u001b[0m\u001b[0;34m\u001b[0m\u001b[0;34m\u001b[0m\u001b[0m\n\u001b[1;32m     37\u001b[0m                 \u001b[0;32mif\u001b[0m \u001b[0mch\u001b[0m \u001b[0;34m==\u001b[0m \u001b[0;34m'DAPI'\u001b[0m\u001b[0;34m:\u001b[0m\u001b[0;34m\u001b[0m\u001b[0;34m\u001b[0m\u001b[0m\n",
      "\u001b[0;31mTypeError\u001b[0m: 'MetadataRetrieve' object is not subscriptable"
     ]
    }
   ],
   "source": [
    "# import datetime\n",
    "\n",
    "import tifffile as tf\n",
    "import tensorflow as tflow\n",
    "# import json\n",
    "\n",
    "\n",
    "for visit in range(frames.metadata.ImageCount()):\n",
    "    #%timeit\n",
    "    frames.series=visit\n",
    "    with tf.TiffWriter('/home/jmamede/Area51/'+str(visit)+'.tif'\n",
    "            img5d = np.swapaxes(img5d,0,1)\n",
    "            tif.save(img5d\n",
    "                    ,shape=img5d.shape\n",
    "\n",
    "            #,resolution= (.1083,0.1083,3)\n",
    "             , description = xml\n",
    "            , photometric='minisblack'\n",
    "            #, datetime= True\n",
    "            , metadata={'axes': 'TZCYX', 'DimensionOrder' : 'TZCYX', 'Resolution': 0.1083}\n",
    "                )\n",
    "        tif.close()\n",
    "#             res.append(algo.run(\n",
    "#                 fd_data.Acquisition(\n",
    "#                 data=frames[0],\n",
    "#                 kernel=psf)\n",
    "#                 , niter=20)\n",
    "#                       )\n",
    "            #reassumblethetiff.\n",
    "            \n"
   ]
  },
  {
   "cell_type": "code",
   "execution_count": 1,
   "metadata": {},
   "outputs": [
    {
     "ename": "NameError",
     "evalue": "name 'tif' is not defined",
     "output_type": "error",
     "traceback": [
      "\u001b[0;31m---------------------------------------------------------------------------\u001b[0m",
      "\u001b[0;31mNameError\u001b[0m                                 Traceback (most recent call last)",
      "\u001b[0;32m<ipython-input-1-c1951e0e0c53>\u001b[0m in \u001b[0;36m<module>\u001b[0;34m\u001b[0m\n\u001b[0;32m----> 1\u001b[0;31m \u001b[0mtif\u001b[0m\u001b[0;34m.\u001b[0m\u001b[0mclose\u001b[0m\u001b[0;34m(\u001b[0m\u001b[0;34m)\u001b[0m\u001b[0;34m\u001b[0m\u001b[0;34m\u001b[0m\u001b[0m\n\u001b[0m\u001b[1;32m      2\u001b[0m \u001b[0;32mfrom\u001b[0m \u001b[0mscipy\u001b[0m\u001b[0;34m.\u001b[0m\u001b[0mstats\u001b[0m \u001b[0;32mimport\u001b[0m \u001b[0mdescribe\u001b[0m\u001b[0;34m\u001b[0m\u001b[0;34m\u001b[0m\u001b[0m\n\u001b[1;32m      3\u001b[0m \u001b[0mdescribe\u001b[0m\u001b[0;34m(\u001b[0m\u001b[0mframes\u001b[0m\u001b[0;34m[\u001b[0m\u001b[0;36m0\u001b[0m\u001b[0;34m]\u001b[0m\u001b[0;34m.\u001b[0m\u001b[0mravel\u001b[0m\u001b[0;34m(\u001b[0m\u001b[0;34m)\u001b[0m\u001b[0;34m)\u001b[0m\u001b[0;34m\u001b[0m\u001b[0;34m\u001b[0m\u001b[0m\n",
      "\u001b[0;31mNameError\u001b[0m: name 'tif' is not defined"
     ]
    }
   ],
   "source": [
    "# tif.close()\n",
    "from scipy.stats import describe\n",
    "describe(frames[0].ravel())\n"
   ]
  },
  {
   "cell_type": "code",
   "execution_count": null,
   "metadata": {},
   "outputs": [],
   "source": [
    "plt.imshow(frames[0].max(axis=0),vmax=5000)"
   ]
  },
  {
   "cell_type": "code",
   "execution_count": null,
   "metadata": {},
   "outputs": [],
   "source": [
    "res_stack = np.stack((res[1].data,np.zeros(res[1].data.shape), res[0].data))"
   ]
  },
  {
   "cell_type": "code",
   "execution_count": null,
   "metadata": {},
   "outputs": [],
   "source": [
    "print(res_stack.shape)"
   ]
  },
  {
   "cell_type": "code",
   "execution_count": null,
   "metadata": {},
   "outputs": [],
   "source": [
    "plt.imshow(res[1].data.max(axis=0),vmax=5000)"
   ]
  },
  {
   "cell_type": "code",
   "execution_count": null,
   "metadata": {},
   "outputs": [],
   "source": [
    "plt.imshow(res[0].data[10],vmax=5000)"
   ]
  },
  {
   "cell_type": "code",
   "execution_count": null,
   "metadata": {},
   "outputs": [],
   "source": [
    "from pims import Frame\n",
    "\n",
    "zproj = res.data.max(axis=0)\n",
    "frame = Frame(zproj\n",
    "    )\n",
    "\n",
    "\n",
    "#frame = Frame(res.data)\n",
    "%matplotlib qt5"
   ]
  },
  {
   "cell_type": "code",
   "execution_count": null,
   "metadata": {
    "scrolled": true
   },
   "outputs": [],
   "source": [
    "plt.imshow(frame)"
   ]
  },
  {
   "cell_type": "code",
   "execution_count": null,
   "metadata": {},
   "outputs": [],
   "source": [
    "plt.imshow(psf[0])"
   ]
  },
  {
   "cell_type": "code",
   "execution_count": null,
   "metadata": {},
   "outputs": [],
   "source": [
    "print(meta)"
   ]
  },
  {
   "cell_type": "code",
   "execution_count": null,
   "metadata": {},
   "outputs": [],
   "source": [
    "\n",
    "    "
   ]
  },
  {
   "cell_type": "code",
   "execution_count": null,
   "metadata": {},
   "outputs": [],
   "source": [
    "ctrl = pims.ND2_Reader('/home/jmamede/Area51/antibody4 - Deconvolved, Type Automatic.nd2')\n",
    "ctrl.bundle_axes = 'zyx'\n",
    "ctrl.default_coords['m'] = 0\n",
    "\n",
    "print(ctrl[0].shape)\n",
    "#frames.bundle_axes = 'czyx'\n",
    "#frames.default_coords['m'] = 0"
   ]
  },
  {
   "cell_type": "code",
   "execution_count": null,
   "metadata": {},
   "outputs": [],
   "source": [
    "from skimage import data\n",
    "import napari\n",
    "#res8 = (res_stack/256).astype('uint8')\n",
    "with napari.gui_qt():\n",
    "    viewer = napari.Viewer()\n",
    "    viewer.add_image(res[1].data\n",
    "                     , colormap = 'red'\n",
    "                    )\n",
    "    viewer.add_image(res[0].data\n",
    "                     ,colormap = 'blue'\n",
    "                    )\n",
    "#     viewer.add_image(frames[0]\n",
    "#                      , colormap = 'red'\n",
    "#                     )\n",
    "#     viewer.add_image(frames[2]\n",
    "#                      ,colormap = 'blue'\n",
    "#                     )\n",
    "#     ctrl.default_coords['c'] = 1\n",
    "#     viewer.add_image(ctrl[0]\n",
    "#                      , colormap = 'red'\n",
    "#                     )\n",
    "#     ctrl.default_coords['c'] = 0\n",
    "#     viewer.add_image(ctrl[0]\n",
    "#                      ,colormap = 'blue'\n",
    "#                     )"
   ]
  },
  {
   "cell_type": "code",
   "execution_count": null,
   "metadata": {},
   "outputs": [],
   "source": [
    "res[1].data.shape"
   ]
  },
  {
   "cell_type": "code",
   "execution_count": null,
   "metadata": {},
   "outputs": [],
   "source": [
    "ctrl[0].data.shape"
   ]
  },
  {
   "cell_type": "code",
   "execution_count": null,
   "metadata": {},
   "outputs": [],
   "source": []
  }
 ],
 "metadata": {
  "kernelspec": {
   "display_name": "Python 3",
   "language": "python",
   "name": "python3"
  },
  "language_info": {
   "codemirror_mode": {
    "name": "ipython",
    "version": 3
   },
   "file_extension": ".py",
   "mimetype": "text/x-python",
   "name": "python",
   "nbconvert_exporter": "python",
   "pygments_lexer": "ipython3",
   "version": "3.7.6"
  }
 },
 "nbformat": 4,
 "nbformat_minor": 4
}
