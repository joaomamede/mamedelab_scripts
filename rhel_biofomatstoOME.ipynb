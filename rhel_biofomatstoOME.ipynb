{
 "cells": [
  {
   "cell_type": "code",
   "execution_count": 1,
   "metadata": {},
   "outputs": [],
   "source": [
    "%matplotlib inline\n",
    "import numpy as np\n",
    "import matplotlib.pyplot as plt\n",
    "from flowdec.nb import utils as nbutils \n",
    "from flowdec import data as fd_data\n",
    "import pims\n",
    "# import pims\n",
    "from flowdec import restoration as fd_restoration\n",
    "from flowdec import data as fd_data\n",
    "from flowdec import psf as fd_psf\n",
    "import dask\n",
    "import dask.array as da\n",
    "import tifffile as tf\n",
    "from nd2reader import ND2Reader\n",
    "# from pims import ND2_Reader as ND2Reader\n",
    "# import aicsimageio.vendor.omexml as ome"
   ]
  },
  {
   "cell_type": "code",
   "execution_count": 2,
   "metadata": {},
   "outputs": [],
   "source": [
    "# channels = ['miRFP670', 'mRuby3','FITC']\n",
    "import time, sys\n",
    "from IPython.display import clear_output\n",
    "\n",
    "def update_progress(progress):\n",
    "    bar_length = 20\n",
    "    if isinstance(progress, int):\n",
    "        progress = float(progress)\n",
    "    if not isinstance(progress, float):\n",
    "        progress = 0\n",
    "    if progress < 0:\n",
    "        progress = 0\n",
    "    if progress >= 1:\n",
    "        progress = 1\n",
    "    block = int(round(bar_length * progress))\n",
    "\n",
    "    clear_output(wait = True)\n",
    "    text = \"Progress: [{0}] {1:.1f}%\".format( \"#\" * block + \"-\" * (bar_length - block), progress * 100)\n",
    "    print(text)\n",
    "\n"
   ]
  },
  {
   "cell_type": "code",
   "execution_count": 18,
   "metadata": {},
   "outputs": [
    {
     "name": "stderr",
     "output_type": "stream",
     "text": [
      "/home/jmamede/anaconda3/lib/python3.7/site-packages/pims/bioformats.py:408: UserWarning: Due to an issue with JPype 0.6.0, reading is slower. Please consider upgrading JPype to 0.6.1 or later.\n",
      "  warn('Due to an issue with JPype 0.6.0, reading is slower. '\n"
     ]
    },
    {
     "data": {
      "text/plain": [
       "<FramesSequenceND>\n",
       "Axes: 4\n",
       "Axis 'x' size: 1388\n",
       "Axis 'y' size: 1040\n",
       "Axis 'c' size: 3\n",
       "Axis 'z' size: 35\n",
       "Pixel Datatype: <u2"
      ]
     },
     "execution_count": 18,
     "metadata": {},
     "output_type": "execute_result"
    }
   ],
   "source": [
    "# fname = 'igfp1_caruby5_continue001trigger003.nd2'\n",
    "# datadir = '/media/Mamede/20200626/'\n",
    "datadir = '/home/jmamede/Data/Michelle/RNAscope GFAP/'\n",
    "# fname1=\"LCB _647_CL25_DAPI_Cu001.nd2\"\n",
    "# fname1 = \"igfp1_caruby5_continue001trigger003.nd2\"\n",
    "fname1 = 'GFAP ovn RNAscope C1 7.20.20_01.czi'\n",
    "# fname1=\"LCB _647_CL25_DAPI_AU003.nd2\"\n",
    "fname = datadir+fname1\n",
    "# fname = '/tmp/test.ome.tiff'\n",
    "\n",
    "frames =  pims.bioformats.BioformatsReader(fname)\n",
    "# frames.iter_axes = 't'  # 't' is the default already\n",
    "frames.bundle_axes = 'zyx'  # when 'z' is available, this will be default\n",
    "# frames.iter_axes\n",
    "xdivide = 2\n",
    "ydivide = 2\n",
    "zdivide = 1\n",
    "frames"
   ]
  },
  {
   "cell_type": "code",
   "execution_count": 19,
   "metadata": {},
   "outputs": [],
   "source": [
    "# channels =  frames.metadata['channels']\n",
    "metadata = frames.metadata\n",
    "# print(metadata.keys())\n",
    "# plt.scatter(range(len(frames.metadata['z_coordinates'])),frames.metadata['z_coordinates'])"
   ]
  },
  {
   "cell_type": "code",
   "execution_count": 20,
   "metadata": {},
   "outputs": [
    {
     "name": "stdout",
     "output_type": "stream",
     "text": [
      "{'x': 1388, 'y': 1040, 'c': 3, 'z': 35}\n",
      "3\n",
      "<MetadataRetrieve> Available loci.formats.meta.MetadataRetrieve functions: ChannelAcquisitionMode, ChannelAnnotationRefCount, ChannelColor, ChannelCount, ChannelEmissionWavelength, ChannelExcitationWavelength, ChannelFilterSetRef, ChannelFluor, ChannelID, ChannelIlluminationType, ChannelName, ChannelSamplesPerPixel, DatasetCount, DetectorAnnotationRefCount, DetectorCount, DetectorID, DetectorModel, DetectorSettingsBinning, DetectorSettingsID, DichroicAnnotationRefCount, DichroicCount, DichroicID, ExperimentCount, ExperimenterAnnotationRefCount, ExperimenterCount, ExperimenterGroupCount, ExperimenterID, ExperimenterUserName, FilterAnnotationRefCount, FilterCount, FilterID, FilterSetCount, FilterSetDichroicRef, FilterSetEmissionFilterRef, FilterSetEmissionFilterRefCount, FilterSetExcitationFilterRef, FilterSetExcitationFilterRefCount, FilterSetID, FolderCount, ImageAcquisitionDate, ImageAnnotationRefCount, ImageCount, ImageExperimenterRef, ImageID, ImageInstrumentRef, ImageName, ImageROIRefCount, InstrumentAnnotationRefCount, InstrumentCount, InstrumentID, LightPathAnnotationRefCount, LightPathEmissionFilterRefCount, LightPathExcitationFilterRefCount, LightSourceCount, MicrobeamManipulationRefCount, MicroscopeType, ObjectiveAnnotationRefCount, ObjectiveCount, ObjectiveID, ObjectiveImmersion, ObjectiveLensNA, ObjectiveModel, ObjectiveNominalMagnification, ObjectiveSettingsID, ObjectiveSettingsMedium, ObjectiveSettingsRefractiveIndex, ObjectiveWorkingDistance, PixelsBigEndian, PixelsBinDataCount, PixelsDimensionOrder, PixelsID, PixelsInterleaved, PixelsPhysicalSizeX, PixelsPhysicalSizeY, PixelsPhysicalSizeZ, PixelsSignificantBits, PixelsSizeC, PixelsSizeT, PixelsSizeX, PixelsSizeY, PixelsSizeZ, PixelsType, PlaneAnnotationRefCount, PlaneCount, PlaneDeltaT, PlaneExposureTime, PlanePositionX, PlanePositionY, PlanePositionZ, PlaneTheC, PlaneTheT, PlaneTheZ, PlateCount, ProjectCount, ROICount, ResolutionCount, ScreenCount, StageLabelName, StageLabelX, StageLabelY, StageLabelZ, TiffDataCount, TransmittanceRangeCutIn, TransmittanceRangeCutOut\n"
     ]
    }
   ],
   "source": [
    "print(frames.sizes)\n",
    "print(metadata.ChannelCount(0))\n",
    "print(metadata)"
   ]
  },
  {
   "cell_type": "code",
   "execution_count": 21,
   "metadata": {},
   "outputs": [
    {
     "name": "stdout",
     "output_type": "stream",
     "text": [
      "1022.3\n"
     ]
    }
   ],
   "source": [
    "# import aicsimageio.vendor.omexml as omexmlClass\n",
    "# o = omexmlClass.OMEXML(frames._metadata.dumpXML())\n",
    "print(str(metadata.PlanePositionZ(0,90)))"
   ]
  },
  {
   "cell_type": "code",
   "execution_count": 3,
   "metadata": {},
   "outputs": [],
   "source": [
    "def BFtoOMEXML(reader, project=False):\n",
    "#     from apeer_ometiff_library import omexmlClass\n",
    "    import aicsimageio.vendor.omexml as omexmlClass\n",
    "    \n",
    "    #Missing TODO:\n",
    "    #<Image>,  Name = \"ImageName\"\n",
    "    #Instrument ID and Detector ID and Objective \n",
    "#     frames.parser._raw_metadata.image_metadata[b'SLxExperiment'][b'wsCameraName']\n",
    "\n",
    "    # Objective settings with Refractive Index\n",
    "        #Pixels, \n",
    "            #Channel Color = RGB###, EmissionWavelength, Name of Channel.\n",
    "            #Plane  ExposureTime, Position X, Y, Z (Z is easy as it's in nd2reader metadata)\n",
    "    def writeplanes(pixel, SizeT=1, SizeZ=1, SizeC=1, order='TZCYX', verbose=False):\n",
    "\n",
    "        if order == 'TZCYX':\n",
    "\n",
    "            pixel.DimensionOrder = omexmlClass.DO_XYCZT\n",
    "            counter = 0\n",
    "            for t in range(SizeT):\n",
    "                for z in range(SizeZ):\n",
    "                    for c in range(SizeC):\n",
    "\n",
    "                        if verbose:\n",
    "                            print('Write PlaneTable: ', t, z, c),\n",
    "                            sys.stdout.flush()\n",
    "\n",
    "                        pixel.Plane(counter).TheT = t\n",
    "                        pixel.Plane(counter).TheZ = z\n",
    "                        pixel.Plane(counter).TheC = c\n",
    "                        #check basically because of triggered acquisition the arrays shouldn't have the size of \"channel\"\n",
    "                        pixel.Plane(counter).DeltaT = BFmeta.PlaneDeltaT(0,counter)\n",
    "                        pixel.Plane(counter).PositionZ = BFmeta.PlanePositionZ(0,counter)\n",
    "#                         nd2meta['z_coordinates'][counter//SizeC]\n",
    "#                         pixel.Plane(counter).ExposureTime = \n",
    "#                         pixel.Plane(counter).PositionX =\n",
    "#                         pixel.Plane(counter).PositionY = \n",
    "#                         pixel.Plane(counter).\n",
    "                        counter = counter + 1\n",
    "                        \n",
    "    \n",
    "        return pixel\n",
    "    \n",
    "    #make a metadata var\n",
    "    BFmeta = reader.metadata\n",
    "\n",
    "#     Series = nd2meta['fields_of_view'][-1]+1\n",
    "    scalex = BFmeta.PixelsPhysicalSizeX(0)\n",
    "    scaley = BFmeta.PixelsPhysicalSizeY(0)\n",
    "    if not project:\n",
    "#         scalez = round(nd2meta['z_coordinates'][1]-nd2meta['z_coordinates'][0],3)\n",
    "#         scalez = frames.parser._raw_metadata.image_metadata[b'SLxExperiment'][b'ppNextLevelEx'][b''][b'ppNextLevelEx'][b''][b'uLoopPars'][b'dZStep']\n",
    "        scalez = BFmeta.PixelsPhysicalSizeZ(0)\n",
    "    pixeltype = 'uint16'\n",
    "    dimorder = 'TZCYX'\n",
    "# print(a)\n",
    "    omexml = omexmlClass.OMEXML()\n",
    "#     omexml.image_count = 1\n",
    "#     omexml.image_count = reader.sizes['v']\n",
    "    #Try to find if PIMS outputs the filename somehow.\n",
    "    omexml.image(0).Name = 'Mamede Lab Image'\n",
    "#     for i in range(frames.sizes['t']):\n",
    "    p = omexml.image(0).Pixels\n",
    "    p.SizeX = BFmeta.PixelsSizeX(0)\n",
    "    p.SizeY = BFmeta.PixelsSizeY(0)\n",
    "    p.SizeC = BFmeta.PixelsSizeC(0)\n",
    "    p.SizeT = BFmeta.PixelsSizeT(0)\n",
    "    if project:\n",
    "        p.SizeZ = 1\n",
    "    else:\n",
    "        p.SizeZ = BFmeta.PixelsSizeZ(0)\n",
    "        \n",
    "    p.PhysicalSizeX = np.float(scalex)\n",
    "    p.PhysicalSizeY = np.float(scaley)\n",
    "    if not project:\n",
    "        p.PhysicalSizeZ = np.float(scalez)\n",
    "    p.PixelType = pixeltype\n",
    "    p.channel_count = BFmeta.PixelsSizeC(0)\n",
    "    \n",
    "    if project:\n",
    "        p.plane_count = 1 * p.SizeT * p.SizeC #* SizeV\n",
    "    else:\n",
    "        p.plane_count = p.SizeZ * p.SizeT * p.SizeC #* SizeV\n",
    "\n",
    "\n",
    "    #I am using separate files for each visit point\n",
    "    #, if you want one tiff with all visit points (possibly good for panels) \n",
    "    #you will need to update this section\n",
    "    \n",
    "    if project:\n",
    "        p = writeplanes(p, SizeT=p.SizeT, SizeZ=1, SizeC=p.SizeC, order=dimorder)\n",
    "    else:\n",
    "        p = writeplanes(p, SizeT=p.SizeT, SizeZ=p.SizeZ, SizeC=p.SizeC, order=dimorder)\n",
    "    for c in range(p.SizeC):\n",
    "        p.Channel(c).Name = str(metadata.ChannelEmissionWavelength(0,c))\n",
    "#         p.Channel(c).Color =\n",
    "#         p.Channel(c).EmissionWavelength =\n",
    "        if pixeltype == 'unit8':\n",
    "            p.Channel(c).SamplesPerPixel = 1\n",
    "        if pixeltype == 'unit16':\n",
    "            p.Channel(c).SamplesPerPixel = 2\n",
    "            \n",
    "    p.populate_TiffData()\n",
    "#     omexml.structured_annotations.add_original_metadata(omexmlClass.OM_SAMPLES_PER_PIXEL, str(p.SizeC))\n",
    "\n",
    "    return omexml\n"
   ]
  },
  {
   "cell_type": "code",
   "execution_count": 23,
   "metadata": {},
   "outputs": [],
   "source": [
    "# nd2meta = metadata\n",
    "xml = BFtoOMEXML(frames)\n",
    "prjxml = BFtoOMEXML(frames, project=True)\n",
    "# xml.image().Pixels.PhysicalSizeZ\n",
    "# print(beta)\n",
    "# frames\n",
    "# print(xml)\n",
    "# import aicsimageio.vendor.omexml as omexmlClass\n",
    "# omexml = omexmlClass.OMEXML()\n",
    "# p = omexml.image(0).Pixels\n",
    "# p.populate_TiffData()\n",
    "\n",
    "# ome = omexml.to_xml().encode()\n",
    "# print(ome)"
   ]
  },
  {
   "cell_type": "code",
   "execution_count": 24,
   "metadata": {},
   "outputs": [
    {
     "name": "stdout",
     "output_type": "stream",
     "text": [
      "<class 'int'>\n",
      "<class 'int'>\n",
      "<class 'int'>\n"
     ]
    }
   ],
   "source": [
    "# print(xml)\n",
    "# xml.to_xml()\n",
    "for a in range(3):\n",
    "    print(type(metadata.PixelsSizeT(0\n",
    "                                   )))"
   ]
  },
  {
   "cell_type": "code",
   "execution_count": 5,
   "metadata": {},
   "outputs": [
    {
     "name": "stdout",
     "output_type": "stream",
     "text": [
      "Done\n"
     ]
    }
   ],
   "source": [
    "psf =[]\n",
    "#psf = fd_psf.GibsonLanni.load('/tmp/psf.json')\n",
    "\n",
    "# args = [na=1.4, wavelength= 0.594 , size_z=  11, size_x=  2048, size_y=  2044,\n",
    "#         m :60,ns =  1.333, ni =  1.5156, tg =  170,         \n",
    "#         res_lateral =  0.108333333333333, res_axial =  0.3, pZ = 1]\n",
    "\n",
    "# args = [{\"na\": 1.4, \"wavelength\": '0.594' ,\n",
    "#          \"size_z\": 11, \"size_x\": 2048, \"size_y\": 2044,\n",
    "#          \"m\" :60,\"ns\" : 1.333, \"ni\" : 1.5156, \"tg\" : 170,\n",
    "#          \"res_lateral\" : 0.108333333333333, \"res_axial\" : 0.3,\n",
    "#          \"pZ\" :1}]\n",
    "\n",
    "#na = meta['NA']\n",
    "na = 1.4\n",
    "#ra = meta['refractive_index1']\n",
    "ra = 1.5156\n",
    "# z = frames.sizes['z'] // zdivide\n",
    "z = 24\n",
    "# x = frames.sizes['x'] // xdivide\n",
    "# y = frames.sizes['y'] // ydivide\n",
    "x = 256\n",
    "y = 256\n",
    "# res_z = xml.image().Pixels.PhysicalSizeZ\n",
    "res_z = 0.5\n",
    "# res_xy =  xml.image().Pixels.PhysicalSizeX\n",
    "res_xy =  0.10833333\n",
    "\n",
    "\n",
    "#metadata.ChannelEmissionWavelength(0,c)\n",
    "##Make better with automatic wavelength from metadata and a loop and a dictionary with the PSFs\n",
    "psf = fd_psf.GibsonLanni(\n",
    "    na = na, wavelength= 0.670 , size_z=  z, size_x=  x , size_y=  y\n",
    "    ,m =63, ns =  1.333\n",
    "    , tg =  170, tg0 = 170\n",
    "    , ni0 =  ra, ni =  ra\n",
    "    ,res_lateral =  res_xy , res_axial = res_z, \n",
    "    #pz = 1\n",
    ")\n",
    "psf647 = psf.generate()    \n",
    "    \n",
    "psf = fd_psf.GibsonLanni(\n",
    "    na = na, wavelength= 0.617 , size_z=  z, size_x=  x , size_y=  y\n",
    "    ,m =63, ns =  1.333\n",
    "    , tg =  170, tg0 = 170\n",
    "    , ni0 =  ra, ni =  ra\n",
    "    ,res_lateral =  res_xy , res_axial = res_z, \n",
    "    #pz = 1\n",
    ")\n",
    "psfruby = psf.generate()\n",
    "\n",
    "psf = fd_psf.GibsonLanni(\n",
    "    na = na, wavelength= 0.509 , size_z=  z, size_x=  x , size_y=  y\n",
    "    ,m =63, ns =  1.333\n",
    "    , tg =  170, tg0 = 170\n",
    "    , ni0 =  ra, ni =  ra\n",
    "    ,res_lateral =  res_xy , res_axial = res_z, \n",
    "    #pz = 1\n",
    ")\n",
    "psfgfp = psf.generate()\n",
    "\n",
    "psf = fd_psf.GibsonLanni(\n",
    "    na = na, wavelength= 0.465 , size_z=  z, size_x=  x , size_y=  y\n",
    "    ,m =63, ns =  1.333\n",
    "    , tg =  170, tg0 = 170\n",
    "    , ni0 =  ra, ni =  ra\n",
    "    ,res_lateral =  res_xy , res_axial = res_z, \n",
    "    #pz = 1\n",
    ")\n",
    "psfdapi = psf.generate()  \n",
    "psf = psfgfp\n",
    "def observer(img, i, *args):\n",
    "    #mgs.append(img.max(axis=0))\n",
    "    if i % 5 == 0:\n",
    "        print('Observing iteration = {} (dtype = {}, max = {:.3f})'.format(i, img.dtype, img.max())) \n",
    "        \n",
    "\n",
    "\n",
    "# padding = (2,0,0)\n",
    "# padding = np.ones(psfgfp.ndim)\n",
    "\n",
    "\n",
    "#config = tf.ConfigProto(device_count={'GPU': 1})\n",
    "#algo = fd_restoration.RichardsonLucyDeconvolver(n_dims=acq.data.ndim, pad_min=[1, 1, 1], session_config=config).initialize()\n",
    "# algo = fd_restoration.RichardsonLucyDeconvolver(n_dims=psfgfp.ndim\n",
    "#                                                 , pad_mode='2357'\n",
    "# #                                                 , pad_mode='none'\n",
    "#                                                 ,pad_min=(0,12,12)\n",
    "# #                                                 ,observer_fn=observer\n",
    "#                                                 #,real_domain_fft=True\n",
    "#                                                 #,device='/cpu:0'\n",
    "#                                                ).initialize()\n",
    "\n",
    "print(\"Done\")"
   ]
  },
  {
   "cell_type": "code",
   "execution_count": 7,
   "metadata": {},
   "outputs": [],
   "source": [
    "tf.imwrite('/tmp/fakepsf600.tiff',psf647)\n",
    "tf.imwrite('/tmp/fakepsfGFP.tiff',psfgfp)\n",
    "tf.imwrite('/tmp/fakepsfruby.tiff',psfruby)\n",
    "# imwrite# tf.write('/tmp/fakepsf600.tiff',psf647)"
   ]
  },
  {
   "cell_type": "code",
   "execution_count": 26,
   "metadata": {},
   "outputs": [],
   "source": [
    "def deconv(chunk):\n",
    "    # note that algo and cropped_kernel are from global scope ... ugly\n",
    "#     print(\"chunk shape\", chunk.shape)\n",
    "    tmp = algo.initialize().run(fd_data.Acquisition(data=chunk, kernel=psf)\n",
    "#                                 , session_config=tflow.compat.v1.ConfigProto(\n",
    "#                                 device_count={'GPU': 1}        \n",
    "#                                 , GPUOptions={'allow_growth' : 4}\n",
    "#                                         )\n",
    "                                ,niter=100\n",
    "                               )\n",
    "    return tmp.data"
   ]
  },
  {
   "cell_type": "code",
   "execution_count": 27,
   "metadata": {},
   "outputs": [
    {
     "name": "stdout",
     "output_type": "stream",
     "text": [
      "(35, 1040, 1388)\n",
      "0\n"
     ]
    }
   ],
   "source": [
    "print((frames.sizes['z'],frames.sizes['y'],frames.sizes['x']))\n",
    "print(metadata.PlateCount())"
   ]
  },
  {
   "cell_type": "code",
   "execution_count": 28,
   "metadata": {
    "scrolled": true
   },
   "outputs": [
    {
     "name": "stdout",
     "output_type": "stream",
     "text": [
      "Progress: [####################] 100.0%\n",
      "Done\n"
     ]
    }
   ],
   "source": [
    "# cchunk_size=(frames.sizes['z'],1022,1024)\n",
    "chunk_size=(frames.sizes['z'] // zdivide,frames.sizes['y'] // ydivide,frames.sizes['x'] // xdivide)\n",
    "# chunk_size=(7,frames.sizes['y'],frames.sizes['x'])\n",
    "\n",
    "# frames.iter_axes = 'v'\n",
    "# for frame in frames:\n",
    "for visit in range(1):\n",
    "    #%timeit\n",
    "#     frames.default_coords['v'] = visit\n",
    "    with tf.TiffWriter(\"/home/jmamede/Data/test/\"\n",
    "                       +fname1[:-4]\n",
    "#                        +'SQTSOME_647_CL25_DAPI_Cugrids002_'\n",
    "                       +'V'+str(visit)+'.ome.tiff'\n",
    "                , bigtiff=True\n",
    "                , imagej=False\n",
    "                      ) as tif:\n",
    "        with tf.TiffWriter(\"/home/jmamede/Data/test/\"\n",
    "                       +fname1[:-4]\n",
    "#                        +'SQTSOME_647_CL25_DAPI_Cugrids002_'\n",
    "                           +'V'+str(visit)+'PRJ.ome.tiff'\n",
    "                , bigtiff=True\n",
    "                , imagej=False\n",
    "                      ) as tifprj:\n",
    "            first = True\n",
    "#             print('Visit:',visit)\n",
    "            for time in range(metadata.PixelsSizeT(0)):\n",
    "#                 print('Time:',time)\n",
    "                res = np.zeros(\n",
    "                    (frames.sizes['z'],frames.sizes['c'],frames.sizes['y'],frames.sizes['x'])\n",
    "                    , dtype=np.float32)\n",
    "                for i in range(metadata.PixelsSizeC(0)):\n",
    "                    frames.default_coords['c'] = i\n",
    "#                     print('Channel:',metadata['channels'][i])\n",
    "                    ch = metadata.ChannelEmissionWavelength(0,i)\n",
    "                    #465.0\n",
    "                    # 509.0\n",
    "                    # 617.0\n",
    "                    if ch == 465.0:\n",
    "                        psf = psfdapi\n",
    "                    elif ch == 509.0:\n",
    "                        psf = psfruby\n",
    "                    elif ch == 617.0:\n",
    "                        psf = psfgfp\n",
    "\n",
    "                    arr = da.from_array(frames[time]\n",
    "    #                                     [:,0:2044,0:2044]\n",
    "    #                                     [:,:,:]              \n",
    "                                        , chunks=chunk_size)\n",
    "#                     print(frames[time].shape,i, frames[i].max())\n",
    "\n",
    "    #make mem efficient by creating and empty array with the right shape with all channels and then add it as it goes.\n",
    "                    res[:,i,:,:] = arr.map_overlap(\n",
    "    #                 res = arr.map_overlap(\n",
    "                        deconv,depth=(0,64,64),\n",
    "#                         deconv,depth=(0,0,0),\n",
    "                        boundary='reflect',\n",
    "                        dtype='float32').compute(num_workers=1)\n",
    "    #                     res[i,:,:,:] = arr.map_blocks(\n",
    "    #                         deconv,dtype='float32').compute(num_workers=1)\n",
    "    \n",
    "    \n",
    "    # If we need to swap Channel and Z in the future\n",
    "    #             img5d = np.swapaxes(img5d,0,1)\n",
    "    \n",
    "                    update_progress( (visit+1) * (time+1) / 1* 1 )\n",
    "                    print(\"Visit Point: {}/{} \\t Time:{}/{} \\t Channel:{}/{}\".format(\n",
    "                            visit+1, 1\n",
    "                            ,time+1, 1\n",
    "                            , i+1, frames.sizes['c']))\n",
    "\n",
    "                if first:\n",
    "                    tif.save(res.astype(np.uint16)\n",
    "#                         , compress=6\n",
    "                        , description = xml.to_xml()\n",
    "                        , photometric='minisblack'\n",
    "                        #, datetime= True\n",
    "                        , metadata= None\n",
    "                        , contiguous=False\n",
    "                        )\n",
    "                    tifprj.save(res.astype(np.uint16).max(axis=0)\n",
    "#                         , compress=6\n",
    "                        , description = prjxml.to_xml()\n",
    "                        , photometric='minisblack'\n",
    "                        #, datetime= True\n",
    "                        , metadata= None\n",
    "                        , contiguous=False\n",
    "                        )\n",
    "                    first = False\n",
    "                else:\n",
    "                    tif.save(res.astype(np.uint16)\n",
    "#                         , compress=6\n",
    "#                         , description = xml.to_xml()\n",
    "                        , photometric='minisblack'\n",
    "                        , metadata= None\n",
    "                        , contiguous=False\n",
    "                        )\n",
    "                    tifprj.save(res.astype(np.uint16).max(axis=0)\n",
    "#                         , compress=6\n",
    "#                         , description = xml.to_xml()\n",
    "                        , photometric='minisblack'\n",
    "                        #, datetime= True\n",
    "                        , metadata= None\n",
    "                        , contiguous=False\n",
    "                        )\n",
    "\n",
    "        tif.close()\n",
    "        tifprj.close()\n",
    "        \n",
    "update_progress(1)\n",
    "\n",
    "print(\"Done\")"
   ]
  },
  {
   "cell_type": "code",
   "execution_count": 29,
   "metadata": {},
   "outputs": [
    {
     "name": "stdout",
     "output_type": "stream",
     "text": [
      "Done\n"
     ]
    }
   ],
   "source": [
    "print(\"Done\")"
   ]
  },
  {
   "cell_type": "code",
   "execution_count": null,
   "metadata": {},
   "outputs": [],
   "source": []
  }
 ],
 "metadata": {
  "kernelspec": {
   "display_name": "Python 3",
   "language": "python",
   "name": "python3"
  },
  "language_info": {
   "codemirror_mode": {
    "name": "ipython",
    "version": 3
   },
   "file_extension": ".py",
   "mimetype": "text/x-python",
   "name": "python",
   "nbconvert_exporter": "python",
   "pygments_lexer": "ipython3",
   "version": "3.7.8"
  }
 },
 "nbformat": 4,
 "nbformat_minor": 4
}
