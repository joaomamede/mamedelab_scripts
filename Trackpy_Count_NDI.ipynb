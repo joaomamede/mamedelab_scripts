{
 "cells": [
  {
   "cell_type": "code",
   "execution_count": 4,
   "metadata": {},
   "outputs": [],
   "source": [
    "from skimage.morphology import watershed\n",
    "from skimage.feature import peak_local_max\n",
    "import trackpy as tp\n",
    "import matplotlib.pyplot as plt\n",
    "import numpy as np\n",
    "_numba=True\n",
    "# massa=2800\n",
    "\n",
    "dist=50\n",
    "memoria=2\n",
    "stub=7\n",
    "\n",
    "%matplotlib qt5"
   ]
  },
  {
   "cell_type": "code",
   "execution_count": 5,
   "metadata": {},
   "outputs": [],
   "source": [
    "import pims\n",
    "# ficheiro = \"/run/media/jmamede/Joao/till/fixed40x/prj/WellB03_Channela647,mRuby,GFP,DAPI_Seq0007_v7_PRJ.ome.tiff\"\n",
    "ficheiro = \"/home/jmamede/Data/pqbp1/with Nina and laura/OlderPlate/output/project_E3b_PRJ.ome.tiff\""
   ]
  },
  {
   "cell_type": "code",
   "execution_count": 6,
   "metadata": {},
   "outputs": [
    {
     "name": "stderr",
     "output_type": "stream",
     "text": [
      "/home/jmamede/anaconda3/lib/python3.7/site-packages/pims/bioformats.py:409: UserWarning: Due to an issue with JPype 0.6.0, reading is slower. Please consider upgrading JPype to 0.6.1 or later.\n",
      "  warn('Due to an issue with JPype 0.6.0, reading is slower. '\n"
     ]
    }
   ],
   "source": [
    "reader = pims.bioformats.BioformatsReader(ficheiro,java_memory='1024m')"
   ]
  },
  {
   "cell_type": "code",
   "execution_count": 2,
   "metadata": {},
   "outputs": [
    {
     "ename": "NameError",
     "evalue": "name 'reader' is not defined",
     "output_type": "error",
     "traceback": [
      "\u001b[0;31m---------------------------------------------------------------------------\u001b[0m",
      "\u001b[0;31mNameError\u001b[0m                                 Traceback (most recent call last)",
      "\u001b[0;32m<ipython-input-2-48e463455b0c>\u001b[0m in \u001b[0;36m<module>\u001b[0;34m\u001b[0m\n\u001b[0;32m----> 1\u001b[0;31m \u001b[0mreader\u001b[0m\u001b[0;34m.\u001b[0m\u001b[0mbundle_axes\u001b[0m \u001b[0;34m=\u001b[0m \u001b[0;34m'yx'\u001b[0m\u001b[0;34m\u001b[0m\u001b[0;34m\u001b[0m\u001b[0m\n\u001b[0m\u001b[1;32m      2\u001b[0m \u001b[0mreader\u001b[0m\u001b[0;34m.\u001b[0m\u001b[0miter_axes\u001b[0m \u001b[0;34m=\u001b[0m \u001b[0;34m'c'\u001b[0m\u001b[0;34m\u001b[0m\u001b[0;34m\u001b[0m\u001b[0m\n\u001b[1;32m      3\u001b[0m \u001b[0mframes\u001b[0m\u001b[0;34m.\u001b[0m\u001b[0mdefault_coords\u001b[0m\u001b[0;34m[\u001b[0m\u001b[0;34m't'\u001b[0m\u001b[0;34m]\u001b[0m \u001b[0;34m=\u001b[0m \u001b[0;36m0\u001b[0m\u001b[0;34m\u001b[0m\u001b[0;34m\u001b[0m\u001b[0m\n\u001b[1;32m      4\u001b[0m \u001b[0mreader\u001b[0m\u001b[0;34m[\u001b[0m\u001b[0;36m2\u001b[0m\u001b[0;34m]\u001b[0m\u001b[0;34m\u001b[0m\u001b[0;34m\u001b[0m\u001b[0m\n",
      "\u001b[0;31mNameError\u001b[0m: name 'reader' is not defined"
     ]
    }
   ],
   "source": [
    "\n",
    "reader.bundle_axes = 'yx'\n",
    "reader.iter_axes = 'c'\n",
    "frames.default_coords['t'] = 0\n",
    "reader[2]"
   ]
  },
  {
   "cell_type": "code",
   "execution_count": 11,
   "metadata": {},
   "outputs": [
    {
     "ename": "ValueError",
     "evalue": "invalid literal for int() with base 10: 'Channel:0:0'",
     "output_type": "error",
     "traceback": [
      "\u001b[0;31m---------------------------------------------------------------------------\u001b[0m",
      "\u001b[0;31mValueError\u001b[0m                                Traceback (most recent call last)",
      "\u001b[0;32m<ipython-input-11-9a9e02c5921b>\u001b[0m in \u001b[0;36m<module>\u001b[0;34m\u001b[0m\n\u001b[1;32m      2\u001b[0m \u001b[0mreader\u001b[0m\u001b[0;34m.\u001b[0m\u001b[0miter_axes\u001b[0m \u001b[0;34m=\u001b[0m \u001b[0;34m'c'\u001b[0m\u001b[0;34m\u001b[0m\u001b[0;34m\u001b[0m\u001b[0m\n\u001b[1;32m      3\u001b[0m \u001b[0;31m# print(reader.metadata.ChannelID)\u001b[0m\u001b[0;34m\u001b[0m\u001b[0;34m\u001b[0m\u001b[0;34m\u001b[0m\u001b[0m\n\u001b[0;32m----> 4\u001b[0;31m \u001b[0;32mfor\u001b[0m \u001b[0mi\u001b[0m \u001b[0;32min\u001b[0m \u001b[0mrange\u001b[0m\u001b[0;34m(\u001b[0m\u001b[0mint\u001b[0m\u001b[0;34m(\u001b[0m\u001b[0mreader\u001b[0m\u001b[0;34m.\u001b[0m\u001b[0mmetadata\u001b[0m\u001b[0;34m.\u001b[0m\u001b[0mChannelID\u001b[0m\u001b[0;34m(\u001b[0m\u001b[0;36m0\u001b[0m\u001b[0;34m,\u001b[0m\u001b[0;36m0\u001b[0m\u001b[0;34m)\u001b[0m\u001b[0;34m)\u001b[0m\u001b[0;34m)\u001b[0m\u001b[0;34m:\u001b[0m\u001b[0;34m\u001b[0m\u001b[0;34m\u001b[0m\u001b[0m\n\u001b[0m\u001b[1;32m      5\u001b[0m     \u001b[0mprint\u001b[0m\u001b[0;34m(\u001b[0m\u001b[0mi\u001b[0m\u001b[0;34m,\u001b[0m\u001b[0mreader\u001b[0m\u001b[0;34m.\u001b[0m\u001b[0mmetadata\u001b[0m\u001b[0;34m.\u001b[0m\u001b[0mChannelID\u001b[0m\u001b[0;34m(\u001b[0m\u001b[0;36m0\u001b[0m\u001b[0;34m,\u001b[0m\u001b[0mi\u001b[0m\u001b[0;34m)\u001b[0m\u001b[0;34m)\u001b[0m\u001b[0;34m\u001b[0m\u001b[0;34m\u001b[0m\u001b[0m\n\u001b[1;32m      6\u001b[0m \u001b[0mget_ipython\u001b[0m\u001b[0;34m(\u001b[0m\u001b[0;34m)\u001b[0m\u001b[0;34m.\u001b[0m\u001b[0mrun_line_magic\u001b[0m\u001b[0;34m(\u001b[0m\u001b[0;34m'matplotlib'\u001b[0m\u001b[0;34m,\u001b[0m \u001b[0;34m'qt5'\u001b[0m\u001b[0;34m)\u001b[0m\u001b[0;34m\u001b[0m\u001b[0;34m\u001b[0m\u001b[0m\n",
      "\u001b[0;31mValueError\u001b[0m: invalid literal for int() with base 10: 'Channel:0:0'"
     ]
    }
   ],
   "source": [
    "reader.bundle_axes = 'yx'\n",
    "reader.iter_axes = 'c'\n",
    "# print(reader.metadata.ChannelID)\n",
    "for i in range(int(reader.metadata.ChannelID(0,0))):\n",
    "    print(i,reader.metadata.ChannelID(0,i))\n",
    "%matplotlib qt5"
   ]
  },
  {
   "cell_type": "code",
   "execution_count": 12,
   "metadata": {},
   "outputs": [
    {
     "data": {
      "text/plain": [
       "(3, 1024, 1024)"
      ]
     },
     "execution_count": 12,
     "metadata": {},
     "output_type": "execute_result"
    }
   ],
   "source": [
    "i=2\n",
    "plt.imshow(reader[i],vmax=np.max(reader[i]),vmin=np.min(reader[i]))\n",
    "reader.metadata.ChannelCount(0)\n",
    "labels_img = np.zeros((reader.metadata.ChannelCount(0),)+reader.frame_shape)\n",
    "labels_img.shape"
   ]
  },
  {
   "cell_type": "code",
   "execution_count": 17,
   "metadata": {},
   "outputs": [
    {
     "name": "stdout",
     "output_type": "stream",
     "text": [
      "               y           x         mass      size       ecc       signal  \\\n",
      "118    11.785624  822.000593  3217.918853  1.034653  0.370820   735.876970   \n",
      "321    31.806054  814.416221  2910.413988  1.276765  0.229073   464.507057   \n",
      "369    35.876160  837.078816  4747.393310  1.112621  0.345679   929.590525   \n",
      "691    66.706993  842.627252  4763.592423  1.316468  0.160525   716.537416   \n",
      "1059  103.879870  647.991619  4736.322261  1.126029  0.365227   911.026144   \n",
      "2321  226.946078  185.205892  7370.695427  1.347334  0.073154   837.643172   \n",
      "3494  341.069508  769.959367  6347.328937  1.089085  0.183226  1302.587506   \n",
      "7592  738.789612  715.067296  3048.672914  1.098133  0.209243   631.825004   \n",
      "7947  773.161000  197.502259  4196.345229  1.186407  0.163221   768.632966   \n",
      "8041  782.156221  720.782994  6161.446609  1.319617  0.030297   770.382073   \n",
      "8455  822.204817  174.619903  4170.168259  1.117147  0.321947   789.045835   \n",
      "\n",
      "      raw_mass        ep  frame  \n",
      "118    14920.0  0.042603      2  \n",
      "321    25486.0  0.024040      2  \n",
      "369    32835.0  0.018449      2  \n",
      "691    43528.0  0.013784      2  \n",
      "1059   22308.0  0.027665      2  \n",
      "2321   49042.0  0.012194      2  \n",
      "3494   31147.0  0.019490      2  \n",
      "7592   22107.0  0.027932      2  \n",
      "7947   30518.0  0.019908      2  \n",
      "8041   46833.0  0.012785      2  \n",
      "8455   30118.0  0.020184      2  \n"
     ]
    }
   ],
   "source": [
    "i=2\n",
    "#EMCCD\n",
    "#ruby ag3\n",
    "# minmass=350\n",
    "#gfp\n",
    "minmass=2500\n",
    "\n",
    "#sCMOS\n",
    "# minmass= 300\n",
    "\n",
    "#sCMOS\n",
    "# tamanho=7\n",
    "#EMCCD\n",
    "tamanho=5\n",
    "\n",
    "f = tp.locate(reader[i],tamanho,minmass=minmass,engine='numba') \n",
    "a = list(zip(f.y,f.x))\n",
    "tp.annotate(f, reader[i], imshow_style={'cmap':'gray','vmax': np.max(reader[i]), 'vmin': np.min(reader[i])});\n",
    "print(f)"
   ]
  },
  {
   "cell_type": "code",
   "execution_count": 171,
   "metadata": {},
   "outputs": [],
   "source": [
    "import sys\n",
    "sys.path.insert(0,'/home/jmamede/scripts')\n",
    "from support_pla import othercolor, cell_mask, multiply,  make_labels_trackpy\n",
    "\n",
    "metadata = reader.metadata\n",
    "coords = ['','','']\n",
    "labels_img = np.zeros((metadata.ChannelCount(0),)+reader.frame_shape)\n",
    "# coords = np.zeros((metadata.ChannelCount(0)))\n",
    "list_tresholds = [600,300,300]\n",
    "for i in range(metadata.ChannelCount(0)):\n",
    "    labels_img[i,:,:],coords[i] = make_labels_trackpy(reader[i],mass=list_tresholds[i],size=5,_numba=True)"
   ]
  },
  {
   "cell_type": "code",
   "execution_count": 174,
   "metadata": {},
   "outputs": [
    {
     "data": {
      "text/plain": [
       "array([[   2,  697],\n",
       "       [   2,  744],\n",
       "       [   3,  431],\n",
       "       ...,\n",
       "       [1020,  447],\n",
       "       [1020,  845],\n",
       "       [1020,  895]])"
      ]
     },
     "execution_count": 174,
     "metadata": {},
     "output_type": "execute_result"
    }
   ],
   "source": [
    "# b = tp.masks.mask_image(a,reader[i],3.5)\n",
    "\n",
    "# plt.imshow(reader[i],cmap='gray')\n",
    "# plt.imshow(b, cmap='jet', alpha=0.5)                 \n",
    "coords[2]"
   ]
  },
  {
   "cell_type": "code",
   "execution_count": 158,
   "metadata": {},
   "outputs": [
    {
     "data": {
      "text/plain": [
       "<matplotlib.image.AxesImage at 0x7f36d468e650>"
      ]
     },
     "execution_count": 158,
     "metadata": {},
     "output_type": "execute_result"
    }
   ],
   "source": [
    "plt.imshow(labels_img[2])"
   ]
  },
  {
   "cell_type": "code",
   "execution_count": 118,
   "metadata": {},
   "outputs": [
    {
     "data": {
      "text/plain": [
       "(2044, 2048)"
      ]
     },
     "execution_count": 118,
     "metadata": {},
     "output_type": "execute_result"
    }
   ],
   "source": [
    "plt.imshow(tp.masks.mask_image(f,reader[2],3))\n"
   ]
  },
  {
   "cell_type": "code",
   "execution_count": null,
   "metadata": {},
   "outputs": [],
   "source": []
  }
 ],
 "metadata": {
  "kernelspec": {
   "display_name": "Python 3",
   "language": "python",
   "name": "python3"
  },
  "language_info": {
   "codemirror_mode": {
    "name": "ipython",
    "version": 3
   },
   "file_extension": ".py",
   "mimetype": "text/x-python",
   "name": "python",
   "nbconvert_exporter": "python",
   "pygments_lexer": "ipython3",
   "version": "3.7.8"
  }
 },
 "nbformat": 4,
 "nbformat_minor": 4
}
