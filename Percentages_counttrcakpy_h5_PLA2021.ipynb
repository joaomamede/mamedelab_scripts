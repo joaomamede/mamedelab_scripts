{
 "cells": [
  {
   "cell_type": "code",
   "execution_count": 1,
   "metadata": {},
   "outputs": [],
   "source": [
    "%matplotlib inline\n",
    "import seaborn as sns\n",
    "\n",
    "import pandas as pd\n",
    "import numpy as np\n",
    "# sns.set(font_scale = 2,style=\"ticks\")\n",
    "sns.set(font_scale = 2, style=\"whitegrid\")"
   ]
  },
  {
   "cell_type": "code",
   "execution_count": 2,
   "metadata": {},
   "outputs": [],
   "source": [
    "df = pd.read_hdf('/home/jmamede/Data/pqbp1/with Nina and laura/OlderPlate/output/stored_data_trackpy_segm.h5')\n",
    "# df_gfp  = pd.read_hdf('/home/jmamede/Data/D116N/stored_data_trackpy_gfp.h5')\n",
    "# df_ruby = pd.read_hdf('/home/jmamede/Data/D116N/stored_data_trackpy_ruby.h5')\n",
    "# df = df.replace(to_replace='optiR3-D117',value='mRuby3-D116N')\n",
    "# df = df.replace(to_replace='sfGFPD117',value='sfGFP-D116N')\n",
    "# df = df.replace(to_replace='mNeonD116',value='mNeonG-D116N')\n",
    "# df = df.replace(to_replace='mWasabi-D116',value='mWasabi-D116N')\n",
    "# df = df.replace(to_replace='D116',value='-D116N')"
   ]
  },
  {
   "cell_type": "code",
   "execution_count": 3,
   "metadata": {},
   "outputs": [
    {
     "data": {
      "text/plain": [
       "Index(['max membrane', 'mean membrane', 'stdev membrane', 'median membrane',\n",
       "       'COMY membrane', 'COMX membrane', 'Threshold membrane',\n",
       "       'Wavelength membrane', 'max Yfp', 'mean Yfp', 'stdev Yfp', 'median Yfp',\n",
       "       'COMY Yfp', 'COMX Yfp', 'Threshold Yfp', 'Wavelength Yfp', 'max PLA',\n",
       "       'mean PLA', 'stdev PLA', 'median PLA', 'COMY PLA', 'COMX PLA',\n",
       "       'Threshold PLA', 'Wavelength PLA', 'Filename', 'PlateRow', 'VisitP'],\n",
       "      dtype='object')"
      ]
     },
     "execution_count": 3,
     "metadata": {},
     "output_type": "execute_result"
    }
   ],
   "source": [
    "df.keys()"
   ]
  },
  {
   "cell_type": "code",
   "execution_count": 4,
   "metadata": {},
   "outputs": [
    {
     "data": {
      "text/html": [
       "<div>\n",
       "<style scoped>\n",
       "    .dataframe tbody tr th:only-of-type {\n",
       "        vertical-align: middle;\n",
       "    }\n",
       "\n",
       "    .dataframe tbody tr th {\n",
       "        vertical-align: top;\n",
       "    }\n",
       "\n",
       "    .dataframe thead th {\n",
       "        text-align: right;\n",
       "    }\n",
       "</style>\n",
       "<table border=\"1\" class=\"dataframe\">\n",
       "  <thead>\n",
       "    <tr style=\"text-align: right;\">\n",
       "      <th></th>\n",
       "      <th>max membrane</th>\n",
       "      <th>mean membrane</th>\n",
       "      <th>stdev membrane</th>\n",
       "      <th>median membrane</th>\n",
       "      <th>COMY membrane</th>\n",
       "      <th>COMX membrane</th>\n",
       "      <th>Threshold membrane</th>\n",
       "      <th>Wavelength membrane</th>\n",
       "      <th>max Yfp</th>\n",
       "      <th>mean Yfp</th>\n",
       "      <th>...</th>\n",
       "      <th>mean PLA</th>\n",
       "      <th>stdev PLA</th>\n",
       "      <th>median PLA</th>\n",
       "      <th>COMY PLA</th>\n",
       "      <th>COMX PLA</th>\n",
       "      <th>Threshold PLA</th>\n",
       "      <th>Wavelength PLA</th>\n",
       "      <th>Filename</th>\n",
       "      <th>PlateRow</th>\n",
       "      <th>VisitP</th>\n",
       "    </tr>\n",
       "  </thead>\n",
       "  <tbody>\n",
       "    <tr>\n",
       "      <th>0</th>\n",
       "      <td>3326</td>\n",
       "      <td>2347.076923</td>\n",
       "      <td>567.926520</td>\n",
       "      <td>2168.0</td>\n",
       "      <td>61.046605</td>\n",
       "      <td>651.819186</td>\n",
       "      <td>300</td>\n",
       "      <td>membrane</td>\n",
       "      <td>3494</td>\n",
       "      <td>2714.307692</td>\n",
       "      <td>...</td>\n",
       "      <td>3388.846154</td>\n",
       "      <td>1082.517283</td>\n",
       "      <td>4095.0</td>\n",
       "      <td>61.081512</td>\n",
       "      <td>651.917762</td>\n",
       "      <td>190</td>\n",
       "      <td>PLA</td>\n",
       "      <td>/home/jmamede/Data/pqbp1/with Nina and laura/O...</td>\n",
       "      <td>E3</td>\n",
       "      <td>E3</td>\n",
       "    </tr>\n",
       "    <tr>\n",
       "      <th>1</th>\n",
       "      <td>1717</td>\n",
       "      <td>1387.384615</td>\n",
       "      <td>194.989758</td>\n",
       "      <td>1455.0</td>\n",
       "      <td>78.022788</td>\n",
       "      <td>680.041029</td>\n",
       "      <td>300</td>\n",
       "      <td>membrane</td>\n",
       "      <td>4095</td>\n",
       "      <td>3340.384615</td>\n",
       "      <td>...</td>\n",
       "      <td>2762.307692</td>\n",
       "      <td>1129.103687</td>\n",
       "      <td>2553.0</td>\n",
       "      <td>77.761376</td>\n",
       "      <td>680.128432</td>\n",
       "      <td>190</td>\n",
       "      <td>PLA</td>\n",
       "      <td>/home/jmamede/Data/pqbp1/with Nina and laura/O...</td>\n",
       "      <td>E3</td>\n",
       "      <td>E3</td>\n",
       "    </tr>\n",
       "    <tr>\n",
       "      <th>2</th>\n",
       "      <td>3485</td>\n",
       "      <td>2620.923077</td>\n",
       "      <td>561.841267</td>\n",
       "      <td>2796.0</td>\n",
       "      <td>108.109709</td>\n",
       "      <td>610.095210</td>\n",
       "      <td>300</td>\n",
       "      <td>membrane</td>\n",
       "      <td>4095</td>\n",
       "      <td>2912.307692</td>\n",
       "      <td>...</td>\n",
       "      <td>2057.384615</td>\n",
       "      <td>1160.027025</td>\n",
       "      <td>1515.0</td>\n",
       "      <td>108.148994</td>\n",
       "      <td>610.036566</td>\n",
       "      <td>190</td>\n",
       "      <td>PLA</td>\n",
       "      <td>/home/jmamede/Data/pqbp1/with Nina and laura/O...</td>\n",
       "      <td>E3</td>\n",
       "      <td>E3</td>\n",
       "    </tr>\n",
       "    <tr>\n",
       "      <th>3</th>\n",
       "      <td>3342</td>\n",
       "      <td>2308.230769</td>\n",
       "      <td>541.796322</td>\n",
       "      <td>2059.0</td>\n",
       "      <td>111.057387</td>\n",
       "      <td>673.961476</td>\n",
       "      <td>300</td>\n",
       "      <td>membrane</td>\n",
       "      <td>4095</td>\n",
       "      <td>3580.384615</td>\n",
       "      <td>...</td>\n",
       "      <td>3413.769231</td>\n",
       "      <td>839.329692</td>\n",
       "      <td>4095.0</td>\n",
       "      <td>111.022060</td>\n",
       "      <td>674.109263</td>\n",
       "      <td>190</td>\n",
       "      <td>PLA</td>\n",
       "      <td>/home/jmamede/Data/pqbp1/with Nina and laura/O...</td>\n",
       "      <td>E3</td>\n",
       "      <td>E3</td>\n",
       "    </tr>\n",
       "    <tr>\n",
       "      <th>4</th>\n",
       "      <td>2378</td>\n",
       "      <td>1666.000000</td>\n",
       "      <td>370.136981</td>\n",
       "      <td>1666.0</td>\n",
       "      <td>116.022394</td>\n",
       "      <td>623.870487</td>\n",
       "      <td>300</td>\n",
       "      <td>membrane</td>\n",
       "      <td>4095</td>\n",
       "      <td>3077.461538</td>\n",
       "      <td>...</td>\n",
       "      <td>3255.692308</td>\n",
       "      <td>1107.577216</td>\n",
       "      <td>4095.0</td>\n",
       "      <td>116.008081</td>\n",
       "      <td>624.008789</td>\n",
       "      <td>190</td>\n",
       "      <td>PLA</td>\n",
       "      <td>/home/jmamede/Data/pqbp1/with Nina and laura/O...</td>\n",
       "      <td>E3</td>\n",
       "      <td>E3</td>\n",
       "    </tr>\n",
       "  </tbody>\n",
       "</table>\n",
       "<p>5 rows × 27 columns</p>\n",
       "</div>"
      ],
      "text/plain": [
       "   max membrane  mean membrane  stdev membrane  median membrane  \\\n",
       "0          3326    2347.076923      567.926520           2168.0   \n",
       "1          1717    1387.384615      194.989758           1455.0   \n",
       "2          3485    2620.923077      561.841267           2796.0   \n",
       "3          3342    2308.230769      541.796322           2059.0   \n",
       "4          2378    1666.000000      370.136981           1666.0   \n",
       "\n",
       "   COMY membrane  COMX membrane  Threshold membrane Wavelength membrane  \\\n",
       "0      61.046605     651.819186                 300            membrane   \n",
       "1      78.022788     680.041029                 300            membrane   \n",
       "2     108.109709     610.095210                 300            membrane   \n",
       "3     111.057387     673.961476                 300            membrane   \n",
       "4     116.022394     623.870487                 300            membrane   \n",
       "\n",
       "   max Yfp     mean Yfp  ...     mean PLA    stdev PLA  median PLA  \\\n",
       "0     3494  2714.307692  ...  3388.846154  1082.517283      4095.0   \n",
       "1     4095  3340.384615  ...  2762.307692  1129.103687      2553.0   \n",
       "2     4095  2912.307692  ...  2057.384615  1160.027025      1515.0   \n",
       "3     4095  3580.384615  ...  3413.769231   839.329692      4095.0   \n",
       "4     4095  3077.461538  ...  3255.692308  1107.577216      4095.0   \n",
       "\n",
       "     COMY PLA    COMX PLA Threshold PLA  Wavelength PLA  \\\n",
       "0   61.081512  651.917762           190             PLA   \n",
       "1   77.761376  680.128432           190             PLA   \n",
       "2  108.148994  610.036566           190             PLA   \n",
       "3  111.022060  674.109263           190             PLA   \n",
       "4  116.008081  624.008789           190             PLA   \n",
       "\n",
       "                                            Filename  PlateRow  VisitP  \n",
       "0  /home/jmamede/Data/pqbp1/with Nina and laura/O...        E3      E3  \n",
       "1  /home/jmamede/Data/pqbp1/with Nina and laura/O...        E3      E3  \n",
       "2  /home/jmamede/Data/pqbp1/with Nina and laura/O...        E3      E3  \n",
       "3  /home/jmamede/Data/pqbp1/with Nina and laura/O...        E3      E3  \n",
       "4  /home/jmamede/Data/pqbp1/with Nina and laura/O...        E3      E3  \n",
       "\n",
       "[5 rows x 27 columns]"
      ]
     },
     "execution_count": 4,
     "metadata": {},
     "output_type": "execute_result"
    }
   ],
   "source": [
    "df.head()\n",
    "# a.groupby('Protein')['Nb detections 1'].sum()"
   ]
  },
  {
   "cell_type": "code",
   "execution_count": 20,
   "metadata": {},
   "outputs": [
    {
     "ename": "NameError",
     "evalue": "name 'df_gfp' is not defined",
     "output_type": "error",
     "traceback": [
      "\u001b[0;31m---------------------------------------------------------------------------\u001b[0m",
      "\u001b[0;31mNameError\u001b[0m                                 Traceback (most recent call last)",
      "\u001b[0;32m<ipython-input-20-5932d88b0981>\u001b[0m in \u001b[0;36m<module>\u001b[0;34m\u001b[0m\n\u001b[0;32m----> 1\u001b[0;31m \u001b[0mdf_gfp\u001b[0m\u001b[0;34m.\u001b[0m\u001b[0mhead\u001b[0m\u001b[0;34m(\u001b[0m\u001b[0;34m)\u001b[0m\u001b[0;34m\u001b[0m\u001b[0;34m\u001b[0m\u001b[0m\n\u001b[0m",
      "\u001b[0;31mNameError\u001b[0m: name 'df_gfp' is not defined"
     ]
    }
   ],
   "source": [
    "df_gfp.head()"
   ]
  },
  {
   "cell_type": "code",
   "execution_count": 21,
   "metadata": {},
   "outputs": [
    {
     "ename": "ValueError",
     "evalue": "Could not interpret input 'mean mRuby3'",
     "output_type": "error",
     "traceback": [
      "\u001b[0;31m---------------------------------------------------------------------------\u001b[0m",
      "\u001b[0;31mValueError\u001b[0m                                Traceback (most recent call last)",
      "\u001b[0;32m<ipython-input-21-a32a170f4e6f>\u001b[0m in \u001b[0;36m<module>\u001b[0;34m\u001b[0m\n\u001b[1;32m      2\u001b[0m ax = sns.stripplot(x=\"PlateRow\",y=\"mean mRuby3\", \n\u001b[1;32m      3\u001b[0m                  \u001b[0mhue\u001b[0m\u001b[0;34m=\u001b[0m\u001b[0;34m'VisitP'\u001b[0m\u001b[0;34m,\u001b[0m\u001b[0;34m\u001b[0m\u001b[0;34m\u001b[0m\u001b[0m\n\u001b[0;32m----> 4\u001b[0;31m                  \u001b[0mdata\u001b[0m\u001b[0;34m=\u001b[0m\u001b[0mdf\u001b[0m\u001b[0;34m,\u001b[0m\u001b[0;34m\u001b[0m\u001b[0;34m\u001b[0m\u001b[0m\n\u001b[0m\u001b[1;32m      5\u001b[0m \u001b[0;34m\u001b[0m\u001b[0m\n\u001b[1;32m      6\u001b[0m \u001b[0;31m#                    showfliers=False\u001b[0m\u001b[0;34m\u001b[0m\u001b[0;34m\u001b[0m\u001b[0;34m\u001b[0m\u001b[0m\n",
      "\u001b[0;32m~/anaconda3/lib/python3.7/site-packages/seaborn/_decorators.py\u001b[0m in \u001b[0;36minner_f\u001b[0;34m(*args, **kwargs)\u001b[0m\n\u001b[1;32m     44\u001b[0m             )\n\u001b[1;32m     45\u001b[0m         \u001b[0mkwargs\u001b[0m\u001b[0;34m.\u001b[0m\u001b[0mupdate\u001b[0m\u001b[0;34m(\u001b[0m\u001b[0;34m{\u001b[0m\u001b[0mk\u001b[0m\u001b[0;34m:\u001b[0m \u001b[0marg\u001b[0m \u001b[0;32mfor\u001b[0m \u001b[0mk\u001b[0m\u001b[0;34m,\u001b[0m \u001b[0marg\u001b[0m \u001b[0;32min\u001b[0m \u001b[0mzip\u001b[0m\u001b[0;34m(\u001b[0m\u001b[0msig\u001b[0m\u001b[0;34m.\u001b[0m\u001b[0mparameters\u001b[0m\u001b[0;34m,\u001b[0m \u001b[0margs\u001b[0m\u001b[0;34m)\u001b[0m\u001b[0;34m}\u001b[0m\u001b[0;34m)\u001b[0m\u001b[0;34m\u001b[0m\u001b[0;34m\u001b[0m\u001b[0m\n\u001b[0;32m---> 46\u001b[0;31m         \u001b[0;32mreturn\u001b[0m \u001b[0mf\u001b[0m\u001b[0;34m(\u001b[0m\u001b[0;34m**\u001b[0m\u001b[0mkwargs\u001b[0m\u001b[0;34m)\u001b[0m\u001b[0;34m\u001b[0m\u001b[0;34m\u001b[0m\u001b[0m\n\u001b[0m\u001b[1;32m     47\u001b[0m     \u001b[0;32mreturn\u001b[0m \u001b[0minner_f\u001b[0m\u001b[0;34m\u001b[0m\u001b[0;34m\u001b[0m\u001b[0m\n\u001b[1;32m     48\u001b[0m \u001b[0;34m\u001b[0m\u001b[0m\n",
      "\u001b[0;32m~/anaconda3/lib/python3.7/site-packages/seaborn/categorical.py\u001b[0m in \u001b[0;36mstripplot\u001b[0;34m(x, y, hue, data, order, hue_order, jitter, dodge, orient, color, palette, size, edgecolor, linewidth, ax, **kwargs)\u001b[0m\n\u001b[1;32m   2793\u001b[0m \u001b[0;34m\u001b[0m\u001b[0m\n\u001b[1;32m   2794\u001b[0m     plotter = _StripPlotter(x, y, hue, data, order, hue_order,\n\u001b[0;32m-> 2795\u001b[0;31m                             jitter, dodge, orient, color, palette)\n\u001b[0m\u001b[1;32m   2796\u001b[0m     \u001b[0;32mif\u001b[0m \u001b[0max\u001b[0m \u001b[0;32mis\u001b[0m \u001b[0;32mNone\u001b[0m\u001b[0;34m:\u001b[0m\u001b[0;34m\u001b[0m\u001b[0;34m\u001b[0m\u001b[0m\n\u001b[1;32m   2797\u001b[0m         \u001b[0max\u001b[0m \u001b[0;34m=\u001b[0m \u001b[0mplt\u001b[0m\u001b[0;34m.\u001b[0m\u001b[0mgca\u001b[0m\u001b[0;34m(\u001b[0m\u001b[0;34m)\u001b[0m\u001b[0;34m\u001b[0m\u001b[0;34m\u001b[0m\u001b[0m\n",
      "\u001b[0;32m~/anaconda3/lib/python3.7/site-packages/seaborn/categorical.py\u001b[0m in \u001b[0;36m__init__\u001b[0;34m(self, x, y, hue, data, order, hue_order, jitter, dodge, orient, color, palette)\u001b[0m\n\u001b[1;32m   1097\u001b[0m                  jitter, dodge, orient, color, palette):\n\u001b[1;32m   1098\u001b[0m         \u001b[0;34m\"\"\"Initialize the plotter.\"\"\"\u001b[0m\u001b[0;34m\u001b[0m\u001b[0;34m\u001b[0m\u001b[0m\n\u001b[0;32m-> 1099\u001b[0;31m         \u001b[0mself\u001b[0m\u001b[0;34m.\u001b[0m\u001b[0mestablish_variables\u001b[0m\u001b[0;34m(\u001b[0m\u001b[0mx\u001b[0m\u001b[0;34m,\u001b[0m \u001b[0my\u001b[0m\u001b[0;34m,\u001b[0m \u001b[0mhue\u001b[0m\u001b[0;34m,\u001b[0m \u001b[0mdata\u001b[0m\u001b[0;34m,\u001b[0m \u001b[0morient\u001b[0m\u001b[0;34m,\u001b[0m \u001b[0morder\u001b[0m\u001b[0;34m,\u001b[0m \u001b[0mhue_order\u001b[0m\u001b[0;34m)\u001b[0m\u001b[0;34m\u001b[0m\u001b[0;34m\u001b[0m\u001b[0m\n\u001b[0m\u001b[1;32m   1100\u001b[0m         \u001b[0mself\u001b[0m\u001b[0;34m.\u001b[0m\u001b[0mestablish_colors\u001b[0m\u001b[0;34m(\u001b[0m\u001b[0mcolor\u001b[0m\u001b[0;34m,\u001b[0m \u001b[0mpalette\u001b[0m\u001b[0;34m,\u001b[0m \u001b[0;36m1\u001b[0m\u001b[0;34m)\u001b[0m\u001b[0;34m\u001b[0m\u001b[0;34m\u001b[0m\u001b[0m\n\u001b[1;32m   1101\u001b[0m \u001b[0;34m\u001b[0m\u001b[0m\n",
      "\u001b[0;32m~/anaconda3/lib/python3.7/site-packages/seaborn/categorical.py\u001b[0m in \u001b[0;36mestablish_variables\u001b[0;34m(self, x, y, hue, data, orient, order, hue_order, units)\u001b[0m\n\u001b[1;32m    151\u001b[0m                 \u001b[0;32mif\u001b[0m \u001b[0misinstance\u001b[0m\u001b[0;34m(\u001b[0m\u001b[0mvar\u001b[0m\u001b[0;34m,\u001b[0m \u001b[0mstr\u001b[0m\u001b[0;34m)\u001b[0m\u001b[0;34m:\u001b[0m\u001b[0;34m\u001b[0m\u001b[0;34m\u001b[0m\u001b[0m\n\u001b[1;32m    152\u001b[0m                     \u001b[0merr\u001b[0m \u001b[0;34m=\u001b[0m \u001b[0;34m\"Could not interpret input '{}'\"\u001b[0m\u001b[0;34m.\u001b[0m\u001b[0mformat\u001b[0m\u001b[0;34m(\u001b[0m\u001b[0mvar\u001b[0m\u001b[0;34m)\u001b[0m\u001b[0;34m\u001b[0m\u001b[0;34m\u001b[0m\u001b[0m\n\u001b[0;32m--> 153\u001b[0;31m                     \u001b[0;32mraise\u001b[0m \u001b[0mValueError\u001b[0m\u001b[0;34m(\u001b[0m\u001b[0merr\u001b[0m\u001b[0;34m)\u001b[0m\u001b[0;34m\u001b[0m\u001b[0;34m\u001b[0m\u001b[0m\n\u001b[0m\u001b[1;32m    154\u001b[0m \u001b[0;34m\u001b[0m\u001b[0m\n\u001b[1;32m    155\u001b[0m             \u001b[0;31m# Figure out the plotting orientation\u001b[0m\u001b[0;34m\u001b[0m\u001b[0;34m\u001b[0m\u001b[0;34m\u001b[0m\u001b[0m\n",
      "\u001b[0;31mValueError\u001b[0m: Could not interpret input 'mean mRuby3'"
     ]
    }
   ],
   "source": [
    "%matplotlib qt5\n",
    "ax = sns.stripplot(x=\"PlateRow\",y=\"mean mRuby3\", \n",
    "                 hue='VisitP',\n",
    "                 data=df,\n",
    "                \n",
    "#                    showfliers=False\n",
    "                  )\n",
    "ax = sns.boxplot(x=\"PlateRow\",y=\"mean mRuby3\", \n",
    "#                  hue='VisitP',\n",
    "                 data=df,\n",
    "                   showfliers=False\n",
    "                  )\n",
    "ax.legend_.remove()"
   ]
  },
  {
   "cell_type": "code",
   "execution_count": 33,
   "metadata": {},
   "outputs": [],
   "source": [
    "df = df[df['PlateRow'] != 'VPRR3-D116']\n",
    "%matplotlib qt5\n",
    "ax = sns.stripplot(x=\"PlateRow\",y=\"mean mRuby3\", \n",
    "                 hue='VisitP',\n",
    "                 data=df,\n",
    "                 alpha=0.2\n",
    "#                    showfliers=False\n",
    "                  )\n",
    "ax = sns.boxplot(x=\"PlateRow\",y=\"mean mRuby3\", \n",
    "#                  hue='VisitP',\n",
    "                 data=df,\n",
    "                   showfliers=False\n",
    "                  )\n",
    "ax.legend_.remove()"
   ]
  },
  {
   "cell_type": "code",
   "execution_count": 34,
   "metadata": {},
   "outputs": [],
   "source": [
    "%matplotlib qt5\n",
    "ax = sns.stripplot(x=\"PlateRow\",y=\"mean GFP\", \n",
    "                 hue='VisitP',\n",
    "                 data=df,\n",
    "                 alpha=0.2\n",
    "#                    showfliers=False\n",
    "                  )\n",
    "ax = sns.boxplot(x=\"PlateRow\",y=\"mean GFP\", \n",
    "#                  hue='VisitP',\n",
    "                 data=df,\n",
    "                   showfliers=False\n",
    "                  )\n",
    "ax.legend_.remove()\n"
   ]
  },
  {
   "cell_type": "code",
   "execution_count": 5,
   "metadata": {},
   "outputs": [
    {
     "data": {
      "text/plain": [
       "array(['E3', 'E3a', 'E3b', 'E3d', 'E4', 'E4a', 'E4b', 'E4c', 'E4d', 'E4e',\n",
       "       'F3', 'F3a', 'F3c', 'F3d', 'F4', 'F4a', 'F4b', 'F4c', 'E3c', 'F3b',\n",
       "       'F3e', 'F3f', 'F4d', 'G3', 'G3a', 'G3b', 'G3c', 'G3d', 'G4', 'G4a',\n",
       "       'G4b', 'G4c', 'G4d', 'H3', 'H3a', 'H3b', 'H3c', 'H4', 'H4a', 'H4b',\n",
       "       'Series002'], dtype=object)"
      ]
     },
     "execution_count": 5,
     "metadata": {},
     "output_type": "execute_result"
    }
   ],
   "source": [
    "df[\"VisitP\"].unique()"
   ]
  },
  {
   "cell_type": "code",
   "execution_count": 6,
   "metadata": {},
   "outputs": [
    {
     "name": "stdout",
     "output_type": "stream",
     "text": [
      "E3 42\n",
      "E3a 55\n",
      "E3b 40\n",
      "E3d 29\n",
      "E4 59\n",
      "E4a 82\n",
      "E4b 109\n",
      "E4c 75\n",
      "E4d 122\n",
      "E4e 78\n",
      "F3 25\n",
      "F3a 12\n",
      "F3c 44\n",
      "F3d 39\n",
      "F4 162\n",
      "F4a 90\n",
      "F4b 117\n",
      "F4c 176\n",
      "E3c 9\n",
      "F3b 6\n",
      "F3e 7\n",
      "F3f 39\n",
      "F4d 162\n",
      "G3 25\n",
      "G3a 11\n",
      "G3b 7\n",
      "G3c 13\n",
      "G3d 16\n",
      "G4 8\n",
      "G4a 5\n",
      "G4b 14\n",
      "G4c 26\n",
      "G4d 10\n",
      "H3 11\n",
      "H3a 4\n",
      "H3b 13\n",
      "H3c 10\n",
      "H4 2\n",
      "H4a 1\n",
      "H4b 4\n",
      "Series002 51\n"
     ]
    }
   ],
   "source": [
    "# %matplotlib qt\n",
    "# inquestion = df\n",
    "# labels = ['lA01', 'lA02', 'lA03', 'lA04', 'lA05', 'lA06', 'lA07', 'lA08']\n",
    "# subset = inquestion.loc[inquestion['VisitP'].isin(labels)]\n",
    "subset=df\n",
    "for well in subset['VisitP'].unique():\n",
    "    print(well,len(subset[subset['VisitP'] == well]))"
   ]
  },
  {
   "cell_type": "code",
   "execution_count": 15,
   "metadata": {},
   "outputs": [
    {
     "ename": "NameError",
     "evalue": "name 'df2' is not defined",
     "output_type": "error",
     "traceback": [
      "\u001b[0;31m---------------------------------------------------------------------------\u001b[0m",
      "\u001b[0;31mNameError\u001b[0m                                 Traceback (most recent call last)",
      "\u001b[0;32m<ipython-input-15-2e7012734deb>\u001b[0m in \u001b[0;36m<module>\u001b[0;34m\u001b[0m\n\u001b[0;32m----> 1\u001b[0;31m \u001b[0mdf2\u001b[0m\u001b[0;34m[\u001b[0m\u001b[0;34m\"VisitP\"\u001b[0m\u001b[0;34m]\u001b[0m\u001b[0;34m.\u001b[0m\u001b[0munique\u001b[0m\u001b[0;34m(\u001b[0m\u001b[0;34m)\u001b[0m\u001b[0;34m\u001b[0m\u001b[0;34m\u001b[0m\u001b[0m\n\u001b[0m\u001b[1;32m      2\u001b[0m \u001b[0;31m# %matplotlib qt\u001b[0m\u001b[0;34m\u001b[0m\u001b[0;34m\u001b[0m\u001b[0;34m\u001b[0m\u001b[0m\n\u001b[1;32m      3\u001b[0m \u001b[0minquestion\u001b[0m \u001b[0;34m=\u001b[0m \u001b[0mdf\u001b[0m\u001b[0;34m\u001b[0m\u001b[0;34m\u001b[0m\u001b[0m\n\u001b[1;32m      4\u001b[0m \u001b[0;31m# labels = ['lA01', 'lA02', 'lA03', 'lA04', 'lA05', 'lA06', 'lA07', 'lA08']\u001b[0m\u001b[0;34m\u001b[0m\u001b[0;34m\u001b[0m\u001b[0;34m\u001b[0m\u001b[0m\n\u001b[1;32m      5\u001b[0m \u001b[0;31m# subset = inquestion.loc[inquestion['VisitP'].isin(labels)]\u001b[0m\u001b[0;34m\u001b[0m\u001b[0;34m\u001b[0m\u001b[0;34m\u001b[0m\u001b[0m\n",
      "\u001b[0;31mNameError\u001b[0m: name 'df2' is not defined"
     ]
    }
   ],
   "source": [
    "df2[\"VisitP\"].unique()\n",
    "# %matplotlib qt\n",
    "inquestion = df\n",
    "# labels = ['lA01', 'lA02', 'lA03', 'lA04', 'lA05', 'lA06', 'lA07', 'lA08']\n",
    "# subset = inquestion.loc[inquestion['VisitP'].isin(labels)]\n",
    "subset=df\n",
    "for well in subset['VisitP'].unique():\n",
    "    print(well,len(subset[subset['VisitP'] == well]),len(df2[df2['VisitP'] == well]),\n",
    "#           len(df2[df2['VisitP'] == well])/len(subset[subset['VisitP'] == well])*100\n",
    "         )"
   ]
  },
  {
   "cell_type": "code",
   "execution_count": null,
   "metadata": {},
   "outputs": [],
   "source": []
  }
 ],
 "metadata": {
  "kernelspec": {
   "display_name": "Python 3",
   "language": "python",
   "name": "python3"
  },
  "language_info": {
   "codemirror_mode": {
    "name": "ipython",
    "version": 3
   },
   "file_extension": ".py",
   "mimetype": "text/x-python",
   "name": "python",
   "nbconvert_exporter": "python",
   "pygments_lexer": "ipython3",
   "version": "3.7.10"
  }
 },
 "nbformat": 4,
 "nbformat_minor": 2
}
